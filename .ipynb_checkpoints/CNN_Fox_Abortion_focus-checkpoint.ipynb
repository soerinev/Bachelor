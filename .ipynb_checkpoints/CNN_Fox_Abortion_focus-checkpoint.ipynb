{
 "cells": [
  {
   "cell_type": "markdown",
   "id": "f9a7ebcc-1948-47a8-9830-17da02693d0d",
   "metadata": {},
   "source": [
    "# Purpose of notebook: to zoom in on abortion articles from CNN and Fox News"
   ]
  },
  {
   "cell_type": "markdown",
   "id": "b1f4c8f7-ec96-42aa-b7af-9e4445756cac",
   "metadata": {},
   "source": [
    "### How to filter to only include Fox and CNN articles\n",
    "\n",
    "#### OBS pick correct dataframes"
   ]
  },
  {
   "cell_type": "code",
   "execution_count": 1,
   "id": "ee9e5aee-ef41-4219-ac9a-68e4480b5e7f",
   "metadata": {},
   "outputs": [
    {
     "ename": "NameError",
     "evalue": "name 'text_sources_df' is not defined",
     "output_type": "error",
     "traceback": [
      "\u001b[0;31m---------------------------------------------------------------------------\u001b[0m",
      "\u001b[0;31mNameError\u001b[0m                                 Traceback (most recent call last)",
      "Cell \u001b[0;32mIn[1], line 2\u001b[0m\n\u001b[1;32m      1\u001b[0m \u001b[38;5;66;03m# filter articles to only have articles from CNN and Fox News\u001b[39;00m\n\u001b[0;32m----> 2\u001b[0m CNN_articles \u001b[38;5;241m=\u001b[39m \u001b[43mtext_sources_df\u001b[49m[text_sources_df[\u001b[38;5;124m'\u001b[39m\u001b[38;5;124msource\u001b[39m\u001b[38;5;124m'\u001b[39m] \u001b[38;5;241m==\u001b[39m \u001b[38;5;124m'\u001b[39m\u001b[38;5;124mCNN\u001b[39m\u001b[38;5;124m'\u001b[39m]\n\u001b[1;32m      3\u001b[0m Fox_articles \u001b[38;5;241m=\u001b[39m text_sources_df[text_sources_df[\u001b[38;5;124m'\u001b[39m\u001b[38;5;124msource\u001b[39m\u001b[38;5;124m'\u001b[39m] \u001b[38;5;241m==\u001b[39m \u001b[38;5;124m'\u001b[39m\u001b[38;5;124mNew York Daily News\u001b[39m\u001b[38;5;124m'\u001b[39m] \u001b[38;5;66;03m#👺 there are no fox news articles in the sample, so I'm using 'New York Daily News' as a proxy. Be sure to change in real analysis!!\u001b[39;00m\n\u001b[1;32m      5\u001b[0m \u001b[38;5;66;03m# combine dfs into a new one\u001b[39;00m\n",
      "\u001b[0;31mNameError\u001b[0m: name 'text_sources_df' is not defined"
     ]
    }
   ],
   "source": [
    "# filter articles to only have articles from CNN and Fox News\n",
    "CNN_articles = text_sources_df[text_sources_df['source'] == 'CNN']\n",
    "Fox_articles = text_sources_df[text_sources_df['source'] == 'New York Daily News'] #👺 there are no fox news articles in the sample, so I'm using 'New York Daily News' as a proxy. Be sure to change in real analysis!!\n",
    "\n",
    "# combine dfs into a new one\n",
    "CNN_Fox_articles = pd.concat([CNN_articles, Fox_articles])\n",
    "\n",
    "# display the new df containing only CNN and Fox News articles\n",
    "print(CNN_Fox_articles)"
   ]
  },
  {
   "cell_type": "markdown",
   "id": "0a6b66f4-2a75-403a-b1c4-7ea714770975",
   "metadata": {},
   "source": [
    "### How to only include articles related to abortion"
   ]
  },
  {
   "cell_type": "code",
   "execution_count": null,
   "id": "798235a2-9e06-4fa1-bc8b-6efc605e0bbc",
   "metadata": {},
   "outputs": [],
   "source": [
    "# Search for rows where the 'text' column contains the word 'abortion'\n",
    "abortion_articles = text_sources_df[text_sources_df['text'].str.contains('abortion', case=False, na=False)]\n",
    "print(abortion_articles)\n",
    "len(abortion_articles) # there's 11 here"
   ]
  },
  {
   "cell_type": "markdown",
   "id": "cf306a20-ec22-4c87-880a-11208649fdd9",
   "metadata": {},
   "source": [
    "#### Wider search"
   ]
  },
  {
   "cell_type": "code",
   "execution_count": null,
   "id": "eb9d177f-1a8d-4bfe-a51b-b34612dd3155",
   "metadata": {},
   "outputs": [],
   "source": [
    "# Search for articles with any of the abortion related terms\n",
    "search_terms = r\"abortion|reproductive rights|pro-choice|pro-life|Roe v\\. Wade|Dobbs v\\. Jackson Women's Health Organization|planned parenthood|family planning\"\n",
    "\n",
    "# Filter articles that contain any of the search terms\n",
    "abortion_articles = text_sources_df[text_sources_df['text'].str.contains(search_terms, case=False, na=False, regex=True)] #👺 change to the CNN_Fox_articles df. I used text_sources_df because there's no abortion articles among the CNN_Fox_articles\n",
    "\n",
    "# Display the filtered articles\n",
    "print(abortion_articles)\n",
    "len(abortion_articles) # there's 14 here compared to 11 when you just search for 'abortion'"
   ]
  }
 ],
 "metadata": {
  "kernelspec": {
   "display_name": "Python 3 ",
   "language": "python",
   "name": "python3"
  },
  "language_info": {
   "codemirror_mode": {
    "name": "ipython",
    "version": 3
   },
   "file_extension": ".py",
   "mimetype": "text/x-python",
   "name": "python",
   "nbconvert_exporter": "python",
   "pygments_lexer": "ipython3",
   "version": "3.10.14"
  }
 },
 "nbformat": 4,
 "nbformat_minor": 5
}
