{
 "cells": [
  {
   "cell_type": "markdown",
   "id": "b762c974-43fe-4f5c-8d4b-302ccae3c789",
   "metadata": {},
   "source": [
    "### Dataframe preprocessing"
   ]
  },
  {
   "cell_type": "code",
   "execution_count": 1,
   "id": "17584854-1d12-409a-896b-ead6b3915305",
   "metadata": {},
   "outputs": [
    {
     "name": "stdout",
     "output_type": "stream",
     "text": [
      "Requirement already satisfied: pandas in /opt/conda/lib/python3.10/site-packages (2.2.2)\n",
      "Requirement already satisfied: numpy>=1.22.4 in /opt/conda/lib/python3.10/site-packages (from pandas) (2.1.0)\n",
      "Requirement already satisfied: python-dateutil>=2.8.2 in /opt/conda/lib/python3.10/site-packages (from pandas) (2.9.0)\n",
      "Requirement already satisfied: pytz>=2020.1 in /opt/conda/lib/python3.10/site-packages (from pandas) (2024.1)\n",
      "Requirement already satisfied: tzdata>=2022.7 in /opt/conda/lib/python3.10/site-packages (from pandas) (2024.1)\n",
      "Requirement already satisfied: six>=1.5 in /opt/conda/lib/python3.10/site-packages (from python-dateutil>=2.8.2->pandas) (1.16.0)\n",
      "Note: you may need to restart the kernel to use updated packages.\n"
     ]
    }
   ],
   "source": [
    "# import/load packages\n",
    "\n",
    "## install\n",
    "%pip install pandas\n",
    "\n",
    "\n",
    "## import\n",
    "import os\n",
    "import pandas as pd\n"
   ]
  },
  {
   "cell_type": "code",
   "execution_count": 2,
   "id": "80b4a9d5-aa7b-4026-9531-d96a237941f4",
   "metadata": {},
   "outputs": [
    {
     "data": {
      "text/plain": [
       "'/work/Bachelor'"
      ]
     },
     "execution_count": 2,
     "metadata": {},
     "output_type": "execute_result"
    }
   ],
   "source": [
    "# see directory\n",
    "os. getcwd()"
   ]
  },
  {
   "cell_type": "markdown",
   "id": "6335f2c9-f242-4904-8007-2bf5c914564b",
   "metadata": {},
   "source": [
    "### Check that dataframe structures are **proper**"
   ]
  },
  {
   "cell_type": "markdown",
   "id": "9b7d8924-0bd3-41e8-a49c-846ae7454fe2",
   "metadata": {},
   "source": [
    "#### database_all.csv"
   ]
  },
  {
   "cell_type": "code",
   "execution_count": 7,
   "id": "3ab6672e-7c5d-44ec-81e7-ae13fc5b33fc",
   "metadata": {},
   "outputs": [
    {
     "name": "stdout",
     "output_type": "stream",
     "text": [
      "          textID     ID.seq.       wID\n",
      "0          11241  1095362496  12373811\n",
      "1          11241  1095362497         6\n",
      "2          11241  1095362498     26998\n",
      "3          11241  1095362499    848009\n",
      "4          11241  1095362500         2\n",
      "...          ...         ...       ...\n",
      "1999989  1801240  2677715231      2557\n",
      "1999990  1801240  2677715232         2\n",
      "1999991  1801240  2677715233         1\n",
      "1999992  1801240  2677715234      5931\n",
      "1999993  1801240  2677715235      1051\n",
      "\n",
      "[1999994 rows x 3 columns]\n"
     ]
    }
   ],
   "source": [
    "# load data\n",
    "database_all = pd.read_csv(\"/work/Bachelor/sample_data/database_all.csv\")\n",
    "print(database_all)"
   ]
  },
  {
   "cell_type": "markdown",
   "id": "b3501833-2689-4949-ac50-08be84343109",
   "metadata": {},
   "source": [
    "##### database_all.csv check!"
   ]
  },
  {
   "cell_type": "markdown",
   "id": "bd122f3f-8499-495e-bd1c-c68ac8a4cd02",
   "metadata": {},
   "source": [
    "#### wordLem_poS_all.csv"
   ]
  },
  {
   "cell_type": "code",
   "execution_count": 6,
   "id": "0d7a40a9-8cea-4f34-8e85-d6a6d56f0cb3",
   "metadata": {},
   "outputs": [
    {
     "name": "stdout",
     "output_type": "stream",
     "text": [
      "           textID     ID.seq.        word   lemma           PoS\n",
      "0           11241  1095362496     @@11241     NaN            fo\n",
      "1           11241  1095362497         <p>     NaN           NaN\n",
      "2           11241  1095362498         Sol     sol           np1\n",
      "3           11241  1095362499      Yurick  yurick           np1\n",
      "4           11241  1095362500           ,     NaN             ,\n",
      "...           ...         ...         ...     ...           ...\n",
      "1959574  15291244  5042404540         See     see           vv0\n",
      "1959575  15291244  5042404541        full    full        jj_rr%\n",
      "1959576  15291244  5042404542  commenting     NaN  vvg_jj%_nn1%\n",
      "1959577  15291244  5042404543       rules    rule           nn2\n",
      "1959578  15291244  5042404544           .     NaN             .\n",
      "\n",
      "[1959579 rows x 5 columns]\n"
     ]
    }
   ],
   "source": [
    "# load data\n",
    "wordLem_poS_all = pd.read_csv(\"/work/Bachelor/sample_data/wordLem_poS_all.csv\")\n",
    "print(wordLem_poS_all)"
   ]
  },
  {
   "cell_type": "markdown",
   "id": "b29cdae6-8df8-455d-a980-efbbb09de0cc",
   "metadata": {},
   "source": [
    "##### wordLem_poS_all.csv check!"
   ]
  },
  {
   "cell_type": "markdown",
   "id": "9fd0e1ba-32ec-4c9a-8edd-09ab3ce6fdf1",
   "metadata": {},
   "source": [
    "#### text.csv"
   ]
  },
  {
   "cell_type": "code",
   "execution_count": 8,
   "id": "f3c59470-f6c6-401a-9a91-a0145f8d4e9b",
   "metadata": {},
   "outputs": [
    {
     "name": "stdout",
     "output_type": "stream",
     "text": [
      "        textID                                               text\n",
      "0        11241   Sol Yurick , the writer whose 1965 novel  The...\n",
      "1        11242   That 's What They Say : Dialect Society choos...\n",
      "2        11243   A sublime croissant at French Tart in Grant C...\n",
      "3        11244   Reflecting on a quarter-century of growth in ...\n",
      "4        21242   Ask Ars : Does Facebook auto-delete content a...\n",
      "...        ...                                                ...\n",
      "1502  15281242   Watch out for these fitness and weight loss s...\n",
      "1503  15281244   Did you know that Prime Minister Narendra Mod...\n",
      "1504  15291240   Council voted Tuesday to support a new $30 pe...\n",
      "1505  15291242   News Local <h> $5M funding boost for six proj...\n",
      "1506  15291244   ? <h> Burrows helps Canucks beat Rangers 5-3 ...\n",
      "\n",
      "[1507 rows x 2 columns]\n"
     ]
    }
   ],
   "source": [
    "# load data\n",
    "text = pd.read_csv(\"/work/Bachelor/sample_data/text.csv\")\n",
    "print(text)"
   ]
  },
  {
   "cell_type": "markdown",
   "id": "4dff5063-ff05-44bf-939d-4056852abb67",
   "metadata": {},
   "source": [
    "##### text.csv check!"
   ]
  },
  {
   "cell_type": "markdown",
   "id": "a7ba69e3-d5f6-46cf-887d-041ce361e869",
   "metadata": {},
   "source": [
    "#### sources.csv"
   ]
  },
  {
   "cell_type": "code",
   "execution_count": 10,
   "id": "9acb3ab1-8cfd-40c4-8452-44b6eb334e89",
   "metadata": {},
   "outputs": [
    {
     "name": "stdout",
     "output_type": "stream",
     "text": [
      "        textID  X.words        date country                         source  \\\n",
      "0        11241      397  13.01.2006      US                         Kotaku   \n",
      "1        11242      757  13.01.2006      US                 Michigan Radio   \n",
      "2        11243      755  13.01.2006      US            New York Daily News   \n",
      "3        11244     1677  13.01.2006      US                 OregonLive.com   \n",
      "4        21242      794  13.01.2011      US                   Ars Technica   \n",
      "...        ...      ...         ...     ...                            ...   \n",
      "2955  15641240      332  16.11.2029      US  Business Wire (press release)   \n",
      "2956  15641241      226  16.11.2029      US                       Fox News   \n",
      "2957  15641242      230  16.11.2029      US             Firstcoastnews.com   \n",
      "2958  15641243      193  16.11.2029      US           Entertainment Weekly   \n",
      "2959  15651244     1255  16.11.2029      MY            malaysiandigest.com   \n",
      "\n",
      "                                                    url  \\\n",
      "0     http://kotaku.com/5973495/author-of-the-warrio...   \n",
      "1     http://michiganradio.org/post/thats-what-they-...   \n",
      "2     http://www.nydailynews.com/life-style/eats/bes...   \n",
      "3     http://www.oregonlive.com/performance/index.ss...   \n",
      "4     http://arstechnica.com/gadgets/2013/01/ask-ars...   \n",
      "...                                                 ...   \n",
      "2955  http://www.businesswire.com/news/home/20161129...   \n",
      "2956  http://www.foxnews.com/politics/2016/11/29/dep...   \n",
      "2957  http://www.firstcoastnews.com/news/fire-surrou...   \n",
      "2958  http://www.ew.com/article/2016/11/29/alexis-bl...   \n",
      "2959  http://www.malaysiandigest.com/sports/645650-j...   \n",
      "\n",
      "                                                  title  \n",
      "0     Author of The Warriors, Cult Film Adapted to H...  \n",
      "1     That's What They Say: Dialect Society chooses ...  \n",
      "2                           Best of New York: Croissant  \n",
      "3     Reflecting on a quarter-century of growth in P...  \n",
      "4     Ask Ars: Does Facebook auto-delete content aft...  \n",
      "...                                                 ...  \n",
      "2955  Jungle Disk Appoints Matt Bradley to Board of ...  \n",
      "2956  Department of Homeland Security overwhelmed by...  \n",
      "2957  Flames surround Ripley's Aquarium, thousands o...  \n",
      "2958  Alexis Bledel is working on a Sisterhood of th...  \n",
      "2959  Jose Mourinho Has Found An Effective Role For ...  \n",
      "\n",
      "[2960 rows x 7 columns]\n"
     ]
    }
   ],
   "source": [
    "# load data\n",
    "sources = pd.read_csv(\"/work/Bachelor/sample_data/sources.csv\")\n",
    "print(sources)"
   ]
  },
  {
   "cell_type": "markdown",
   "id": "0f5f6883-acda-4614-964d-11758ba16b46",
   "metadata": {},
   "source": [
    "##### sources.csv check!"
   ]
  },
  {
   "cell_type": "markdown",
   "id": "7687a63e-5fd1-4edc-98d3-870854d4e127",
   "metadata": {},
   "source": [
    "#### lexicon.csv"
   ]
  },
  {
   "cell_type": "code",
   "execution_count": 11,
   "id": "1d236fdd-acdd-4362-ada4-879170505c12",
   "metadata": {},
   "outputs": [
    {
     "name": "stdout",
     "output_type": "stream",
     "text": [
      "             wID                   word lemma  PoS\n",
      "0              1                    the   the   at\n",
      "1              2                      ,     -    ,\n",
      "2              3                      .     -    .\n",
      "3              5                     of    of   io\n",
      "4              6                    <p>     -  NaN\n",
      "...          ...                    ...   ...  ...\n",
      "117562  22673192             @@15291243     -   fo\n",
      "117563  22676528             $1,449,720     -  nnu\n",
      "117564  22678576  Multi-Level-Marketing     -   jj\n",
      "117565  22684339             @@15291244     -   fo\n",
      "117566  22691461             @@15291242     -   fo\n",
      "\n",
      "[117567 rows x 4 columns]\n"
     ]
    }
   ],
   "source": [
    "# load data\n",
    "lexicon = pd.read_csv(\"/work/Bachelor/sample_data/lexicon.csv\")\n",
    "print(lexicon)"
   ]
  },
  {
   "cell_type": "markdown",
   "id": "6401e214-710a-4e67-88d8-05c8f1988172",
   "metadata": {},
   "source": [
    "##### lexicon.csv check!"
   ]
  },
  {
   "cell_type": "markdown",
   "id": "91532cd7-f96e-47f7-bebf-af8dd6c3cae2",
   "metadata": {},
   "source": [
    "#### sample_sources.csv"
   ]
  },
  {
   "cell_type": "code",
   "execution_count": 12,
   "id": "fb7f4345-3704-4709-9296-9a3c119428fe",
   "metadata": {},
   "outputs": [
    {
     "name": "stdout",
     "output_type": "stream",
     "text": [
      "        textID  X.words        date country                         source  \\\n",
      "0        11241      397  13.01.2006      US                         Kotaku   \n",
      "1        11242      757  13.01.2006      US                 Michigan Radio   \n",
      "2        11243      755  13.01.2006      US            New York Daily News   \n",
      "3        11244     1677  13.01.2006      US                 OregonLive.com   \n",
      "4        21242      794  13.01.2011      US                   Ars Technica   \n",
      "...        ...      ...         ...     ...                            ...   \n",
      "2955  15641240      332  16.11.2029      US  Business Wire (press release)   \n",
      "2956  15641241      226  16.11.2029      US                       Fox News   \n",
      "2957  15641242      230  16.11.2029      US             Firstcoastnews.com   \n",
      "2958  15641243      193  16.11.2029      US           Entertainment Weekly   \n",
      "2959  15651244     1255  16.11.2029      MY            malaysiandigest.com   \n",
      "\n",
      "                                                    url  \\\n",
      "0     http://kotaku.com/5973495/author-of-the-warrio...   \n",
      "1     http://michiganradio.org/post/thats-what-they-...   \n",
      "2     http://www.nydailynews.com/life-style/eats/bes...   \n",
      "3     http://www.oregonlive.com/performance/index.ss...   \n",
      "4     http://arstechnica.com/gadgets/2013/01/ask-ars...   \n",
      "...                                                 ...   \n",
      "2955  http://www.businesswire.com/news/home/20161129...   \n",
      "2956  http://www.foxnews.com/politics/2016/11/29/dep...   \n",
      "2957  http://www.firstcoastnews.com/news/fire-surrou...   \n",
      "2958  http://www.ew.com/article/2016/11/29/alexis-bl...   \n",
      "2959  http://www.malaysiandigest.com/sports/645650-j...   \n",
      "\n",
      "                                                  title  \n",
      "0     Author of The Warriors, Cult Film Adapted to H...  \n",
      "1     That's What They Say: Dialect Society chooses ...  \n",
      "2                           Best of New York: Croissant  \n",
      "3     Reflecting on a quarter-century of growth in P...  \n",
      "4     Ask Ars: Does Facebook auto-delete content aft...  \n",
      "...                                                 ...  \n",
      "2955  Jungle Disk Appoints Matt Bradley to Board of ...  \n",
      "2956  Department of Homeland Security overwhelmed by...  \n",
      "2957  Flames surround Ripley's Aquarium, thousands o...  \n",
      "2958  Alexis Bledel is working on a Sisterhood of th...  \n",
      "2959  Jose Mourinho Has Found An Effective Role For ...  \n",
      "\n",
      "[2960 rows x 7 columns]\n"
     ]
    }
   ],
   "source": [
    "sample_sources = pd.read_csv(\"/work/Bachelor/sample_data/sample_sources.csv\")\n",
    "print(sample_sources)"
   ]
  },
  {
   "cell_type": "markdown",
   "id": "b9687665-74b4-420b-a36f-45054cf414a1",
   "metadata": {},
   "source": [
    "### OBS: sample_sources.csv looks to be the same as sources.csv, so I'll just use sources.csv"
   ]
  },
  {
   "cell_type": "code",
   "execution_count": null,
   "id": "6e88ca36-b17b-442a-9962-f3137ba1a0a2",
   "metadata": {},
   "outputs": [],
   "source": []
  }
 ],
 "metadata": {
  "kernelspec": {
   "display_name": "Python 3 ",
   "language": "python",
   "name": "python3"
  },
  "language_info": {
   "codemirror_mode": {
    "name": "ipython",
    "version": 3
   },
   "file_extension": ".py",
   "mimetype": "text/x-python",
   "name": "python",
   "nbconvert_exporter": "python",
   "pygments_lexer": "ipython3",
   "version": "3.10.14"
  }
 },
 "nbformat": 4,
 "nbformat_minor": 5
}
