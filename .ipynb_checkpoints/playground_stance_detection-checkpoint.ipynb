{
 "cells": [
  {
   "cell_type": "markdown",
   "id": "7a665bf1-6b44-4657-b724-7bcdf5a6f3e7",
   "metadata": {},
   "source": [
    "# Purpose of notebook: do stance detection"
   ]
  },
  {
   "cell_type": "code",
   "execution_count": 1,
   "id": "773b0495-b40a-4beb-ab9d-10c46a1a3376",
   "metadata": {},
   "outputs": [
    {
     "name": "stdout",
     "output_type": "stream",
     "text": [
      "Collecting transformers[sentencepiece]\n",
      "  Downloading transformers-4.46.1-py3-none-any.whl.metadata (44 kB)\n",
      "Collecting filelock (from transformers[sentencepiece])\n",
      "  Downloading filelock-3.16.1-py3-none-any.whl.metadata (2.9 kB)\n",
      "Collecting huggingface-hub<1.0,>=0.23.2 (from transformers[sentencepiece])\n",
      "  Downloading huggingface_hub-0.26.2-py3-none-any.whl.metadata (13 kB)\n",
      "Requirement already satisfied: numpy>=1.17 in /opt/conda/lib/python3.12/site-packages (from transformers[sentencepiece]) (2.1.3)\n",
      "Requirement already satisfied: packaging>=20.0 in /opt/conda/lib/python3.12/site-packages (from transformers[sentencepiece]) (24.1)\n",
      "Requirement already satisfied: pyyaml>=5.1 in /opt/conda/lib/python3.12/site-packages (from transformers[sentencepiece]) (6.0.2)\n",
      "Collecting regex!=2019.12.17 (from transformers[sentencepiece])\n",
      "  Downloading regex-2024.9.11-cp312-cp312-manylinux_2_17_x86_64.manylinux2014_x86_64.whl.metadata (40 kB)\n",
      "Requirement already satisfied: requests in /opt/conda/lib/python3.12/site-packages (from transformers[sentencepiece]) (2.32.3)\n",
      "Collecting safetensors>=0.4.1 (from transformers[sentencepiece])\n",
      "  Downloading safetensors-0.4.5-cp312-cp312-manylinux_2_17_x86_64.manylinux2014_x86_64.whl.metadata (3.8 kB)\n",
      "Collecting tokenizers<0.21,>=0.20 (from transformers[sentencepiece])\n",
      "  Downloading tokenizers-0.20.2-cp312-cp312-manylinux_2_17_x86_64.manylinux2014_x86_64.whl.metadata (6.7 kB)\n",
      "Requirement already satisfied: tqdm>=4.27 in /opt/conda/lib/python3.12/site-packages (from transformers[sentencepiece]) (4.66.5)\n",
      "Collecting protobuf (from transformers[sentencepiece])\n",
      "  Downloading protobuf-5.28.3-cp38-abi3-manylinux2014_x86_64.whl.metadata (592 bytes)\n",
      "Collecting sentencepiece!=0.1.92,>=0.1.91 (from transformers[sentencepiece])\n",
      "  Downloading sentencepiece-0.2.0-cp312-cp312-manylinux_2_17_x86_64.manylinux2014_x86_64.whl.metadata (7.7 kB)\n",
      "Collecting fsspec>=2023.5.0 (from huggingface-hub<1.0,>=0.23.2->transformers[sentencepiece])\n",
      "  Downloading fsspec-2024.10.0-py3-none-any.whl.metadata (11 kB)\n",
      "Requirement already satisfied: typing-extensions>=3.7.4.3 in /opt/conda/lib/python3.12/site-packages (from huggingface-hub<1.0,>=0.23.2->transformers[sentencepiece]) (4.12.2)\n",
      "Requirement already satisfied: charset-normalizer<4,>=2 in /opt/conda/lib/python3.12/site-packages (from requests->transformers[sentencepiece]) (3.4.0)\n",
      "Requirement already satisfied: idna<4,>=2.5 in /opt/conda/lib/python3.12/site-packages (from requests->transformers[sentencepiece]) (3.10)\n",
      "Requirement already satisfied: urllib3<3,>=1.21.1 in /opt/conda/lib/python3.12/site-packages (from requests->transformers[sentencepiece]) (2.2.3)\n",
      "Requirement already satisfied: certifi>=2017.4.17 in /opt/conda/lib/python3.12/site-packages (from requests->transformers[sentencepiece]) (2024.8.30)\n",
      "Downloading huggingface_hub-0.26.2-py3-none-any.whl (447 kB)\n",
      "Downloading regex-2024.9.11-cp312-cp312-manylinux_2_17_x86_64.manylinux2014_x86_64.whl (797 kB)\n",
      "\u001b[2K   \u001b[90m━━━━━━━━━━━━━━━━━━━━━━━━━━━━━━━━━━━━━━━━\u001b[0m \u001b[32m797.0/797.0 kB\u001b[0m \u001b[31m3.1 MB/s\u001b[0m eta \u001b[36m0:00:00\u001b[0m\n",
      "\u001b[?25hDownloading safetensors-0.4.5-cp312-cp312-manylinux_2_17_x86_64.manylinux2014_x86_64.whl (434 kB)\n",
      "Downloading sentencepiece-0.2.0-cp312-cp312-manylinux_2_17_x86_64.manylinux2014_x86_64.whl (1.3 MB)\n",
      "\u001b[2K   \u001b[90m━━━━━━━━━━━━━━━━━━━━━━━━━━━━━━━━━━━━━━━━\u001b[0m \u001b[32m1.3/1.3 MB\u001b[0m \u001b[31m12.5 MB/s\u001b[0m eta \u001b[36m0:00:00\u001b[0m\n",
      "\u001b[?25hDownloading tokenizers-0.20.2-cp312-cp312-manylinux_2_17_x86_64.manylinux2014_x86_64.whl (3.0 MB)\n",
      "\u001b[2K   \u001b[90m━━━━━━━━━━━━━━━━━━━━━━━━━━━━━━━━━━━━━━━━\u001b[0m \u001b[32m3.0/3.0 MB\u001b[0m \u001b[31m18.9 MB/s\u001b[0m eta \u001b[36m0:00:00\u001b[0m\n",
      "\u001b[?25hDownloading filelock-3.16.1-py3-none-any.whl (16 kB)\n",
      "Downloading protobuf-5.28.3-cp38-abi3-manylinux2014_x86_64.whl (316 kB)\n",
      "Downloading transformers-4.46.1-py3-none-any.whl (10.0 MB)\n",
      "\u001b[2K   \u001b[90m━━━━━━━━━━━━━━━━━━━━━━━━━━━━━━━━━━━━━━━━\u001b[0m \u001b[32m10.0/10.0 MB\u001b[0m \u001b[31m50.5 MB/s\u001b[0m eta \u001b[36m0:00:00\u001b[0m\n",
      "\u001b[?25hDownloading fsspec-2024.10.0-py3-none-any.whl (179 kB)\n",
      "Installing collected packages: sentencepiece, safetensors, regex, protobuf, fsspec, filelock, huggingface-hub, tokenizers, transformers\n",
      "Successfully installed filelock-3.16.1 fsspec-2024.10.0 huggingface-hub-0.26.2 protobuf-5.28.3 regex-2024.9.11 safetensors-0.4.5 sentencepiece-0.2.0 tokenizers-0.20.2 transformers-4.46.1\n",
      "Note: you may need to restart the kernel to use updated packages.\n"
     ]
    }
   ],
   "source": [
    "# libraries\n",
    "\n",
    "## install\n",
    "%pip install transformers[sentencepiece]\n",
    "%pip install transformers\n",
    "%pip install tensorflow\n",
    "%pip install tf-keras\n",
    "\n",
    "## import\n",
    "from transformers import pipeline\n",
    "import tensorflow\n",
    "import pandas as pd\n"
   ]
  },
  {
   "cell_type": "markdown",
   "id": "f331000b-e72a-4d4b-bfc0-6da0651c0650",
   "metadata": {},
   "source": [
    "## Test"
   ]
  },
  {
   "cell_type": "code",
   "execution_count": 17,
   "id": "b2105fdc-468d-4851-bb77-16d3cca10bd0",
   "metadata": {},
   "outputs": [
    {
     "name": "stderr",
     "output_type": "stream",
     "text": [
      "All PyTorch model weights were used when initializing TFDebertaV2ForSequenceClassification.\n",
      "\n",
      "All the weights of TFDebertaV2ForSequenceClassification were initialized from the PyTorch model.\n",
      "If your task is similar to the task the model of the checkpoint was trained on, you can already use TFDebertaV2ForSequenceClassification for predictions without further training.\n"
     ]
    },
    {
     "name": "stdout",
     "output_type": "stream",
     "text": [
      "{'sequence': 'Angela Merkel is an entertainer in Germany and leader of the Late Night show', 'labels': ['politics', 'entertainment', 'economy', 'environment'], 'scores': [0.9851727485656738, 0.013966639526188374, 0.0004303472233004868, 0.00043028974323533475]}\n"
     ]
    }
   ],
   "source": [
    "text = \"Angela Merkel is an entertainer in Germany and leader of the Late Night show\"\n",
    "hypothesis_template = \"This example is about {}\"\n",
    "classes_verbalized = [\"politics\", \"economy\", \"entertainment\", \"environment\"]\n",
    "zeroshot_classifier = pipeline(\"zero-shot-classification\", model=\"MoritzLaurer/deberta-v3-large-zeroshot-v1.1-all-33\")\n",
    "output = zeroshot_classifier(text, classes_verbalized, hypothesis_template=hypothesis_template, multi_label=False)\n",
    "print(output)"
   ]
  },
  {
   "cell_type": "markdown",
   "id": "f496fd5c-e634-4baf-ac1b-a798f58b8b4b",
   "metadata": {},
   "source": [
    "## Playground with different texts to see model performance"
   ]
  },
  {
   "cell_type": "code",
   "execution_count": 9,
   "id": "00d830ee-e760-4aa1-a791-5cbd1f0715e1",
   "metadata": {},
   "outputs": [
    {
     "name": "stderr",
     "output_type": "stream",
     "text": [
      "All PyTorch model weights were used when initializing TFDebertaV2ForSequenceClassification.\n",
      "\n",
      "All the weights of TFDebertaV2ForSequenceClassification were initialized from the PyTorch model.\n",
      "If your task is similar to the task the model of the checkpoint was trained on, you can already use TFDebertaV2ForSequenceClassification for predictions without further training.\n"
     ]
    },
    {
     "name": "stdout",
     "output_type": "stream",
     "text": [
      "{'sequence': 'Abortion is not a reproductive right and should be made illegal in all states.', 'labels': ['against', 'for'], 'scores': [0.9986445307731628, 0.001355435699224472]}\n"
     ]
    }
   ],
   "source": [
    "# Define a sample text input that describes Angela Merkel's profession and political affiliation\n",
    "text = \"Abortion is not a reproductive right and should be made illegal in all states.\"\n",
    "\n",
    "# Set a template for hypothesis statements. The model will use this to evaluate if the text matches each class.\n",
    "# The placeholder `{}` will be replaced with each class name (e.g., \"This example is about politics\").\n",
    "hypothesis_template = \"This article is {} abortion\"\n",
    "\n",
    "# Define a list of possible categories (or \"classes\") the text might belong to.\n",
    "# The model will assess whether the text is about \"politics\", \"economy\", \"entertainment\", or \"environment\".\n",
    "classes_verbalized = [\"for\", \"against\"]\n",
    "\n",
    "# Initialize a zero-shot classification pipeline using a specific pretrained model.\n",
    "# The zero-shot classifier allows categorizing text into classes without requiring training on those specific categories.\n",
    "# Here, the model \"MoritzLaurer/deberta-v3-large-zeroshot-v1.1-all-33\" is used.\n",
    "zeroshot_classifier = pipeline(\"zero-shot-classification\", model=\"MoritzLaurer/deberta-v3-large-zeroshot-v1.1-all-33\")\n",
    "\n",
    "# Run the zero-shot classifier on the given text.\n",
    "# It will test each category from `classes_verbalized` using the `hypothesis_template`.\n",
    "# `multi_label=False` means the classifier will assume the text belongs to only one of the categories.\n",
    "output = zeroshot_classifier(text, classes_verbalized, hypothesis_template=hypothesis_template, multi_label=False)\n",
    "\n",
    "# Print the classification result, which includes the predicted category and associated confidence scores.\n",
    "print(output)\n"
   ]
  },
  {
   "cell_type": "markdown",
   "id": "7a2220ba-5eb3-473a-acea-20335f93bde8",
   "metadata": {},
   "source": [
    "### complex abortion"
   ]
  },
  {
   "cell_type": "code",
   "execution_count": 11,
   "id": "aca5a746-a77d-4cb4-9f1d-a0a6bc41b68d",
   "metadata": {},
   "outputs": [
    {
     "name": "stderr",
     "output_type": "stream",
     "text": [
      "All PyTorch model weights were used when initializing TFDebertaV2ForSequenceClassification.\n",
      "\n",
      "All the weights of TFDebertaV2ForSequenceClassification were initialized from the PyTorch model.\n",
      "If your task is similar to the task the model of the checkpoint was trained on, you can already use TFDebertaV2ForSequenceClassification for predictions without further training.\n"
     ]
    },
    {
     "name": "stdout",
     "output_type": "stream",
     "text": [
      "{'sequence': 'Abortion remains one of the most contentious and controversial issues of our time. As modern society grapples with questions of human rights and personal autonomy, the topic of abortion stands at the center of the moral debate. However, many argue that abortion is not merely a personal choice or a medical procedure; it is a profound ethical issue that disregards the sanctity of human life. By allowing abortion, society risks devaluing the life of the unborn and undermining its commitment to protect the most vulnerable members of our community. At the heart of the argument against abortion lies the belief that life begins at conception. From the moment of conception, the unborn child possesses a unique genetic identity, distinct from that of the mother. This genetic code will never change; it is human, individual, and has the inherent potential to grow into a fully developed person. To deny the unborn the right to live simply because they are at an early stage of development is to deny their humanity. Abortion, therefore, is not just a medical procedure—it is an act that ends a human life. Supporters of abortion rights often emphasize a woman’s right to choose, arguing that she should have control over her body. However, this perspective ignores the fact that the unborn child is not merely a part of the woman’s body, but a separate being with its own rights. While personal autonomy is important, it should not supersede the fundamental right to life of another human. Society does not allow individuals the liberty to harm others simply because they wish to do so. The right to life is one of the most basic human rights, and it must be protected from conception until natural death. Abortion also has far-reaching consequences for society. By normalizing the termination of pregnancies, we send a message that human life is expendable when it is inconvenient or unplanned. This approach undermines the inherent value of human beings and sets a dangerous precedent for how society views the vulnerable, disabled, or elderly. If we permit the killing of the unborn for the sake of convenience or personal choice, we risk opening the door to other forms of life devaluation. Abortion is not only a private issue; it impacts the entire moral fabric of society. Furthermore, studies have shown that abortion can have lasting psychological effects on women. Many women experience feelings of guilt, grief, and regret after undergoing an abortion. Some suffer from long-term emotional trauma, including depression and anxiety. These psychological consequences are rarely discussed openly in the public sphere, leaving many women feeling isolated and unsupported. By encouraging alternatives to abortion, such as adoption and comprehensive support for mothers in crisis, we can help protect women from this emotional harm and promote a culture of life and compassion. In conclusion, abortion is not a simple medical choice; it is a profound moral decision with far-reaching consequences. It involves the life of an unborn child who has no voice and no means of defense. As a society, we have a duty to protect the innocent and to uphold the sanctity of life. Instead of promoting abortion as a solution, we should work together to provide support for mothers, encourage adoption, and promote a culture that values and cherishes all human life, from conception onward. Abortion, by its very nature, ends a human life, and as such, it should be opposed as an affront to human dignity and moral responsibility.', 'labels': ['against', 'for'], 'scores': [0.9974350333213806, 0.002565037691965699]}\n"
     ]
    }
   ],
   "source": [
    "# Define a sample text input that describes Angela Merkel's profession and political affiliation\n",
    "text = \"Abortion remains one of the most contentious and controversial issues of our time. As modern society grapples with questions of human rights and personal autonomy, the topic of abortion stands at the center of the moral debate. However, many argue that abortion is not merely a personal choice or a medical procedure; it is a profound ethical issue that disregards the sanctity of human life. By allowing abortion, society risks devaluing the life of the unborn and undermining its commitment to protect the most vulnerable members of our community. At the heart of the argument against abortion lies the belief that life begins at conception. From the moment of conception, the unborn child possesses a unique genetic identity, distinct from that of the mother. This genetic code will never change; it is human, individual, and has the inherent potential to grow into a fully developed person. To deny the unborn the right to live simply because they are at an early stage of development is to deny their humanity. Abortion, therefore, is not just a medical procedure—it is an act that ends a human life. Supporters of abortion rights often emphasize a woman’s right to choose, arguing that she should have control over her body. However, this perspective ignores the fact that the unborn child is not merely a part of the woman’s body, but a separate being with its own rights. While personal autonomy is important, it should not supersede the fundamental right to life of another human. Society does not allow individuals the liberty to harm others simply because they wish to do so. The right to life is one of the most basic human rights, and it must be protected from conception until natural death. Abortion also has far-reaching consequences for society. By normalizing the termination of pregnancies, we send a message that human life is expendable when it is inconvenient or unplanned. This approach undermines the inherent value of human beings and sets a dangerous precedent for how society views the vulnerable, disabled, or elderly. If we permit the killing of the unborn for the sake of convenience or personal choice, we risk opening the door to other forms of life devaluation. Abortion is not only a private issue; it impacts the entire moral fabric of society. Furthermore, studies have shown that abortion can have lasting psychological effects on women. Many women experience feelings of guilt, grief, and regret after undergoing an abortion. Some suffer from long-term emotional trauma, including depression and anxiety. These psychological consequences are rarely discussed openly in the public sphere, leaving many women feeling isolated and unsupported. By encouraging alternatives to abortion, such as adoption and comprehensive support for mothers in crisis, we can help protect women from this emotional harm and promote a culture of life and compassion. In conclusion, abortion is not a simple medical choice; it is a profound moral decision with far-reaching consequences. It involves the life of an unborn child who has no voice and no means of defense. As a society, we have a duty to protect the innocent and to uphold the sanctity of life. Instead of promoting abortion as a solution, we should work together to provide support for mothers, encourage adoption, and promote a culture that values and cherishes all human life, from conception onward. Abortion, by its very nature, ends a human life, and as such, it should be opposed as an affront to human dignity and moral responsibility.\"\n",
    "\n",
    "# Set a template for hypothesis statements. The model will use this to evaluate if the text matches each class.\n",
    "# The placeholder `{}` will be replaced with each class name (e.g., \"This example is about politics\").\n",
    "hypothesis_template = \"This article is {} abortion\"\n",
    "\n",
    "# Define a list of possible categories (or \"classes\") the text might belong to.\n",
    "# The model will assess whether the text is about \"politics\", \"economy\", \"entertainment\", or \"environment\".\n",
    "classes_verbalized = [\"for\", \"against\"]\n",
    "\n",
    "# Initialize a zero-shot classification pipeline using a specific pretrained model.\n",
    "# The zero-shot classifier allows categorizing text into classes without requiring training on those specific categories.\n",
    "# Here, the model \"MoritzLaurer/deberta-v3-large-zeroshot-v1.1-all-33\" is used.\n",
    "zeroshot_classifier = pipeline(\"zero-shot-classification\", model=\"MoritzLaurer/deberta-v3-large-zeroshot-v1.1-all-33\")\n",
    "\n",
    "# Run the zero-shot classifier on the given text.\n",
    "# It will test each category from `classes_verbalized` using the `hypothesis_template`.\n",
    "# `multi_label=False` means the classifier will assume the text belongs to only one of the categories.\n",
    "output = zeroshot_classifier(text, classes_verbalized, hypothesis_template=hypothesis_template, multi_label=False)\n",
    "\n",
    "# Print the classification result, which includes the predicted category and associated confidence scores.\n",
    "print(output)\n"
   ]
  },
  {
   "cell_type": "code",
   "execution_count": 22,
   "id": "8afbaab0-7c1f-418a-b2fc-aa069f4fb5a4",
   "metadata": {},
   "outputs": [
    {
     "name": "stderr",
     "output_type": "stream",
     "text": [
      "All PyTorch model weights were used when initializing TFDebertaV2ForSequenceClassification.\n",
      "\n",
      "All the weights of TFDebertaV2ForSequenceClassification were initialized from the PyTorch model.\n",
      "If your task is similar to the task the model of the checkpoint was trained on, you can already use TFDebertaV2ForSequenceClassification for predictions without further training.\n"
     ]
    },
    {
     "name": "stdout",
     "output_type": "stream",
     "text": [
      "{'sequence': 'Abortion is one of the most complex and debated issues in society, raising questions about human rights, personal autonomy, and the role of government in private matters. At its core, the abortion debate is often centered around differing views on when life begins, the rights of the pregnant individual, and the rights of the fetus. Supporters of abortion rights argue that individuals should have control over their own bodies, including the decision of whether or not to carry a pregnancy to term. They believe that each person is best positioned to make decisions about their own health, future, and family, without government interference. Many point out that access to safe and legal abortion is a public health issue, as restrictive abortion laws can lead individuals to seek unsafe, unregulated procedures. Additionally, proponents highlight that access to abortion can be critical for those facing difficult life circumstances, such as financial instability, health risks, or cases of rape or incest. On the other side, opponents of abortion argue that the fetus has a right to life that must be respected and protected. They often believe that life begins at conception or at an early stage of development, meaning that abortion ends a human life. For many, this view is rooted in religious or moral beliefs about the sanctity of life. Opponents also contend that society has a responsibility to protect the most vulnerable, including the unborn, and that alternatives to abortion, such as adoption, should be prioritized and made more accessible. They also raise concerns about the potential emotional and psychological impact of abortion on individuals, suggesting that many experience feelings of regret or grief afterward. Laws and policies on abortion vary widely around the world and even within individual countries, reflecting these deeply held and diverse views. In some regions, abortion is accessible on request, while in others, it is highly restricted or even illegal. In many places, the legal status of abortion continues to be a topic of political and social debate, with changing laws reflecting shifts in public opinion and the influence of advocacy on both sides of the issue. In the end, the topic of abortion is shaped by complex questions about rights, ethics, and social values. It is an issue that impacts individuals and families in personal ways, and as society continues to evolve, so does the discussion around how best to address it. Both sides of the debate bring forth important concerns and considerations, making it essential to approach the topic with empathy, respect, and a commitment to understanding differing perspectives.', 'labels': ['for', 'against'], 'scores': [0.8837127685546875, 0.11628720164299011]}\n"
     ]
    }
   ],
   "source": [
    "# Define a sample text input that describes Angela Merkel's profession and political affiliation\n",
    "text = \"Abortion is one of the most complex and debated issues in society, raising questions about human rights, personal autonomy, and the role of government in private matters. At its core, the abortion debate is often centered around differing views on when life begins, the rights of the pregnant individual, and the rights of the fetus. Supporters of abortion rights argue that individuals should have control over their own bodies, including the decision of whether or not to carry a pregnancy to term. They believe that each person is best positioned to make decisions about their own health, future, and family, without government interference. Many point out that access to safe and legal abortion is a public health issue, as restrictive abortion laws can lead individuals to seek unsafe, unregulated procedures. Additionally, proponents highlight that access to abortion can be critical for those facing difficult life circumstances, such as financial instability, health risks, or cases of rape or incest. On the other side, opponents of abortion argue that the fetus has a right to life that must be respected and protected. They often believe that life begins at conception or at an early stage of development, meaning that abortion ends a human life. For many, this view is rooted in religious or moral beliefs about the sanctity of life. Opponents also contend that society has a responsibility to protect the most vulnerable, including the unborn, and that alternatives to abortion, such as adoption, should be prioritized and made more accessible. They also raise concerns about the potential emotional and psychological impact of abortion on individuals, suggesting that many experience feelings of regret or grief afterward. Laws and policies on abortion vary widely around the world and even within individual countries, reflecting these deeply held and diverse views. In some regions, abortion is accessible on request, while in others, it is highly restricted or even illegal. In many places, the legal status of abortion continues to be a topic of political and social debate, with changing laws reflecting shifts in public opinion and the influence of advocacy on both sides of the issue. In the end, the topic of abortion is shaped by complex questions about rights, ethics, and social values. It is an issue that impacts individuals and families in personal ways, and as society continues to evolve, so does the discussion around how best to address it. Both sides of the debate bring forth important concerns and considerations, making it essential to approach the topic with empathy, respect, and a commitment to understanding differing perspectives.\"\n",
    "\n",
    "# Set a template for hypothesis statements. The model will use this to evaluate if the text matches each class.\n",
    "# The placeholder `{}` will be replaced with each class name (e.g., \"This example is about politics\").\n",
    "hypothesis_template = \"This article is {} abortion\"\n",
    "\n",
    "# Define a list of possible categories (or \"classes\") the text might belong to.\n",
    "# The model will assess whether the text is about \"politics\", \"economy\", \"entertainment\", or \"environment\".\n",
    "classes_verbalized = [\"for\", \"against\"]\n",
    "\n",
    "# Initialize a zero-shot classification pipeline using a specific pretrained model.\n",
    "# The zero-shot classifier allows categorizing text into classes without requiring training on those specific categories.\n",
    "# Here, the model \"MoritzLaurer/deberta-v3-large-zeroshot-v1.1-all-33\" is used.\n",
    "zeroshot_classifier = pipeline(\"zero-shot-classification\", model=\"MoritzLaurer/deberta-v3-large-zeroshot-v1.1-all-33\")\n",
    "\n",
    "# Run the zero-shot classifier on the given text.\n",
    "# It will test each category from `classes_verbalized` using the `hypothesis_template`.\n",
    "# `multi_label=False` means the classifier will assume the text belongs to only one of the categories.\n",
    "output = zeroshot_classifier(text, classes_verbalized, hypothesis_template=hypothesis_template, multi_label=False)\n",
    "\n",
    "# Print the classification result, which includes the predicted category and associated confidence scores.\n",
    "print(output)\n"
   ]
  },
  {
   "cell_type": "code",
   "execution_count": 14,
   "id": "310e01ab-26e0-465b-b47b-2ee0a304cdf9",
   "metadata": {},
   "outputs": [
    {
     "name": "stderr",
     "output_type": "stream",
     "text": [
      "All PyTorch model weights were used when initializing TFDebertaV2ForSequenceClassification.\n",
      "\n",
      "All the weights of TFDebertaV2ForSequenceClassification were initialized from the PyTorch model.\n",
      "If your task is similar to the task the model of the checkpoint was trained on, you can already use TFDebertaV2ForSequenceClassification for predictions without further training.\n"
     ]
    },
    {
     "name": "stdout",
     "output_type": "stream",
     "text": [
      "{'sequence': \"Abortion is a medical procedure that involves the termination of a pregnancy. It is a topic that has sparked significant debate across different cultures, religions, and legal systems. The discussion surrounding abortion often focuses on ethical, medical, legal, and social implications. This article will aim to provide a balanced overview of abortion, considering various perspectives without favoring any specific viewpoint. From a medical standpoint, abortion is typically classified into two main types: medical abortion and surgical abortion. Medical abortion involves the use of medication to end a pregnancy and is generally most effective in the early weeks. Surgical abortion, on the other hand, involves a medical procedure to remove the fetus from the uterus and is commonly performed during the later stages, although it is still primarily conducted within the first trimester. The safety of abortion procedures has improved significantly over the years, particularly in countries where healthcare services are widely accessible. According to the World Health Organization (WHO), safe abortions conducted by qualified healthcare providers are among the safest medical procedures when done within the recommended timeframe and with proper medical support. However, unsafe abortions, often performed in areas with limited healthcare access or restrictive abortion laws, present serious health risks, including complications and, in some cases, mortality. The legality of abortion varies worldwide, with different countries and states enacting distinct laws and regulations. In some places, abortion is legal and accessible, often with restrictions based on the stage of pregnancy or other specific circumstances. In others, abortion is heavily restricted or even illegal, which may reflect cultural, religious, or governmental stances on the subject. Some countries permit abortion only under particular conditions, such as when the mother's health is at risk or in cases of rape. The different legal approaches often reflect societal values and beliefs about when life is considered to begin and the extent of rights attributed to both the fetus and the pregnant individual. Socially, the issue of abortion intersects with other discussions about gender equality, bodily autonomy, and healthcare access. Some people argue that access to abortion is essential for gender equality, allowing individuals the freedom to make decisions about their own reproductive health and futures. Others believe that the rights of the unborn should also be considered, and they may advocate for restrictions or alternatives to abortion, such as adoption services and expanded social support for parents and families. Additionally, abortion is a deeply personal experience that can have varying emotional and psychological impacts. Some individuals may feel relief after an abortion, while others may experience complex feelings or need support from counseling services. As a result, healthcare providers often emphasize the importance of counseling and support throughout the process, ensuring that individuals have access to accurate information and can make informed decisions based on their unique circumstances. In conclusion, abortion is a complex issue shaped by medical, legal, social, and personal factors. People’s views on abortion often reflect their values, religious beliefs, and cultural backgrounds. As societies continue to discuss and debate this issue, the focus remains on finding a balance that respects individual rights, acknowledges ethical concerns, and considers the broader implications for public health and social well-being.\", 'labels': ['neutral towards', 'for', 'against'], 'scores': [0.835931658744812, 0.16377200186252594, 0.00029640403226949275]}\n"
     ]
    }
   ],
   "source": [
    "# Define a sample text input that describes Angela Merkel's profession and political affiliation\n",
    "text = \"Abortion is a medical procedure that involves the termination of a pregnancy. It is a topic that has sparked significant debate across different cultures, religions, and legal systems. The discussion surrounding abortion often focuses on ethical, medical, legal, and social implications. This article will aim to provide a balanced overview of abortion, considering various perspectives without favoring any specific viewpoint. From a medical standpoint, abortion is typically classified into two main types: medical abortion and surgical abortion. Medical abortion involves the use of medication to end a pregnancy and is generally most effective in the early weeks. Surgical abortion, on the other hand, involves a medical procedure to remove the fetus from the uterus and is commonly performed during the later stages, although it is still primarily conducted within the first trimester. The safety of abortion procedures has improved significantly over the years, particularly in countries where healthcare services are widely accessible. According to the World Health Organization (WHO), safe abortions conducted by qualified healthcare providers are among the safest medical procedures when done within the recommended timeframe and with proper medical support. However, unsafe abortions, often performed in areas with limited healthcare access or restrictive abortion laws, present serious health risks, including complications and, in some cases, mortality. The legality of abortion varies worldwide, with different countries and states enacting distinct laws and regulations. In some places, abortion is legal and accessible, often with restrictions based on the stage of pregnancy or other specific circumstances. In others, abortion is heavily restricted or even illegal, which may reflect cultural, religious, or governmental stances on the subject. Some countries permit abortion only under particular conditions, such as when the mother's health is at risk or in cases of rape. The different legal approaches often reflect societal values and beliefs about when life is considered to begin and the extent of rights attributed to both the fetus and the pregnant individual. Socially, the issue of abortion intersects with other discussions about gender equality, bodily autonomy, and healthcare access. Some people argue that access to abortion is essential for gender equality, allowing individuals the freedom to make decisions about their own reproductive health and futures. Others believe that the rights of the unborn should also be considered, and they may advocate for restrictions or alternatives to abortion, such as adoption services and expanded social support for parents and families. Additionally, abortion is a deeply personal experience that can have varying emotional and psychological impacts. Some individuals may feel relief after an abortion, while others may experience complex feelings or need support from counseling services. As a result, healthcare providers often emphasize the importance of counseling and support throughout the process, ensuring that individuals have access to accurate information and can make informed decisions based on their unique circumstances. In conclusion, abortion is a complex issue shaped by medical, legal, social, and personal factors. People’s views on abortion often reflect their values, religious beliefs, and cultural backgrounds. As societies continue to discuss and debate this issue, the focus remains on finding a balance that respects individual rights, acknowledges ethical concerns, and considers the broader implications for public health and social well-being.\"\n",
    "\n",
    "# Set a template for hypothesis statements. The model will use this to evaluate if the text matches each class.\n",
    "# The placeholder `{}` will be replaced with each class name (e.g., \"This example is about politics\").\n",
    "hypothesis_template = \"This article is {} abortion\"\n",
    "\n",
    "# Define a list of possible categories (or \"classes\") the text might belong to.\n",
    "# The model will assess whether the text is about \"politics\", \"economy\", \"entertainment\", or \"environment\".\n",
    "classes_verbalized = [\"for\", \"against\", \"neutral towards\"]\n",
    "\n",
    "# Initialize a zero-shot classification pipeline using a specific pretrained model.\n",
    "# The zero-shot classifier allows categorizing text into classes without requiring training on those specific categories.\n",
    "# Here, the model \"MoritzLaurer/deberta-v3-large-zeroshot-v1.1-all-33\" is used.\n",
    "zeroshot_classifier = pipeline(\"zero-shot-classification\", model=\"MoritzLaurer/deberta-v3-large-zeroshot-v1.1-all-33\")\n",
    "\n",
    "# Run the zero-shot classifier on the given text.\n",
    "# It will test each category from `classes_verbalized` using the `hypothesis_template`.\n",
    "# `multi_label=False` means the classifier will assume the text belongs to only one of the categories.\n",
    "output = zeroshot_classifier(text, classes_verbalized, hypothesis_template=hypothesis_template, multi_label=False)\n",
    "\n",
    "# Print the classification result, which includes the predicted category and associated confidence scores.\n",
    "print(output)\n"
   ]
  },
  {
   "cell_type": "markdown",
   "id": "8e25ac81-33f8-46cd-aa00-983bd35b7890",
   "metadata": {},
   "source": [
    "### Model is very good. Let's go with that"
   ]
  },
  {
   "cell_type": "markdown",
   "id": "7e1c0588-dfc2-443b-83f8-033b9c7707bf",
   "metadata": {},
   "source": [
    "## Work with real data - CNN_Fox_joined_17_05"
   ]
  },
  {
   "cell_type": "code",
   "execution_count": 35,
   "id": "0bba85fb-0c7a-44cb-923e-d747103dd479",
   "metadata": {},
   "outputs": [],
   "source": [
    "# read csv\n",
    "file_path = \"/work/Bachelor/sample_data/dropbox/joined_dataframe/abortion_articled_joined_17_05.csv\"\n",
    "abortion_articled_joined_17_05 = pd.read_csv(file_path)\n",
    "abortion_articled_joined_17_05\n",
    "\n",
    "# remove the words coded as censored\n",
    "abortion_articled_joined_17_05[\"body\"] = abortion_articled_joined_17_05[\"body\"].str.replace(\"CENSOREDfrfrfr\", \"\", regex=False)"
   ]
  },
  {
   "cell_type": "code",
   "execution_count": 58,
   "id": "f728cc2c-db7e-4ec3-bdc4-b38340299652",
   "metadata": {},
   "outputs": [
    {
     "name": "stderr",
     "output_type": "stream",
     "text": [
      "All PyTorch model weights were used when initializing TFDebertaV2ForSequenceClassification.\n",
      "\n",
      "All the weights of TFDebertaV2ForSequenceClassification were initialized from the PyTorch model.\n",
      "If your task is similar to the task the model of the checkpoint was trained on, you can already use TFDebertaV2ForSequenceClassification for predictions without further training.\n"
     ]
    },
    {
     "data": {
      "text/html": [
       "<div>\n",
       "<style scoped>\n",
       "    .dataframe tbody tr th:only-of-type {\n",
       "        vertical-align: middle;\n",
       "    }\n",
       "\n",
       "    .dataframe tbody tr th {\n",
       "        vertical-align: top;\n",
       "    }\n",
       "\n",
       "    .dataframe thead th {\n",
       "        text-align: right;\n",
       "    }\n",
       "</style>\n",
       "<table border=\"1\" class=\"dataframe\">\n",
       "  <thead>\n",
       "    <tr style=\"text-align: right;\">\n",
       "      <th></th>\n",
       "      <th>textID</th>\n",
       "      <th>source</th>\n",
       "      <th>body</th>\n",
       "      <th>neutral</th>\n",
       "      <th>for</th>\n",
       "      <th>against</th>\n",
       "    </tr>\n",
       "  </thead>\n",
       "  <tbody>\n",
       "    <tr>\n",
       "      <th>0</th>\n",
       "      <td>18398688</td>\n",
       "      <td>CNN</td>\n",
       "      <td>Chat with us in Facebook Messenger. Find out w...</td>\n",
       "      <td>0.992577</td>\n",
       "      <td>0.003882</td>\n",
       "      <td>0.003540</td>\n",
       "    </tr>\n",
       "    <tr>\n",
       "      <th>1</th>\n",
       "      <td>18460895</td>\n",
       "      <td>CNN</td>\n",
       "      <td>If allies pull back on intelligence sharing, U...</td>\n",
       "      <td>0.971597</td>\n",
       "      <td>0.011092</td>\n",
       "      <td>0.017312</td>\n",
       "    </tr>\n",
       "  </tbody>\n",
       "</table>\n",
       "</div>"
      ],
      "text/plain": [
       "     textID source                                               body  \\\n",
       "0  18398688    CNN  Chat with us in Facebook Messenger. Find out w...   \n",
       "1  18460895    CNN  If allies pull back on intelligence sharing, U...   \n",
       "\n",
       "    neutral       for   against  \n",
       "0  0.992577  0.003882  0.003540  \n",
       "1  0.971597  0.011092  0.017312  "
      ]
     },
     "execution_count": 58,
     "metadata": {},
     "output_type": "execute_result"
    }
   ],
   "source": [
    "# Initialize the zero-shot classification pipeline\n",
    "zeroshot_classifier = pipeline(\"zero-shot-classification\", model=\"MoritzLaurer/deberta-v3-large-zeroshot-v1.1-all-33\")\n",
    "\n",
    "# Set up the classification parameters\n",
    "hypothesis_template = \"This article is {} abortion\"\n",
    "classes_verbalized = [\"for\", \"against\", \"neutral\"]\n",
    "\n",
    "# Assuming CNN_Fox_joined_17_05 is your DataFrame and \"body\" contains the articles and \"textID\" contains the IDs\n",
    "def classify_article(text):\n",
    "    # Run the zero-shot classifier on each article\n",
    "    output = zeroshot_classifier(text, classes_verbalized, hypothesis_template=hypothesis_template, multi_label=False)\n",
    "    # Create a dictionary with class labels as keys and their confidence scores as values\n",
    "    return {label: score for label, score in zip(output['labels'], output['scores'])}\n",
    "\n",
    "# Apply the classification to each row in the \"body\" column and collect the results\n",
    "stance_detection_results = abortion_articled_joined_17_05['body'].apply(classify_article)\n",
    "\n",
    "# Convert the results into a new DataFrame, with each article as a row and classes as columns\n",
    "stance_detection_df = pd.DataFrame(classification_results.tolist())\n",
    "\n",
    "# Add the textID column, source column the original article text from the original DataFrame\n",
    "stance_detection_df.insert(0, 'textID', abortion_articled_joined_17_05['textID'].values)\n",
    "stance_detection_df.insert(1, 'source', abortion_articled_joined_17_05['source'].values)\n",
    "stance_detection_df.insert(2, 'body', abortion_articled_joined_17_05['body'].values)\n",
    "\n",
    "# Display the new DataFrame to the user\n",
    "stance_detection_df"
   ]
  },
  {
   "cell_type": "markdown",
   "id": "0cb32128-bb72-458a-8803-2557ac3a59a8",
   "metadata": {},
   "source": [
    "### I think it works!!! \n",
    "### Would be nice to check that it's correct by running it for individual articles... but it's harder than it looks"
   ]
  },
  {
   "cell_type": "code",
   "execution_count": 55,
   "id": "834cc127-0baf-4c7c-a0f1-0c1e8c3b7653",
   "metadata": {},
   "outputs": [],
   "source": [
    "# testing textID 18398688\n",
    "#print(abortion_articled_joined_17_05.query(\"textID == 18398688\")['body'].iloc[0])"
   ]
  },
  {
   "cell_type": "code",
   "execution_count": 48,
   "id": "655f5841-524b-4018-8fdd-17369ca1baf7",
   "metadata": {},
   "outputs": [
    {
     "name": "stderr",
     "output_type": "stream",
     "text": [
      "All PyTorch model weights were used when initializing TFDebertaV2ForSequenceClassification.\n",
      "\n",
      "All the weights of TFDebertaV2ForSequenceClassification were initialized from the PyTorch model.\n",
      "If your task is similar to the task the model of the checkpoint was trained on, you can already use TFDebertaV2ForSequenceClassification for predictions without further training.\n"
     ]
    },
    {
     "name": "stdout",
     "output_type": "stream",
     "text": [
      "{'sequence': \"Chat with us in Facebook Messenger. Find out what's happening in the world as it unfolds. ( CNN ) As my mother lay dying in September, we surrounded her with song. Music had filled her life and often our household. Now, it became our way to connect with her when her deteriorating brain allowed for little else. A mother of three, she was brilliant, sharp-witted, strong and creative. A longtime Detroit-area attorney and activist, she fought on front lines and danced circles around courtroom opponents. She advocated for abortion access, rallied for the Equal Rights Amendment and marched for civil rights on behalf of many, including the LGBTQ communities. She won the first sexual harassment jury trial in Michigan ( some say the country ), helped organize a fundraiser for the defense of two women who'd killed their rapists in self-defense and was included in a book about feminists who changed America. CNN's Jessica  1970s.Allyn Carol Ravitz was a force to be reckoned with, until she was n't. A rare progressive neurological disease chipped away at her memory, cognition, balance, speech and muscle control. Before it killed her, the disease stole who she was -- with one exception: her love of music and song. It stuck when little else did, and my siblings, her husband and I clung to it like a security blanket. Read More Depending on who was nearest the CD player or quickest to call up songs on a laptop, the selections by her bedside varied. We jumped from Miles Davis to Motown to Elton John, whose iconic album    Goodbye Yellow Brick Road    spun on our home's turntable the day it came out. We were her personal jukebox, flipping from Bill Withers to Cat Stevens, Itzhak Perlman to Carole King, Stevie Wonder to Israel    Iz    Kamakawiwo’ole. My brother cranked up Traffic's    The Low Spark of High Heeled Boys  sang    Bridge Over Troubled Water.    Her husband of almost 10 years rocked in a chair, eyes closed, humming along to Ol' Blue Eyes as well as her favorite arias like    Casta diva    from Bellini's    Norma.    My little sister and I caressed her hands and sang    You Are My Sunshine,       Somewhere Over the Rainbow    and lullabies she once offered to comfort us. Until about a week before her death, my mother, too, had been singing -- and her songs told a story. She belted out Frank Sinatra's    New York, New York,    a nod to the city she grew up near, the one she always held dear even though Michigan was her home for half a century. She sang old standards like    Side by Side,    which her father had crooned to her and her sister when they were growing up in Elizabeth, New Jersey. Sometimes she'd go with little ditties from our childhoods like  our last outdoor walks with her as a family, we pushed her down the sidewalk in a wheelchair as she led us in rounds of    Row, Row, Row Your Boat.    It was at once absurd, heartbreaking and wonderful. And in the moments when this lifetime activist connected with her fighting spirit, my mother sang Helen Reddy's 1970s feminist anthem,    I Am Woman    -- a song I screamed out from the bathtub, thanks to her, before I was old enough to go to school. Studies have shown that music has the ability to activate the brain and its memories even as it fades. In my mother's case, it was as if each selection her brain called up represented a chapter in her 74 years. Collectively, those songs, and the music we played, bound us together as her end drew near. They helped form the soundtrack of my mother's life and history. <h> Nurturing a gift My mom and her sister, Marilyn  being a professional singer. On tour buses and in South Florida club houses, Bill Biener gravitated toward microphones whenever he could. He sang to his two girls each night before they went to sleep in their shared bedroom, never mind if his choices were n't always appropriate. One of his favorites, and by extension one of theirs:    Just a Girl that Men Forget.   Share your story Do you have a song that will forever remind you of someone you lost? Share your story with @CNN using #OurSong and your post could be featured on CNN.com. Aunt Marilyn, who was older by a couple of years, and Mom sang and harmonized in the back seat during car rides. They were in the same advanced glee club in high school, and these two Jewish girls entertained commuters with Christmas carols in the Port Authority Bus Terminal in New York each winter -- dressed in    black sweaters, black skirts and pearls,    Marilyn said. They'd go into the city  lipsticks, my mom saved up her allowance to buy records. My mother in 1953, when she was 10. They came of age in the' 50s, and my mother loved to dance. She once won an Alan Freed Rock' n' Roll Dance Party contest and traveled to Philadelphia to be on Dick Clark's    American Bandstand,    Marilyn said. The two sisters also took piano lessons, though my aunt recently told me Mom failed them. It was a revelation that made me, a piano lesson dropout, laugh.    All she wanted to do was improvise,    Marilyn explained.    She did not want to play the songs we had to learn.     It was a fitting story, given who my mother would become. Mom in 1966, the year she had Jason, her first child. Mom never did learn how to read music, but she had a gift. She could play almost anything by ear, and her  bucolic Smith College in Northampton, Massachusetts, she waltzed into Manhattan jazz clubs, sat down and played. Often she was the only white person in the room. A huge fan of Ray Charles, she even wore sunglasses. My little sister, Dr. Elizabeth Eaman, recalls how Mom pounded out    Under the Sea    from the film    The Little Mermaid    minutes after they returned home from seeing the movie for the first time. My older brother, Jason Ravitz, has played keyboard in bands throughout much of his adult life. He remembers our mom teaching him the blues scale. They'd jam together --    She'd do the left hand and I'd do the right,    Jason said -- but not as often as he now wishes they did. He marveled at her skills. We all did. Every year after our family Passover Seder, which was like a reunion for her side of the family, she'd dazzle us with favorites like    Blue Skies.  and could do things with her left hand I still ca n't imagine doing,    Jason said. One of the first signs that she was seriously sick came when her left hand grew rigid. The hand that for so long amazed us could no longer perform. <h> Even as she faded Our whip-smart mother, in her last six years or so, had become slow, loopy, off. I often wondered if retirement had done her and her brain a disservice. For a while, we thought she'd had a mini stroke or several of them, but scans proved us wrong. A doctor gave us hope at one point when she opined that mom had autoimmune encephalitis, a condition in which her immune system was attacking her brain -- an illness that can be treated. In the end, she got a diagnosis with no chance for a cure: corticobasal degeneration. Mom combined two of her other loves, travel and animals, while in the Dominican Republic in 2005  a lake with multiple staircases and moved into a senior community in Novi, Michigan. Their piano sat in the new apartment, gathering dust. During their first meal at Fox Run, they sat in the dining room with other couples and were both tapped to be in the chorus.    She looked absolutely radiant when she sang,    her husband, Dr. Charles Schmitter, said.    She absolutely loved it. It was like the sun came out.    The last time he took her to chorus practice was about three months before she died. He led her there slowly by the hand, which was how they managed to move through the world. She could no longer read lyrics and needed help getting into position. Once the music started, she joined right in.That enthusiasm for song, her ability to lock in on it the second she heard it, stayed with her even as she became progressively more sick and the joy was harder to see. One person  was Michael Krieger, a singer and songwriter who's been playing for seniors in the Detroit area for nearly two decades. Through music, Krieger finds connections with those who've become disconnected, a way to help people light up and communicate who they are. The memory care facility at Fox Run where Mom spent her last months is a regular stop on his circuit. He strolls into Rose Court with his guitar and takes a seat at the piano anywhere from 15 to 20 hours a month. Our powerhouse of a mother, who'd become so fragile and meek, stood out.    I ca n't think of anyone who's interacted with me the way she did,    Krieger said.    There was such an intensity.    As soon as he got the last note of a song out of his mouth, my mom would blurt out her next request -- often    New York, New York    or    Side by Side    -- which could very well be  before. And the songs she did n't request, she knew them, too, and sang along. When she could n't speak and barely ate, she'd still find the music. We'd often weep as we watched her, wondering where she was.    She did n't have the neurological connections to have a meaningful conversation, to speak to you and listen to you and respond, but she could sing,    my sister said. My brother saw it as her    comfort zone.    It was the one thing she could still grasp, and it was as if she were announcing to the world,    I've got this.    <h> A puzzle with no specific answersThough her brain prohibited her from saying much, she comprehended everything happening around her, said Dawn Doyle, the social worker at Rose Court who observed my mother closely.    Music allowed her to feel emotion,    Doyle said.    In the beginning, I could see that  it gave her movement, and some kind of memory was being triggered. I could see it in her eyes.    Maybe that's why she chose the songs she did -- one about her beloved New York, one from her father, songs that connected her to her kids and her activism.    It's like a puzzle. There's no specific answer,    Doyle said.    But the fact that there was a connection showed she had some cognitive ability. It was her way of trying to connect with you.    <h> JUST WATCHED <h> Music opens a' back door' to the brain <h> MUST WATCH CNN Chief Medical Correspondent Dr. Sanjay Gupta, a practicing neurosurgeon, sat down with me to explain why music stuck with my mom when most everything else did not. He said studies have shown that music fires up the brain like nothing else. It's hard to prove why, but one possible explanation is that music    harnesses surrogate emotions    and has  music is therapeutic on its own, but singing does even more, Gupta explained. It's why music can be so effective in rehabilitation. It's why musicians like Krieger see people come alive. First a person must remember a song, and that memory -- activated in the central part of the brain -- is tied up in emotions, Gupta said. Then, expressing or speaking the lyrics stimulates the brain's left temporal area. To speak those lyrics in the form of a tune taps into the right parietal lobe. And if you throw in a rhythm, say the stomping of a foot or clapping, that draws in the cerebellum. Singing crosses the mid line of the brain, Gupta said, and not much else does this.    It's really remarkable to watch,    he said. Indeed, in her final chapter and up until a week before we lost our mother, we gazed at her in wonder. <h> Saying goodbye The end for my  to sit up, my sister and my mom's best friend sang with her one last time. Among Mom's swan songs:    I Am Woman.    I am woman, hear me roar, In numbers too big to ignore... If I have to, I can do anything. I am strong. I am invincible. I am woman. By the time my brother and I got there, she was tucked into bed. Against all odds, she made it to my wedding in Atlanta less than six months before she died. Her eyes never opened again, but she clung to my hand the night I arrived, as Hillary Clinton debated Donald Trump for the first time on the television she could n't watch. She was now on hospice care, and with the next round of morphine, her hand let go. She'd been refusing food and drink, but she took the scheduled syringes of morphine willingly. Our mother was ready. During  possible, we floated in and out in shifts. Krieger visited daily, playing her usual requests. If she was agitated, his voice always soothed her -- and us. He provided comfort with one of her favorites,    Wonderful World,    which he'd later play at her funeral. The other song he performed at the ceremony, one she specifically requested years before she was even sick:    Wind Beneath My Wings    from the tearjerker film    Beaches.    These songs, and so many others, will forever bind us to our mother. She sang to us in our beds, as her father had to her, as she did for him in his last days. And as she lay dying, it was our turn. We stroked her hair, kissed her cheeks, whispered in her ears our gratitude for everything she'd given us. And the songs that filled the room as we said goodbye, the music that defined her life, became ours, too.\", 'labels': ['neutral', 'for', 'against'], 'scores': [0.99445641040802, 0.0030435710214078426, 0.0024999906308948994]}\n"
     ]
    }
   ],
   "source": [
    "# running for textID 18398688\n",
    "\n",
    "# Define a sample text input that describes Angela Merkel's profession and political affiliation\n",
    "text = \"Chat with us in Facebook Messenger. Find out what's happening in the world as it unfolds. ( CNN ) As my mother lay dying in September, we surrounded her with song. Music had filled her life and often our household. Now, it became our way to connect with her when her deteriorating brain allowed for little else. A mother of three, she was brilliant, sharp-witted, strong and creative. A longtime Detroit-area attorney and activist, she fought on front lines and danced circles around courtroom opponents. She advocated for abortion access, rallied for the Equal Rights Amendment and marched for civil rights on behalf of many, including the LGBTQ communities. She won the first sexual harassment jury trial in Michigan ( some say the country ), helped organize a fundraiser for the defense of two women who'd killed their rapists in self-defense and was included in a book about feminists who changed America. CNN's Jessica  1970s.Allyn Carol Ravitz was a force to be reckoned with, until she was n't. A rare progressive neurological disease chipped away at her memory, cognition, balance, speech and muscle control. Before it killed her, the disease stole who she was -- with one exception: her love of music and song. It stuck when little else did, and my siblings, her husband and I clung to it like a security blanket. Read More Depending on who was nearest the CD player or quickest to call up songs on a laptop, the selections by her bedside varied. We jumped from Miles Davis to Motown to Elton John, whose iconic album    Goodbye Yellow Brick Road    spun on our home's turntable the day it came out. We were her personal jukebox, flipping from Bill Withers to Cat Stevens, Itzhak Perlman to Carole King, Stevie Wonder to Israel    Iz    Kamakawiwo’ole. My brother cranked up Traffic's    The Low Spark of High Heeled Boys  sang    Bridge Over Troubled Water.    Her husband of almost 10 years rocked in a chair, eyes closed, humming along to Ol' Blue Eyes as well as her favorite arias like    Casta diva    from Bellini's    Norma.    My little sister and I caressed her hands and sang    You Are My Sunshine,       Somewhere Over the Rainbow    and lullabies she once offered to comfort us. Until about a week before her death, my mother, too, had been singing -- and her songs told a story. She belted out Frank Sinatra's    New York, New York,    a nod to the city she grew up near, the one she always held dear even though Michigan was her home for half a century. She sang old standards like    Side by Side,    which her father had crooned to her and her sister when they were growing up in Elizabeth, New Jersey. Sometimes she'd go with little ditties from our childhoods like  our last outdoor walks with her as a family, we pushed her down the sidewalk in a wheelchair as she led us in rounds of    Row, Row, Row Your Boat.    It was at once absurd, heartbreaking and wonderful. And in the moments when this lifetime activist connected with her fighting spirit, my mother sang Helen Reddy's 1970s feminist anthem,    I Am Woman    -- a song I screamed out from the bathtub, thanks to her, before I was old enough to go to school. Studies have shown that music has the ability to activate the brain and its memories even as it fades. In my mother's case, it was as if each selection her brain called up represented a chapter in her 74 years. Collectively, those songs, and the music we played, bound us together as her end drew near. They helped form the soundtrack of my mother's life and history. <h> Nurturing a gift My mom and her sister, Marilyn  being a professional singer. On tour buses and in South Florida club houses, Bill Biener gravitated toward microphones whenever he could. He sang to his two girls each night before they went to sleep in their shared bedroom, never mind if his choices were n't always appropriate. One of his favorites, and by extension one of theirs:    Just a Girl that Men Forget.   Share your story Do you have a song that will forever remind you of someone you lost? Share your story with @CNN using #OurSong and your post could be featured on CNN.com. Aunt Marilyn, who was older by a couple of years, and Mom sang and harmonized in the back seat during car rides. They were in the same advanced glee club in high school, and these two Jewish girls entertained commuters with Christmas carols in the Port Authority Bus Terminal in New York each winter -- dressed in    black sweaters, black skirts and pearls,    Marilyn said. They'd go into the city  lipsticks, my mom saved up her allowance to buy records. My mother in 1953, when she was 10. They came of age in the' 50s, and my mother loved to dance. She once won an Alan Freed Rock' n' Roll Dance Party contest and traveled to Philadelphia to be on Dick Clark's    American Bandstand,    Marilyn said. The two sisters also took piano lessons, though my aunt recently told me Mom failed them. It was a revelation that made me, a piano lesson dropout, laugh.    All she wanted to do was improvise,    Marilyn explained.    She did not want to play the songs we had to learn.     It was a fitting story, given who my mother would become. Mom in 1966, the year she had Jason, her first child. Mom never did learn how to read music, but she had a gift. She could play almost anything by ear, and her  bucolic Smith College in Northampton, Massachusetts, she waltzed into Manhattan jazz clubs, sat down and played. Often she was the only white person in the room. A huge fan of Ray Charles, she even wore sunglasses. My little sister, Dr. Elizabeth Eaman, recalls how Mom pounded out    Under the Sea    from the film    The Little Mermaid    minutes after they returned home from seeing the movie for the first time. My older brother, Jason Ravitz, has played keyboard in bands throughout much of his adult life. He remembers our mom teaching him the blues scale. They'd jam together --    She'd do the left hand and I'd do the right,    Jason said -- but not as often as he now wishes they did. He marveled at her skills. We all did. Every year after our family Passover Seder, which was like a reunion for her side of the family, she'd dazzle us with favorites like    Blue Skies.  and could do things with her left hand I still ca n't imagine doing,    Jason said. One of the first signs that she was seriously sick came when her left hand grew rigid. The hand that for so long amazed us could no longer perform. <h> Even as she faded Our whip-smart mother, in her last six years or so, had become slow, loopy, off. I often wondered if retirement had done her and her brain a disservice. For a while, we thought she'd had a mini stroke or several of them, but scans proved us wrong. A doctor gave us hope at one point when she opined that mom had autoimmune encephalitis, a condition in which her immune system was attacking her brain -- an illness that can be treated. In the end, she got a diagnosis with no chance for a cure: corticobasal degeneration. Mom combined two of her other loves, travel and animals, while in the Dominican Republic in 2005  a lake with multiple staircases and moved into a senior community in Novi, Michigan. Their piano sat in the new apartment, gathering dust. During their first meal at Fox Run, they sat in the dining room with other couples and were both tapped to be in the chorus.    She looked absolutely radiant when she sang,    her husband, Dr. Charles Schmitter, said.    She absolutely loved it. It was like the sun came out.    The last time he took her to chorus practice was about three months before she died. He led her there slowly by the hand, which was how they managed to move through the world. She could no longer read lyrics and needed help getting into position. Once the music started, she joined right in.That enthusiasm for song, her ability to lock in on it the second she heard it, stayed with her even as she became progressively more sick and the joy was harder to see. One person  was Michael Krieger, a singer and songwriter who's been playing for seniors in the Detroit area for nearly two decades. Through music, Krieger finds connections with those who've become disconnected, a way to help people light up and communicate who they are. The memory care facility at Fox Run where Mom spent her last months is a regular stop on his circuit. He strolls into Rose Court with his guitar and takes a seat at the piano anywhere from 15 to 20 hours a month. Our powerhouse of a mother, who'd become so fragile and meek, stood out.    I ca n't think of anyone who's interacted with me the way she did,    Krieger said.    There was such an intensity.    As soon as he got the last note of a song out of his mouth, my mom would blurt out her next request -- often    New York, New York    or    Side by Side    -- which could very well be  before. And the songs she did n't request, she knew them, too, and sang along. When she could n't speak and barely ate, she'd still find the music. We'd often weep as we watched her, wondering where she was.    She did n't have the neurological connections to have a meaningful conversation, to speak to you and listen to you and respond, but she could sing,    my sister said. My brother saw it as her    comfort zone.    It was the one thing she could still grasp, and it was as if she were announcing to the world,    I've got this.    <h> A puzzle with no specific answersThough her brain prohibited her from saying much, she comprehended everything happening around her, said Dawn Doyle, the social worker at Rose Court who observed my mother closely.    Music allowed her to feel emotion,    Doyle said.    In the beginning, I could see that  it gave her movement, and some kind of memory was being triggered. I could see it in her eyes.    Maybe that's why she chose the songs she did -- one about her beloved New York, one from her father, songs that connected her to her kids and her activism.    It's like a puzzle. There's no specific answer,    Doyle said.    But the fact that there was a connection showed she had some cognitive ability. It was her way of trying to connect with you.    <h> JUST WATCHED <h> Music opens a' back door' to the brain <h> MUST WATCH CNN Chief Medical Correspondent Dr. Sanjay Gupta, a practicing neurosurgeon, sat down with me to explain why music stuck with my mom when most everything else did not. He said studies have shown that music fires up the brain like nothing else. It's hard to prove why, but one possible explanation is that music    harnesses surrogate emotions    and has  music is therapeutic on its own, but singing does even more, Gupta explained. It's why music can be so effective in rehabilitation. It's why musicians like Krieger see people come alive. First a person must remember a song, and that memory -- activated in the central part of the brain -- is tied up in emotions, Gupta said. Then, expressing or speaking the lyrics stimulates the brain's left temporal area. To speak those lyrics in the form of a tune taps into the right parietal lobe. And if you throw in a rhythm, say the stomping of a foot or clapping, that draws in the cerebellum. Singing crosses the mid line of the brain, Gupta said, and not much else does this.    It's really remarkable to watch,    he said. Indeed, in her final chapter and up until a week before we lost our mother, we gazed at her in wonder. <h> Saying goodbye The end for my  to sit up, my sister and my mom's best friend sang with her one last time. Among Mom's swan songs:    I Am Woman.    I am woman, hear me roar, In numbers too big to ignore... If I have to, I can do anything. I am strong. I am invincible. I am woman. By the time my brother and I got there, she was tucked into bed. Against all odds, she made it to my wedding in Atlanta less than six months before she died. Her eyes never opened again, but she clung to my hand the night I arrived, as Hillary Clinton debated Donald Trump for the first time on the television she could n't watch. She was now on hospice care, and with the next round of morphine, her hand let go. She'd been refusing food and drink, but she took the scheduled syringes of morphine willingly. Our mother was ready. During  possible, we floated in and out in shifts. Krieger visited daily, playing her usual requests. If she was agitated, his voice always soothed her -- and us. He provided comfort with one of her favorites,    Wonderful World,    which he'd later play at her funeral. The other song he performed at the ceremony, one she specifically requested years before she was even sick:    Wind Beneath My Wings    from the tearjerker film    Beaches.    These songs, and so many others, will forever bind us to our mother. She sang to us in our beds, as her father had to her, as she did for him in his last days. And as she lay dying, it was our turn. We stroked her hair, kissed her cheeks, whispered in her ears our gratitude for everything she'd given us. And the songs that filled the room as we said goodbye, the music that defined her life, became ours, too.\"\n",
    "\n",
    "# Set a template for hypothesis statements. The model will use this to evaluate if the text matches each class.\n",
    "# The placeholder `{}` will be replaced with each class name (e.g., \"This example is about politics\").\n",
    "hypothesis_template = \"This article is {} abortion\"\n",
    "\n",
    "# Define a list of possible categories (or \"classes\") the text might belong to.\n",
    "# The model will assess whether the text is about \"politics\", \"economy\", \"entertainment\", or \"environment\".\n",
    "classes_verbalized = [\"for\", \"against\", \"neutral\"]\n",
    "\n",
    "# Initialize a zero-shot classification pipeline using a specific pretrained model.\n",
    "# The zero-shot classifier allows categorizing text into classes without requiring training on those specific categories.\n",
    "# Here, the model \"MoritzLaurer/deberta-v3-large-zeroshot-v1.1-all-33\" is used.\n",
    "zeroshot_classifier = pipeline(\"zero-shot-classification\", model=\"MoritzLaurer/deberta-v3-large-zeroshot-v1.1-all-33\")\n",
    "\n",
    "# Run the zero-shot classifier on the given text.\n",
    "# It will test each category from `classes_verbalized` using the `hypothesis_template`.\n",
    "# `multi_label=False` means the classifier will assume the text belongs to only one of the categories.\n",
    "output = zeroshot_classifier(text, classes_verbalized, hypothesis_template=hypothesis_template, multi_label=False)\n",
    "\n",
    "# Print the classification result, which includes the predicted category and associated confidence scores.\n",
    "print(output)"
   ]
  },
  {
   "cell_type": "code",
   "execution_count": 51,
   "id": "b834760f-f0b1-4b8b-88e4-bf3b14f000dc",
   "metadata": {},
   "outputs": [
    {
     "data": {
      "text/html": [
       "<div>\n",
       "<style scoped>\n",
       "    .dataframe tbody tr th:only-of-type {\n",
       "        vertical-align: middle;\n",
       "    }\n",
       "\n",
       "    .dataframe tbody tr th {\n",
       "        vertical-align: top;\n",
       "    }\n",
       "\n",
       "    .dataframe thead th {\n",
       "        text-align: right;\n",
       "    }\n",
       "</style>\n",
       "<table border=\"1\" class=\"dataframe\">\n",
       "  <thead>\n",
       "    <tr style=\"text-align: right;\">\n",
       "      <th></th>\n",
       "      <th>textID</th>\n",
       "      <th>body</th>\n",
       "    </tr>\n",
       "  </thead>\n",
       "  <tbody>\n",
       "    <tr>\n",
       "      <th>0</th>\n",
       "      <td>1</td>\n",
       "      <td>I love abotion so much it kills me</td>\n",
       "    </tr>\n",
       "    <tr>\n",
       "      <th>1</th>\n",
       "      <td>2</td>\n",
       "      <td>I hate abortion with all my might</td>\n",
       "    </tr>\n",
       "    <tr>\n",
       "      <th>2</th>\n",
       "      <td>3</td>\n",
       "      <td>Third text body is right here.</td>\n",
       "    </tr>\n",
       "    <tr>\n",
       "      <th>3</th>\n",
       "      <td>4</td>\n",
       "      <td>Fourth body of text in the DataFrame.</td>\n",
       "    </tr>\n",
       "    <tr>\n",
       "      <th>4</th>\n",
       "      <td>5</td>\n",
       "      <td>Finally, the fifth body of text.</td>\n",
       "    </tr>\n",
       "  </tbody>\n",
       "</table>\n",
       "</div>"
      ],
      "text/plain": [
       "   textID                                   body\n",
       "0       1     I love abotion so much it kills me\n",
       "1       2      I hate abortion with all my might\n",
       "2       3         Third text body is right here.\n",
       "3       4  Fourth body of text in the DataFrame.\n",
       "4       5       Finally, the fifth body of text."
      ]
     },
     "execution_count": 51,
     "metadata": {},
     "output_type": "execute_result"
    }
   ],
   "source": [
    "import pandas as pd\n",
    "\n",
    "# Creating a DataFrame with columns \"textID\" and \"body\"\n",
    "data = {\n",
    "    'textID': [1, 2, 3, 4, 5],\n",
    "    'body': [\n",
    "        \"I love abotion so much it kills me\",\n",
    "        \"I hate abortion with all my might\",\n",
    "        \"Third text body is right here.\",\n",
    "        \"Fourth body of text in the DataFrame.\",\n",
    "        \"Finally, the fifth body of text.\"\n",
    "    ]\n",
    "}\n",
    "\n",
    "df = pd.DataFrame(data)\n",
    "\n",
    "# Display the DataFrame\n",
    "df\n"
   ]
  },
  {
   "cell_type": "code",
   "execution_count": 54,
   "id": "029f3605-82cd-487e-8603-dbec58351e1d",
   "metadata": {},
   "outputs": [
    {
     "name": "stderr",
     "output_type": "stream",
     "text": [
      "All PyTorch model weights were used when initializing TFDebertaV2ForSequenceClassification.\n",
      "\n",
      "All the weights of TFDebertaV2ForSequenceClassification were initialized from the PyTorch model.\n",
      "If your task is similar to the task the model of the checkpoint was trained on, you can already use TFDebertaV2ForSequenceClassification for predictions without further training.\n"
     ]
    },
    {
     "data": {
      "text/html": [
       "<div>\n",
       "<style scoped>\n",
       "    .dataframe tbody tr th:only-of-type {\n",
       "        vertical-align: middle;\n",
       "    }\n",
       "\n",
       "    .dataframe tbody tr th {\n",
       "        vertical-align: top;\n",
       "    }\n",
       "\n",
       "    .dataframe thead th {\n",
       "        text-align: right;\n",
       "    }\n",
       "</style>\n",
       "<table border=\"1\" class=\"dataframe\">\n",
       "  <thead>\n",
       "    <tr style=\"text-align: right;\">\n",
       "      <th></th>\n",
       "      <th>neutral</th>\n",
       "      <th>for</th>\n",
       "      <th>against</th>\n",
       "    </tr>\n",
       "  </thead>\n",
       "  <tbody>\n",
       "    <tr>\n",
       "      <th>0</th>\n",
       "      <td>0.992577</td>\n",
       "      <td>0.003882</td>\n",
       "      <td>0.003540</td>\n",
       "    </tr>\n",
       "    <tr>\n",
       "      <th>1</th>\n",
       "      <td>0.971597</td>\n",
       "      <td>0.011092</td>\n",
       "      <td>0.017312</td>\n",
       "    </tr>\n",
       "  </tbody>\n",
       "</table>\n",
       "</div>"
      ],
      "text/plain": [
       "    neutral       for   against\n",
       "0  0.992577  0.003882  0.003540\n",
       "1  0.971597  0.011092  0.017312"
      ]
     },
     "execution_count": 54,
     "metadata": {},
     "output_type": "execute_result"
    }
   ],
   "source": [
    "# Initialize the zero-shot classification pipeline\n",
    "zeroshot_classifier = pipeline(\"zero-shot-classification\", model=\"MoritzLaurer/deberta-v3-large-zeroshot-v1.1-all-33\")\n",
    "\n",
    "# Set up the classification parameters\n",
    "hypothesis_template = \"This article is {} abortion\"\n",
    "classes_verbalized = [\"for\", \"against\", \"neutral\"]\n",
    "\n",
    "# Assuming CNN_Fox_joined_17_05 is your DataFrame and \"body\" contains the articles and \"textID\" contains the IDs\n",
    "def classify_article(text):\n",
    "    # Run the zero-shot classifier on each article\n",
    "    output = zeroshot_classifier(text, classes_verbalized, hypothesis_template=hypothesis_template, multi_label=False)\n",
    "    # Create a dictionary with class labels as keys and their confidence scores as values\n",
    "    return {label: score for label, score in zip(output['labels'], output['scores'])}\n",
    "\n",
    "# Apply the classification to each row in the \"body\" column and collect the results\n",
    "stance_detection_results = df['body'].apply(classify_article)\n",
    "\n",
    "# Convert the results into a new DataFrame, with each article as a row and classes as columns\n",
    "stance_detection_df_test = pd.DataFrame(classification_results.tolist())\n",
    "\n",
    "# Add the textID column, source column the original article text from the original DataFrame\n",
    "#stance_detection_df['textID'] = abortion_articled_joined_17_05['textID']\n",
    "#stance_detection_df['source'] = abortion_articled_joined_17_05['source']\n",
    "#stance_detection_df['body'] = abortion_articled_joined_17_05['body']\n",
    "\n",
    "# Display the new DataFrame to the user\n",
    "#import ace_tools as tools; tools.display_dataframe_to_user(name=\"Zero-Shot Classification Results with textID\", dataframe=classification_df)\n",
    "\n",
    "stance_detection_df_test"
   ]
  },
  {
   "cell_type": "code",
   "execution_count": 49,
   "id": "5c556eb9-deea-49d7-afb7-cc3cb98eef1f",
   "metadata": {},
   "outputs": [
    {
     "name": "stderr",
     "output_type": "stream",
     "text": [
      "All PyTorch model weights were used when initializing TFDebertaV2ForSequenceClassification.\n",
      "\n",
      "All the weights of TFDebertaV2ForSequenceClassification were initialized from the PyTorch model.\n",
      "If your task is similar to the task the model of the checkpoint was trained on, you can already use TFDebertaV2ForSequenceClassification for predictions without further training.\n"
     ]
    },
    {
     "name": "stdout",
     "output_type": "stream",
     "text": [
      "{'sequence': 'I love abotion so much it kills me', 'labels': ['for', 'against', 'neutral'], 'scores': [0.9804189801216125, 0.017564306035637856, 0.0020167045295238495]}\n"
     ]
    }
   ],
   "source": [
    "# running for textID 18398688\n",
    "\n",
    "# Define a sample text input that describes Angela Merkel's profession and political affiliation\n",
    "text = \"I love abotion so much it kills me\"\n",
    "\n",
    "# Set a template for hypothesis statements. The model will use this to evaluate if the text matches each class.\n",
    "# The placeholder `{}` will be replaced with each class name (e.g., \"This example is about politics\").\n",
    "hypothesis_template = \"This article is {} abortion\"\n",
    "\n",
    "# Define a list of possible categories (or \"classes\") the text might belong to.\n",
    "# The model will assess whether the text is about \"politics\", \"economy\", \"entertainment\", or \"environment\".\n",
    "classes_verbalized = [\"for\", \"against\", \"neutral\"]\n",
    "\n",
    "# Initialize a zero-shot classification pipeline using a specific pretrained model.\n",
    "# The zero-shot classifier allows categorizing text into classes without requiring training on those specific categories.\n",
    "# Here, the model \"MoritzLaurer/deberta-v3-large-zeroshot-v1.1-all-33\" is used.\n",
    "zeroshot_classifier = pipeline(\"zero-shot-classification\", model=\"MoritzLaurer/deberta-v3-large-zeroshot-v1.1-all-33\")\n",
    "\n",
    "# Run the zero-shot classifier on the given text.\n",
    "# It will test each category from `classes_verbalized` using the `hypothesis_template`.\n",
    "# `multi_label=False` means the classifier will assume the text belongs to only one of the categories.\n",
    "output = zeroshot_classifier(text, classes_verbalized, hypothesis_template=hypothesis_template, multi_label=False)\n",
    "\n",
    "# Print the classification result, which includes the predicted category and associated confidence scores.\n",
    "print(output)"
   ]
  },
  {
   "cell_type": "markdown",
   "id": "78c3a34b-0726-42ed-9edd-95cf57340411",
   "metadata": {},
   "source": [
    "### Considerations\n",
    "#### - What should the classifications be worded as?\n",
    "####  - Should the classification be binary (for/against) abortion, or should it be ternary (for/against/neutral)"
   ]
  }
 ],
 "metadata": {
  "kernelspec": {
   "display_name": "Python 3 ",
   "language": "python",
   "name": "python3"
  },
  "language_info": {
   "codemirror_mode": {
    "name": "ipython",
    "version": 3
   },
   "file_extension": ".py",
   "mimetype": "text/x-python",
   "name": "python",
   "nbconvert_exporter": "python",
   "pygments_lexer": "ipython3",
   "version": "3.12.7"
  }
 },
 "nbformat": 4,
 "nbformat_minor": 5
}
