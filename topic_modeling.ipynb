{
 "cells": [
  {
   "cell_type": "markdown",
   "id": "7a1024ac-4dce-4ba7-a00b-65ed36f32ffc",
   "metadata": {},
   "source": [
    "# Purpose of notebook: do KeyNMF (static + dynamic)"
   ]
  },
  {
   "cell_type": "code",
   "execution_count": 3,
   "id": "8a605566-4814-4fd8-bcc6-238ab4ae6e23",
   "metadata": {},
   "outputs": [
    {
     "name": "stdout",
     "output_type": "stream",
     "text": [
      "Requirement already satisfied: pandas in /opt/conda/lib/python3.12/site-packages (2.2.3)\n",
      "\u001b[31mERROR: Could not find a version that satisfies the requirement as (from versions: none)\u001b[0m\u001b[31m\n",
      "\u001b[0m\u001b[31mERROR: No matching distribution found for as\u001b[0m\u001b[31m\n",
      "\u001b[0mNote: you may need to restart the kernel to use updated packages.\n",
      "Requirement already satisfied: chardet in /opt/conda/lib/python3.12/site-packages (5.2.0)\n",
      "Note: you may need to restart the kernel to use updated packages.\n",
      "Requirement already satisfied: turftopic in /opt/conda/lib/python3.12/site-packages (0.8.1)\n",
      "Requirement already satisfied: huggingface-hub<0.24.0,>=0.23.2 in /opt/conda/lib/python3.12/site-packages (from turftopic) (0.23.5)\n",
      "Requirement already satisfied: joblib<2.0.0,>=1.2.0 in /opt/conda/lib/python3.12/site-packages (from turftopic) (1.4.2)\n",
      "Requirement already satisfied: numpy>=1.23.0 in /opt/conda/lib/python3.12/site-packages (from turftopic) (2.0.2)\n",
      "Requirement already satisfied: rich<14.0.0,>=13.6.0 in /opt/conda/lib/python3.12/site-packages (from turftopic) (13.9.4)\n",
      "Requirement already satisfied: scikit-learn<2.0.0,>=1.2.0 in /opt/conda/lib/python3.12/site-packages (from turftopic) (1.5.2)\n",
      "Requirement already satisfied: scipy<2.0.0,>=1.10.0 in /opt/conda/lib/python3.12/site-packages (from turftopic) (1.14.1)\n",
      "Requirement already satisfied: sentence-transformers>=2.2.0 in /opt/conda/lib/python3.12/site-packages (from turftopic) (3.2.1)\n",
      "Requirement already satisfied: torch<3.0.0,>=2.1.0 in /opt/conda/lib/python3.12/site-packages (from turftopic) (2.5.1)\n",
      "Requirement already satisfied: filelock in /opt/conda/lib/python3.12/site-packages (from huggingface-hub<0.24.0,>=0.23.2->turftopic) (3.16.1)\n",
      "Requirement already satisfied: fsspec>=2023.5.0 in /opt/conda/lib/python3.12/site-packages (from huggingface-hub<0.24.0,>=0.23.2->turftopic) (2024.10.0)\n",
      "Requirement already satisfied: packaging>=20.9 in /opt/conda/lib/python3.12/site-packages (from huggingface-hub<0.24.0,>=0.23.2->turftopic) (24.1)\n",
      "Requirement already satisfied: pyyaml>=5.1 in /opt/conda/lib/python3.12/site-packages (from huggingface-hub<0.24.0,>=0.23.2->turftopic) (6.0.2)\n",
      "Requirement already satisfied: requests in /opt/conda/lib/python3.12/site-packages (from huggingface-hub<0.24.0,>=0.23.2->turftopic) (2.32.3)\n",
      "Requirement already satisfied: tqdm>=4.42.1 in /opt/conda/lib/python3.12/site-packages (from huggingface-hub<0.24.0,>=0.23.2->turftopic) (4.66.5)\n",
      "Requirement already satisfied: typing-extensions>=3.7.4.3 in /opt/conda/lib/python3.12/site-packages (from huggingface-hub<0.24.0,>=0.23.2->turftopic) (4.12.2)\n",
      "Requirement already satisfied: markdown-it-py>=2.2.0 in /opt/conda/lib/python3.12/site-packages (from rich<14.0.0,>=13.6.0->turftopic) (3.0.0)\n",
      "Requirement already satisfied: pygments<3.0.0,>=2.13.0 in /opt/conda/lib/python3.12/site-packages (from rich<14.0.0,>=13.6.0->turftopic) (2.18.0)\n",
      "Requirement already satisfied: threadpoolctl>=3.1.0 in /opt/conda/lib/python3.12/site-packages (from scikit-learn<2.0.0,>=1.2.0->turftopic) (3.5.0)\n",
      "Requirement already satisfied: transformers<5.0.0,>=4.41.0 in /opt/conda/lib/python3.12/site-packages (from sentence-transformers>=2.2.0->turftopic) (4.46.2)\n",
      "Requirement already satisfied: Pillow in /opt/conda/lib/python3.12/site-packages (from sentence-transformers>=2.2.0->turftopic) (11.0.0)\n",
      "Requirement already satisfied: networkx in /opt/conda/lib/python3.12/site-packages (from torch<3.0.0,>=2.1.0->turftopic) (3.4.2)\n",
      "Requirement already satisfied: jinja2 in /opt/conda/lib/python3.12/site-packages (from torch<3.0.0,>=2.1.0->turftopic) (3.1.4)\n",
      "Requirement already satisfied: nvidia-cuda-nvrtc-cu12==12.4.127 in /opt/conda/lib/python3.12/site-packages (from torch<3.0.0,>=2.1.0->turftopic) (12.4.127)\n",
      "Requirement already satisfied: nvidia-cuda-runtime-cu12==12.4.127 in /opt/conda/lib/python3.12/site-packages (from torch<3.0.0,>=2.1.0->turftopic) (12.4.127)\n",
      "Requirement already satisfied: nvidia-cuda-cupti-cu12==12.4.127 in /opt/conda/lib/python3.12/site-packages (from torch<3.0.0,>=2.1.0->turftopic) (12.4.127)\n",
      "Requirement already satisfied: nvidia-cudnn-cu12==9.1.0.70 in /opt/conda/lib/python3.12/site-packages (from torch<3.0.0,>=2.1.0->turftopic) (9.1.0.70)\n",
      "Requirement already satisfied: nvidia-cublas-cu12==12.4.5.8 in /opt/conda/lib/python3.12/site-packages (from torch<3.0.0,>=2.1.0->turftopic) (12.4.5.8)\n",
      "Requirement already satisfied: nvidia-cufft-cu12==11.2.1.3 in /opt/conda/lib/python3.12/site-packages (from torch<3.0.0,>=2.1.0->turftopic) (11.2.1.3)\n",
      "Requirement already satisfied: nvidia-curand-cu12==10.3.5.147 in /opt/conda/lib/python3.12/site-packages (from torch<3.0.0,>=2.1.0->turftopic) (10.3.5.147)\n",
      "Requirement already satisfied: nvidia-cusolver-cu12==11.6.1.9 in /opt/conda/lib/python3.12/site-packages (from torch<3.0.0,>=2.1.0->turftopic) (11.6.1.9)\n",
      "Requirement already satisfied: nvidia-cusparse-cu12==12.3.1.170 in /opt/conda/lib/python3.12/site-packages (from torch<3.0.0,>=2.1.0->turftopic) (12.3.1.170)\n",
      "Requirement already satisfied: nvidia-nccl-cu12==2.21.5 in /opt/conda/lib/python3.12/site-packages (from torch<3.0.0,>=2.1.0->turftopic) (2.21.5)\n",
      "Requirement already satisfied: nvidia-nvtx-cu12==12.4.127 in /opt/conda/lib/python3.12/site-packages (from torch<3.0.0,>=2.1.0->turftopic) (12.4.127)\n",
      "Requirement already satisfied: nvidia-nvjitlink-cu12==12.4.127 in /opt/conda/lib/python3.12/site-packages (from torch<3.0.0,>=2.1.0->turftopic) (12.4.127)\n",
      "Requirement already satisfied: triton==3.1.0 in /opt/conda/lib/python3.12/site-packages (from torch<3.0.0,>=2.1.0->turftopic) (3.1.0)\n",
      "Requirement already satisfied: setuptools in /opt/conda/lib/python3.12/site-packages (from torch<3.0.0,>=2.1.0->turftopic) (75.1.0)\n",
      "Requirement already satisfied: sympy==1.13.1 in /opt/conda/lib/python3.12/site-packages (from torch<3.0.0,>=2.1.0->turftopic) (1.13.1)\n",
      "Requirement already satisfied: mpmath<1.4,>=1.1.0 in /opt/conda/lib/python3.12/site-packages (from sympy==1.13.1->torch<3.0.0,>=2.1.0->turftopic) (1.3.0)\n",
      "Requirement already satisfied: mdurl~=0.1 in /opt/conda/lib/python3.12/site-packages (from markdown-it-py>=2.2.0->rich<14.0.0,>=13.6.0->turftopic) (0.1.2)\n",
      "Requirement already satisfied: regex!=2019.12.17 in /opt/conda/lib/python3.12/site-packages (from transformers<5.0.0,>=4.41.0->sentence-transformers>=2.2.0->turftopic) (2024.11.6)\n",
      "Requirement already satisfied: safetensors>=0.4.1 in /opt/conda/lib/python3.12/site-packages (from transformers<5.0.0,>=4.41.0->sentence-transformers>=2.2.0->turftopic) (0.4.5)\n",
      "Requirement already satisfied: tokenizers<0.21,>=0.20 in /opt/conda/lib/python3.12/site-packages (from transformers<5.0.0,>=4.41.0->sentence-transformers>=2.2.0->turftopic) (0.20.3)\n",
      "Requirement already satisfied: MarkupSafe>=2.0 in /opt/conda/lib/python3.12/site-packages (from jinja2->torch<3.0.0,>=2.1.0->turftopic) (3.0.2)\n",
      "Requirement already satisfied: charset-normalizer<4,>=2 in /opt/conda/lib/python3.12/site-packages (from requests->huggingface-hub<0.24.0,>=0.23.2->turftopic) (3.4.0)\n",
      "Requirement already satisfied: idna<4,>=2.5 in /opt/conda/lib/python3.12/site-packages (from requests->huggingface-hub<0.24.0,>=0.23.2->turftopic) (3.10)\n",
      "Requirement already satisfied: urllib3<3,>=1.21.1 in /opt/conda/lib/python3.12/site-packages (from requests->huggingface-hub<0.24.0,>=0.23.2->turftopic) (2.2.3)\n",
      "Requirement already satisfied: certifi>=2017.4.17 in /opt/conda/lib/python3.12/site-packages (from requests->huggingface-hub<0.24.0,>=0.23.2->turftopic) (2024.8.30)\n",
      "Note: you may need to restart the kernel to use updated packages.\n",
      "\u001b[31mERROR: Invalid requirement: 'sentence-transformers[onnx,': Expected extra name after comma\n",
      "    sentence-transformers[onnx,\n",
      "                               ^\u001b[0m\u001b[31m\n",
      "\u001b[0mNote: you may need to restart the kernel to use updated packages.\n",
      "Requirement already satisfied: tqdm in /opt/conda/lib/python3.12/site-packages (4.66.5)\n",
      "Note: you may need to restart the kernel to use updated packages.\n",
      "Requirement already satisfied: spacy in /opt/conda/lib/python3.12/site-packages (3.8.2)\n",
      "Requirement already satisfied: spacy-legacy<3.1.0,>=3.0.11 in /opt/conda/lib/python3.12/site-packages (from spacy) (3.0.12)\n",
      "Requirement already satisfied: spacy-loggers<2.0.0,>=1.0.0 in /opt/conda/lib/python3.12/site-packages (from spacy) (1.0.5)\n",
      "Requirement already satisfied: murmurhash<1.1.0,>=0.28.0 in /opt/conda/lib/python3.12/site-packages (from spacy) (1.0.10)\n",
      "Requirement already satisfied: cymem<2.1.0,>=2.0.2 in /opt/conda/lib/python3.12/site-packages (from spacy) (2.0.8)\n",
      "Requirement already satisfied: preshed<3.1.0,>=3.0.2 in /opt/conda/lib/python3.12/site-packages (from spacy) (3.0.9)\n",
      "Requirement already satisfied: thinc<8.4.0,>=8.3.0 in /opt/conda/lib/python3.12/site-packages (from spacy) (8.3.2)\n",
      "Requirement already satisfied: wasabi<1.2.0,>=0.9.1 in /opt/conda/lib/python3.12/site-packages (from spacy) (1.1.3)\n",
      "Requirement already satisfied: srsly<3.0.0,>=2.4.3 in /opt/conda/lib/python3.12/site-packages (from spacy) (2.4.8)\n",
      "Requirement already satisfied: catalogue<2.1.0,>=2.0.6 in /opt/conda/lib/python3.12/site-packages (from spacy) (2.0.10)\n",
      "Requirement already satisfied: weasel<0.5.0,>=0.1.0 in /opt/conda/lib/python3.12/site-packages (from spacy) (0.4.1)\n",
      "Requirement already satisfied: typer<1.0.0,>=0.3.0 in /opt/conda/lib/python3.12/site-packages (from spacy) (0.13.0)\n",
      "Requirement already satisfied: tqdm<5.0.0,>=4.38.0 in /opt/conda/lib/python3.12/site-packages (from spacy) (4.66.5)\n",
      "Requirement already satisfied: requests<3.0.0,>=2.13.0 in /opt/conda/lib/python3.12/site-packages (from spacy) (2.32.3)\n",
      "Requirement already satisfied: pydantic!=1.8,!=1.8.1,<3.0.0,>=1.7.4 in /opt/conda/lib/python3.12/site-packages (from spacy) (2.9.2)\n",
      "Requirement already satisfied: jinja2 in /opt/conda/lib/python3.12/site-packages (from spacy) (3.1.4)\n",
      "Requirement already satisfied: setuptools in /opt/conda/lib/python3.12/site-packages (from spacy) (75.1.0)\n",
      "Requirement already satisfied: packaging>=20.0 in /opt/conda/lib/python3.12/site-packages (from spacy) (24.1)\n",
      "Requirement already satisfied: langcodes<4.0.0,>=3.2.0 in /opt/conda/lib/python3.12/site-packages (from spacy) (3.4.1)\n",
      "Requirement already satisfied: numpy>=1.19.0 in /opt/conda/lib/python3.12/site-packages (from spacy) (2.0.2)\n",
      "Requirement already satisfied: language-data>=1.2 in /opt/conda/lib/python3.12/site-packages (from langcodes<4.0.0,>=3.2.0->spacy) (1.2.0)\n",
      "Requirement already satisfied: annotated-types>=0.6.0 in /opt/conda/lib/python3.12/site-packages (from pydantic!=1.8,!=1.8.1,<3.0.0,>=1.7.4->spacy) (0.7.0)\n",
      "Requirement already satisfied: pydantic-core==2.23.4 in /opt/conda/lib/python3.12/site-packages (from pydantic!=1.8,!=1.8.1,<3.0.0,>=1.7.4->spacy) (2.23.4)\n",
      "Requirement already satisfied: typing-extensions>=4.6.1 in /opt/conda/lib/python3.12/site-packages (from pydantic!=1.8,!=1.8.1,<3.0.0,>=1.7.4->spacy) (4.12.2)\n",
      "Requirement already satisfied: charset-normalizer<4,>=2 in /opt/conda/lib/python3.12/site-packages (from requests<3.0.0,>=2.13.0->spacy) (3.4.0)\n",
      "Requirement already satisfied: idna<4,>=2.5 in /opt/conda/lib/python3.12/site-packages (from requests<3.0.0,>=2.13.0->spacy) (3.10)\n",
      "Requirement already satisfied: urllib3<3,>=1.21.1 in /opt/conda/lib/python3.12/site-packages (from requests<3.0.0,>=2.13.0->spacy) (2.2.3)\n",
      "Requirement already satisfied: certifi>=2017.4.17 in /opt/conda/lib/python3.12/site-packages (from requests<3.0.0,>=2.13.0->spacy) (2024.8.30)\n",
      "Requirement already satisfied: blis<1.1.0,>=1.0.0 in /opt/conda/lib/python3.12/site-packages (from thinc<8.4.0,>=8.3.0->spacy) (1.0.1)\n",
      "Requirement already satisfied: confection<1.0.0,>=0.0.1 in /opt/conda/lib/python3.12/site-packages (from thinc<8.4.0,>=8.3.0->spacy) (0.1.5)\n",
      "Requirement already satisfied: click>=8.0.0 in /opt/conda/lib/python3.12/site-packages (from typer<1.0.0,>=0.3.0->spacy) (8.1.7)\n",
      "Requirement already satisfied: shellingham>=1.3.0 in /opt/conda/lib/python3.12/site-packages (from typer<1.0.0,>=0.3.0->spacy) (1.5.4)\n",
      "Requirement already satisfied: rich>=10.11.0 in /opt/conda/lib/python3.12/site-packages (from typer<1.0.0,>=0.3.0->spacy) (13.9.4)\n",
      "Requirement already satisfied: cloudpathlib<1.0.0,>=0.7.0 in /opt/conda/lib/python3.12/site-packages (from weasel<0.5.0,>=0.1.0->spacy) (0.20.0)\n",
      "Requirement already satisfied: smart-open<8.0.0,>=5.2.1 in /opt/conda/lib/python3.12/site-packages (from weasel<0.5.0,>=0.1.0->spacy) (7.0.5)\n",
      "Requirement already satisfied: MarkupSafe>=2.0 in /opt/conda/lib/python3.12/site-packages (from jinja2->spacy) (3.0.2)\n",
      "Requirement already satisfied: marisa-trie>=0.7.7 in /opt/conda/lib/python3.12/site-packages (from language-data>=1.2->langcodes<4.0.0,>=3.2.0->spacy) (1.2.1)\n",
      "Requirement already satisfied: markdown-it-py>=2.2.0 in /opt/conda/lib/python3.12/site-packages (from rich>=10.11.0->typer<1.0.0,>=0.3.0->spacy) (3.0.0)\n",
      "Requirement already satisfied: pygments<3.0.0,>=2.13.0 in /opt/conda/lib/python3.12/site-packages (from rich>=10.11.0->typer<1.0.0,>=0.3.0->spacy) (2.18.0)\n",
      "Requirement already satisfied: wrapt in /opt/conda/lib/python3.12/site-packages (from smart-open<8.0.0,>=5.2.1->weasel<0.5.0,>=0.1.0->spacy) (1.16.0)\n",
      "Requirement already satisfied: mdurl~=0.1 in /opt/conda/lib/python3.12/site-packages (from markdown-it-py>=2.2.0->rich>=10.11.0->typer<1.0.0,>=0.3.0->spacy) (0.1.2)\n",
      "Note: you may need to restart the kernel to use updated packages.\n",
      "Requirement already satisfied: plotly in /opt/conda/lib/python3.12/site-packages (5.24.1)\n",
      "Requirement already satisfied: tenacity>=6.2.0 in /opt/conda/lib/python3.12/site-packages (from plotly) (9.0.0)\n",
      "Requirement already satisfied: packaging in /opt/conda/lib/python3.12/site-packages (from plotly) (24.1)\n",
      "Note: you may need to restart the kernel to use updated packages.\n",
      "Requirement already satisfied: plotly.express in /opt/conda/lib/python3.12/site-packages (0.4.1)\n",
      "Requirement already satisfied: pandas>=0.20.0 in /opt/conda/lib/python3.12/site-packages (from plotly.express) (2.2.3)\n",
      "Requirement already satisfied: plotly>=4.1.0 in /opt/conda/lib/python3.12/site-packages (from plotly.express) (5.24.1)\n",
      "Requirement already satisfied: statsmodels>=0.9.0 in /opt/conda/lib/python3.12/site-packages (from plotly.express) (0.14.4)\n",
      "Requirement already satisfied: scipy>=0.18 in /opt/conda/lib/python3.12/site-packages (from plotly.express) (1.14.1)\n",
      "Requirement already satisfied: patsy>=0.5 in /opt/conda/lib/python3.12/site-packages (from plotly.express) (0.5.6)\n",
      "Requirement already satisfied: numpy>=1.11 in /opt/conda/lib/python3.12/site-packages (from plotly.express) (2.0.2)\n",
      "Requirement already satisfied: python-dateutil>=2.8.2 in /opt/conda/lib/python3.12/site-packages (from pandas>=0.20.0->plotly.express) (2.9.0)\n",
      "Requirement already satisfied: pytz>=2020.1 in /opt/conda/lib/python3.12/site-packages (from pandas>=0.20.0->plotly.express) (2024.2)\n",
      "Requirement already satisfied: tzdata>=2022.7 in /opt/conda/lib/python3.12/site-packages (from pandas>=0.20.0->plotly.express) (2024.2)\n",
      "Requirement already satisfied: six in /opt/conda/lib/python3.12/site-packages (from patsy>=0.5->plotly.express) (1.16.0)\n",
      "Requirement already satisfied: tenacity>=6.2.0 in /opt/conda/lib/python3.12/site-packages (from plotly>=4.1.0->plotly.express) (9.0.0)\n",
      "Requirement already satisfied: packaging in /opt/conda/lib/python3.12/site-packages (from plotly>=4.1.0->plotly.express) (24.1)\n",
      "Note: you may need to restart the kernel to use updated packages.\n"
     ]
    }
   ],
   "source": [
    "# import/load packages\n",
    "\n",
    "## install\n",
    "%pip install pandas as pd\n",
    "%pip install chardet\n",
    "#%pip install cchardet\n",
    "%pip install turftopic\n",
    "%pip install sentence-transformers[onnx, onnx-gpu]\n",
    "%pip install tqdm\n",
    "%pip install spacy\n",
    "%pip install plotly\n",
    "%pip install plotly.express\n",
    "\n",
    "## import\n",
    "import os\n",
    "import pandas as pd\n",
    "import chardet\n",
    "#import cchardet\n",
    "import re\n",
    "from bs4 import BeautifulSoup\n",
    "import turftopic\n",
    "from turftopic import KeyNMF\n",
    "from tqdm import tqdm\n",
    "import spacy\n",
    "import plotly\n",
    "from datetime import datetime\n",
    "import plotly.express as px\n",
    "\n"
   ]
  },
  {
   "cell_type": "markdown",
   "id": "bdf8ff3f-cc1d-4f02-8f82-58c3dd119f09",
   "metadata": {},
   "source": [
    "# STATIC TOPIC MODELING"
   ]
  },
  {
   "cell_type": "markdown",
   "id": "349abc32-e07a-4db7-aa83-2cddf5303b62",
   "metadata": {},
   "source": [
    "## Trying on CNN_Fox_joined_17_05 - smaller dataset"
   ]
  },
  {
   "cell_type": "code",
   "execution_count": 7,
   "id": "24116a66-49fd-4235-8a9a-c5c638c7cea7",
   "metadata": {},
   "outputs": [
    {
     "data": {
      "text/plain": [
       "145"
      ]
     },
     "execution_count": 7,
     "metadata": {},
     "output_type": "execute_result"
    }
   ],
   "source": [
    "# read csv\n",
    "file_path = \"/work/Bachelor/sample_data/dropbox/joined_dataframe/CNN_Fox_joined_17_05.csv\"\n",
    "CNN_Fox_joined_17_05 = pd.read_csv(file_path)\n",
    "\n",
    "# removing the words coded as censored\n",
    "CNN_Fox_joined_17_05[\"body\"] = CNN_Fox_joined_17_05[\"body\"].str.replace(\"CENSOREDfrfrfr\", \"\", regex=False)\n",
    "\n",
    "# make articles into lists \n",
    "corpus = CNN_Fox_joined_17_05[\"body\"].tolist()\n",
    "\n",
    "# inspect data\n",
    "#corpus\n",
    "\n",
    "# check data type\n",
    "#type(corpus)\n",
    "\n",
    "# check length\n",
    "len(corpus)"
   ]
  },
  {
   "cell_type": "code",
   "execution_count": 3,
   "id": "30e4e9f9-8456-4978-bace-d28483f59226",
   "metadata": {},
   "outputs": [
    {
     "data": {
      "application/vnd.jupyter.widget-view+json": {
       "model_id": "b2440cd20b45489fa50ba6b230f54c3d",
       "version_major": 2,
       "version_minor": 0
      },
      "text/plain": [
       "modules.json:   0%|          | 0.00/349 [00:00<?, ?B/s]"
      ]
     },
     "metadata": {},
     "output_type": "display_data"
    },
    {
     "data": {
      "application/vnd.jupyter.widget-view+json": {
       "model_id": "2acd6b89c72b4be9aadd885e52e877ea",
       "version_major": 2,
       "version_minor": 0
      },
      "text/plain": [
       "config_sentence_transformers.json:   0%|          | 0.00/116 [00:00<?, ?B/s]"
      ]
     },
     "metadata": {},
     "output_type": "display_data"
    },
    {
     "data": {
      "application/vnd.jupyter.widget-view+json": {
       "model_id": "b0c57e42e9b942f783b9dd5cadcbf5fa",
       "version_major": 2,
       "version_minor": 0
      },
      "text/plain": [
       "README.md:   0%|          | 0.00/10.7k [00:00<?, ?B/s]"
      ]
     },
     "metadata": {},
     "output_type": "display_data"
    },
    {
     "data": {
      "application/vnd.jupyter.widget-view+json": {
       "model_id": "e230e3874e8746f3a2848d1c51da0528",
       "version_major": 2,
       "version_minor": 0
      },
      "text/plain": [
       "sentence_bert_config.json:   0%|          | 0.00/53.0 [00:00<?, ?B/s]"
      ]
     },
     "metadata": {},
     "output_type": "display_data"
    },
    {
     "data": {
      "application/vnd.jupyter.widget-view+json": {
       "model_id": "31e48486d0ae45b199a7abdf538477c6",
       "version_major": 2,
       "version_minor": 0
      },
      "text/plain": [
       "config.json:   0%|          | 0.00/612 [00:00<?, ?B/s]"
      ]
     },
     "metadata": {},
     "output_type": "display_data"
    },
    {
     "data": {
      "application/vnd.jupyter.widget-view+json": {
       "model_id": "9a51b319e523401384172fd4a13a294b",
       "version_major": 2,
       "version_minor": 0
      },
      "text/plain": [
       "model.safetensors:   0%|          | 0.00/90.9M [00:00<?, ?B/s]"
      ]
     },
     "metadata": {},
     "output_type": "display_data"
    },
    {
     "data": {
      "application/vnd.jupyter.widget-view+json": {
       "model_id": "5f2487e66e6b4ebc829cdb076ce590a5",
       "version_major": 2,
       "version_minor": 0
      },
      "text/plain": [
       "tokenizer_config.json:   0%|          | 0.00/350 [00:00<?, ?B/s]"
      ]
     },
     "metadata": {},
     "output_type": "display_data"
    },
    {
     "data": {
      "application/vnd.jupyter.widget-view+json": {
       "model_id": "f6f02b9e141546a5a75252121bab8fd1",
       "version_major": 2,
       "version_minor": 0
      },
      "text/plain": [
       "vocab.txt:   0%|          | 0.00/232k [00:00<?, ?B/s]"
      ]
     },
     "metadata": {},
     "output_type": "display_data"
    },
    {
     "data": {
      "application/vnd.jupyter.widget-view+json": {
       "model_id": "ec3d43c689394d52b7b0d7ee8679fe30",
       "version_major": 2,
       "version_minor": 0
      },
      "text/plain": [
       "tokenizer.json:   0%|          | 0.00/466k [00:00<?, ?B/s]"
      ]
     },
     "metadata": {},
     "output_type": "display_data"
    },
    {
     "data": {
      "application/vnd.jupyter.widget-view+json": {
       "model_id": "06f2cc5b83ce4d25857a9091f6e17022",
       "version_major": 2,
       "version_minor": 0
      },
      "text/plain": [
       "special_tokens_map.json:   0%|          | 0.00/112 [00:00<?, ?B/s]"
      ]
     },
     "metadata": {},
     "output_type": "display_data"
    },
    {
     "data": {
      "application/vnd.jupyter.widget-view+json": {
       "model_id": "561c3f299a814a6a8ca860c7ae7c3108",
       "version_major": 2,
       "version_minor": 0
      },
      "text/plain": [
       "1_Pooling/config.json:   0%|          | 0.00/190 [00:00<?, ?B/s]"
      ]
     },
     "metadata": {},
     "output_type": "display_data"
    },
    {
     "data": {
      "application/vnd.jupyter.widget-view+json": {
       "model_id": "",
       "version_major": 2,
       "version_minor": 0
      },
      "text/plain": [
       "Output()"
      ]
     },
     "metadata": {},
     "output_type": "display_data"
    },
    {
     "data": {
      "text/html": [
       "<pre style=\"white-space:pre;overflow-x:auto;line-height:normal;font-family:Menlo,'DejaVu Sans Mono',consolas,'Courier New',monospace\"><span style=\"color: #7fbfbf; text-decoration-color: #7fbfbf\">[13:48:46] </span>Keyword extraction done.                                                                   <a href=\"file:///opt/conda/lib/python3.10/site-packages/turftopic/models/keynmf.py\" target=\"_blank\"><span style=\"color: #7f7f7f; text-decoration-color: #7f7f7f\">keynmf.py</span></a><span style=\"color: #7f7f7f; text-decoration-color: #7f7f7f\">:</span><a href=\"file:///opt/conda/lib/python3.10/site-packages/turftopic/models/keynmf.py#178\" target=\"_blank\"><span style=\"color: #7f7f7f; text-decoration-color: #7f7f7f\">178</span></a>\n",
       "</pre>\n"
      ],
      "text/plain": [
       "\u001b[2;36m[13:48:46]\u001b[0m\u001b[2;36m \u001b[0mKeyword extraction done.                                                                   \u001b]8;id=459152;file:///opt/conda/lib/python3.10/site-packages/turftopic/models/keynmf.py\u001b\\\u001b[2mkeynmf.py\u001b[0m\u001b]8;;\u001b\\\u001b[2m:\u001b[0m\u001b]8;id=398915;file:///opt/conda/lib/python3.10/site-packages/turftopic/models/keynmf.py#178\u001b\\\u001b[2m178\u001b[0m\u001b]8;;\u001b\\\n"
      ]
     },
     "metadata": {},
     "output_type": "display_data"
    },
    {
     "data": {
      "text/html": [
       "<pre style=\"white-space:pre;overflow-x:auto;line-height:normal;font-family:Menlo,'DejaVu Sans Mono',consolas,'Courier New',monospace\"><span style=\"color: #7fbfbf; text-decoration-color: #7fbfbf\">           </span>Model fitting done.                                                                        <a href=\"file:///opt/conda/lib/python3.10/site-packages/turftopic/models/keynmf.py\" target=\"_blank\"><span style=\"color: #7f7f7f; text-decoration-color: #7f7f7f\">keynmf.py</span></a><span style=\"color: #7f7f7f; text-decoration-color: #7f7f7f\">:</span><a href=\"file:///opt/conda/lib/python3.10/site-packages/turftopic/models/keynmf.py#185\" target=\"_blank\"><span style=\"color: #7f7f7f; text-decoration-color: #7f7f7f\">185</span></a>\n",
       "</pre>\n"
      ],
      "text/plain": [
       "\u001b[2;36m          \u001b[0m\u001b[2;36m \u001b[0mModel fitting done.                                                                        \u001b]8;id=4013;file:///opt/conda/lib/python3.10/site-packages/turftopic/models/keynmf.py\u001b\\\u001b[2mkeynmf.py\u001b[0m\u001b]8;;\u001b\\\u001b[2m:\u001b[0m\u001b]8;id=359487;file:///opt/conda/lib/python3.10/site-packages/turftopic/models/keynmf.py#185\u001b\\\u001b[2m185\u001b[0m\u001b]8;;\u001b\\\n"
      ]
     },
     "metadata": {},
     "output_type": "display_data"
    },
    {
     "data": {
      "text/html": [
       "<pre style=\"white-space:pre;overflow-x:auto;line-height:normal;font-family:Menlo,'DejaVu Sans Mono',consolas,'Courier New',monospace\"></pre>\n"
      ],
      "text/plain": []
     },
     "metadata": {},
     "output_type": "display_data"
    },
    {
     "data": {
      "text/html": [
       "<pre style=\"white-space:pre;overflow-x:auto;line-height:normal;font-family:Menlo,'DejaVu Sans Mono',consolas,'Courier New',monospace\">┏━━━━━━━━━━┳━━━━━━━━━━━━━━━━━━━━━━━━━━━━━━━━━━━━━━━━━━━━━━━━━━━━━━━━━━━━━━━━━━━━━━━━━━━━━━━━━━━━━━━━━━━━━━━━━━━━━━┓\n",
       "┃<span style=\"font-weight: bold\"> Topic ID </span>┃<span style=\"font-weight: bold\"> Highest Ranking                                                                                      </span>┃\n",
       "┡━━━━━━━━━━╇━━━━━━━━━━━━━━━━━━━━━━━━━━━━━━━━━━━━━━━━━━━━━━━━━━━━━━━━━━━━━━━━━━━━━━━━━━━━━━━━━━━━━━━━━━━━━━━━━━━━━━┩\n",
       "│<span style=\"color: #000080; text-decoration-color: #000080\">        0 </span>│<span style=\"color: #800080; text-decoration-color: #800080\"> comey, fbi, rosenstein, trump, investigation, president, clinton, department, attorney, deputy       </span>│\n",
       "├──────────┼──────────────────────────────────────────────────────────────────────────────────────────────────────┤\n",
       "│<span style=\"color: #000080; text-decoration-color: #000080\">        1 </span>│<span style=\"color: #800080; text-decoration-color: #800080\"> republican, republicans, senate, congressional, trump, democrats, president, obama, vote, plan       </span>│\n",
       "├──────────┼──────────────────────────────────────────────────────────────────────────────────────────────────────┤\n",
       "│<span style=\"color: #000080; text-decoration-color: #000080\">        2 </span>│<span style=\"color: #800080; text-decoration-color: #800080\"> trump, russian, president, russia, donald, information, news, russians, officials, ambassador        </span>│\n",
       "├──────────┼──────────────────────────────────────────────────────────────────────────────────────────────────────┤\n",
       "│<span style=\"color: #000080; text-decoration-color: #000080\">        3 </span>│<span style=\"color: #800080; text-decoration-color: #800080\"> clinton, hillary, trump, presidential, donald, election, presidency, cnn, president, 2016            </span>│\n",
       "├──────────┼──────────────────────────────────────────────────────────────────────────────────────────────────────┤\n",
       "│<span style=\"color: #000080; text-decoration-color: #000080\">        4 </span>│<span style=\"color: #800080; text-decoration-color: #800080\"> justice, police, court, charges, attorney, murder, criminal, arrested, law, case                     </span>│\n",
       "├──────────┼──────────────────────────────────────────────────────────────────────────────────────────────────────┤\n",
       "│<span style=\"color: #000080; text-decoration-color: #000080\">        5 </span>│<span style=\"color: #800080; text-decoration-color: #800080\"> voters, political, election, vote, votes, victory, french, candidate, campaign, president            </span>│\n",
       "├──────────┼──────────────────────────────────────────────────────────────────────────────────────────────────────┤\n",
       "│<span style=\"color: #000080; text-decoration-color: #000080\">        6 </span>│<span style=\"color: #800080; text-decoration-color: #800080\"> mother, old, cnn, woman, story, happening, facebook, cut, family, women                              </span>│\n",
       "├──────────┼──────────────────────────────────────────────────────────────────────────────────────────────────────┤\n",
       "│<span style=\"color: #000080; text-decoration-color: #000080\">        7 </span>│<span style=\"color: #800080; text-decoration-color: #800080\"> isis, muslim, trump, attack, terrorism, president, threat, security, military, killed                </span>│\n",
       "├──────────┼──────────────────────────────────────────────────────────────────────────────────────────────────────┤\n",
       "│<span style=\"color: #000080; text-decoration-color: #000080\">        8 </span>│<span style=\"color: #800080; text-decoration-color: #800080\"> investigation, fbi, investigations, collusion, cnn, congress, rosenstein, meddling, senate, campaign </span>│\n",
       "├──────────┼──────────────────────────────────────────────────────────────────────────────────────────────────────┤\n",
       "│<span style=\"color: #000080; text-decoration-color: #000080\">        9 </span>│<span style=\"color: #800080; text-decoration-color: #800080\"> news, fox, incident, said, reporter, reportedly, united, media, told, trump                          </span>│\n",
       "└──────────┴──────────────────────────────────────────────────────────────────────────────────────────────────────┘\n",
       "</pre>\n"
      ],
      "text/plain": [
       "┏━━━━━━━━━━┳━━━━━━━━━━━━━━━━━━━━━━━━━━━━━━━━━━━━━━━━━━━━━━━━━━━━━━━━━━━━━━━━━━━━━━━━━━━━━━━━━━━━━━━━━━━━━━━━━━━━━━┓\n",
       "┃\u001b[1m \u001b[0m\u001b[1mTopic ID\u001b[0m\u001b[1m \u001b[0m┃\u001b[1m \u001b[0m\u001b[1mHighest Ranking                                                                                     \u001b[0m\u001b[1m \u001b[0m┃\n",
       "┡━━━━━━━━━━╇━━━━━━━━━━━━━━━━━━━━━━━━━━━━━━━━━━━━━━━━━━━━━━━━━━━━━━━━━━━━━━━━━━━━━━━━━━━━━━━━━━━━━━━━━━━━━━━━━━━━━━┩\n",
       "│\u001b[34m \u001b[0m\u001b[34m       0\u001b[0m\u001b[34m \u001b[0m│\u001b[35m \u001b[0m\u001b[35mcomey, fbi, rosenstein, trump, investigation, president, clinton, department, attorney, deputy      \u001b[0m\u001b[35m \u001b[0m│\n",
       "├──────────┼──────────────────────────────────────────────────────────────────────────────────────────────────────┤\n",
       "│\u001b[34m \u001b[0m\u001b[34m       1\u001b[0m\u001b[34m \u001b[0m│\u001b[35m \u001b[0m\u001b[35mrepublican, republicans, senate, congressional, trump, democrats, president, obama, vote, plan      \u001b[0m\u001b[35m \u001b[0m│\n",
       "├──────────┼──────────────────────────────────────────────────────────────────────────────────────────────────────┤\n",
       "│\u001b[34m \u001b[0m\u001b[34m       2\u001b[0m\u001b[34m \u001b[0m│\u001b[35m \u001b[0m\u001b[35mtrump, russian, president, russia, donald, information, news, russians, officials, ambassador       \u001b[0m\u001b[35m \u001b[0m│\n",
       "├──────────┼──────────────────────────────────────────────────────────────────────────────────────────────────────┤\n",
       "│\u001b[34m \u001b[0m\u001b[34m       3\u001b[0m\u001b[34m \u001b[0m│\u001b[35m \u001b[0m\u001b[35mclinton, hillary, trump, presidential, donald, election, presidency, cnn, president, 2016           \u001b[0m\u001b[35m \u001b[0m│\n",
       "├──────────┼──────────────────────────────────────────────────────────────────────────────────────────────────────┤\n",
       "│\u001b[34m \u001b[0m\u001b[34m       4\u001b[0m\u001b[34m \u001b[0m│\u001b[35m \u001b[0m\u001b[35mjustice, police, court, charges, attorney, murder, criminal, arrested, law, case                    \u001b[0m\u001b[35m \u001b[0m│\n",
       "├──────────┼──────────────────────────────────────────────────────────────────────────────────────────────────────┤\n",
       "│\u001b[34m \u001b[0m\u001b[34m       5\u001b[0m\u001b[34m \u001b[0m│\u001b[35m \u001b[0m\u001b[35mvoters, political, election, vote, votes, victory, french, candidate, campaign, president           \u001b[0m\u001b[35m \u001b[0m│\n",
       "├──────────┼──────────────────────────────────────────────────────────────────────────────────────────────────────┤\n",
       "│\u001b[34m \u001b[0m\u001b[34m       6\u001b[0m\u001b[34m \u001b[0m│\u001b[35m \u001b[0m\u001b[35mmother, old, cnn, woman, story, happening, facebook, cut, family, women                             \u001b[0m\u001b[35m \u001b[0m│\n",
       "├──────────┼──────────────────────────────────────────────────────────────────────────────────────────────────────┤\n",
       "│\u001b[34m \u001b[0m\u001b[34m       7\u001b[0m\u001b[34m \u001b[0m│\u001b[35m \u001b[0m\u001b[35misis, muslim, trump, attack, terrorism, president, threat, security, military, killed               \u001b[0m\u001b[35m \u001b[0m│\n",
       "├──────────┼──────────────────────────────────────────────────────────────────────────────────────────────────────┤\n",
       "│\u001b[34m \u001b[0m\u001b[34m       8\u001b[0m\u001b[34m \u001b[0m│\u001b[35m \u001b[0m\u001b[35minvestigation, fbi, investigations, collusion, cnn, congress, rosenstein, meddling, senate, campaign\u001b[0m\u001b[35m \u001b[0m│\n",
       "├──────────┼──────────────────────────────────────────────────────────────────────────────────────────────────────┤\n",
       "│\u001b[34m \u001b[0m\u001b[34m       9\u001b[0m\u001b[34m \u001b[0m│\u001b[35m \u001b[0m\u001b[35mnews, fox, incident, said, reporter, reportedly, united, media, told, trump                         \u001b[0m\u001b[35m \u001b[0m│\n",
       "└──────────┴──────────────────────────────────────────────────────────────────────────────────────────────────────┘\n"
      ]
     },
     "metadata": {},
     "output_type": "display_data"
    }
   ],
   "source": [
    "# KeyNMF - see general topics\n",
    "model = KeyNMF(10).fit(corpus)\n",
    "model.print_topics()"
   ]
  },
  {
   "cell_type": "code",
   "execution_count": 4,
   "id": "a48c6126-29fa-4e2b-9fc0-15551d4a0539",
   "metadata": {},
   "outputs": [
    {
     "data": {
      "application/vnd.jupyter.widget-view+json": {
       "model_id": "",
       "version_major": 2,
       "version_minor": 0
      },
      "text/plain": [
       "Output()"
      ]
     },
     "metadata": {},
     "output_type": "display_data"
    },
    {
     "data": {
      "text/html": [
       "<pre style=\"white-space:pre;overflow-x:auto;line-height:normal;font-family:Menlo,'DejaVu Sans Mono',consolas,'Courier New',monospace\"><span style=\"color: #7fbfbf; text-decoration-color: #7fbfbf\">[13:48:54] </span>Keyword extraction done.                                                                   <a href=\"file:///opt/conda/lib/python3.10/site-packages/turftopic/models/keynmf.py\" target=\"_blank\"><span style=\"color: #7f7f7f; text-decoration-color: #7f7f7f\">keynmf.py</span></a><span style=\"color: #7f7f7f; text-decoration-color: #7f7f7f\">:</span><a href=\"file:///opt/conda/lib/python3.10/site-packages/turftopic/models/keynmf.py#178\" target=\"_blank\"><span style=\"color: #7f7f7f; text-decoration-color: #7f7f7f\">178</span></a>\n",
       "</pre>\n"
      ],
      "text/plain": [
       "\u001b[2;36m[13:48:54]\u001b[0m\u001b[2;36m \u001b[0mKeyword extraction done.                                                                   \u001b]8;id=251716;file:///opt/conda/lib/python3.10/site-packages/turftopic/models/keynmf.py\u001b\\\u001b[2mkeynmf.py\u001b[0m\u001b]8;;\u001b\\\u001b[2m:\u001b[0m\u001b]8;id=259879;file:///opt/conda/lib/python3.10/site-packages/turftopic/models/keynmf.py#178\u001b\\\u001b[2m178\u001b[0m\u001b]8;;\u001b\\\n"
      ]
     },
     "metadata": {},
     "output_type": "display_data"
    },
    {
     "data": {
      "text/html": [
       "<pre style=\"white-space:pre;overflow-x:auto;line-height:normal;font-family:Menlo,'DejaVu Sans Mono',consolas,'Courier New',monospace\"><span style=\"color: #7fbfbf; text-decoration-color: #7fbfbf\">           </span>Model fitting done.                                                                        <a href=\"file:///opt/conda/lib/python3.10/site-packages/turftopic/models/keynmf.py\" target=\"_blank\"><span style=\"color: #7f7f7f; text-decoration-color: #7f7f7f\">keynmf.py</span></a><span style=\"color: #7f7f7f; text-decoration-color: #7f7f7f\">:</span><a href=\"file:///opt/conda/lib/python3.10/site-packages/turftopic/models/keynmf.py#185\" target=\"_blank\"><span style=\"color: #7f7f7f; text-decoration-color: #7f7f7f\">185</span></a>\n",
       "</pre>\n"
      ],
      "text/plain": [
       "\u001b[2;36m          \u001b[0m\u001b[2;36m \u001b[0mModel fitting done.                                                                        \u001b]8;id=59583;file:///opt/conda/lib/python3.10/site-packages/turftopic/models/keynmf.py\u001b\\\u001b[2mkeynmf.py\u001b[0m\u001b]8;;\u001b\\\u001b[2m:\u001b[0m\u001b]8;id=990773;file:///opt/conda/lib/python3.10/site-packages/turftopic/models/keynmf.py#185\u001b\\\u001b[2m185\u001b[0m\u001b]8;;\u001b\\\n"
      ]
     },
     "metadata": {},
     "output_type": "display_data"
    },
    {
     "data": {
      "text/html": [
       "<pre style=\"white-space:pre;overflow-x:auto;line-height:normal;font-family:Menlo,'DejaVu Sans Mono',consolas,'Courier New',monospace\"></pre>\n"
      ],
      "text/plain": []
     },
     "metadata": {},
     "output_type": "display_data"
    },
    {
     "data": {
      "text/html": [
       "<div>\n",
       "<style scoped>\n",
       "    .dataframe tbody tr th:only-of-type {\n",
       "        vertical-align: middle;\n",
       "    }\n",
       "\n",
       "    .dataframe tbody tr th {\n",
       "        vertical-align: top;\n",
       "    }\n",
       "\n",
       "    .dataframe thead th {\n",
       "        text-align: right;\n",
       "    }\n",
       "</style>\n",
       "<table border=\"1\" class=\"dataframe\">\n",
       "  <thead>\n",
       "    <tr style=\"text-align: right;\">\n",
       "      <th></th>\n",
       "      <th>textID</th>\n",
       "      <th>source</th>\n",
       "      <th>0_comey_fbi_rosenstein_trump</th>\n",
       "      <th>1_republican_republicans_senate_congressional</th>\n",
       "      <th>2_trump_russian_president_russia</th>\n",
       "      <th>3_clinton_hillary_trump_presidential</th>\n",
       "      <th>4_justice_police_court_attorney</th>\n",
       "      <th>5_voters_political_election_vote</th>\n",
       "      <th>6_mother_old_cnn_woman</th>\n",
       "      <th>7_isis_muslim_trump_attack</th>\n",
       "      <th>8_investigation_fbi_investigations_collusion</th>\n",
       "      <th>9_news_fox_incident_said</th>\n",
       "    </tr>\n",
       "  </thead>\n",
       "  <tbody>\n",
       "    <tr>\n",
       "      <th>0</th>\n",
       "      <td>18209128</td>\n",
       "      <td>CNN</td>\n",
       "      <td>0.000000</td>\n",
       "      <td>0.000000</td>\n",
       "      <td>0.000000</td>\n",
       "      <td>0.000000</td>\n",
       "      <td>0.000000</td>\n",
       "      <td>0.000000</td>\n",
       "      <td>0.051784</td>\n",
       "      <td>0.259463</td>\n",
       "      <td>0.015050</td>\n",
       "      <td>0.000000</td>\n",
       "    </tr>\n",
       "    <tr>\n",
       "      <th>1</th>\n",
       "      <td>18216117</td>\n",
       "      <td>CNN</td>\n",
       "      <td>0.000000</td>\n",
       "      <td>0.718599</td>\n",
       "      <td>0.000000</td>\n",
       "      <td>0.000000</td>\n",
       "      <td>0.000000</td>\n",
       "      <td>0.037255</td>\n",
       "      <td>0.000000</td>\n",
       "      <td>0.000000</td>\n",
       "      <td>0.000000</td>\n",
       "      <td>0.000000</td>\n",
       "    </tr>\n",
       "    <tr>\n",
       "      <th>2</th>\n",
       "      <td>18229187</td>\n",
       "      <td>CNN</td>\n",
       "      <td>0.000000</td>\n",
       "      <td>0.535653</td>\n",
       "      <td>0.066775</td>\n",
       "      <td>0.000000</td>\n",
       "      <td>0.000000</td>\n",
       "      <td>0.150818</td>\n",
       "      <td>0.033271</td>\n",
       "      <td>0.006932</td>\n",
       "      <td>0.000000</td>\n",
       "      <td>0.000000</td>\n",
       "    </tr>\n",
       "    <tr>\n",
       "      <th>3</th>\n",
       "      <td>18232148</td>\n",
       "      <td>CNN</td>\n",
       "      <td>0.000000</td>\n",
       "      <td>0.000000</td>\n",
       "      <td>0.000000</td>\n",
       "      <td>0.000487</td>\n",
       "      <td>0.007192</td>\n",
       "      <td>0.003474</td>\n",
       "      <td>0.076738</td>\n",
       "      <td>0.008113</td>\n",
       "      <td>0.007018</td>\n",
       "      <td>0.006639</td>\n",
       "    </tr>\n",
       "    <tr>\n",
       "      <th>4</th>\n",
       "      <td>18232776</td>\n",
       "      <td>CNN</td>\n",
       "      <td>0.005116</td>\n",
       "      <td>0.000000</td>\n",
       "      <td>0.022351</td>\n",
       "      <td>0.523514</td>\n",
       "      <td>0.000000</td>\n",
       "      <td>0.138590</td>\n",
       "      <td>0.000000</td>\n",
       "      <td>0.000000</td>\n",
       "      <td>0.038148</td>\n",
       "      <td>0.000000</td>\n",
       "    </tr>\n",
       "    <tr>\n",
       "      <th>...</th>\n",
       "      <td>...</td>\n",
       "      <td>...</td>\n",
       "      <td>...</td>\n",
       "      <td>...</td>\n",
       "      <td>...</td>\n",
       "      <td>...</td>\n",
       "      <td>...</td>\n",
       "      <td>...</td>\n",
       "      <td>...</td>\n",
       "      <td>...</td>\n",
       "      <td>...</td>\n",
       "      <td>...</td>\n",
       "    </tr>\n",
       "    <tr>\n",
       "      <th>140</th>\n",
       "      <td>18700902</td>\n",
       "      <td>Fox News</td>\n",
       "      <td>0.027390</td>\n",
       "      <td>0.065933</td>\n",
       "      <td>0.067314</td>\n",
       "      <td>0.000000</td>\n",
       "      <td>0.000000</td>\n",
       "      <td>0.003599</td>\n",
       "      <td>0.000000</td>\n",
       "      <td>0.051983</td>\n",
       "      <td>0.000000</td>\n",
       "      <td>0.155710</td>\n",
       "    </tr>\n",
       "    <tr>\n",
       "      <th>141</th>\n",
       "      <td>18702549</td>\n",
       "      <td>Fox News</td>\n",
       "      <td>0.000000</td>\n",
       "      <td>0.000000</td>\n",
       "      <td>0.000000</td>\n",
       "      <td>0.000000</td>\n",
       "      <td>0.000000</td>\n",
       "      <td>0.011685</td>\n",
       "      <td>0.065334</td>\n",
       "      <td>0.042437</td>\n",
       "      <td>0.000000</td>\n",
       "      <td>0.022023</td>\n",
       "    </tr>\n",
       "    <tr>\n",
       "      <th>142</th>\n",
       "      <td>18709258</td>\n",
       "      <td>Fox News</td>\n",
       "      <td>0.000000</td>\n",
       "      <td>0.000000</td>\n",
       "      <td>0.000000</td>\n",
       "      <td>0.582326</td>\n",
       "      <td>0.000000</td>\n",
       "      <td>0.008228</td>\n",
       "      <td>0.006665</td>\n",
       "      <td>0.020750</td>\n",
       "      <td>0.000000</td>\n",
       "      <td>0.000000</td>\n",
       "    </tr>\n",
       "    <tr>\n",
       "      <th>143</th>\n",
       "      <td>18711656</td>\n",
       "      <td>Fox News</td>\n",
       "      <td>0.039061</td>\n",
       "      <td>0.000000</td>\n",
       "      <td>0.233370</td>\n",
       "      <td>0.000000</td>\n",
       "      <td>0.035018</td>\n",
       "      <td>0.017661</td>\n",
       "      <td>0.000000</td>\n",
       "      <td>0.000000</td>\n",
       "      <td>0.191309</td>\n",
       "      <td>0.007800</td>\n",
       "    </tr>\n",
       "    <tr>\n",
       "      <th>144</th>\n",
       "      <td>18731316</td>\n",
       "      <td>Fox News</td>\n",
       "      <td>0.148136</td>\n",
       "      <td>0.073566</td>\n",
       "      <td>0.108364</td>\n",
       "      <td>0.000000</td>\n",
       "      <td>0.000000</td>\n",
       "      <td>0.000000</td>\n",
       "      <td>0.000000</td>\n",
       "      <td>0.000000</td>\n",
       "      <td>0.000000</td>\n",
       "      <td>0.261332</td>\n",
       "    </tr>\n",
       "  </tbody>\n",
       "</table>\n",
       "<p>145 rows × 12 columns</p>\n",
       "</div>"
      ],
      "text/plain": [
       "       textID    source  0_comey_fbi_rosenstein_trump  \\\n",
       "0    18209128       CNN                      0.000000   \n",
       "1    18216117       CNN                      0.000000   \n",
       "2    18229187       CNN                      0.000000   \n",
       "3    18232148       CNN                      0.000000   \n",
       "4    18232776       CNN                      0.005116   \n",
       "..        ...       ...                           ...   \n",
       "140  18700902  Fox News                      0.027390   \n",
       "141  18702549  Fox News                      0.000000   \n",
       "142  18709258  Fox News                      0.000000   \n",
       "143  18711656  Fox News                      0.039061   \n",
       "144  18731316  Fox News                      0.148136   \n",
       "\n",
       "     1_republican_republicans_senate_congressional  \\\n",
       "0                                         0.000000   \n",
       "1                                         0.718599   \n",
       "2                                         0.535653   \n",
       "3                                         0.000000   \n",
       "4                                         0.000000   \n",
       "..                                             ...   \n",
       "140                                       0.065933   \n",
       "141                                       0.000000   \n",
       "142                                       0.000000   \n",
       "143                                       0.000000   \n",
       "144                                       0.073566   \n",
       "\n",
       "     2_trump_russian_president_russia  3_clinton_hillary_trump_presidential  \\\n",
       "0                            0.000000                              0.000000   \n",
       "1                            0.000000                              0.000000   \n",
       "2                            0.066775                              0.000000   \n",
       "3                            0.000000                              0.000487   \n",
       "4                            0.022351                              0.523514   \n",
       "..                                ...                                   ...   \n",
       "140                          0.067314                              0.000000   \n",
       "141                          0.000000                              0.000000   \n",
       "142                          0.000000                              0.582326   \n",
       "143                          0.233370                              0.000000   \n",
       "144                          0.108364                              0.000000   \n",
       "\n",
       "     4_justice_police_court_attorney  5_voters_political_election_vote  \\\n",
       "0                           0.000000                          0.000000   \n",
       "1                           0.000000                          0.037255   \n",
       "2                           0.000000                          0.150818   \n",
       "3                           0.007192                          0.003474   \n",
       "4                           0.000000                          0.138590   \n",
       "..                               ...                               ...   \n",
       "140                         0.000000                          0.003599   \n",
       "141                         0.000000                          0.011685   \n",
       "142                         0.000000                          0.008228   \n",
       "143                         0.035018                          0.017661   \n",
       "144                         0.000000                          0.000000   \n",
       "\n",
       "     6_mother_old_cnn_woman  7_isis_muslim_trump_attack  \\\n",
       "0                  0.051784                    0.259463   \n",
       "1                  0.000000                    0.000000   \n",
       "2                  0.033271                    0.006932   \n",
       "3                  0.076738                    0.008113   \n",
       "4                  0.000000                    0.000000   \n",
       "..                      ...                         ...   \n",
       "140                0.000000                    0.051983   \n",
       "141                0.065334                    0.042437   \n",
       "142                0.006665                    0.020750   \n",
       "143                0.000000                    0.000000   \n",
       "144                0.000000                    0.000000   \n",
       "\n",
       "     8_investigation_fbi_investigations_collusion  9_news_fox_incident_said  \n",
       "0                                        0.015050                  0.000000  \n",
       "1                                        0.000000                  0.000000  \n",
       "2                                        0.000000                  0.000000  \n",
       "3                                        0.007018                  0.006639  \n",
       "4                                        0.038148                  0.000000  \n",
       "..                                            ...                       ...  \n",
       "140                                      0.000000                  0.155710  \n",
       "141                                      0.000000                  0.022023  \n",
       "142                                      0.000000                  0.000000  \n",
       "143                                      0.191309                  0.007800  \n",
       "144                                      0.000000                  0.261332  \n",
       "\n",
       "[145 rows x 12 columns]"
      ]
     },
     "execution_count": 4,
     "metadata": {},
     "output_type": "execute_result"
    }
   ],
   "source": [
    "# KeyNMF - see topic proportions for individual articles\n",
    "\n",
    "# initiate model\n",
    "model = KeyNMF(n_components=10)\n",
    "\n",
    "# make a document topic matrix (this is a NumPy matrix of shape (n_documents, n_topics))\n",
    "document_topic_matrix = model.fit_transform(corpus)\n",
    "\n",
    "# make dataframe with topic proportions for each article\n",
    "topic_features_df = pd.DataFrame(document_topic_matrix, columns=model.topic_names)\n",
    "\n",
    "# add textID as the first column\n",
    "topic_features_df.insert(0, 'textID', CNN_Fox_joined_17_05['textID'].values)\n",
    "\n",
    "# add source as the second column\n",
    "topic_features_df.insert(1, 'source', CNN_Fox_joined_17_05['source'].values)\n",
    "\n",
    "# view dataframe\n",
    "topic_features_df"
   ]
  },
  {
   "cell_type": "markdown",
   "id": "e981a405-c113-49c8-af10-50caab045d33",
   "metadata": {},
   "source": [
    "### Subsetting\n",
    "### CNN"
   ]
  },
  {
   "cell_type": "code",
   "execution_count": 6,
   "id": "ee2a44b1-2a40-4e52-9cf2-09e6ab1f861a",
   "metadata": {},
   "outputs": [
    {
     "name": "stderr",
     "output_type": "stream",
     "text": [
      "/tmp/ipykernel_6766/707651472.py:11: SettingWithCopyWarning: \n",
      "A value is trying to be set on a copy of a slice from a DataFrame.\n",
      "Try using .loc[row_indexer,col_indexer] = value instead\n",
      "\n",
      "See the caveats in the documentation: https://pandas.pydata.org/pandas-docs/stable/user_guide/indexing.html#returning-a-view-versus-a-copy\n",
      "  CNN_only_df[\"body\"] = CNN_only_df[\"body\"].str.replace(\"CENSOREDfrfrfr\", \"\", regex=False)\n"
     ]
    },
    {
     "data": {
      "text/plain": [
       "74"
      ]
     },
     "execution_count": 6,
     "metadata": {},
     "output_type": "execute_result"
    }
   ],
   "source": [
    "# only include CNN\n",
    "\n",
    "# read csv\n",
    "file_path = \"/work/Bachelor/sample_data/dropbox/joined_dataframe/CNN_Fox_joined_17_05.csv\"\n",
    "CNN_Fox_joined_17_05 = pd.read_csv(file_path)\n",
    "\n",
    "# Filter the DataFrame to include only rows where 'source' is 'CNN'\n",
    "CNN_only_df = CNN_Fox_joined_17_05[CNN_Fox_joined_17_05[\"source\"] == \"CNN\"]\n",
    "\n",
    "# removing the words coded as censored\n",
    "CNN_only_df[\"body\"] = CNN_only_df[\"body\"].str.replace(\"CENSOREDfrfrfr\", \"\", regex=False)\n",
    "\n",
    "# make articles into lists \n",
    "corpus = CNN_only_df[\"body\"].tolist()\n",
    "\n",
    "# inspect data\n",
    "#corpus\n",
    "\n",
    "# check data type\n",
    "#type(corpus)\n",
    "\n",
    "# check length\n",
    "len(corpus)\n"
   ]
  },
  {
   "cell_type": "code",
   "execution_count": 7,
   "id": "f0290811-c283-475f-a093-56712dc484b1",
   "metadata": {},
   "outputs": [
    {
     "data": {
      "application/vnd.jupyter.widget-view+json": {
       "model_id": "",
       "version_major": 2,
       "version_minor": 0
      },
      "text/plain": [
       "Output()"
      ]
     },
     "metadata": {},
     "output_type": "display_data"
    },
    {
     "data": {
      "text/html": [
       "<pre style=\"white-space:pre;overflow-x:auto;line-height:normal;font-family:Menlo,'DejaVu Sans Mono',consolas,'Courier New',monospace\"><span style=\"color: #7fbfbf; text-decoration-color: #7fbfbf\">[14:02:26] </span>Keyword extraction done.                                                                   <a href=\"file:///opt/conda/lib/python3.10/site-packages/turftopic/models/keynmf.py\" target=\"_blank\"><span style=\"color: #7f7f7f; text-decoration-color: #7f7f7f\">keynmf.py</span></a><span style=\"color: #7f7f7f; text-decoration-color: #7f7f7f\">:</span><a href=\"file:///opt/conda/lib/python3.10/site-packages/turftopic/models/keynmf.py#178\" target=\"_blank\"><span style=\"color: #7f7f7f; text-decoration-color: #7f7f7f\">178</span></a>\n",
       "</pre>\n"
      ],
      "text/plain": [
       "\u001b[2;36m[14:02:26]\u001b[0m\u001b[2;36m \u001b[0mKeyword extraction done.                                                                   \u001b]8;id=5162;file:///opt/conda/lib/python3.10/site-packages/turftopic/models/keynmf.py\u001b\\\u001b[2mkeynmf.py\u001b[0m\u001b]8;;\u001b\\\u001b[2m:\u001b[0m\u001b]8;id=679560;file:///opt/conda/lib/python3.10/site-packages/turftopic/models/keynmf.py#178\u001b\\\u001b[2m178\u001b[0m\u001b]8;;\u001b\\\n"
      ]
     },
     "metadata": {},
     "output_type": "display_data"
    },
    {
     "data": {
      "text/html": [
       "<pre style=\"white-space:pre;overflow-x:auto;line-height:normal;font-family:Menlo,'DejaVu Sans Mono',consolas,'Courier New',monospace\"><span style=\"color: #7fbfbf; text-decoration-color: #7fbfbf\">           </span>Model fitting done.                                                                        <a href=\"file:///opt/conda/lib/python3.10/site-packages/turftopic/models/keynmf.py\" target=\"_blank\"><span style=\"color: #7f7f7f; text-decoration-color: #7f7f7f\">keynmf.py</span></a><span style=\"color: #7f7f7f; text-decoration-color: #7f7f7f\">:</span><a href=\"file:///opt/conda/lib/python3.10/site-packages/turftopic/models/keynmf.py#185\" target=\"_blank\"><span style=\"color: #7f7f7f; text-decoration-color: #7f7f7f\">185</span></a>\n",
       "</pre>\n"
      ],
      "text/plain": [
       "\u001b[2;36m          \u001b[0m\u001b[2;36m \u001b[0mModel fitting done.                                                                        \u001b]8;id=670194;file:///opt/conda/lib/python3.10/site-packages/turftopic/models/keynmf.py\u001b\\\u001b[2mkeynmf.py\u001b[0m\u001b]8;;\u001b\\\u001b[2m:\u001b[0m\u001b]8;id=261575;file:///opt/conda/lib/python3.10/site-packages/turftopic/models/keynmf.py#185\u001b\\\u001b[2m185\u001b[0m\u001b]8;;\u001b\\\n"
      ]
     },
     "metadata": {},
     "output_type": "display_data"
    },
    {
     "data": {
      "text/html": [
       "<pre style=\"white-space:pre;overflow-x:auto;line-height:normal;font-family:Menlo,'DejaVu Sans Mono',consolas,'Courier New',monospace\"></pre>\n"
      ],
      "text/plain": []
     },
     "metadata": {},
     "output_type": "display_data"
    },
    {
     "data": {
      "text/html": [
       "<pre style=\"white-space:pre;overflow-x:auto;line-height:normal;font-family:Menlo,'DejaVu Sans Mono',consolas,'Courier New',monospace\">┏━━━━━━━━━━┳━━━━━━━━━━━━━━━━━━━━━━━━━━━━━━━━━━━━━━━━━━━━━━━━━━━━━━━━━━━━━━━━━━━━━━━━━━━━━━━━━━━━━━━━━━━━━━━━━━━━━━┓\n",
       "┃<span style=\"font-weight: bold\"> Topic ID </span>┃<span style=\"font-weight: bold\"> Highest Ranking                                                                                      </span>┃\n",
       "┡━━━━━━━━━━╇━━━━━━━━━━━━━━━━━━━━━━━━━━━━━━━━━━━━━━━━━━━━━━━━━━━━━━━━━━━━━━━━━━━━━━━━━━━━━━━━━━━━━━━━━━━━━━━━━━━━━━┩\n",
       "│<span style=\"color: #000080; text-decoration-color: #000080\">        0 </span>│<span style=\"color: #800080; text-decoration-color: #800080\"> fbi, investigation, comey, firing, trump, department, cnn, congress, attorney, senate                </span>│\n",
       "├──────────┼──────────────────────────────────────────────────────────────────────────────────────────────────────┤\n",
       "│<span style=\"color: #000080; text-decoration-color: #000080\">        1 </span>│<span style=\"color: #800080; text-decoration-color: #800080\"> congressional, republican, republicans, senate, democrats, votes, vote, trump, president, committee  </span>│\n",
       "├──────────┼──────────────────────────────────────────────────────────────────────────────────────────────────────┤\n",
       "│<span style=\"color: #000080; text-decoration-color: #000080\">        2 </span>│<span style=\"color: #800080; text-decoration-color: #800080\"> obama, president, trump, presidency, cnn, donald, washington, democrats, republicans, administration </span>│\n",
       "├──────────┼──────────────────────────────────────────────────────────────────────────────────────────────────────┤\n",
       "│<span style=\"color: #000080; text-decoration-color: #000080\">        3 </span>│<span style=\"color: #800080; text-decoration-color: #800080\"> clinton, hillary, election, presidential, comey, 2016, fbi, campaign, russian, trump                 </span>│\n",
       "├──────────┼──────────────────────────────────────────────────────────────────────────────────────────────────────┤\n",
       "│<span style=\"color: #000080; text-decoration-color: #000080\">        4 </span>│<span style=\"color: #800080; text-decoration-color: #800080\"> justice, court, police, case, attorney, charges, law, said, reporters, security                      </span>│\n",
       "├──────────┼──────────────────────────────────────────────────────────────────────────────────────────────────────┤\n",
       "│<span style=\"color: #000080; text-decoration-color: #000080\">        5 </span>│<span style=\"color: #800080; text-decoration-color: #800080\"> mother, woman, family, story, women, case, happening, old, father, care                              </span>│\n",
       "├──────────┼──────────────────────────────────────────────────────────────────────────────────────────────────────┤\n",
       "│<span style=\"color: #000080; text-decoration-color: #000080\">        6 </span>│<span style=\"color: #800080; text-decoration-color: #800080\"> cnn, city, place, world, area, seen, washington, happening, facebook, house                          </span>│\n",
       "├──────────┼──────────────────────────────────────────────────────────────────────────────────────────────────────┤\n",
       "│<span style=\"color: #000080; text-decoration-color: #000080\">        7 </span>│<span style=\"color: #800080; text-decoration-color: #800080\"> election, political, vote, votes, victory, minister, presidential, democratic, campaign, president   </span>│\n",
       "├──────────┼──────────────────────────────────────────────────────────────────────────────────────────────────────┤\n",
       "│<span style=\"color: #000080; text-decoration-color: #000080\">        8 </span>│<span style=\"color: #800080; text-decoration-color: #800080\"> trump, donald, news, russian, cnn, information, russia, president, officials, media                  </span>│\n",
       "├──────────┼──────────────────────────────────────────────────────────────────────────────────────────────────────┤\n",
       "│<span style=\"color: #000080; text-decoration-color: #000080\">        9 </span>│<span style=\"color: #800080; text-decoration-color: #800080\"> senior, president, old, secretary, years, year, 2017, 2016, decades, director                        </span>│\n",
       "└──────────┴──────────────────────────────────────────────────────────────────────────────────────────────────────┘\n",
       "</pre>\n"
      ],
      "text/plain": [
       "┏━━━━━━━━━━┳━━━━━━━━━━━━━━━━━━━━━━━━━━━━━━━━━━━━━━━━━━━━━━━━━━━━━━━━━━━━━━━━━━━━━━━━━━━━━━━━━━━━━━━━━━━━━━━━━━━━━━┓\n",
       "┃\u001b[1m \u001b[0m\u001b[1mTopic ID\u001b[0m\u001b[1m \u001b[0m┃\u001b[1m \u001b[0m\u001b[1mHighest Ranking                                                                                     \u001b[0m\u001b[1m \u001b[0m┃\n",
       "┡━━━━━━━━━━╇━━━━━━━━━━━━━━━━━━━━━━━━━━━━━━━━━━━━━━━━━━━━━━━━━━━━━━━━━━━━━━━━━━━━━━━━━━━━━━━━━━━━━━━━━━━━━━━━━━━━━━┩\n",
       "│\u001b[34m \u001b[0m\u001b[34m       0\u001b[0m\u001b[34m \u001b[0m│\u001b[35m \u001b[0m\u001b[35mfbi, investigation, comey, firing, trump, department, cnn, congress, attorney, senate               \u001b[0m\u001b[35m \u001b[0m│\n",
       "├──────────┼──────────────────────────────────────────────────────────────────────────────────────────────────────┤\n",
       "│\u001b[34m \u001b[0m\u001b[34m       1\u001b[0m\u001b[34m \u001b[0m│\u001b[35m \u001b[0m\u001b[35mcongressional, republican, republicans, senate, democrats, votes, vote, trump, president, committee \u001b[0m\u001b[35m \u001b[0m│\n",
       "├──────────┼──────────────────────────────────────────────────────────────────────────────────────────────────────┤\n",
       "│\u001b[34m \u001b[0m\u001b[34m       2\u001b[0m\u001b[34m \u001b[0m│\u001b[35m \u001b[0m\u001b[35mobama, president, trump, presidency, cnn, donald, washington, democrats, republicans, administration\u001b[0m\u001b[35m \u001b[0m│\n",
       "├──────────┼──────────────────────────────────────────────────────────────────────────────────────────────────────┤\n",
       "│\u001b[34m \u001b[0m\u001b[34m       3\u001b[0m\u001b[34m \u001b[0m│\u001b[35m \u001b[0m\u001b[35mclinton, hillary, election, presidential, comey, 2016, fbi, campaign, russian, trump                \u001b[0m\u001b[35m \u001b[0m│\n",
       "├──────────┼──────────────────────────────────────────────────────────────────────────────────────────────────────┤\n",
       "│\u001b[34m \u001b[0m\u001b[34m       4\u001b[0m\u001b[34m \u001b[0m│\u001b[35m \u001b[0m\u001b[35mjustice, court, police, case, attorney, charges, law, said, reporters, security                     \u001b[0m\u001b[35m \u001b[0m│\n",
       "├──────────┼──────────────────────────────────────────────────────────────────────────────────────────────────────┤\n",
       "│\u001b[34m \u001b[0m\u001b[34m       5\u001b[0m\u001b[34m \u001b[0m│\u001b[35m \u001b[0m\u001b[35mmother, woman, family, story, women, case, happening, old, father, care                             \u001b[0m\u001b[35m \u001b[0m│\n",
       "├──────────┼──────────────────────────────────────────────────────────────────────────────────────────────────────┤\n",
       "│\u001b[34m \u001b[0m\u001b[34m       6\u001b[0m\u001b[34m \u001b[0m│\u001b[35m \u001b[0m\u001b[35mcnn, city, place, world, area, seen, washington, happening, facebook, house                         \u001b[0m\u001b[35m \u001b[0m│\n",
       "├──────────┼──────────────────────────────────────────────────────────────────────────────────────────────────────┤\n",
       "│\u001b[34m \u001b[0m\u001b[34m       7\u001b[0m\u001b[34m \u001b[0m│\u001b[35m \u001b[0m\u001b[35melection, political, vote, votes, victory, minister, presidential, democratic, campaign, president  \u001b[0m\u001b[35m \u001b[0m│\n",
       "├──────────┼──────────────────────────────────────────────────────────────────────────────────────────────────────┤\n",
       "│\u001b[34m \u001b[0m\u001b[34m       8\u001b[0m\u001b[34m \u001b[0m│\u001b[35m \u001b[0m\u001b[35mtrump, donald, news, russian, cnn, information, russia, president, officials, media                 \u001b[0m\u001b[35m \u001b[0m│\n",
       "├──────────┼──────────────────────────────────────────────────────────────────────────────────────────────────────┤\n",
       "│\u001b[34m \u001b[0m\u001b[34m       9\u001b[0m\u001b[34m \u001b[0m│\u001b[35m \u001b[0m\u001b[35msenior, president, old, secretary, years, year, 2017, 2016, decades, director                       \u001b[0m\u001b[35m \u001b[0m│\n",
       "└──────────┴──────────────────────────────────────────────────────────────────────────────────────────────────────┘\n"
      ]
     },
     "metadata": {},
     "output_type": "display_data"
    }
   ],
   "source": [
    "# KeyNMF - see general topics for CNN\n",
    "model = KeyNMF(10).fit(corpus)\n",
    "model.print_topics()"
   ]
  },
  {
   "cell_type": "markdown",
   "id": "9e532fad-23cf-4a3d-8061-533681fe7a14",
   "metadata": {},
   "source": [
    "### Fox News"
   ]
  },
  {
   "cell_type": "code",
   "execution_count": 9,
   "id": "b4b14209-b06c-4ee9-9e9f-03dc4c96804e",
   "metadata": {},
   "outputs": [
    {
     "name": "stderr",
     "output_type": "stream",
     "text": [
      "/tmp/ipykernel_6766/1933235215.py:11: SettingWithCopyWarning: \n",
      "A value is trying to be set on a copy of a slice from a DataFrame.\n",
      "Try using .loc[row_indexer,col_indexer] = value instead\n",
      "\n",
      "See the caveats in the documentation: https://pandas.pydata.org/pandas-docs/stable/user_guide/indexing.html#returning-a-view-versus-a-copy\n",
      "  Fox_only_df[\"body\"] = Fox_only_df[\"body\"].str.replace(\"CENSOREDfrfrfr\", \"\", regex=False)\n"
     ]
    },
    {
     "data": {
      "text/plain": [
       "71"
      ]
     },
     "execution_count": 9,
     "metadata": {},
     "output_type": "execute_result"
    }
   ],
   "source": [
    "# only include Fox News\n",
    "\n",
    "# read csv\n",
    "file_path = \"/work/Bachelor/sample_data/dropbox/joined_dataframe/CNN_Fox_joined_17_05.csv\"\n",
    "CNN_Fox_joined_17_05 = pd.read_csv(file_path)\n",
    "\n",
    "# Filter the DataFrame to include only rows where 'source' is 'CNN'\n",
    "Fox_only_df = CNN_Fox_joined_17_05[CNN_Fox_joined_17_05[\"source\"] == \"Fox News\"]\n",
    "\n",
    "# removing the words coded as censored\n",
    "Fox_only_df[\"body\"] = Fox_only_df[\"body\"].str.replace(\"CENSOREDfrfrfr\", \"\", regex=False)\n",
    "\n",
    "# make articles into lists \n",
    "corpus = Fox_only_df[\"body\"].tolist()\n",
    "\n",
    "# inspect data\n",
    "#corpus\n",
    "\n",
    "# check data type\n",
    "#type(corpus)\n",
    "\n",
    "# check length\n",
    "len(corpus)\n"
   ]
  },
  {
   "cell_type": "code",
   "execution_count": 10,
   "id": "6978e33f-544a-43fc-9add-1de20e949ec6",
   "metadata": {},
   "outputs": [
    {
     "data": {
      "application/vnd.jupyter.widget-view+json": {
       "model_id": "",
       "version_major": 2,
       "version_minor": 0
      },
      "text/plain": [
       "Output()"
      ]
     },
     "metadata": {},
     "output_type": "display_data"
    },
    {
     "data": {
      "text/html": [
       "<pre style=\"white-space:pre;overflow-x:auto;line-height:normal;font-family:Menlo,'DejaVu Sans Mono',consolas,'Courier New',monospace\"><span style=\"color: #7fbfbf; text-decoration-color: #7fbfbf\">[14:02:54] </span>Keyword extraction done.                                                                   <a href=\"file:///opt/conda/lib/python3.10/site-packages/turftopic/models/keynmf.py\" target=\"_blank\"><span style=\"color: #7f7f7f; text-decoration-color: #7f7f7f\">keynmf.py</span></a><span style=\"color: #7f7f7f; text-decoration-color: #7f7f7f\">:</span><a href=\"file:///opt/conda/lib/python3.10/site-packages/turftopic/models/keynmf.py#178\" target=\"_blank\"><span style=\"color: #7f7f7f; text-decoration-color: #7f7f7f\">178</span></a>\n",
       "</pre>\n"
      ],
      "text/plain": [
       "\u001b[2;36m[14:02:54]\u001b[0m\u001b[2;36m \u001b[0mKeyword extraction done.                                                                   \u001b]8;id=713745;file:///opt/conda/lib/python3.10/site-packages/turftopic/models/keynmf.py\u001b\\\u001b[2mkeynmf.py\u001b[0m\u001b]8;;\u001b\\\u001b[2m:\u001b[0m\u001b]8;id=10707;file:///opt/conda/lib/python3.10/site-packages/turftopic/models/keynmf.py#178\u001b\\\u001b[2m178\u001b[0m\u001b]8;;\u001b\\\n"
      ]
     },
     "metadata": {},
     "output_type": "display_data"
    },
    {
     "data": {
      "text/html": [
       "<pre style=\"white-space:pre;overflow-x:auto;line-height:normal;font-family:Menlo,'DejaVu Sans Mono',consolas,'Courier New',monospace\">/opt/conda/lib/python3.10/site-packages/sklearn/decomposition/_nmf.py:1759: ConvergenceWarning: Maximum number of \n",
       "iterations 200 reached. Increase it to improve convergence.\n",
       "  warnings.warn(\n",
       "</pre>\n"
      ],
      "text/plain": [
       "/opt/conda/lib/python3.10/site-packages/sklearn/decomposition/_nmf.py:1759: ConvergenceWarning: Maximum number of \n",
       "iterations 200 reached. Increase it to improve convergence.\n",
       "  warnings.warn(\n"
      ]
     },
     "metadata": {},
     "output_type": "display_data"
    },
    {
     "data": {
      "text/html": [
       "<pre style=\"white-space:pre;overflow-x:auto;line-height:normal;font-family:Menlo,'DejaVu Sans Mono',consolas,'Courier New',monospace\"><span style=\"color: #7fbfbf; text-decoration-color: #7fbfbf\">           </span>Model fitting done.                                                                        <a href=\"file:///opt/conda/lib/python3.10/site-packages/turftopic/models/keynmf.py\" target=\"_blank\"><span style=\"color: #7f7f7f; text-decoration-color: #7f7f7f\">keynmf.py</span></a><span style=\"color: #7f7f7f; text-decoration-color: #7f7f7f\">:</span><a href=\"file:///opt/conda/lib/python3.10/site-packages/turftopic/models/keynmf.py#185\" target=\"_blank\"><span style=\"color: #7f7f7f; text-decoration-color: #7f7f7f\">185</span></a>\n",
       "</pre>\n"
      ],
      "text/plain": [
       "\u001b[2;36m          \u001b[0m\u001b[2;36m \u001b[0mModel fitting done.                                                                        \u001b]8;id=283630;file:///opt/conda/lib/python3.10/site-packages/turftopic/models/keynmf.py\u001b\\\u001b[2mkeynmf.py\u001b[0m\u001b]8;;\u001b\\\u001b[2m:\u001b[0m\u001b]8;id=402157;file:///opt/conda/lib/python3.10/site-packages/turftopic/models/keynmf.py#185\u001b\\\u001b[2m185\u001b[0m\u001b]8;;\u001b\\\n"
      ]
     },
     "metadata": {},
     "output_type": "display_data"
    },
    {
     "data": {
      "text/html": [
       "<pre style=\"white-space:pre;overflow-x:auto;line-height:normal;font-family:Menlo,'DejaVu Sans Mono',consolas,'Courier New',monospace\"></pre>\n"
      ],
      "text/plain": []
     },
     "metadata": {},
     "output_type": "display_data"
    },
    {
     "data": {
      "text/html": [
       "<pre style=\"white-space:pre;overflow-x:auto;line-height:normal;font-family:Menlo,'DejaVu Sans Mono',consolas,'Courier New',monospace\">┏━━━━━━━━━━┳━━━━━━━━━━━━━━━━━━━━━━━━━━━━━━━━━━━━━━━━━━━━━━━━━━━━━━━━━━━━━━━━━━━━━━━━━━━━━━━━━━━━━━━━━━━━━━━━━━━━┓\n",
       "┃<span style=\"font-weight: bold\"> Topic ID </span>┃<span style=\"font-weight: bold\"> Highest Ranking                                                                                    </span>┃\n",
       "┡━━━━━━━━━━╇━━━━━━━━━━━━━━━━━━━━━━━━━━━━━━━━━━━━━━━━━━━━━━━━━━━━━━━━━━━━━━━━━━━━━━━━━━━━━━━━━━━━━━━━━━━━━━━━━━━━┩\n",
       "│<span style=\"color: #000080; text-decoration-color: #000080\">        0 </span>│<span style=\"color: #800080; text-decoration-color: #800080\"> fbi, attorney, department, president, trump, director, general, james, presidential, case          </span>│\n",
       "├──────────┼────────────────────────────────────────────────────────────────────────────────────────────────────┤\n",
       "│<span style=\"color: #000080; text-decoration-color: #000080\">        1 </span>│<span style=\"color: #800080; text-decoration-color: #800080\"> incident, police, said, statement, attack, spokesman, public, united, time, just                   </span>│\n",
       "├──────────┼────────────────────────────────────────────────────────────────────────────────────────────────────┤\n",
       "│<span style=\"color: #000080; text-decoration-color: #000080\">        2 </span>│<span style=\"color: #800080; text-decoration-color: #800080\"> trump, president, administration, government, washington, adviser, going, news, foreign, said      </span>│\n",
       "├──────────┼────────────────────────────────────────────────────────────────────────────────────────────────────┤\n",
       "│<span style=\"color: #000080; text-decoration-color: #000080\">        3 </span>│<span style=\"color: #800080; text-decoration-color: #800080\"> russian, russia, presidential, security, reports, information, trump, officials, reported, meeting </span>│\n",
       "├──────────┼────────────────────────────────────────────────────────────────────────────────────────────────────┤\n",
       "│<span style=\"color: #000080; text-decoration-color: #000080\">        4 </span>│<span style=\"color: #800080; text-decoration-color: #800080\"> fox, news, said, told, reportedly, report, 22, tuesday, new, just                                  </span>│\n",
       "├──────────┼────────────────────────────────────────────────────────────────────────────────────────────────────┤\n",
       "│<span style=\"color: #000080; text-decoration-color: #000080\">        5 </span>│<span style=\"color: #800080; text-decoration-color: #800080\"> investigation, fbi, white, news, media, reports, administration, law, official, russian            </span>│\n",
       "├──────────┼────────────────────────────────────────────────────────────────────────────────────────────────────┤\n",
       "│<span style=\"color: #000080; text-decoration-color: #000080\">        6 </span>│<span style=\"color: #800080; text-decoration-color: #800080\"> news, officials, public, police, information, report, york, security, media, department            </span>│\n",
       "├──────────┼────────────────────────────────────────────────────────────────────────────────────────────────────┤\n",
       "│<span style=\"color: #000080; text-decoration-color: #000080\">        7 </span>│<span style=\"color: #800080; text-decoration-color: #800080\"> attack, reportedly, killed, military, people, friday, reported, 10, said, nation                   </span>│\n",
       "├──────────┼────────────────────────────────────────────────────────────────────────────────────────────────────┤\n",
       "│<span style=\"color: #000080; text-decoration-color: #000080\">        8 </span>│<span style=\"color: #800080; text-decoration-color: #800080\"> congress, republican, trump, president, said, make, america, end, law, left                        </span>│\n",
       "├──────────┼────────────────────────────────────────────────────────────────────────────────────────────────────┤\n",
       "│<span style=\"color: #000080; text-decoration-color: #000080\">        9 </span>│<span style=\"color: #800080; text-decoration-color: #800080\"> media, house, day, state, republican, just, called, said, way, years                               </span>│\n",
       "└──────────┴────────────────────────────────────────────────────────────────────────────────────────────────────┘\n",
       "</pre>\n"
      ],
      "text/plain": [
       "┏━━━━━━━━━━┳━━━━━━━━━━━━━━━━━━━━━━━━━━━━━━━━━━━━━━━━━━━━━━━━━━━━━━━━━━━━━━━━━━━━━━━━━━━━━━━━━━━━━━━━━━━━━━━━━━━━┓\n",
       "┃\u001b[1m \u001b[0m\u001b[1mTopic ID\u001b[0m\u001b[1m \u001b[0m┃\u001b[1m \u001b[0m\u001b[1mHighest Ranking                                                                                   \u001b[0m\u001b[1m \u001b[0m┃\n",
       "┡━━━━━━━━━━╇━━━━━━━━━━━━━━━━━━━━━━━━━━━━━━━━━━━━━━━━━━━━━━━━━━━━━━━━━━━━━━━━━━━━━━━━━━━━━━━━━━━━━━━━━━━━━━━━━━━━┩\n",
       "│\u001b[34m \u001b[0m\u001b[34m       0\u001b[0m\u001b[34m \u001b[0m│\u001b[35m \u001b[0m\u001b[35mfbi, attorney, department, president, trump, director, general, james, presidential, case         \u001b[0m\u001b[35m \u001b[0m│\n",
       "├──────────┼────────────────────────────────────────────────────────────────────────────────────────────────────┤\n",
       "│\u001b[34m \u001b[0m\u001b[34m       1\u001b[0m\u001b[34m \u001b[0m│\u001b[35m \u001b[0m\u001b[35mincident, police, said, statement, attack, spokesman, public, united, time, just                  \u001b[0m\u001b[35m \u001b[0m│\n",
       "├──────────┼────────────────────────────────────────────────────────────────────────────────────────────────────┤\n",
       "│\u001b[34m \u001b[0m\u001b[34m       2\u001b[0m\u001b[34m \u001b[0m│\u001b[35m \u001b[0m\u001b[35mtrump, president, administration, government, washington, adviser, going, news, foreign, said     \u001b[0m\u001b[35m \u001b[0m│\n",
       "├──────────┼────────────────────────────────────────────────────────────────────────────────────────────────────┤\n",
       "│\u001b[34m \u001b[0m\u001b[34m       3\u001b[0m\u001b[34m \u001b[0m│\u001b[35m \u001b[0m\u001b[35mrussian, russia, presidential, security, reports, information, trump, officials, reported, meeting\u001b[0m\u001b[35m \u001b[0m│\n",
       "├──────────┼────────────────────────────────────────────────────────────────────────────────────────────────────┤\n",
       "│\u001b[34m \u001b[0m\u001b[34m       4\u001b[0m\u001b[34m \u001b[0m│\u001b[35m \u001b[0m\u001b[35mfox, news, said, told, reportedly, report, 22, tuesday, new, just                                 \u001b[0m\u001b[35m \u001b[0m│\n",
       "├──────────┼────────────────────────────────────────────────────────────────────────────────────────────────────┤\n",
       "│\u001b[34m \u001b[0m\u001b[34m       5\u001b[0m\u001b[34m \u001b[0m│\u001b[35m \u001b[0m\u001b[35minvestigation, fbi, white, news, media, reports, administration, law, official, russian           \u001b[0m\u001b[35m \u001b[0m│\n",
       "├──────────┼────────────────────────────────────────────────────────────────────────────────────────────────────┤\n",
       "│\u001b[34m \u001b[0m\u001b[34m       6\u001b[0m\u001b[34m \u001b[0m│\u001b[35m \u001b[0m\u001b[35mnews, officials, public, police, information, report, york, security, media, department           \u001b[0m\u001b[35m \u001b[0m│\n",
       "├──────────┼────────────────────────────────────────────────────────────────────────────────────────────────────┤\n",
       "│\u001b[34m \u001b[0m\u001b[34m       7\u001b[0m\u001b[34m \u001b[0m│\u001b[35m \u001b[0m\u001b[35mattack, reportedly, killed, military, people, friday, reported, 10, said, nation                  \u001b[0m\u001b[35m \u001b[0m│\n",
       "├──────────┼────────────────────────────────────────────────────────────────────────────────────────────────────┤\n",
       "│\u001b[34m \u001b[0m\u001b[34m       8\u001b[0m\u001b[34m \u001b[0m│\u001b[35m \u001b[0m\u001b[35mcongress, republican, trump, president, said, make, america, end, law, left                       \u001b[0m\u001b[35m \u001b[0m│\n",
       "├──────────┼────────────────────────────────────────────────────────────────────────────────────────────────────┤\n",
       "│\u001b[34m \u001b[0m\u001b[34m       9\u001b[0m\u001b[34m \u001b[0m│\u001b[35m \u001b[0m\u001b[35mmedia, house, day, state, republican, just, called, said, way, years                              \u001b[0m\u001b[35m \u001b[0m│\n",
       "└──────────┴────────────────────────────────────────────────────────────────────────────────────────────────────┘\n"
      ]
     },
     "metadata": {},
     "output_type": "display_data"
    }
   ],
   "source": [
    "# KeyNMF - see general topics for Fox News\n",
    "model = KeyNMF(10).fit(corpus)\n",
    "model.print_topics()"
   ]
  },
  {
   "cell_type": "markdown",
   "id": "6e7c7f69-cb1a-4cdb-bbd6-5fc94e45be0b",
   "metadata": {},
   "source": [
    "### the hell is this working.. :o"
   ]
  },
  {
   "cell_type": "markdown",
   "id": "41a9ff01-4a1f-4969-8558-5b55bea2e773",
   "metadata": {},
   "source": [
    "## Trying on joined_17_05 - larger dataset"
   ]
  },
  {
   "cell_type": "code",
   "execution_count": 5,
   "id": "28579bdd-a03c-457d-9cee-20e63f88656d",
   "metadata": {},
   "outputs": [
    {
     "data": {
      "text/plain": [
       "26663"
      ]
     },
     "execution_count": 5,
     "metadata": {},
     "output_type": "execute_result"
    }
   ],
   "source": [
    "# read csv\n",
    "file_path = \"/work/Bachelor/sample_data/dropbox/joined_dataframe/joined_17_05.csv\"\n",
    "joined_17_05 = pd.read_csv(file_path)\n",
    "\n",
    "# removing the words coded as censored\n",
    "joined_17_05[\"body\"] = joined_17_05[\"body\"].str.replace(\"CENSOREDfrfrfr\", \"\", regex=False)\n",
    "\n",
    "# make articles into lists \n",
    "corpus = joined_17_05[\"body\"].tolist()\n",
    "\n",
    "# inspect data\n",
    "#corpus\n",
    "\n",
    "# check data type\n",
    "#type(corpus)\n",
    "\n",
    "# check length\n",
    "len(corpus)"
   ]
  },
  {
   "cell_type": "code",
   "execution_count": 6,
   "id": "883e767b-7a5f-4cfc-98f8-79c6a01248f6",
   "metadata": {},
   "outputs": [
    {
     "data": {
      "application/vnd.jupyter.widget-view+json": {
       "model_id": "",
       "version_major": 2,
       "version_minor": 0
      },
      "text/plain": [
       "Output()"
      ]
     },
     "metadata": {},
     "output_type": "display_data"
    },
    {
     "data": {
      "text/html": [
       "<pre style=\"white-space:pre;overflow-x:auto;line-height:normal;font-family:Menlo,'DejaVu Sans Mono',consolas,'Courier New',monospace\"><span style=\"color: #7fbfbf; text-decoration-color: #7fbfbf\">[13:56:36] </span>Keyword extraction done.                                                                   <a href=\"file:///opt/conda/lib/python3.10/site-packages/turftopic/models/keynmf.py\" target=\"_blank\"><span style=\"color: #7f7f7f; text-decoration-color: #7f7f7f\">keynmf.py</span></a><span style=\"color: #7f7f7f; text-decoration-color: #7f7f7f\">:</span><a href=\"file:///opt/conda/lib/python3.10/site-packages/turftopic/models/keynmf.py#178\" target=\"_blank\"><span style=\"color: #7f7f7f; text-decoration-color: #7f7f7f\">178</span></a>\n",
       "</pre>\n"
      ],
      "text/plain": [
       "\u001b[2;36m[13:56:36]\u001b[0m\u001b[2;36m \u001b[0mKeyword extraction done.                                                                   \u001b]8;id=558995;file:///opt/conda/lib/python3.10/site-packages/turftopic/models/keynmf.py\u001b\\\u001b[2mkeynmf.py\u001b[0m\u001b]8;;\u001b\\\u001b[2m:\u001b[0m\u001b]8;id=419409;file:///opt/conda/lib/python3.10/site-packages/turftopic/models/keynmf.py#178\u001b\\\u001b[2m178\u001b[0m\u001b]8;;\u001b\\\n"
      ]
     },
     "metadata": {},
     "output_type": "display_data"
    },
    {
     "data": {
      "text/html": [
       "<pre style=\"white-space:pre;overflow-x:auto;line-height:normal;font-family:Menlo,'DejaVu Sans Mono',consolas,'Courier New',monospace\"><span style=\"color: #7fbfbf; text-decoration-color: #7fbfbf\">[13:56:40] </span>Model fitting done.                                                                        <a href=\"file:///opt/conda/lib/python3.10/site-packages/turftopic/models/keynmf.py\" target=\"_blank\"><span style=\"color: #7f7f7f; text-decoration-color: #7f7f7f\">keynmf.py</span></a><span style=\"color: #7f7f7f; text-decoration-color: #7f7f7f\">:</span><a href=\"file:///opt/conda/lib/python3.10/site-packages/turftopic/models/keynmf.py#185\" target=\"_blank\"><span style=\"color: #7f7f7f; text-decoration-color: #7f7f7f\">185</span></a>\n",
       "</pre>\n"
      ],
      "text/plain": [
       "\u001b[2;36m[13:56:40]\u001b[0m\u001b[2;36m \u001b[0mModel fitting done.                                                                        \u001b]8;id=248563;file:///opt/conda/lib/python3.10/site-packages/turftopic/models/keynmf.py\u001b\\\u001b[2mkeynmf.py\u001b[0m\u001b]8;;\u001b\\\u001b[2m:\u001b[0m\u001b]8;id=37496;file:///opt/conda/lib/python3.10/site-packages/turftopic/models/keynmf.py#185\u001b\\\u001b[2m185\u001b[0m\u001b]8;;\u001b\\\n"
      ]
     },
     "metadata": {},
     "output_type": "display_data"
    },
    {
     "data": {
      "text/html": [
       "<pre style=\"white-space:pre;overflow-x:auto;line-height:normal;font-family:Menlo,'DejaVu Sans Mono',consolas,'Courier New',monospace\"></pre>\n"
      ],
      "text/plain": []
     },
     "metadata": {},
     "output_type": "display_data"
    },
    {
     "data": {
      "text/html": [
       "<pre style=\"white-space:pre;overflow-x:auto;line-height:normal;font-family:Menlo,'DejaVu Sans Mono',consolas,'Courier New',monospace\">┏━━━━━━━━━━┳━━━━━━━━━━━━━━━━━━━━━━━━━━━━━━━━━━━━━━━━━━━━━━━━━━━━━━━━━━━━━━━━━━━━━━━━━━━━━━━━━━━━━━━━━━━━━━━━━━━━━━┓\n",
       "┃<span style=\"font-weight: bold\"> Topic ID </span>┃<span style=\"font-weight: bold\"> Highest Ranking                                                                                      </span>┃\n",
       "┡━━━━━━━━━━╇━━━━━━━━━━━━━━━━━━━━━━━━━━━━━━━━━━━━━━━━━━━━━━━━━━━━━━━━━━━━━━━━━━━━━━━━━━━━━━━━━━━━━━━━━━━━━━━━━━━━━━┩\n",
       "│<span style=\"color: #000080; text-decoration-color: #000080\">        0 </span>│<span style=\"color: #800080; text-decoration-color: #800080\"> court, accused, judge, charges, prosecutors, convicted, arrested, prison, jail, murder               </span>│\n",
       "├──────────┼──────────────────────────────────────────────────────────────────────────────────────────────────────┤\n",
       "│<span style=\"color: #000080; text-decoration-color: #000080\">        1 </span>│<span style=\"color: #800080; text-decoration-color: #800080\"> trump, president, fbi, donald, investigation, comey, presidential, flynn, clinton, fired             </span>│\n",
       "├──────────┼──────────────────────────────────────────────────────────────────────────────────────────────────────┤\n",
       "│<span style=\"color: #000080; text-decoration-color: #000080\">        2 </span>│<span style=\"color: #800080; text-decoration-color: #800080\"> stock, market, shares, investors, earnings, analysts, investment, nasdaq, company, nyse              </span>│\n",
       "├──────────┼──────────────────────────────────────────────────────────────────────────────────────────────────────┤\n",
       "│<span style=\"color: #000080; text-decoration-color: #000080\">        3 </span>│<span style=\"color: #800080; text-decoration-color: #800080\"> inning, innings, baseball, pitch, pitcher, pitching, pitches, hitter, baseman, bullpen               </span>│\n",
       "├──────────┼──────────────────────────────────────────────────────────────────────────────────────────────────────┤\n",
       "│<span style=\"color: #000080; text-decoration-color: #000080\">        4 </span>│<span style=\"color: #800080; text-decoration-color: #800080\"> students, student, school, college, university, schools, campus, education, teacher, teachers        </span>│\n",
       "├──────────┼──────────────────────────────────────────────────────────────────────────────────────────────────────┤\n",
       "│<span style=\"color: #000080; text-decoration-color: #000080\">        5 </span>│<span style=\"color: #800080; text-decoration-color: #800080\"> police, suspect, shooting, officers, incident, arrested, shot, officer, arrest, killed               </span>│\n",
       "├──────────┼──────────────────────────────────────────────────────────────────────────────────────────────────────┤\n",
       "│<span style=\"color: #000080; text-decoration-color: #000080\">        6 </span>│<span style=\"color: #800080; text-decoration-color: #800080\"> nba, celtics, cavaliers, lebron, finals, warriors, playoffs, playoff, cavs, cleveland                </span>│\n",
       "├──────────┼──────────────────────────────────────────────────────────────────────────────────────────────────────┤\n",
       "│<span style=\"color: #000080; text-decoration-color: #000080\">        7 </span>│<span style=\"color: #800080; text-decoration-color: #800080\"> republicans, obamacare, republican, democrats, congressional, election, senate, gop, congress,       </span>│\n",
       "│<span style=\"color: #000080; text-decoration-color: #000080\">          </span>│<span style=\"color: #800080; text-decoration-color: #800080\"> medicaid                                                                                             </span>│\n",
       "├──────────┼──────────────────────────────────────────────────────────────────────────────────────────────────────┤\n",
       "│<span style=\"color: #000080; text-decoration-color: #000080\">        8 </span>│<span style=\"color: #800080; text-decoration-color: #800080\"> weather, rain, storms, winds, thunderstorms, storm, afternoon, forecast, day, temperatures           </span>│\n",
       "├──────────┼──────────────────────────────────────────────────────────────────────────────────────────────────────┤\n",
       "│<span style=\"color: #000080; text-decoration-color: #000080\">        9 </span>│<span style=\"color: #800080; text-decoration-color: #800080\"> news, subscription, newspaper, unlimited, free, sunday, digital, access, subscribers, replica        </span>│\n",
       "└──────────┴──────────────────────────────────────────────────────────────────────────────────────────────────────┘\n",
       "</pre>\n"
      ],
      "text/plain": [
       "┏━━━━━━━━━━┳━━━━━━━━━━━━━━━━━━━━━━━━━━━━━━━━━━━━━━━━━━━━━━━━━━━━━━━━━━━━━━━━━━━━━━━━━━━━━━━━━━━━━━━━━━━━━━━━━━━━━━┓\n",
       "┃\u001b[1m \u001b[0m\u001b[1mTopic ID\u001b[0m\u001b[1m \u001b[0m┃\u001b[1m \u001b[0m\u001b[1mHighest Ranking                                                                                     \u001b[0m\u001b[1m \u001b[0m┃\n",
       "┡━━━━━━━━━━╇━━━━━━━━━━━━━━━━━━━━━━━━━━━━━━━━━━━━━━━━━━━━━━━━━━━━━━━━━━━━━━━━━━━━━━━━━━━━━━━━━━━━━━━━━━━━━━━━━━━━━━┩\n",
       "│\u001b[34m \u001b[0m\u001b[34m       0\u001b[0m\u001b[34m \u001b[0m│\u001b[35m \u001b[0m\u001b[35mcourt, accused, judge, charges, prosecutors, convicted, arrested, prison, jail, murder              \u001b[0m\u001b[35m \u001b[0m│\n",
       "├──────────┼──────────────────────────────────────────────────────────────────────────────────────────────────────┤\n",
       "│\u001b[34m \u001b[0m\u001b[34m       1\u001b[0m\u001b[34m \u001b[0m│\u001b[35m \u001b[0m\u001b[35mtrump, president, fbi, donald, investigation, comey, presidential, flynn, clinton, fired            \u001b[0m\u001b[35m \u001b[0m│\n",
       "├──────────┼──────────────────────────────────────────────────────────────────────────────────────────────────────┤\n",
       "│\u001b[34m \u001b[0m\u001b[34m       2\u001b[0m\u001b[34m \u001b[0m│\u001b[35m \u001b[0m\u001b[35mstock, market, shares, investors, earnings, analysts, investment, nasdaq, company, nyse             \u001b[0m\u001b[35m \u001b[0m│\n",
       "├──────────┼──────────────────────────────────────────────────────────────────────────────────────────────────────┤\n",
       "│\u001b[34m \u001b[0m\u001b[34m       3\u001b[0m\u001b[34m \u001b[0m│\u001b[35m \u001b[0m\u001b[35minning, innings, baseball, pitch, pitcher, pitching, pitches, hitter, baseman, bullpen              \u001b[0m\u001b[35m \u001b[0m│\n",
       "├──────────┼──────────────────────────────────────────────────────────────────────────────────────────────────────┤\n",
       "│\u001b[34m \u001b[0m\u001b[34m       4\u001b[0m\u001b[34m \u001b[0m│\u001b[35m \u001b[0m\u001b[35mstudents, student, school, college, university, schools, campus, education, teacher, teachers       \u001b[0m\u001b[35m \u001b[0m│\n",
       "├──────────┼──────────────────────────────────────────────────────────────────────────────────────────────────────┤\n",
       "│\u001b[34m \u001b[0m\u001b[34m       5\u001b[0m\u001b[34m \u001b[0m│\u001b[35m \u001b[0m\u001b[35mpolice, suspect, shooting, officers, incident, arrested, shot, officer, arrest, killed              \u001b[0m\u001b[35m \u001b[0m│\n",
       "├──────────┼──────────────────────────────────────────────────────────────────────────────────────────────────────┤\n",
       "│\u001b[34m \u001b[0m\u001b[34m       6\u001b[0m\u001b[34m \u001b[0m│\u001b[35m \u001b[0m\u001b[35mnba, celtics, cavaliers, lebron, finals, warriors, playoffs, playoff, cavs, cleveland               \u001b[0m\u001b[35m \u001b[0m│\n",
       "├──────────┼──────────────────────────────────────────────────────────────────────────────────────────────────────┤\n",
       "│\u001b[34m \u001b[0m\u001b[34m       7\u001b[0m\u001b[34m \u001b[0m│\u001b[35m \u001b[0m\u001b[35mrepublicans, obamacare, republican, democrats, congressional, election, senate, gop, congress,      \u001b[0m\u001b[35m \u001b[0m│\n",
       "│\u001b[34m          \u001b[0m│\u001b[35m \u001b[0m\u001b[35mmedicaid                                                                                            \u001b[0m\u001b[35m \u001b[0m│\n",
       "├──────────┼──────────────────────────────────────────────────────────────────────────────────────────────────────┤\n",
       "│\u001b[34m \u001b[0m\u001b[34m       8\u001b[0m\u001b[34m \u001b[0m│\u001b[35m \u001b[0m\u001b[35mweather, rain, storms, winds, thunderstorms, storm, afternoon, forecast, day, temperatures          \u001b[0m\u001b[35m \u001b[0m│\n",
       "├──────────┼──────────────────────────────────────────────────────────────────────────────────────────────────────┤\n",
       "│\u001b[34m \u001b[0m\u001b[34m       9\u001b[0m\u001b[34m \u001b[0m│\u001b[35m \u001b[0m\u001b[35mnews, subscription, newspaper, unlimited, free, sunday, digital, access, subscribers, replica       \u001b[0m\u001b[35m \u001b[0m│\n",
       "└──────────┴──────────────────────────────────────────────────────────────────────────────────────────────────────┘\n"
      ]
     },
     "metadata": {},
     "output_type": "display_data"
    }
   ],
   "source": [
    "# KeyNMF - see general topics\n",
    "model = KeyNMF(10).fit(corpus)\n",
    "model.print_topics()"
   ]
  },
  {
   "cell_type": "code",
   "execution_count": 7,
   "id": "d567c65c-9cc9-4562-8bfe-cb6f18277427",
   "metadata": {},
   "outputs": [
    {
     "data": {
      "application/vnd.jupyter.widget-view+json": {
       "model_id": "",
       "version_major": 2,
       "version_minor": 0
      },
      "text/plain": [
       "Output()"
      ]
     },
     "metadata": {},
     "output_type": "display_data"
    },
    {
     "data": {
      "text/html": [
       "<pre style=\"white-space:pre;overflow-x:auto;line-height:normal;font-family:Menlo,'DejaVu Sans Mono',consolas,'Courier New',monospace\"><span style=\"color: #7fbfbf; text-decoration-color: #7fbfbf\">[14:20:15] </span>Keyword extraction done.                                                                   <a href=\"file:///opt/conda/lib/python3.10/site-packages/turftopic/models/keynmf.py\" target=\"_blank\"><span style=\"color: #7f7f7f; text-decoration-color: #7f7f7f\">keynmf.py</span></a><span style=\"color: #7f7f7f; text-decoration-color: #7f7f7f\">:</span><a href=\"file:///opt/conda/lib/python3.10/site-packages/turftopic/models/keynmf.py#178\" target=\"_blank\"><span style=\"color: #7f7f7f; text-decoration-color: #7f7f7f\">178</span></a>\n",
       "</pre>\n"
      ],
      "text/plain": [
       "\u001b[2;36m[14:20:15]\u001b[0m\u001b[2;36m \u001b[0mKeyword extraction done.                                                                   \u001b]8;id=617204;file:///opt/conda/lib/python3.10/site-packages/turftopic/models/keynmf.py\u001b\\\u001b[2mkeynmf.py\u001b[0m\u001b]8;;\u001b\\\u001b[2m:\u001b[0m\u001b]8;id=973229;file:///opt/conda/lib/python3.10/site-packages/turftopic/models/keynmf.py#178\u001b\\\u001b[2m178\u001b[0m\u001b]8;;\u001b\\\n"
      ]
     },
     "metadata": {},
     "output_type": "display_data"
    },
    {
     "data": {
      "text/html": [
       "<pre style=\"white-space:pre;overflow-x:auto;line-height:normal;font-family:Menlo,'DejaVu Sans Mono',consolas,'Courier New',monospace\"><span style=\"color: #7fbfbf; text-decoration-color: #7fbfbf\">[14:20:19] </span>Model fitting done.                                                                        <a href=\"file:///opt/conda/lib/python3.10/site-packages/turftopic/models/keynmf.py\" target=\"_blank\"><span style=\"color: #7f7f7f; text-decoration-color: #7f7f7f\">keynmf.py</span></a><span style=\"color: #7f7f7f; text-decoration-color: #7f7f7f\">:</span><a href=\"file:///opt/conda/lib/python3.10/site-packages/turftopic/models/keynmf.py#185\" target=\"_blank\"><span style=\"color: #7f7f7f; text-decoration-color: #7f7f7f\">185</span></a>\n",
       "</pre>\n"
      ],
      "text/plain": [
       "\u001b[2;36m[14:20:19]\u001b[0m\u001b[2;36m \u001b[0mModel fitting done.                                                                        \u001b]8;id=274281;file:///opt/conda/lib/python3.10/site-packages/turftopic/models/keynmf.py\u001b\\\u001b[2mkeynmf.py\u001b[0m\u001b]8;;\u001b\\\u001b[2m:\u001b[0m\u001b]8;id=695252;file:///opt/conda/lib/python3.10/site-packages/turftopic/models/keynmf.py#185\u001b\\\u001b[2m185\u001b[0m\u001b]8;;\u001b\\\n"
      ]
     },
     "metadata": {},
     "output_type": "display_data"
    },
    {
     "data": {
      "text/html": [
       "<pre style=\"white-space:pre;overflow-x:auto;line-height:normal;font-family:Menlo,'DejaVu Sans Mono',consolas,'Courier New',monospace\"></pre>\n"
      ],
      "text/plain": []
     },
     "metadata": {},
     "output_type": "display_data"
    },
    {
     "data": {
      "text/html": [
       "<div>\n",
       "<style scoped>\n",
       "    .dataframe tbody tr th:only-of-type {\n",
       "        vertical-align: middle;\n",
       "    }\n",
       "\n",
       "    .dataframe tbody tr th {\n",
       "        vertical-align: top;\n",
       "    }\n",
       "\n",
       "    .dataframe thead th {\n",
       "        text-align: right;\n",
       "    }\n",
       "</style>\n",
       "<table border=\"1\" class=\"dataframe\">\n",
       "  <thead>\n",
       "    <tr style=\"text-align: right;\">\n",
       "      <th></th>\n",
       "      <th>textID</th>\n",
       "      <th>source</th>\n",
       "      <th>0_court_accused_judge_charges</th>\n",
       "      <th>1_trump_president_fbi_donald</th>\n",
       "      <th>2_stock_market_shares_investors</th>\n",
       "      <th>3_inning_innings_baseball_pitch</th>\n",
       "      <th>4_students_student_school_college</th>\n",
       "      <th>5_police_suspect_shooting_officers</th>\n",
       "      <th>6_nba_celtics_cavaliers_lebron</th>\n",
       "      <th>7_republicans_obamacare_republican_democrats</th>\n",
       "      <th>8_weather_rain_storms_winds</th>\n",
       "      <th>9_news_subscription_newspaper_unlimited</th>\n",
       "    </tr>\n",
       "  </thead>\n",
       "  <tbody>\n",
       "    <tr>\n",
       "      <th>0</th>\n",
       "      <td>18207168</td>\n",
       "      <td>Huffington Post</td>\n",
       "      <td>0.002518</td>\n",
       "      <td>0.000000</td>\n",
       "      <td>0.000000</td>\n",
       "      <td>0.000000</td>\n",
       "      <td>0.015067</td>\n",
       "      <td>0.004430</td>\n",
       "      <td>0.000000</td>\n",
       "      <td>0.000214</td>\n",
       "      <td>0.000584</td>\n",
       "      <td>0.004224</td>\n",
       "    </tr>\n",
       "    <tr>\n",
       "      <th>1</th>\n",
       "      <td>18207169</td>\n",
       "      <td>GoLocalProv</td>\n",
       "      <td>0.000019</td>\n",
       "      <td>0.000000</td>\n",
       "      <td>0.017705</td>\n",
       "      <td>0.000000</td>\n",
       "      <td>0.005113</td>\n",
       "      <td>0.000000</td>\n",
       "      <td>0.000000</td>\n",
       "      <td>0.029184</td>\n",
       "      <td>0.000393</td>\n",
       "      <td>0.001427</td>\n",
       "    </tr>\n",
       "    <tr>\n",
       "      <th>2</th>\n",
       "      <td>18207170</td>\n",
       "      <td>Engadget</td>\n",
       "      <td>0.000198</td>\n",
       "      <td>0.000000</td>\n",
       "      <td>0.001744</td>\n",
       "      <td>0.000000</td>\n",
       "      <td>0.001090</td>\n",
       "      <td>0.000293</td>\n",
       "      <td>0.000108</td>\n",
       "      <td>0.003579</td>\n",
       "      <td>0.001267</td>\n",
       "      <td>0.000944</td>\n",
       "    </tr>\n",
       "    <tr>\n",
       "      <th>3</th>\n",
       "      <td>18207172</td>\n",
       "      <td>Northwest Herald</td>\n",
       "      <td>0.001279</td>\n",
       "      <td>0.000000</td>\n",
       "      <td>0.000145</td>\n",
       "      <td>0.000508</td>\n",
       "      <td>0.042063</td>\n",
       "      <td>0.001489</td>\n",
       "      <td>0.001752</td>\n",
       "      <td>0.000000</td>\n",
       "      <td>0.003597</td>\n",
       "      <td>0.002473</td>\n",
       "    </tr>\n",
       "    <tr>\n",
       "      <th>4</th>\n",
       "      <td>18207174</td>\n",
       "      <td>GoLocalProv</td>\n",
       "      <td>0.000000</td>\n",
       "      <td>0.000000</td>\n",
       "      <td>0.000000</td>\n",
       "      <td>0.000022</td>\n",
       "      <td>0.004733</td>\n",
       "      <td>0.005283</td>\n",
       "      <td>0.000948</td>\n",
       "      <td>0.017291</td>\n",
       "      <td>0.008412</td>\n",
       "      <td>0.002157</td>\n",
       "    </tr>\n",
       "    <tr>\n",
       "      <th>...</th>\n",
       "      <td>...</td>\n",
       "      <td>...</td>\n",
       "      <td>...</td>\n",
       "      <td>...</td>\n",
       "      <td>...</td>\n",
       "      <td>...</td>\n",
       "      <td>...</td>\n",
       "      <td>...</td>\n",
       "      <td>...</td>\n",
       "      <td>...</td>\n",
       "      <td>...</td>\n",
       "      <td>...</td>\n",
       "    </tr>\n",
       "    <tr>\n",
       "      <th>26658</th>\n",
       "      <td>18745486</td>\n",
       "      <td>OCRegister</td>\n",
       "      <td>0.000922</td>\n",
       "      <td>0.000082</td>\n",
       "      <td>0.000000</td>\n",
       "      <td>0.000092</td>\n",
       "      <td>0.001312</td>\n",
       "      <td>0.001493</td>\n",
       "      <td>0.000710</td>\n",
       "      <td>0.000001</td>\n",
       "      <td>0.000771</td>\n",
       "      <td>0.001580</td>\n",
       "    </tr>\n",
       "    <tr>\n",
       "      <th>26659</th>\n",
       "      <td>18745488</td>\n",
       "      <td>fox4kc.com</td>\n",
       "      <td>0.008368</td>\n",
       "      <td>0.000000</td>\n",
       "      <td>0.000000</td>\n",
       "      <td>0.000000</td>\n",
       "      <td>0.006378</td>\n",
       "      <td>0.016021</td>\n",
       "      <td>0.000880</td>\n",
       "      <td>0.000295</td>\n",
       "      <td>0.005502</td>\n",
       "      <td>0.003133</td>\n",
       "    </tr>\n",
       "    <tr>\n",
       "      <th>26660</th>\n",
       "      <td>18745489</td>\n",
       "      <td>FOX 5 Atlanta</td>\n",
       "      <td>0.005059</td>\n",
       "      <td>0.000000</td>\n",
       "      <td>0.000061</td>\n",
       "      <td>0.000436</td>\n",
       "      <td>0.004782</td>\n",
       "      <td>0.003636</td>\n",
       "      <td>0.003747</td>\n",
       "      <td>0.007464</td>\n",
       "      <td>0.008683</td>\n",
       "      <td>0.003813</td>\n",
       "    </tr>\n",
       "    <tr>\n",
       "      <th>26661</th>\n",
       "      <td>18745490</td>\n",
       "      <td>Q13 FOX</td>\n",
       "      <td>0.103999</td>\n",
       "      <td>0.000000</td>\n",
       "      <td>0.000000</td>\n",
       "      <td>0.002099</td>\n",
       "      <td>0.000000</td>\n",
       "      <td>0.031758</td>\n",
       "      <td>0.005454</td>\n",
       "      <td>0.000000</td>\n",
       "      <td>0.000055</td>\n",
       "      <td>0.000000</td>\n",
       "    </tr>\n",
       "    <tr>\n",
       "      <th>26662</th>\n",
       "      <td>18745491</td>\n",
       "      <td>KSFY</td>\n",
       "      <td>0.000965</td>\n",
       "      <td>0.000000</td>\n",
       "      <td>0.000000</td>\n",
       "      <td>0.001402</td>\n",
       "      <td>0.009431</td>\n",
       "      <td>0.004109</td>\n",
       "      <td>0.004396</td>\n",
       "      <td>0.009178</td>\n",
       "      <td>0.012885</td>\n",
       "      <td>0.009908</td>\n",
       "    </tr>\n",
       "  </tbody>\n",
       "</table>\n",
       "<p>26663 rows × 12 columns</p>\n",
       "</div>"
      ],
      "text/plain": [
       "         textID            source  0_court_accused_judge_charges  \\\n",
       "0      18207168   Huffington Post                       0.002518   \n",
       "1      18207169       GoLocalProv                       0.000019   \n",
       "2      18207170          Engadget                       0.000198   \n",
       "3      18207172  Northwest Herald                       0.001279   \n",
       "4      18207174       GoLocalProv                       0.000000   \n",
       "...         ...               ...                            ...   \n",
       "26658  18745486        OCRegister                       0.000922   \n",
       "26659  18745488        fox4kc.com                       0.008368   \n",
       "26660  18745489     FOX 5 Atlanta                       0.005059   \n",
       "26661  18745490           Q13 FOX                       0.103999   \n",
       "26662  18745491              KSFY                       0.000965   \n",
       "\n",
       "       1_trump_president_fbi_donald  2_stock_market_shares_investors  \\\n",
       "0                          0.000000                         0.000000   \n",
       "1                          0.000000                         0.017705   \n",
       "2                          0.000000                         0.001744   \n",
       "3                          0.000000                         0.000145   \n",
       "4                          0.000000                         0.000000   \n",
       "...                             ...                              ...   \n",
       "26658                      0.000082                         0.000000   \n",
       "26659                      0.000000                         0.000000   \n",
       "26660                      0.000000                         0.000061   \n",
       "26661                      0.000000                         0.000000   \n",
       "26662                      0.000000                         0.000000   \n",
       "\n",
       "       3_inning_innings_baseball_pitch  4_students_student_school_college  \\\n",
       "0                             0.000000                           0.015067   \n",
       "1                             0.000000                           0.005113   \n",
       "2                             0.000000                           0.001090   \n",
       "3                             0.000508                           0.042063   \n",
       "4                             0.000022                           0.004733   \n",
       "...                                ...                                ...   \n",
       "26658                         0.000092                           0.001312   \n",
       "26659                         0.000000                           0.006378   \n",
       "26660                         0.000436                           0.004782   \n",
       "26661                         0.002099                           0.000000   \n",
       "26662                         0.001402                           0.009431   \n",
       "\n",
       "       5_police_suspect_shooting_officers  6_nba_celtics_cavaliers_lebron  \\\n",
       "0                                0.004430                        0.000000   \n",
       "1                                0.000000                        0.000000   \n",
       "2                                0.000293                        0.000108   \n",
       "3                                0.001489                        0.001752   \n",
       "4                                0.005283                        0.000948   \n",
       "...                                   ...                             ...   \n",
       "26658                            0.001493                        0.000710   \n",
       "26659                            0.016021                        0.000880   \n",
       "26660                            0.003636                        0.003747   \n",
       "26661                            0.031758                        0.005454   \n",
       "26662                            0.004109                        0.004396   \n",
       "\n",
       "       7_republicans_obamacare_republican_democrats  \\\n",
       "0                                          0.000214   \n",
       "1                                          0.029184   \n",
       "2                                          0.003579   \n",
       "3                                          0.000000   \n",
       "4                                          0.017291   \n",
       "...                                             ...   \n",
       "26658                                      0.000001   \n",
       "26659                                      0.000295   \n",
       "26660                                      0.007464   \n",
       "26661                                      0.000000   \n",
       "26662                                      0.009178   \n",
       "\n",
       "       8_weather_rain_storms_winds  9_news_subscription_newspaper_unlimited  \n",
       "0                         0.000584                                 0.004224  \n",
       "1                         0.000393                                 0.001427  \n",
       "2                         0.001267                                 0.000944  \n",
       "3                         0.003597                                 0.002473  \n",
       "4                         0.008412                                 0.002157  \n",
       "...                            ...                                      ...  \n",
       "26658                     0.000771                                 0.001580  \n",
       "26659                     0.005502                                 0.003133  \n",
       "26660                     0.008683                                 0.003813  \n",
       "26661                     0.000055                                 0.000000  \n",
       "26662                     0.012885                                 0.009908  \n",
       "\n",
       "[26663 rows x 12 columns]"
      ]
     },
     "execution_count": 7,
     "metadata": {},
     "output_type": "execute_result"
    }
   ],
   "source": [
    "# KeyNMF - see topic proportions for individual articles\n",
    "\n",
    "# initiate model\n",
    "model = KeyNMF(n_components=10)\n",
    "\n",
    "# make a document topic matrix (this is a NumPy matrix of shape (n_documents, n_topics))\n",
    "document_topic_matrix = model.fit_transform(corpus)\n",
    "\n",
    "# make dataframe with topic proportions for each article\n",
    "topic_features_df = pd.DataFrame(document_topic_matrix, columns=model.topic_names)\n",
    "\n",
    "# add textID as the first column\n",
    "topic_features_df.insert(0, 'textID', joined_17_05['textID'].values)\n",
    "\n",
    "# add source as the second column\n",
    "topic_features_df.insert(1, 'source', joined_17_05['source'].values)\n",
    "\n",
    "# view dataframe\n",
    "topic_features_df"
   ]
  },
  {
   "cell_type": "markdown",
   "id": "7eda2994-2530-471a-8c84-97a9b90f2a7f",
   "metadata": {},
   "source": [
    "## Prep before running KeyNMF\n",
    "### - evt lemmatize 👩‍🍳 - complex\n",
    "### - evt have it make x topics that it deems makes sense 👩‍🍳 - not sure if KeyNMF can do it\n",
    "### - remove words called 'CENSORED' from 'body' ✔️\n",
    "### - add textIDs in the first column ✔️"
   ]
  },
  {
   "cell_type": "markdown",
   "id": "9f6942c8-4c9e-48dc-9593-083080e58ade",
   "metadata": {},
   "source": [
    "# DYNAMIC TOPIC MODELING"
   ]
  },
  {
   "cell_type": "markdown",
   "id": "596d7ccf-9427-448d-8582-e3db5a49169e",
   "metadata": {},
   "source": [
    "## Trying on CNN_Fox_joined_17_05 - smaller dataset"
   ]
  },
  {
   "cell_type": "code",
   "execution_count": 28,
   "id": "13ec7f10-7cb8-4623-8af5-dc195288c138",
   "metadata": {},
   "outputs": [
    {
     "data": {
      "text/plain": [
       "145"
      ]
     },
     "execution_count": 28,
     "metadata": {},
     "output_type": "execute_result"
    }
   ],
   "source": [
    "# read csv\n",
    "file_path = \"/work/Bachelor/sample_data/dropbox/joined_dataframe/CNN_Fox_joined_17_05.csv\"\n",
    "CNN_Fox_joined_17_05 = pd.read_csv(file_path)\n",
    "\n",
    "# removing the words coded as censored\n",
    "CNN_Fox_joined_17_05[\"body\"] = CNN_Fox_joined_17_05[\"body\"].str.replace(\"CENSOREDfrfrfr\", \"\", regex=False)\n",
    "\n",
    "# make articles into lists\n",
    "corpus = CNN_Fox_joined_17_05[\"body\"].tolist()\n",
    "\n",
    "# convert timestamps to datetime objects\n",
    "CNN_Fox_joined_17_05[\"date\"] = pd.to_datetime(CNN_Fox_joined_17_05[\"date\"], format = \"%y-%m-%d\")\n",
    "\n",
    "# make timestamps (now datetime objects) into lists\n",
    "timestamps = CNN_Fox_joined_17_05[\"date\"].tolist()\n",
    "\n",
    "# inspect data\n",
    "#corpus\n",
    "\n",
    "# check data type\n",
    "#type(corpus)\n",
    "\n",
    "# check length\n",
    "len(corpus)"
   ]
  },
  {
   "cell_type": "code",
   "execution_count": 43,
   "id": "f0a84e37-1d9d-4a3d-a01c-ebcf4b7a369d",
   "metadata": {},
   "outputs": [],
   "source": [
    "# initiate dynamic model\n",
    "model = KeyNMF(5, top_n=6, random_state=42) # top_n must be larger than the first number to run\n",
    "document_topic_matrix = model.fit_transform_dynamic(\n",
    "    corpus, timestamps=timestamps, bins=10\n",
    ")\n"
   ]
  },
  {
   "cell_type": "code",
   "execution_count": 40,
   "id": "edc428a0-946b-4157-83f8-272b3d1bdb23",
   "metadata": {},
   "outputs": [
    {
     "data": {
      "text/html": [
       "<pre style=\"white-space:pre;overflow-x:auto;line-height:normal;font-family:Menlo,'DejaVu Sans Mono',consolas,'Courier New',monospace\">┏━━━━━━━━━━━━━━━━━━┳━━━━━━━━━━━━━━━━━━┳━━━━━━━━━━━━━━━━━━┳━━━━━━━━━━━━━━━━━━┳━━━━━━━━━━━━━━━━━━┳━━━━━━━━━━━━━━━━━━┓\n",
       "┃<span style=\"font-weight: bold\"> Time Slice       </span>┃<span style=\"font-weight: bold\"> 0_fbi_comey_inv… </span>┃<span style=\"font-weight: bold\"> 1_trump_clinton… </span>┃<span style=\"font-weight: bold\"> 2_republican_re… </span>┃<span style=\"font-weight: bold\"> 3_news_investig… </span>┃<span style=\"font-weight: bold\"> 4_isis_muslim_a… </span>┃\n",
       "┡━━━━━━━━━━━━━━━━━━╇━━━━━━━━━━━━━━━━━━╇━━━━━━━━━━━━━━━━━━╇━━━━━━━━━━━━━━━━━━╇━━━━━━━━━━━━━━━━━━╇━━━━━━━━━━━━━━━━━━┩\n",
       "│ 2017 05 01 -     │ fbi, comey,      │ trump, hillary,  │ senate,          │ criminal,        │ isis, terrorism, │\n",
       "│ 2017 05 04       │ clinton,         │ clinton,         │ congressional,   │ justice,         │ cnn, view, west  │\n",
       "│                  │ investigation,   │ president,       │ republicans,     │ arrested,        │                  │\n",
       "│                  │ cnn              │ campaign         │ vote, republican │ incident, police │                  │\n",
       "├──────────────────┼──────────────────┼──────────────────┼──────────────────┼──────────────────┼──────────────────┤\n",
       "│ 2017 05 04 -     │ cnn, washington, │ political,       │ democrats,       │ media, fox,      │ alleged, war,    │\n",
       "│ 2017 05 07       │ care, health,    │ trump, victory,  │ congressional,   │ news, lives,     │ thousands, area, │\n",
       "│                  │ happening        │ party, minister  │ republicans,     │ house            │ hundreds         │\n",
       "│                  │                  │                  │ republican,      │                  │                  │\n",
       "│                  │                  │                  │ voters           │                  │                  │\n",
       "├──────────────────┼──────────────────┼──────────────────┼──────────────────┼──────────────────┼──────────────────┤\n",
       "│ 2017 05 07 -     │ comey, fbi,      │ trump,           │ voters,          │ collusion,       │ muslim, court,   │\n",
       "│ 2017 05 10       │ rosenstein,      │ presidential,    │ election,        │ medical,         │ minister,        │\n",
       "│                  │ investigation,   │ presidency,      │ french, votes,   │ investigation,   │ controversial,   │\n",
       "│                  │ clinton          │ donald, voters   │ democratic       │ health, andrew   │ obama            │\n",
       "├──────────────────┼──────────────────┼──────────────────┼──────────────────┼──────────────────┼──────────────────┤\n",
       "│ 2017 05 10 -     │ fbi, comey,      │ trump, clinton,  │ obama,           │ flight, russian, │ isis, terrorism, │\n",
       "│ 2017 05 13       │ investigation,   │ hillary,         │ republicans,     │ russians,        │ democratic,      │\n",
       "│                  │ rosenstein,      │ candidate, comey │ democrats, cnn,  │ russia, united   │ concerns,        │\n",
       "│                  │ firing           │                  │ republican       │                  │ military         │\n",
       "├──────────────────┼──────────────────┼──────────────────┼──────────────────┼──────────────────┼──────────────────┤\n",
       "│ 2017 05 13 -     │ fbi,             │ trump,           │ rosenstein,      │ news, cnn,       │ isis, muslim,    │\n",
       "│ 2017 05 16       │ investigation,   │ president,       │ presidential,    │ police, donald,  │ president,       │\n",
       "│                  │ fox, federal,    │ donald, cnn,     │ senate, comey,   │ intelligence     │ leaders,         │\n",
       "│                  │ clinton          │ intelligence     │ trump            │                  │ leadership       │\n",
       "├──────────────────┼──────────────────┼──────────────────┼──────────────────┼──────────────────┼──────────────────┤\n",
       "│ 2017 05 16 -     │ fbi,             │ trump, clinton,  │ rosenstein,      │ news, russian,   │ isis, fight,     │\n",
       "│ 2017 05 19       │ investigation,   │ president,       │ senate,          │ russia,          │ incident,        │\n",
       "│                  │ comey,           │ donald, tweet    │ collusion,       │ conversations,   │ terrorism,       │\n",
       "│                  │ investigations,  │                  │ investigations,  │ fox              │ attack           │\n",
       "│                  │ rosenstein       │                  │ investigation    │                  │                  │\n",
       "├──────────────────┼──────────────────┼──────────────────┼──────────────────┼──────────────────┼──────────────────┤\n",
       "│ 2017 05 19 -     │ university,      │ obama,           │ cut,             │ police, murder,  │ muslim, trump,   │\n",
       "│ 2017 05 22       │ college, murder, │ university,      │ republicans,     │ accused,         │ arrested, prime, │\n",
       "│                  │ accused, fbi     │ president,       │ republican,      │ college, fbi     │ likely           │\n",
       "│                  │                  │ politics, social │ congress, policy │                  │                  │\n",
       "├──────────────────┼──────────────────┼──────────────────┼──────────────────┼──────────────────┼──────────────────┤\n",
       "│ 2017 05 22 -     │ news,            │ trump, plan,     │ minister,        │ million,         │ incident,        │\n",
       "│ 2017 05 25       │ investigation,   │ president,       │ moment, event,   │ support, light,  │ threat,          │\n",
       "│                  │ fox, murder,     │ concerns,        │ died, incident   │ lives, live      │ reportedly,      │\n",
       "│                  │ story            │ significant      │                  │                  │ attack, police   │\n",
       "├──────────────────┼──────────────────┼──────────────────┼──────────────────┼──────────────────┼──────────────────┤\n",
       "│ 2017 05 25 -     │ investigation,   │ trump,           │ republican,      │ news, photos,    │ isis, muslim,    │\n",
       "│ 2017 05 28       │ investigations,  │ president,       │ congressional,   │ reportedly,      │ attack, killed,  │\n",
       "│                  │ evidence, media, │ obama, tweet,    │ political,       │ information, fox │ threat           │\n",
       "│                  │ photos           │ speaking         │ politics,        │                  │                  │\n",
       "│                  │                  │                  │ congress         │                  │                  │\n",
       "├──────────────────┼──────────────────┼──────────────────┼──────────────────┼──────────────────┼──────────────────┤\n",
       "│ 2017 05 28 -     │ fbi,             │ clinton, trump,  │ fbi,             │ reporters,       │ isis, defense,   │\n",
       "│ 2017 06 01       │ investigation,   │ hillary,         │ investigation,   │ secretary, news, │ threat, fight,   │\n",
       "│                  │ russian, probe,  │ presidency,      │ russian, probe,  │ reporter,        │ campaign         │\n",
       "│                  │ media            │ presidential     │ media            │ reporting        │                  │\n",
       "└──────────────────┴──────────────────┴──────────────────┴──────────────────┴──────────────────┴──────────────────┘\n",
       "</pre>\n"
      ],
      "text/plain": [
       "┏━━━━━━━━━━━━━━━━━━┳━━━━━━━━━━━━━━━━━━┳━━━━━━━━━━━━━━━━━━┳━━━━━━━━━━━━━━━━━━┳━━━━━━━━━━━━━━━━━━┳━━━━━━━━━━━━━━━━━━┓\n",
       "┃\u001b[1m \u001b[0m\u001b[1mTime Slice      \u001b[0m\u001b[1m \u001b[0m┃\u001b[1m \u001b[0m\u001b[1m0_fbi_comey_inv…\u001b[0m\u001b[1m \u001b[0m┃\u001b[1m \u001b[0m\u001b[1m1_trump_clinton…\u001b[0m\u001b[1m \u001b[0m┃\u001b[1m \u001b[0m\u001b[1m2_republican_re…\u001b[0m\u001b[1m \u001b[0m┃\u001b[1m \u001b[0m\u001b[1m3_news_investig…\u001b[0m\u001b[1m \u001b[0m┃\u001b[1m \u001b[0m\u001b[1m4_isis_muslim_a…\u001b[0m\u001b[1m \u001b[0m┃\n",
       "┡━━━━━━━━━━━━━━━━━━╇━━━━━━━━━━━━━━━━━━╇━━━━━━━━━━━━━━━━━━╇━━━━━━━━━━━━━━━━━━╇━━━━━━━━━━━━━━━━━━╇━━━━━━━━━━━━━━━━━━┩\n",
       "│ 2017 05 01 -     │ fbi, comey,      │ trump, hillary,  │ senate,          │ criminal,        │ isis, terrorism, │\n",
       "│ 2017 05 04       │ clinton,         │ clinton,         │ congressional,   │ justice,         │ cnn, view, west  │\n",
       "│                  │ investigation,   │ president,       │ republicans,     │ arrested,        │                  │\n",
       "│                  │ cnn              │ campaign         │ vote, republican │ incident, police │                  │\n",
       "├──────────────────┼──────────────────┼──────────────────┼──────────────────┼──────────────────┼──────────────────┤\n",
       "│ 2017 05 04 -     │ cnn, washington, │ political,       │ democrats,       │ media, fox,      │ alleged, war,    │\n",
       "│ 2017 05 07       │ care, health,    │ trump, victory,  │ congressional,   │ news, lives,     │ thousands, area, │\n",
       "│                  │ happening        │ party, minister  │ republicans,     │ house            │ hundreds         │\n",
       "│                  │                  │                  │ republican,      │                  │                  │\n",
       "│                  │                  │                  │ voters           │                  │                  │\n",
       "├──────────────────┼──────────────────┼──────────────────┼──────────────────┼──────────────────┼──────────────────┤\n",
       "│ 2017 05 07 -     │ comey, fbi,      │ trump,           │ voters,          │ collusion,       │ muslim, court,   │\n",
       "│ 2017 05 10       │ rosenstein,      │ presidential,    │ election,        │ medical,         │ minister,        │\n",
       "│                  │ investigation,   │ presidency,      │ french, votes,   │ investigation,   │ controversial,   │\n",
       "│                  │ clinton          │ donald, voters   │ democratic       │ health, andrew   │ obama            │\n",
       "├──────────────────┼──────────────────┼──────────────────┼──────────────────┼──────────────────┼──────────────────┤\n",
       "│ 2017 05 10 -     │ fbi, comey,      │ trump, clinton,  │ obama,           │ flight, russian, │ isis, terrorism, │\n",
       "│ 2017 05 13       │ investigation,   │ hillary,         │ republicans,     │ russians,        │ democratic,      │\n",
       "│                  │ rosenstein,      │ candidate, comey │ democrats, cnn,  │ russia, united   │ concerns,        │\n",
       "│                  │ firing           │                  │ republican       │                  │ military         │\n",
       "├──────────────────┼──────────────────┼──────────────────┼──────────────────┼──────────────────┼──────────────────┤\n",
       "│ 2017 05 13 -     │ fbi,             │ trump,           │ rosenstein,      │ news, cnn,       │ isis, muslim,    │\n",
       "│ 2017 05 16       │ investigation,   │ president,       │ presidential,    │ police, donald,  │ president,       │\n",
       "│                  │ fox, federal,    │ donald, cnn,     │ senate, comey,   │ intelligence     │ leaders,         │\n",
       "│                  │ clinton          │ intelligence     │ trump            │                  │ leadership       │\n",
       "├──────────────────┼──────────────────┼──────────────────┼──────────────────┼──────────────────┼──────────────────┤\n",
       "│ 2017 05 16 -     │ fbi,             │ trump, clinton,  │ rosenstein,      │ news, russian,   │ isis, fight,     │\n",
       "│ 2017 05 19       │ investigation,   │ president,       │ senate,          │ russia,          │ incident,        │\n",
       "│                  │ comey,           │ donald, tweet    │ collusion,       │ conversations,   │ terrorism,       │\n",
       "│                  │ investigations,  │                  │ investigations,  │ fox              │ attack           │\n",
       "│                  │ rosenstein       │                  │ investigation    │                  │                  │\n",
       "├──────────────────┼──────────────────┼──────────────────┼──────────────────┼──────────────────┼──────────────────┤\n",
       "│ 2017 05 19 -     │ university,      │ obama,           │ cut,             │ police, murder,  │ muslim, trump,   │\n",
       "│ 2017 05 22       │ college, murder, │ university,      │ republicans,     │ accused,         │ arrested, prime, │\n",
       "│                  │ accused, fbi     │ president,       │ republican,      │ college, fbi     │ likely           │\n",
       "│                  │                  │ politics, social │ congress, policy │                  │                  │\n",
       "├──────────────────┼──────────────────┼──────────────────┼──────────────────┼──────────────────┼──────────────────┤\n",
       "│ 2017 05 22 -     │ news,            │ trump, plan,     │ minister,        │ million,         │ incident,        │\n",
       "│ 2017 05 25       │ investigation,   │ president,       │ moment, event,   │ support, light,  │ threat,          │\n",
       "│                  │ fox, murder,     │ concerns,        │ died, incident   │ lives, live      │ reportedly,      │\n",
       "│                  │ story            │ significant      │                  │                  │ attack, police   │\n",
       "├──────────────────┼──────────────────┼──────────────────┼──────────────────┼──────────────────┼──────────────────┤\n",
       "│ 2017 05 25 -     │ investigation,   │ trump,           │ republican,      │ news, photos,    │ isis, muslim,    │\n",
       "│ 2017 05 28       │ investigations,  │ president,       │ congressional,   │ reportedly,      │ attack, killed,  │\n",
       "│                  │ evidence, media, │ obama, tweet,    │ political,       │ information, fox │ threat           │\n",
       "│                  │ photos           │ speaking         │ politics,        │                  │                  │\n",
       "│                  │                  │                  │ congress         │                  │                  │\n",
       "├──────────────────┼──────────────────┼──────────────────┼──────────────────┼──────────────────┼──────────────────┤\n",
       "│ 2017 05 28 -     │ fbi,             │ clinton, trump,  │ fbi,             │ reporters,       │ isis, defense,   │\n",
       "│ 2017 06 01       │ investigation,   │ hillary,         │ investigation,   │ secretary, news, │ threat, fight,   │\n",
       "│                  │ russian, probe,  │ presidency,      │ russian, probe,  │ reporter,        │ campaign         │\n",
       "│                  │ media            │ presidential     │ media            │ reporting        │                  │\n",
       "└──────────────────┴──────────────────┴──────────────────┴──────────────────┴──────────────────┴──────────────────┘\n"
      ]
     },
     "metadata": {},
     "output_type": "display_data"
    }
   ],
   "source": [
    "# see topics and their keywords over time \n",
    "model.print_topics_over_time()"
   ]
  },
  {
   "cell_type": "code",
   "execution_count": 67,
   "id": "bcdfc8db-4811-4806-9164-b5cf5e7efb10",
   "metadata": {},
   "outputs": [
    {
     "data": {
      "application/vnd.plotly.v1+json": {
       "config": {
        "plotlyServerURL": "https://plot.ly"
       },
       "data": [
        {
         "hovertemplate": "<b>%{text}</b>",
         "line": {
          "width": 3
         },
         "marker": {
          "line": {
           "color": "black",
           "width": 2
          },
          "size": 14
         },
         "mode": "markers+lines",
         "name": "0_trump_president_republican_congress",
         "text": [
          "trump, president, congress, media, washington",
          "republican, trump, president, going, washington",
          "trump, president, adviser, reportedly, foreign",
          "president, officials, trump, chief, attorney",
          "trump, president, government, administration, foreign",
          "reports, trump, president, reportedly, information",
          "president, republican, trump, congress, make",
          "trump, president, russian, official, said",
          "trump, republican, president, house, spokesman",
          "trump, president, presidential, 2016, chief"
         ],
         "type": "scatter",
         "x": [
          "2017-05-01T02:00:00",
          "2017-05-04T02:00:00",
          "2017-05-07T02:00:00",
          "2017-05-10T02:00:00",
          "2017-05-13T02:00:00",
          "2017-05-16T02:00:00",
          "2017-05-19T02:00:00",
          "2017-05-22T02:00:00",
          "2017-05-25T02:00:00",
          "2017-05-28T02:00:00"
         ],
         "y": [
          0.4168491580454091,
          0.3131465422547183,
          0.2947717163004184,
          0.2148295980554209,
          0.226908363435766,
          0.08726365108634306,
          0.48140368325530014,
          0.12227481299730276,
          0.25302448733570715,
          0.30226512460047245
         ]
        },
        {
         "hovertemplate": "<b>%{text}</b>",
         "line": {
          "width": 3
         },
         "marker": {
          "line": {
           "color": "black",
           "width": 2
          },
          "size": 14
         },
         "mode": "markers+lines",
         "name": "1_news_fox_investigation_media",
         "text": [
          "news, 22, fox, trump, just",
          "media, fox, news, house, told",
          "public, state, monday, media, day",
          "news, united, congress, reported, trump",
          "family, news, york, police, investigation",
          "news, fox, family, spokesman, report",
          "case, news, united, said, trump",
          "fox, news, just, think, way",
          "news, information, trump, media, reportedly",
          "news, spokesman, administration, fbi, chief"
         ],
         "type": "scatter",
         "x": [
          "2017-05-01T02:00:00",
          "2017-05-04T02:00:00",
          "2017-05-07T02:00:00",
          "2017-05-10T02:00:00",
          "2017-05-13T02:00:00",
          "2017-05-16T02:00:00",
          "2017-05-19T02:00:00",
          "2017-05-22T02:00:00",
          "2017-05-25T02:00:00",
          "2017-05-28T02:00:00"
         ],
         "y": [
          0.21233078437916914,
          0.3307698232346374,
          0.01866724239484853,
          0.16815424930928502,
          0.1517773061798712,
          0.20150216557631678,
          0.12254419420258349,
          0.28066380101868893,
          0.2744395953182798,
          0.18649329909569548
         ]
        },
        {
         "hovertemplate": "<b>%{text}</b>",
         "line": {
          "width": 3
         },
         "marker": {
          "line": {
           "color": "black",
           "width": 2
          },
          "size": 14
         },
         "mode": "markers+lines",
         "name": "2_fbi_investigation_department_attorney",
         "text": [
          "congress, day, thursday, friday, nation",
          "reportedly, police, foreign, reported, time",
          "fbi, investigation, department, attorney, president",
          "fbi, attorney, presidential, department, trump",
          "fbi, director, trump, investigation, fox",
          "fbi, investigation, trump, department, fox",
          "fbi, police, senior, department, investigation",
          "investigation, news, 22, trump, just",
          "fbi, investigation, congress, media, public",
          "fbi, investigation, russian, media, trump"
         ],
         "type": "scatter",
         "x": [
          "2017-05-01T02:00:00",
          "2017-05-04T02:00:00",
          "2017-05-07T02:00:00",
          "2017-05-10T02:00:00",
          "2017-05-13T02:00:00",
          "2017-05-16T02:00:00",
          "2017-05-19T02:00:00",
          "2017-05-22T02:00:00",
          "2017-05-25T02:00:00",
          "2017-05-28T02:00:00"
         ],
         "y": [
          0,
          0,
          0.5064287906073082,
          0.21020789297268994,
          0.3699560919038083,
          0.2987439029079412,
          0.2792029886793252,
          0.04992883287268194,
          0.10196949646909122,
          0.23629751144250483
         ]
        },
        {
         "hovertemplate": "<b>%{text}</b>",
         "line": {
          "width": 3
         },
         "marker": {
          "line": {
           "color": "black",
           "width": 2
          },
          "size": 14
         },
         "mode": "markers+lines",
         "name": "3_incident_police_attack_reportedly",
         "text": [
          "incident, police, public, people, told",
          "incident, police, reportedly, time, years",
          "incident, united, going, said, state",
          "incident, reportedly, united, reuters, seen",
          "incident, police, public, officials, attorney",
          "incident, attack, police, investigation, security",
          "state, department, police, senior, fbi",
          "incident, police, attack, reportedly, city",
          "attack, killed, incident, friday, said",
          "american, america, nation, killed, national"
         ],
         "type": "scatter",
         "x": [
          "2017-05-01T02:00:00",
          "2017-05-04T02:00:00",
          "2017-05-07T02:00:00",
          "2017-05-10T02:00:00",
          "2017-05-13T02:00:00",
          "2017-05-16T02:00:00",
          "2017-05-19T02:00:00",
          "2017-05-22T02:00:00",
          "2017-05-25T02:00:00",
          "2017-05-28T02:00:00"
         ],
         "y": [
          0.2896911234819339,
          0.35608363451064434,
          0.18013225069742508,
          0.14353010233285052,
          0.19554062213255774,
          0.1242267033742012,
          0.10330606695269301,
          0.4609482933106762,
          0.1645499000772576,
          0.01946353406300673
         ]
        },
        {
         "hovertemplate": "<b>%{text}</b>",
         "line": {
          "width": 3
         },
         "marker": {
          "line": {
           "color": "black",
           "width": 2
          },
          "size": 14
         },
         "mode": "markers+lines",
         "name": "4_russian_trump_presidential_russia",
         "text": [
          "security, people, government, country, nation",
          "incident, foreign, years, year, left",
          "public, monday, media, day, state",
          "russian, russia, fox, military, attack",
          "presidential, department, fbi, director, president",
          "russian, trump, russia, security, presidential",
          "case, trump, news, president, united",
          "reuters, trump, president, russian, official",
          "trump, russian, presidential, reuters, news",
          "presidential, trump, investigation, 2016, russian"
         ],
         "type": "scatter",
         "x": [
          "2017-05-01T02:00:00",
          "2017-05-04T02:00:00",
          "2017-05-07T02:00:00",
          "2017-05-10T02:00:00",
          "2017-05-13T02:00:00",
          "2017-05-16T02:00:00",
          "2017-05-19T02:00:00",
          "2017-05-22T02:00:00",
          "2017-05-25T02:00:00",
          "2017-05-28T02:00:00"
         ],
         "y": [
          0.0811289340934879,
          0,
          0,
          0.26327815732975374,
          0.055817616347996694,
          0.2882635770551978,
          0.013543066910098052,
          0.08618425980065009,
          0.20601652079966426,
          0.2554805307983206
         ]
        }
       ],
       "layout": {
        "autosize": true,
        "hoverlabel": {
         "bgcolor": "white",
         "font": {
          "size": 16
         }
        },
        "hovermode": "x",
        "template": {
         "data": {
          "bar": [
           {
            "error_x": {
             "color": "#2a3f5f"
            },
            "error_y": {
             "color": "#2a3f5f"
            },
            "marker": {
             "line": {
              "color": "white",
              "width": 0.5
             },
             "pattern": {
              "fillmode": "overlay",
              "size": 10,
              "solidity": 0.2
             }
            },
            "type": "bar"
           }
          ],
          "barpolar": [
           {
            "marker": {
             "line": {
              "color": "white",
              "width": 0.5
             },
             "pattern": {
              "fillmode": "overlay",
              "size": 10,
              "solidity": 0.2
             }
            },
            "type": "barpolar"
           }
          ],
          "carpet": [
           {
            "aaxis": {
             "endlinecolor": "#2a3f5f",
             "gridcolor": "#C8D4E3",
             "linecolor": "#C8D4E3",
             "minorgridcolor": "#C8D4E3",
             "startlinecolor": "#2a3f5f"
            },
            "baxis": {
             "endlinecolor": "#2a3f5f",
             "gridcolor": "#C8D4E3",
             "linecolor": "#C8D4E3",
             "minorgridcolor": "#C8D4E3",
             "startlinecolor": "#2a3f5f"
            },
            "type": "carpet"
           }
          ],
          "choropleth": [
           {
            "colorbar": {
             "outlinewidth": 0,
             "ticks": ""
            },
            "type": "choropleth"
           }
          ],
          "contour": [
           {
            "colorbar": {
             "outlinewidth": 0,
             "ticks": ""
            },
            "colorscale": [
             [
              0,
              "#0d0887"
             ],
             [
              0.1111111111111111,
              "#46039f"
             ],
             [
              0.2222222222222222,
              "#7201a8"
             ],
             [
              0.3333333333333333,
              "#9c179e"
             ],
             [
              0.4444444444444444,
              "#bd3786"
             ],
             [
              0.5555555555555556,
              "#d8576b"
             ],
             [
              0.6666666666666666,
              "#ed7953"
             ],
             [
              0.7777777777777778,
              "#fb9f3a"
             ],
             [
              0.8888888888888888,
              "#fdca26"
             ],
             [
              1,
              "#f0f921"
             ]
            ],
            "type": "contour"
           }
          ],
          "contourcarpet": [
           {
            "colorbar": {
             "outlinewidth": 0,
             "ticks": ""
            },
            "type": "contourcarpet"
           }
          ],
          "heatmap": [
           {
            "colorbar": {
             "outlinewidth": 0,
             "ticks": ""
            },
            "colorscale": [
             [
              0,
              "#0d0887"
             ],
             [
              0.1111111111111111,
              "#46039f"
             ],
             [
              0.2222222222222222,
              "#7201a8"
             ],
             [
              0.3333333333333333,
              "#9c179e"
             ],
             [
              0.4444444444444444,
              "#bd3786"
             ],
             [
              0.5555555555555556,
              "#d8576b"
             ],
             [
              0.6666666666666666,
              "#ed7953"
             ],
             [
              0.7777777777777778,
              "#fb9f3a"
             ],
             [
              0.8888888888888888,
              "#fdca26"
             ],
             [
              1,
              "#f0f921"
             ]
            ],
            "type": "heatmap"
           }
          ],
          "heatmapgl": [
           {
            "colorbar": {
             "outlinewidth": 0,
             "ticks": ""
            },
            "colorscale": [
             [
              0,
              "#0d0887"
             ],
             [
              0.1111111111111111,
              "#46039f"
             ],
             [
              0.2222222222222222,
              "#7201a8"
             ],
             [
              0.3333333333333333,
              "#9c179e"
             ],
             [
              0.4444444444444444,
              "#bd3786"
             ],
             [
              0.5555555555555556,
              "#d8576b"
             ],
             [
              0.6666666666666666,
              "#ed7953"
             ],
             [
              0.7777777777777778,
              "#fb9f3a"
             ],
             [
              0.8888888888888888,
              "#fdca26"
             ],
             [
              1,
              "#f0f921"
             ]
            ],
            "type": "heatmapgl"
           }
          ],
          "histogram": [
           {
            "marker": {
             "pattern": {
              "fillmode": "overlay",
              "size": 10,
              "solidity": 0.2
             }
            },
            "type": "histogram"
           }
          ],
          "histogram2d": [
           {
            "colorbar": {
             "outlinewidth": 0,
             "ticks": ""
            },
            "colorscale": [
             [
              0,
              "#0d0887"
             ],
             [
              0.1111111111111111,
              "#46039f"
             ],
             [
              0.2222222222222222,
              "#7201a8"
             ],
             [
              0.3333333333333333,
              "#9c179e"
             ],
             [
              0.4444444444444444,
              "#bd3786"
             ],
             [
              0.5555555555555556,
              "#d8576b"
             ],
             [
              0.6666666666666666,
              "#ed7953"
             ],
             [
              0.7777777777777778,
              "#fb9f3a"
             ],
             [
              0.8888888888888888,
              "#fdca26"
             ],
             [
              1,
              "#f0f921"
             ]
            ],
            "type": "histogram2d"
           }
          ],
          "histogram2dcontour": [
           {
            "colorbar": {
             "outlinewidth": 0,
             "ticks": ""
            },
            "colorscale": [
             [
              0,
              "#0d0887"
             ],
             [
              0.1111111111111111,
              "#46039f"
             ],
             [
              0.2222222222222222,
              "#7201a8"
             ],
             [
              0.3333333333333333,
              "#9c179e"
             ],
             [
              0.4444444444444444,
              "#bd3786"
             ],
             [
              0.5555555555555556,
              "#d8576b"
             ],
             [
              0.6666666666666666,
              "#ed7953"
             ],
             [
              0.7777777777777778,
              "#fb9f3a"
             ],
             [
              0.8888888888888888,
              "#fdca26"
             ],
             [
              1,
              "#f0f921"
             ]
            ],
            "type": "histogram2dcontour"
           }
          ],
          "mesh3d": [
           {
            "colorbar": {
             "outlinewidth": 0,
             "ticks": ""
            },
            "type": "mesh3d"
           }
          ],
          "parcoords": [
           {
            "line": {
             "colorbar": {
              "outlinewidth": 0,
              "ticks": ""
             }
            },
            "type": "parcoords"
           }
          ],
          "pie": [
           {
            "automargin": true,
            "type": "pie"
           }
          ],
          "scatter": [
           {
            "fillpattern": {
             "fillmode": "overlay",
             "size": 10,
             "solidity": 0.2
            },
            "type": "scatter"
           }
          ],
          "scatter3d": [
           {
            "line": {
             "colorbar": {
              "outlinewidth": 0,
              "ticks": ""
             }
            },
            "marker": {
             "colorbar": {
              "outlinewidth": 0,
              "ticks": ""
             }
            },
            "type": "scatter3d"
           }
          ],
          "scattercarpet": [
           {
            "marker": {
             "colorbar": {
              "outlinewidth": 0,
              "ticks": ""
             }
            },
            "type": "scattercarpet"
           }
          ],
          "scattergeo": [
           {
            "marker": {
             "colorbar": {
              "outlinewidth": 0,
              "ticks": ""
             }
            },
            "type": "scattergeo"
           }
          ],
          "scattergl": [
           {
            "marker": {
             "colorbar": {
              "outlinewidth": 0,
              "ticks": ""
             }
            },
            "type": "scattergl"
           }
          ],
          "scattermapbox": [
           {
            "marker": {
             "colorbar": {
              "outlinewidth": 0,
              "ticks": ""
             }
            },
            "type": "scattermapbox"
           }
          ],
          "scatterpolar": [
           {
            "marker": {
             "colorbar": {
              "outlinewidth": 0,
              "ticks": ""
             }
            },
            "type": "scatterpolar"
           }
          ],
          "scatterpolargl": [
           {
            "marker": {
             "colorbar": {
              "outlinewidth": 0,
              "ticks": ""
             }
            },
            "type": "scatterpolargl"
           }
          ],
          "scatterternary": [
           {
            "marker": {
             "colorbar": {
              "outlinewidth": 0,
              "ticks": ""
             }
            },
            "type": "scatterternary"
           }
          ],
          "surface": [
           {
            "colorbar": {
             "outlinewidth": 0,
             "ticks": ""
            },
            "colorscale": [
             [
              0,
              "#0d0887"
             ],
             [
              0.1111111111111111,
              "#46039f"
             ],
             [
              0.2222222222222222,
              "#7201a8"
             ],
             [
              0.3333333333333333,
              "#9c179e"
             ],
             [
              0.4444444444444444,
              "#bd3786"
             ],
             [
              0.5555555555555556,
              "#d8576b"
             ],
             [
              0.6666666666666666,
              "#ed7953"
             ],
             [
              0.7777777777777778,
              "#fb9f3a"
             ],
             [
              0.8888888888888888,
              "#fdca26"
             ],
             [
              1,
              "#f0f921"
             ]
            ],
            "type": "surface"
           }
          ],
          "table": [
           {
            "cells": {
             "fill": {
              "color": "#EBF0F8"
             },
             "line": {
              "color": "white"
             }
            },
            "header": {
             "fill": {
              "color": "#C8D4E3"
             },
             "line": {
              "color": "white"
             }
            },
            "type": "table"
           }
          ]
         },
         "layout": {
          "annotationdefaults": {
           "arrowcolor": "#2a3f5f",
           "arrowhead": 0,
           "arrowwidth": 1
          },
          "autotypenumbers": "strict",
          "coloraxis": {
           "colorbar": {
            "outlinewidth": 0,
            "ticks": ""
           }
          },
          "colorscale": {
           "diverging": [
            [
             0,
             "#8e0152"
            ],
            [
             0.1,
             "#c51b7d"
            ],
            [
             0.2,
             "#de77ae"
            ],
            [
             0.3,
             "#f1b6da"
            ],
            [
             0.4,
             "#fde0ef"
            ],
            [
             0.5,
             "#f7f7f7"
            ],
            [
             0.6,
             "#e6f5d0"
            ],
            [
             0.7,
             "#b8e186"
            ],
            [
             0.8,
             "#7fbc41"
            ],
            [
             0.9,
             "#4d9221"
            ],
            [
             1,
             "#276419"
            ]
           ],
           "sequential": [
            [
             0,
             "#0d0887"
            ],
            [
             0.1111111111111111,
             "#46039f"
            ],
            [
             0.2222222222222222,
             "#7201a8"
            ],
            [
             0.3333333333333333,
             "#9c179e"
            ],
            [
             0.4444444444444444,
             "#bd3786"
            ],
            [
             0.5555555555555556,
             "#d8576b"
            ],
            [
             0.6666666666666666,
             "#ed7953"
            ],
            [
             0.7777777777777778,
             "#fb9f3a"
            ],
            [
             0.8888888888888888,
             "#fdca26"
            ],
            [
             1,
             "#f0f921"
            ]
           ],
           "sequentialminus": [
            [
             0,
             "#0d0887"
            ],
            [
             0.1111111111111111,
             "#46039f"
            ],
            [
             0.2222222222222222,
             "#7201a8"
            ],
            [
             0.3333333333333333,
             "#9c179e"
            ],
            [
             0.4444444444444444,
             "#bd3786"
            ],
            [
             0.5555555555555556,
             "#d8576b"
            ],
            [
             0.6666666666666666,
             "#ed7953"
            ],
            [
             0.7777777777777778,
             "#fb9f3a"
            ],
            [
             0.8888888888888888,
             "#fdca26"
            ],
            [
             1,
             "#f0f921"
            ]
           ]
          },
          "colorway": [
           "#636efa",
           "#EF553B",
           "#00cc96",
           "#ab63fa",
           "#FFA15A",
           "#19d3f3",
           "#FF6692",
           "#B6E880",
           "#FF97FF",
           "#FECB52"
          ],
          "font": {
           "color": "#2a3f5f"
          },
          "geo": {
           "bgcolor": "white",
           "lakecolor": "white",
           "landcolor": "white",
           "showlakes": true,
           "showland": true,
           "subunitcolor": "#C8D4E3"
          },
          "hoverlabel": {
           "align": "left"
          },
          "hovermode": "closest",
          "mapbox": {
           "style": "light"
          },
          "paper_bgcolor": "white",
          "plot_bgcolor": "white",
          "polar": {
           "angularaxis": {
            "gridcolor": "#EBF0F8",
            "linecolor": "#EBF0F8",
            "ticks": ""
           },
           "bgcolor": "white",
           "radialaxis": {
            "gridcolor": "#EBF0F8",
            "linecolor": "#EBF0F8",
            "ticks": ""
           }
          },
          "scene": {
           "xaxis": {
            "backgroundcolor": "white",
            "gridcolor": "#DFE8F3",
            "gridwidth": 2,
            "linecolor": "#EBF0F8",
            "showbackground": true,
            "ticks": "",
            "zerolinecolor": "#EBF0F8"
           },
           "yaxis": {
            "backgroundcolor": "white",
            "gridcolor": "#DFE8F3",
            "gridwidth": 2,
            "linecolor": "#EBF0F8",
            "showbackground": true,
            "ticks": "",
            "zerolinecolor": "#EBF0F8"
           },
           "zaxis": {
            "backgroundcolor": "white",
            "gridcolor": "#DFE8F3",
            "gridwidth": 2,
            "linecolor": "#EBF0F8",
            "showbackground": true,
            "ticks": "",
            "zerolinecolor": "#EBF0F8"
           }
          },
          "shapedefaults": {
           "line": {
            "color": "#2a3f5f"
           }
          },
          "ternary": {
           "aaxis": {
            "gridcolor": "#DFE8F3",
            "linecolor": "#A2B1C6",
            "ticks": ""
           },
           "baxis": {
            "gridcolor": "#DFE8F3",
            "linecolor": "#A2B1C6",
            "ticks": ""
           },
           "bgcolor": "white",
           "caxis": {
            "gridcolor": "#DFE8F3",
            "linecolor": "#A2B1C6",
            "ticks": ""
           }
          },
          "title": {
           "x": 0.05
          },
          "xaxis": {
           "automargin": true,
           "gridcolor": "#EBF0F8",
           "linecolor": "#EBF0F8",
           "ticks": "",
           "title": {
            "standoff": 15
           },
           "zerolinecolor": "#EBF0F8",
           "zerolinewidth": 2
          },
          "yaxis": {
           "automargin": true,
           "gridcolor": "#EBF0F8",
           "linecolor": "#EBF0F8",
           "ticks": "",
           "title": {
            "standoff": 15
           },
           "zerolinecolor": "#EBF0F8",
           "zerolinewidth": 2
          }
         }
        },
        "xaxis": {
         "autorange": true,
         "range": [
          "2017-04-29 02:05:10.4387",
          "2017-05-30 01:54:49.5613"
         ],
         "title": {
          "text": "Time Slice Start"
         },
         "type": "date"
        },
        "yaxis": {
         "autorange": true,
         "range": [
          -0.06220838085314685,
          0.568637171460455
         ],
         "title": {
          "text": "Topic Importance"
         },
         "type": "linear"
        }
       }
      },
      "image/png": "[encoded data removed]",
      "text/html": [
       "<div>                            <div id=\"58af986c-38e4-4a70-9151-5a158ee450f6\" class=\"plotly-graph-div\" style=\"height:525px; width:100%;\"></div>            <script type=\"text/javascript\">                require([\"plotly\"], function(Plotly) {                    window.PLOTLYENV=window.PLOTLYENV || {};                                    if (document.getElementById(\"58af986c-38e4-4a70-9151-5a158ee450f6\")) {                    Plotly.newPlot(                        \"58af986c-38e4-4a70-9151-5a158ee450f6\",                        [{\"hovertemplate\":\"\\u003cb\\u003e%{text}\\u003c\\u002fb\\u003e\",\"line\":{\"width\":3},\"marker\":{\"line\":{\"color\":\"black\",\"width\":2},\"size\":14},\"mode\":\"markers+lines\",\"name\":\"0_trump_president_republican_congress\",\"text\":[\"trump, president, congress, media, washington\",\"republican, trump, president, going, washington\",\"trump, president, adviser, reportedly, foreign\",\"president, officials, trump, chief, attorney\",\"trump, president, government, administration, foreign\",\"reports, trump, president, reportedly, information\",\"president, republican, trump, congress, make\",\"trump, president, russian, official, said\",\"trump, republican, president, house, spokesman\",\"trump, president, presidential, 2016, chief\"],\"x\":[\"2017-05-01T02:00:00\",\"2017-05-04T02:00:00\",\"2017-05-07T02:00:00\",\"2017-05-10T02:00:00\",\"2017-05-13T02:00:00\",\"2017-05-16T02:00:00\",\"2017-05-19T02:00:00\",\"2017-05-22T02:00:00\",\"2017-05-25T02:00:00\",\"2017-05-28T02:00:00\"],\"y\":[0.4168491580454091,0.3131465422547183,0.2947717163004184,0.2148295980554209,0.226908363435766,0.08726365108634306,0.48140368325530014,0.12227481299730276,0.25302448733570715,0.30226512460047245],\"type\":\"scatter\"},{\"hovertemplate\":\"\\u003cb\\u003e%{text}\\u003c\\u002fb\\u003e\",\"line\":{\"width\":3},\"marker\":{\"line\":{\"color\":\"black\",\"width\":2},\"size\":14},\"mode\":\"markers+lines\",\"name\":\"1_news_fox_investigation_media\",\"text\":[\"news, 22, fox, trump, just\",\"media, fox, news, house, told\",\"public, state, monday, media, day\",\"news, united, congress, reported, trump\",\"family, news, york, police, investigation\",\"news, fox, family, spokesman, report\",\"case, news, united, said, trump\",\"fox, news, just, think, way\",\"news, information, trump, media, reportedly\",\"news, spokesman, administration, fbi, chief\"],\"x\":[\"2017-05-01T02:00:00\",\"2017-05-04T02:00:00\",\"2017-05-07T02:00:00\",\"2017-05-10T02:00:00\",\"2017-05-13T02:00:00\",\"2017-05-16T02:00:00\",\"2017-05-19T02:00:00\",\"2017-05-22T02:00:00\",\"2017-05-25T02:00:00\",\"2017-05-28T02:00:00\"],\"y\":[0.21233078437916914,0.3307698232346374,0.01866724239484853,0.16815424930928502,0.1517773061798712,0.20150216557631678,0.12254419420258349,0.28066380101868893,0.2744395953182798,0.18649329909569548],\"type\":\"scatter\"},{\"hovertemplate\":\"\\u003cb\\u003e%{text}\\u003c\\u002fb\\u003e\",\"line\":{\"width\":3},\"marker\":{\"line\":{\"color\":\"black\",\"width\":2},\"size\":14},\"mode\":\"markers+lines\",\"name\":\"2_fbi_investigation_department_attorney\",\"text\":[\"congress, day, thursday, friday, nation\",\"reportedly, police, foreign, reported, time\",\"fbi, investigation, department, attorney, president\",\"fbi, attorney, presidential, department, trump\",\"fbi, director, trump, investigation, fox\",\"fbi, investigation, trump, department, fox\",\"fbi, police, senior, department, investigation\",\"investigation, news, 22, trump, just\",\"fbi, investigation, congress, media, public\",\"fbi, investigation, russian, media, trump\"],\"x\":[\"2017-05-01T02:00:00\",\"2017-05-04T02:00:00\",\"2017-05-07T02:00:00\",\"2017-05-10T02:00:00\",\"2017-05-13T02:00:00\",\"2017-05-16T02:00:00\",\"2017-05-19T02:00:00\",\"2017-05-22T02:00:00\",\"2017-05-25T02:00:00\",\"2017-05-28T02:00:00\"],\"y\":[0.0,0.0,0.5064287906073082,0.21020789297268994,0.3699560919038083,0.2987439029079412,0.2792029886793252,0.04992883287268194,0.10196949646909122,0.23629751144250483],\"type\":\"scatter\"},{\"hovertemplate\":\"\\u003cb\\u003e%{text}\\u003c\\u002fb\\u003e\",\"line\":{\"width\":3},\"marker\":{\"line\":{\"color\":\"black\",\"width\":2},\"size\":14},\"mode\":\"markers+lines\",\"name\":\"3_incident_police_attack_reportedly\",\"text\":[\"incident, police, public, people, told\",\"incident, police, reportedly, time, years\",\"incident, united, going, said, state\",\"incident, reportedly, united, reuters, seen\",\"incident, police, public, officials, attorney\",\"incident, attack, police, investigation, security\",\"state, department, police, senior, fbi\",\"incident, police, attack, reportedly, city\",\"attack, killed, incident, friday, said\",\"american, america, nation, killed, national\"],\"x\":[\"2017-05-01T02:00:00\",\"2017-05-04T02:00:00\",\"2017-05-07T02:00:00\",\"2017-05-10T02:00:00\",\"2017-05-13T02:00:00\",\"2017-05-16T02:00:00\",\"2017-05-19T02:00:00\",\"2017-05-22T02:00:00\",\"2017-05-25T02:00:00\",\"2017-05-28T02:00:00\"],\"y\":[0.2896911234819339,0.35608363451064434,0.18013225069742508,0.14353010233285052,0.19554062213255774,0.1242267033742012,0.10330606695269301,0.4609482933106762,0.1645499000772576,0.01946353406300673],\"type\":\"scatter\"},{\"hovertemplate\":\"\\u003cb\\u003e%{text}\\u003c\\u002fb\\u003e\",\"line\":{\"width\":3},\"marker\":{\"line\":{\"color\":\"black\",\"width\":2},\"size\":14},\"mode\":\"markers+lines\",\"name\":\"4_russian_trump_presidential_russia\",\"text\":[\"security, people, government, country, nation\",\"incident, foreign, years, year, left\",\"public, monday, media, day, state\",\"russian, russia, fox, military, attack\",\"presidential, department, fbi, director, president\",\"russian, trump, russia, security, presidential\",\"case, trump, news, president, united\",\"reuters, trump, president, russian, official\",\"trump, russian, presidential, reuters, news\",\"presidential, trump, investigation, 2016, russian\"],\"x\":[\"2017-05-01T02:00:00\",\"2017-05-04T02:00:00\",\"2017-05-07T02:00:00\",\"2017-05-10T02:00:00\",\"2017-05-13T02:00:00\",\"2017-05-16T02:00:00\",\"2017-05-19T02:00:00\",\"2017-05-22T02:00:00\",\"2017-05-25T02:00:00\",\"2017-05-28T02:00:00\"],\"y\":[0.0811289340934879,0.0,0.0,0.26327815732975374,0.055817616347996694,0.2882635770551978,0.013543066910098052,0.08618425980065009,0.20601652079966426,0.2554805307983206],\"type\":\"scatter\"}],                        {\"template\":{\"data\":{\"barpolar\":[{\"marker\":{\"line\":{\"color\":\"white\",\"width\":0.5},\"pattern\":{\"fillmode\":\"overlay\",\"size\":10,\"solidity\":0.2}},\"type\":\"barpolar\"}],\"bar\":[{\"error_x\":{\"color\":\"#2a3f5f\"},\"error_y\":{\"color\":\"#2a3f5f\"},\"marker\":{\"line\":{\"color\":\"white\",\"width\":0.5},\"pattern\":{\"fillmode\":\"overlay\",\"size\":10,\"solidity\":0.2}},\"type\":\"bar\"}],\"carpet\":[{\"aaxis\":{\"endlinecolor\":\"#2a3f5f\",\"gridcolor\":\"#C8D4E3\",\"linecolor\":\"#C8D4E3\",\"minorgridcolor\":\"#C8D4E3\",\"startlinecolor\":\"#2a3f5f\"},\"baxis\":{\"endlinecolor\":\"#2a3f5f\",\"gridcolor\":\"#C8D4E3\",\"linecolor\":\"#C8D4E3\",\"minorgridcolor\":\"#C8D4E3\",\"startlinecolor\":\"#2a3f5f\"},\"type\":\"carpet\"}],\"choropleth\":[{\"colorbar\":{\"outlinewidth\":0,\"ticks\":\"\"},\"type\":\"choropleth\"}],\"contourcarpet\":[{\"colorbar\":{\"outlinewidth\":0,\"ticks\":\"\"},\"type\":\"contourcarpet\"}],\"contour\":[{\"colorbar\":{\"outlinewidth\":0,\"ticks\":\"\"},\"colorscale\":[[0.0,\"#0d0887\"],[0.1111111111111111,\"#46039f\"],[0.2222222222222222,\"#7201a8\"],[0.3333333333333333,\"#9c179e\"],[0.4444444444444444,\"#bd3786\"],[0.5555555555555556,\"#d8576b\"],[0.6666666666666666,\"#ed7953\"],[0.7777777777777778,\"#fb9f3a\"],[0.8888888888888888,\"#fdca26\"],[1.0,\"#f0f921\"]],\"type\":\"contour\"}],\"heatmapgl\":[{\"colorbar\":{\"outlinewidth\":0,\"ticks\":\"\"},\"colorscale\":[[0.0,\"#0d0887\"],[0.1111111111111111,\"#46039f\"],[0.2222222222222222,\"#7201a8\"],[0.3333333333333333,\"#9c179e\"],[0.4444444444444444,\"#bd3786\"],[0.5555555555555556,\"#d8576b\"],[0.6666666666666666,\"#ed7953\"],[0.7777777777777778,\"#fb9f3a\"],[0.8888888888888888,\"#fdca26\"],[1.0,\"#f0f921\"]],\"type\":\"heatmapgl\"}],\"heatmap\":[{\"colorbar\":{\"outlinewidth\":0,\"ticks\":\"\"},\"colorscale\":[[0.0,\"#0d0887\"],[0.1111111111111111,\"#46039f\"],[0.2222222222222222,\"#7201a8\"],[0.3333333333333333,\"#9c179e\"],[0.4444444444444444,\"#bd3786\"],[0.5555555555555556,\"#d8576b\"],[0.6666666666666666,\"#ed7953\"],[0.7777777777777778,\"#fb9f3a\"],[0.8888888888888888,\"#fdca26\"],[1.0,\"#f0f921\"]],\"type\":\"heatmap\"}],\"histogram2dcontour\":[{\"colorbar\":{\"outlinewidth\":0,\"ticks\":\"\"},\"colorscale\":[[0.0,\"#0d0887\"],[0.1111111111111111,\"#46039f\"],[0.2222222222222222,\"#7201a8\"],[0.3333333333333333,\"#9c179e\"],[0.4444444444444444,\"#bd3786\"],[0.5555555555555556,\"#d8576b\"],[0.6666666666666666,\"#ed7953\"],[0.7777777777777778,\"#fb9f3a\"],[0.8888888888888888,\"#fdca26\"],[1.0,\"#f0f921\"]],\"type\":\"histogram2dcontour\"}],\"histogram2d\":[{\"colorbar\":{\"outlinewidth\":0,\"ticks\":\"\"},\"colorscale\":[[0.0,\"#0d0887\"],[0.1111111111111111,\"#46039f\"],[0.2222222222222222,\"#7201a8\"],[0.3333333333333333,\"#9c179e\"],[0.4444444444444444,\"#bd3786\"],[0.5555555555555556,\"#d8576b\"],[0.6666666666666666,\"#ed7953\"],[0.7777777777777778,\"#fb9f3a\"],[0.8888888888888888,\"#fdca26\"],[1.0,\"#f0f921\"]],\"type\":\"histogram2d\"}],\"histogram\":[{\"marker\":{\"pattern\":{\"fillmode\":\"overlay\",\"size\":10,\"solidity\":0.2}},\"type\":\"histogram\"}],\"mesh3d\":[{\"colorbar\":{\"outlinewidth\":0,\"ticks\":\"\"},\"type\":\"mesh3d\"}],\"parcoords\":[{\"line\":{\"colorbar\":{\"outlinewidth\":0,\"ticks\":\"\"}},\"type\":\"parcoords\"}],\"pie\":[{\"automargin\":true,\"type\":\"pie\"}],\"scatter3d\":[{\"line\":{\"colorbar\":{\"outlinewidth\":0,\"ticks\":\"\"}},\"marker\":{\"colorbar\":{\"outlinewidth\":0,\"ticks\":\"\"}},\"type\":\"scatter3d\"}],\"scattercarpet\":[{\"marker\":{\"colorbar\":{\"outlinewidth\":0,\"ticks\":\"\"}},\"type\":\"scattercarpet\"}],\"scattergeo\":[{\"marker\":{\"colorbar\":{\"outlinewidth\":0,\"ticks\":\"\"}},\"type\":\"scattergeo\"}],\"scattergl\":[{\"marker\":{\"colorbar\":{\"outlinewidth\":0,\"ticks\":\"\"}},\"type\":\"scattergl\"}],\"scattermapbox\":[{\"marker\":{\"colorbar\":{\"outlinewidth\":0,\"ticks\":\"\"}},\"type\":\"scattermapbox\"}],\"scatterpolargl\":[{\"marker\":{\"colorbar\":{\"outlinewidth\":0,\"ticks\":\"\"}},\"type\":\"scatterpolargl\"}],\"scatterpolar\":[{\"marker\":{\"colorbar\":{\"outlinewidth\":0,\"ticks\":\"\"}},\"type\":\"scatterpolar\"}],\"scatter\":[{\"fillpattern\":{\"fillmode\":\"overlay\",\"size\":10,\"solidity\":0.2},\"type\":\"scatter\"}],\"scatterternary\":[{\"marker\":{\"colorbar\":{\"outlinewidth\":0,\"ticks\":\"\"}},\"type\":\"scatterternary\"}],\"surface\":[{\"colorbar\":{\"outlinewidth\":0,\"ticks\":\"\"},\"colorscale\":[[0.0,\"#0d0887\"],[0.1111111111111111,\"#46039f\"],[0.2222222222222222,\"#7201a8\"],[0.3333333333333333,\"#9c179e\"],[0.4444444444444444,\"#bd3786\"],[0.5555555555555556,\"#d8576b\"],[0.6666666666666666,\"#ed7953\"],[0.7777777777777778,\"#fb9f3a\"],[0.8888888888888888,\"#fdca26\"],[1.0,\"#f0f921\"]],\"type\":\"surface\"}],\"table\":[{\"cells\":{\"fill\":{\"color\":\"#EBF0F8\"},\"line\":{\"color\":\"white\"}},\"header\":{\"fill\":{\"color\":\"#C8D4E3\"},\"line\":{\"color\":\"white\"}},\"type\":\"table\"}]},\"layout\":{\"annotationdefaults\":{\"arrowcolor\":\"#2a3f5f\",\"arrowhead\":0,\"arrowwidth\":1},\"autotypenumbers\":\"strict\",\"coloraxis\":{\"colorbar\":{\"outlinewidth\":0,\"ticks\":\"\"}},\"colorscale\":{\"diverging\":[[0,\"#8e0152\"],[0.1,\"#c51b7d\"],[0.2,\"#de77ae\"],[0.3,\"#f1b6da\"],[0.4,\"#fde0ef\"],[0.5,\"#f7f7f7\"],[0.6,\"#e6f5d0\"],[0.7,\"#b8e186\"],[0.8,\"#7fbc41\"],[0.9,\"#4d9221\"],[1,\"#276419\"]],\"sequential\":[[0.0,\"#0d0887\"],[0.1111111111111111,\"#46039f\"],[0.2222222222222222,\"#7201a8\"],[0.3333333333333333,\"#9c179e\"],[0.4444444444444444,\"#bd3786\"],[0.5555555555555556,\"#d8576b\"],[0.6666666666666666,\"#ed7953\"],[0.7777777777777778,\"#fb9f3a\"],[0.8888888888888888,\"#fdca26\"],[1.0,\"#f0f921\"]],\"sequentialminus\":[[0.0,\"#0d0887\"],[0.1111111111111111,\"#46039f\"],[0.2222222222222222,\"#7201a8\"],[0.3333333333333333,\"#9c179e\"],[0.4444444444444444,\"#bd3786\"],[0.5555555555555556,\"#d8576b\"],[0.6666666666666666,\"#ed7953\"],[0.7777777777777778,\"#fb9f3a\"],[0.8888888888888888,\"#fdca26\"],[1.0,\"#f0f921\"]]},\"colorway\":[\"#636efa\",\"#EF553B\",\"#00cc96\",\"#ab63fa\",\"#FFA15A\",\"#19d3f3\",\"#FF6692\",\"#B6E880\",\"#FF97FF\",\"#FECB52\"],\"font\":{\"color\":\"#2a3f5f\"},\"geo\":{\"bgcolor\":\"white\",\"lakecolor\":\"white\",\"landcolor\":\"white\",\"showlakes\":true,\"showland\":true,\"subunitcolor\":\"#C8D4E3\"},\"hoverlabel\":{\"align\":\"left\"},\"hovermode\":\"closest\",\"mapbox\":{\"style\":\"light\"},\"paper_bgcolor\":\"white\",\"plot_bgcolor\":\"white\",\"polar\":{\"angularaxis\":{\"gridcolor\":\"#EBF0F8\",\"linecolor\":\"#EBF0F8\",\"ticks\":\"\"},\"bgcolor\":\"white\",\"radialaxis\":{\"gridcolor\":\"#EBF0F8\",\"linecolor\":\"#EBF0F8\",\"ticks\":\"\"}},\"scene\":{\"xaxis\":{\"backgroundcolor\":\"white\",\"gridcolor\":\"#DFE8F3\",\"gridwidth\":2,\"linecolor\":\"#EBF0F8\",\"showbackground\":true,\"ticks\":\"\",\"zerolinecolor\":\"#EBF0F8\"},\"yaxis\":{\"backgroundcolor\":\"white\",\"gridcolor\":\"#DFE8F3\",\"gridwidth\":2,\"linecolor\":\"#EBF0F8\",\"showbackground\":true,\"ticks\":\"\",\"zerolinecolor\":\"#EBF0F8\"},\"zaxis\":{\"backgroundcolor\":\"white\",\"gridcolor\":\"#DFE8F3\",\"gridwidth\":2,\"linecolor\":\"#EBF0F8\",\"showbackground\":true,\"ticks\":\"\",\"zerolinecolor\":\"#EBF0F8\"}},\"shapedefaults\":{\"line\":{\"color\":\"#2a3f5f\"}},\"ternary\":{\"aaxis\":{\"gridcolor\":\"#DFE8F3\",\"linecolor\":\"#A2B1C6\",\"ticks\":\"\"},\"baxis\":{\"gridcolor\":\"#DFE8F3\",\"linecolor\":\"#A2B1C6\",\"ticks\":\"\"},\"bgcolor\":\"white\",\"caxis\":{\"gridcolor\":\"#DFE8F3\",\"linecolor\":\"#A2B1C6\",\"ticks\":\"\"}},\"title\":{\"x\":0.05},\"xaxis\":{\"automargin\":true,\"gridcolor\":\"#EBF0F8\",\"linecolor\":\"#EBF0F8\",\"ticks\":\"\",\"title\":{\"standoff\":15},\"zerolinecolor\":\"#EBF0F8\",\"zerolinewidth\":2},\"yaxis\":{\"automargin\":true,\"gridcolor\":\"#EBF0F8\",\"linecolor\":\"#EBF0F8\",\"ticks\":\"\",\"title\":{\"standoff\":15},\"zerolinecolor\":\"#EBF0F8\",\"zerolinewidth\":2}}},\"hoverlabel\":{\"font\":{\"size\":16},\"bgcolor\":\"white\"},\"hovermode\":\"x\",\"xaxis\":{\"title\":{\"text\":\"Time Slice Start\"}},\"yaxis\":{\"title\":{\"text\":\"Topic Importance\"}}},                        {\"responsive\": true}                    ).then(function(){\n",
       "                            \n",
       "var gd = document.getElementById('58af986c-38e4-4a70-9151-5a158ee450f6');\n",
       "var x = new MutationObserver(function (mutations, observer) {{\n",
       "        var display = window.getComputedStyle(gd).display;\n",
       "        if (!display || display === 'none') {{\n",
       "            console.log([gd, 'removed!']);\n",
       "            Plotly.purge(gd);\n",
       "            observer.disconnect();\n",
       "        }}\n",
       "}});\n",
       "\n",
       "// Listen for the removal of the full notebook cells\n",
       "var notebookContainer = gd.closest('#notebook-container');\n",
       "if (notebookContainer) {{\n",
       "    x.observe(notebookContainer, {childList: true});\n",
       "}}\n",
       "\n",
       "// Listen for the clearing of the current output cell\n",
       "var outputEl = gd.closest('.output');\n",
       "if (outputEl) {{\n",
       "    x.observe(outputEl, {childList: true});\n",
       "}}\n",
       "\n",
       "                        })                };                });            </script>        </div>"
      ]
     },
     "metadata": {},
     "output_type": "display_data"
    }
   ],
   "source": [
    "# plot development of topic importance over time\n",
    "dynamic_plot = model.plot_topics_over_time(top_k=5)\n",
    "dynamic_plot"
   ]
  },
  {
   "cell_type": "code",
   "execution_count": 68,
   "id": "00b22d09-b336-4476-a2d6-2d962473ce71",
   "metadata": {},
   "outputs": [],
   "source": [
    "# save plot as an html file\n",
    "save_dir = \"plots/topic_modeling/\" # specify where to save it\n",
    "os.makedirs(save_dir, exist_ok=True)\n",
    "save_path = os.path.join(save_dir, \"dynamic_plot.html\")\n",
    "\n",
    "dynamic.write_html(save_path)"
   ]
  },
  {
   "cell_type": "markdown",
   "id": "e6ec4512-7de2-4089-ad6e-d71cf3c876b3",
   "metadata": {},
   "source": [
    "## It works<33"
   ]
  },
  {
   "cell_type": "markdown",
   "id": "4841eb29-70df-4220-9f2d-e7c64b315308",
   "metadata": {},
   "source": [
    "## Now subsetting\n",
    "\n",
    "### CNN"
   ]
  },
  {
   "cell_type": "code",
   "execution_count": 44,
   "id": "655d67db-028c-41f6-b521-defa9dac8a9d",
   "metadata": {},
   "outputs": [
    {
     "name": "stderr",
     "output_type": "stream",
     "text": [
      "/tmp/ipykernel_6766/1734586732.py:12: SettingWithCopyWarning:\n",
      "\n",
      "\n",
      "A value is trying to be set on a copy of a slice from a DataFrame.\n",
      "Try using .loc[row_indexer,col_indexer] = value instead\n",
      "\n",
      "See the caveats in the documentation: https://pandas.pydata.org/pandas-docs/stable/user_guide/indexing.html#returning-a-view-versus-a-copy\n",
      "\n",
      "/tmp/ipykernel_6766/1734586732.py:18: SettingWithCopyWarning:\n",
      "\n",
      "\n",
      "A value is trying to be set on a copy of a slice from a DataFrame.\n",
      "Try using .loc[row_indexer,col_indexer] = value instead\n",
      "\n",
      "See the caveats in the documentation: https://pandas.pydata.org/pandas-docs/stable/user_guide/indexing.html#returning-a-view-versus-a-copy\n",
      "\n"
     ]
    },
    {
     "data": {
      "text/plain": [
       "74"
      ]
     },
     "execution_count": 44,
     "metadata": {},
     "output_type": "execute_result"
    }
   ],
   "source": [
    "# only include CNN\n",
    "\n",
    "# read csv\n",
    "file_path = \"/work/Bachelor/sample_data/dropbox/joined_dataframe/CNN_Fox_joined_17_05.csv\"\n",
    "CNN_Fox_joined_17_05 = pd.read_csv(file_path)\n",
    "\n",
    "# Filter the DataFrame to include only rows where 'source' is 'CNN'\n",
    "CNN_only_df = CNN_Fox_joined_17_05[CNN_Fox_joined_17_05[\"source\"] == \"CNN\"]\n",
    "\n",
    "# removing the words coded as censored\n",
    "CNN_only_df[\"body\"] = CNN_only_df[\"body\"].str.replace(\"CENSOREDfrfrfr\", \"\", regex=False)\n",
    "\n",
    "# make articles into lists \n",
    "corpus = CNN_only_df[\"body\"].tolist()\n",
    "\n",
    "# convert timestamps to datetime objects\n",
    "CNN_only_df[\"date\"] = pd.to_datetime(CNN_only_df[\"date\"], format = \"%y-%m-%d\")\n",
    "\n",
    "# make timestamps (now datetime objects) into lists\n",
    "timestamps = CNN_only_df[\"date\"].tolist()\n",
    "\n",
    "# inspect data\n",
    "#corpus\n",
    "\n",
    "# check data type\n",
    "#type(corpus)\n",
    "\n",
    "# check length\n",
    "len(corpus)\n"
   ]
  },
  {
   "cell_type": "code",
   "execution_count": 45,
   "id": "fadc8ae7-1dc0-4d25-af5d-ce352dc851b7",
   "metadata": {},
   "outputs": [],
   "source": [
    "# initiate dynamic model\n",
    "model = KeyNMF(5, top_n=6, random_state=42) # top_n must be larger than the first number to run\n",
    "document_topic_matrix = model.fit_transform_dynamic(\n",
    "    corpus, timestamps=timestamps, bins=10\n",
    ")\n"
   ]
  },
  {
   "cell_type": "code",
   "execution_count": 46,
   "id": "8ec18f52-3c78-478f-b1cd-f3a9cda7cbc9",
   "metadata": {},
   "outputs": [
    {
     "data": {
      "text/html": [
       "<pre style=\"white-space:pre;overflow-x:auto;line-height:normal;font-family:Menlo,'DejaVu Sans Mono',consolas,'Courier New',monospace\">┏━━━━━━━━━━━━━━━━━━┳━━━━━━━━━━━━━━━━━━┳━━━━━━━━━━━━━━━━━━┳━━━━━━━━━━━━━━━━━━┳━━━━━━━━━━━━━━━━━━┳━━━━━━━━━━━━━━━━━━┓\n",
       "┃<span style=\"font-weight: bold\"> Time Slice       </span>┃<span style=\"font-weight: bold\"> 0_clinton_hilla… </span>┃<span style=\"font-weight: bold\"> 1_republicans_c… </span>┃<span style=\"font-weight: bold\"> 2_fbi_comey_inv… </span>┃<span style=\"font-weight: bold\"> 3_trump_donald_… </span>┃<span style=\"font-weight: bold\"> 4_election_vote… </span>┃\n",
       "┡━━━━━━━━━━━━━━━━━━╇━━━━━━━━━━━━━━━━━━╇━━━━━━━━━━━━━━━━━━╇━━━━━━━━━━━━━━━━━━╇━━━━━━━━━━━━━━━━━━╇━━━━━━━━━━━━━━━━━━┩\n",
       "│ 2017 05 01 -     │ clinton,         │ congressional,   │ fbi, comey,      │ cnn, justice,    │ votes, campaign, │\n",
       "│ 2017 05 02       │ hillary, trump,  │ republican,      │ trump, clinton,  │ charges, court,  │ election,        │\n",
       "│                  │ campaign,        │ republicans,     │ cnn              │ information      │ presidential,    │\n",
       "│                  │ election         │ senate, vote     │                  │                  │ congressional    │\n",
       "├──────────────────┼──────────────────┼──────────────────┼──────────────────┼──────────────────┼──────────────────┤\n",
       "│ 2017 05 02 -     │ clinton,         │ congressional,   │ investigation,   │ trump,           │ minister,        │\n",
       "│ 2017 05 04       │ hillary, obama,  │ democrats,       │ fbi, comey,      │ president,       │ meeting, senior, │\n",
       "│                  │ presidency,      │ republicans,     │ senate, clinton  │ leader, leaders, │ members, general │\n",
       "│                  │ presidential     │ republican,      │                  │ secretary        │                  │\n",
       "│                  │                  │ political        │                  │                  │                  │\n",
       "├──────────────────┼──────────────────┼──────────────────┼──────────────────┼──────────────────┼──────────────────┤\n",
       "│ 2017 05 04 -     │ democrats,       │ election,        │ cnn, washington, │ justice, court,  │ election,        │\n",
       "│ 2017 05 06       │ republicans,     │ republicans,     │ care, happening, │ case, according, │ victory,         │\n",
       "│                  │ congressional,   │ clinton,         │ facebook         │ father           │ minister, party, │\n",
       "│                  │ republican,      │ congressional,   │                  │                  │ political        │\n",
       "│                  │ clinton          │ republican       │                  │                  │                  │\n",
       "├──────────────────┼──────────────────┼──────────────────┼──────────────────┼──────────────────┼──────────────────┤\n",
       "│ 2017 05 06 -     │ trump,           │ 000, long,       │ security,        │ trump, donald,   │ election,        │\n",
       "│ 2017 05 07       │ presidential,    │ watched,         │ police, people,  │ presidency,      │ presidential,    │\n",
       "│                  │ donald,          │ district, fact   │ far, officials   │ presidential,    │ president,       │\n",
       "│                  │ presidency,      │                  │                  │ president        │ donald,          │\n",
       "│                  │ president        │                  │                  │                  │ presidency       │\n",
       "├──────────────────┼──────────────────┼──────────────────┼──────────────────┼──────────────────┼──────────────────┤\n",
       "│ 2017 05 07 -     │ clinton, comey,  │ senate, comey,   │ fbi,             │ trump, donald,   │ election, votes, │\n",
       "│ 2017 05 09       │ obama, fired,    │ trump, cnn,      │ investigation,   │ evidence, cnn,   │ vote,            │\n",
       "│                  │ trump            │ campaign         │ comey, clinton,  │ obama            │ democratic,      │\n",
       "│                  │                  │                  │ committee        │                  │ presidential     │\n",
       "├──────────────────┼──────────────────┼──────────────────┼──────────────────┼──────────────────┼──────────────────┤\n",
       "│ 2017 05 09 -     │ hillary, fbi,    │ obama,           │ comey,           │ obama, cnn,      │ democratic,      │\n",
       "│ 2017 05 11       │ presidential,    │ republicans,     │ investigation,   │ democratic,      │ trump, news,     │\n",
       "│                  │ clinton, trump   │ democrats,       │ fbi, trump,      │ trump, news      │ defense, obama   │\n",
       "│                  │                  │ republican, cnn  │ clinton          │                  │                  │\n",
       "├──────────────────┼──────────────────┼──────────────────┼──────────────────┼──────────────────┼──────────────────┤\n",
       "│ 2017 05 11 -     │ mother, woman,   │ 000, long,       │ fbi,             │ reporters, news, │ lives, state,    │\n",
       "│ 2017 05 12       │ hillary,         │ watched,         │ investigation,   │ comey, firing,   │ russian,         │\n",
       "│                  │ clinton, story   │ district, fact   │ comey, trump,    │ trump            │ members, law     │\n",
       "│                  │                  │                  │ firing           │                  │                  │\n",
       "├──────────────────┼──────────────────┼──────────────────┼──────────────────┼──────────────────┼──────────────────┤\n",
       "│ 2017 05 12 -     │ family, mother,  │ area, cnn, city, │ city, push,      │ russia, russian, │ senior,          │\n",
       "│ 2017 05 14       │ father, woman,   │ district, remain │ district,        │ far, defense,    │ university, old, │\n",
       "│                  │ house            │                  │ remain, area     │ long             │ decades, years   │\n",
       "├──────────────────┼──────────────────┼──────────────────┼──────────────────┼──────────────────┼──────────────────┤\n",
       "│ 2017 05 14 -     │ father,          │ cnn, donald,     │ fbi, trump,      │ trump, news,     │ investigation,   │\n",
       "│ 2017 05 16       │ thursday,        │ intelligence     │ russia,          │ russian,         │ comey,           │\n",
       "│                  │ international,   │                  │ information,     │ information,     │ president,       │\n",
       "│                  │ party,           │                  │ security         │ intelligence     │ security         │\n",
       "│                  │ presidency       │                  │                  │                  │                  │\n",
       "├──────────────────┼──────────────────┼──────────────────┼──────────────────┼──────────────────┼──────────────────┤\n",
       "│ 2017 05 16 -     │ clinton,         │ senate, russian, │ fbi,             │ trump,           │ news, key, met,  │\n",
       "│ 2017 05 19       │ presidential,    │ security,        │ investigation,   │ president,       │ trump, congress  │\n",
       "│                  │ hillary,         │ investigation,   │ cnn, congress,   │ donald, obama,   │                  │\n",
       "│                  │ majority, donald │ congress         │ comey            │ presidency       │                  │\n",
       "└──────────────────┴──────────────────┴──────────────────┴──────────────────┴──────────────────┴──────────────────┘\n",
       "</pre>\n"
      ],
      "text/plain": [
       "┏━━━━━━━━━━━━━━━━━━┳━━━━━━━━━━━━━━━━━━┳━━━━━━━━━━━━━━━━━━┳━━━━━━━━━━━━━━━━━━┳━━━━━━━━━━━━━━━━━━┳━━━━━━━━━━━━━━━━━━┓\n",
       "┃\u001b[1m \u001b[0m\u001b[1mTime Slice      \u001b[0m\u001b[1m \u001b[0m┃\u001b[1m \u001b[0m\u001b[1m0_clinton_hilla…\u001b[0m\u001b[1m \u001b[0m┃\u001b[1m \u001b[0m\u001b[1m1_republicans_c…\u001b[0m\u001b[1m \u001b[0m┃\u001b[1m \u001b[0m\u001b[1m2_fbi_comey_inv…\u001b[0m\u001b[1m \u001b[0m┃\u001b[1m \u001b[0m\u001b[1m3_trump_donald_…\u001b[0m\u001b[1m \u001b[0m┃\u001b[1m \u001b[0m\u001b[1m4_election_vote…\u001b[0m\u001b[1m \u001b[0m┃\n",
       "┡━━━━━━━━━━━━━━━━━━╇━━━━━━━━━━━━━━━━━━╇━━━━━━━━━━━━━━━━━━╇━━━━━━━━━━━━━━━━━━╇━━━━━━━━━━━━━━━━━━╇━━━━━━━━━━━━━━━━━━┩\n",
       "│ 2017 05 01 -     │ clinton,         │ congressional,   │ fbi, comey,      │ cnn, justice,    │ votes, campaign, │\n",
       "│ 2017 05 02       │ hillary, trump,  │ republican,      │ trump, clinton,  │ charges, court,  │ election,        │\n",
       "│                  │ campaign,        │ republicans,     │ cnn              │ information      │ presidential,    │\n",
       "│                  │ election         │ senate, vote     │                  │                  │ congressional    │\n",
       "├──────────────────┼──────────────────┼──────────────────┼──────────────────┼──────────────────┼──────────────────┤\n",
       "│ 2017 05 02 -     │ clinton,         │ congressional,   │ investigation,   │ trump,           │ minister,        │\n",
       "│ 2017 05 04       │ hillary, obama,  │ democrats,       │ fbi, comey,      │ president,       │ meeting, senior, │\n",
       "│                  │ presidency,      │ republicans,     │ senate, clinton  │ leader, leaders, │ members, general │\n",
       "│                  │ presidential     │ republican,      │                  │ secretary        │                  │\n",
       "│                  │                  │ political        │                  │                  │                  │\n",
       "├──────────────────┼──────────────────┼──────────────────┼──────────────────┼──────────────────┼──────────────────┤\n",
       "│ 2017 05 04 -     │ democrats,       │ election,        │ cnn, washington, │ justice, court,  │ election,        │\n",
       "│ 2017 05 06       │ republicans,     │ republicans,     │ care, happening, │ case, according, │ victory,         │\n",
       "│                  │ congressional,   │ clinton,         │ facebook         │ father           │ minister, party, │\n",
       "│                  │ republican,      │ congressional,   │                  │                  │ political        │\n",
       "│                  │ clinton          │ republican       │                  │                  │                  │\n",
       "├──────────────────┼──────────────────┼──────────────────┼──────────────────┼──────────────────┼──────────────────┤\n",
       "│ 2017 05 06 -     │ trump,           │ 000, long,       │ security,        │ trump, donald,   │ election,        │\n",
       "│ 2017 05 07       │ presidential,    │ watched,         │ police, people,  │ presidency,      │ presidential,    │\n",
       "│                  │ donald,          │ district, fact   │ far, officials   │ presidential,    │ president,       │\n",
       "│                  │ presidency,      │                  │                  │ president        │ donald,          │\n",
       "│                  │ president        │                  │                  │                  │ presidency       │\n",
       "├──────────────────┼──────────────────┼──────────────────┼──────────────────┼──────────────────┼──────────────────┤\n",
       "│ 2017 05 07 -     │ clinton, comey,  │ senate, comey,   │ fbi,             │ trump, donald,   │ election, votes, │\n",
       "│ 2017 05 09       │ obama, fired,    │ trump, cnn,      │ investigation,   │ evidence, cnn,   │ vote,            │\n",
       "│                  │ trump            │ campaign         │ comey, clinton,  │ obama            │ democratic,      │\n",
       "│                  │                  │                  │ committee        │                  │ presidential     │\n",
       "├──────────────────┼──────────────────┼──────────────────┼──────────────────┼──────────────────┼──────────────────┤\n",
       "│ 2017 05 09 -     │ hillary, fbi,    │ obama,           │ comey,           │ obama, cnn,      │ democratic,      │\n",
       "│ 2017 05 11       │ presidential,    │ republicans,     │ investigation,   │ democratic,      │ trump, news,     │\n",
       "│                  │ clinton, trump   │ democrats,       │ fbi, trump,      │ trump, news      │ defense, obama   │\n",
       "│                  │                  │ republican, cnn  │ clinton          │                  │                  │\n",
       "├──────────────────┼──────────────────┼──────────────────┼──────────────────┼──────────────────┼──────────────────┤\n",
       "│ 2017 05 11 -     │ mother, woman,   │ 000, long,       │ fbi,             │ reporters, news, │ lives, state,    │\n",
       "│ 2017 05 12       │ hillary,         │ watched,         │ investigation,   │ comey, firing,   │ russian,         │\n",
       "│                  │ clinton, story   │ district, fact   │ comey, trump,    │ trump            │ members, law     │\n",
       "│                  │                  │                  │ firing           │                  │                  │\n",
       "├──────────────────┼──────────────────┼──────────────────┼──────────────────┼──────────────────┼──────────────────┤\n",
       "│ 2017 05 12 -     │ family, mother,  │ area, cnn, city, │ city, push,      │ russia, russian, │ senior,          │\n",
       "│ 2017 05 14       │ father, woman,   │ district, remain │ district,        │ far, defense,    │ university, old, │\n",
       "│                  │ house            │                  │ remain, area     │ long             │ decades, years   │\n",
       "├──────────────────┼──────────────────┼──────────────────┼──────────────────┼──────────────────┼──────────────────┤\n",
       "│ 2017 05 14 -     │ father,          │ cnn, donald,     │ fbi, trump,      │ trump, news,     │ investigation,   │\n",
       "│ 2017 05 16       │ thursday,        │ intelligence     │ russia,          │ russian,         │ comey,           │\n",
       "│                  │ international,   │                  │ information,     │ information,     │ president,       │\n",
       "│                  │ party,           │                  │ security         │ intelligence     │ security         │\n",
       "│                  │ presidency       │                  │                  │                  │                  │\n",
       "├──────────────────┼──────────────────┼──────────────────┼──────────────────┼──────────────────┼──────────────────┤\n",
       "│ 2017 05 16 -     │ clinton,         │ senate, russian, │ fbi,             │ trump,           │ news, key, met,  │\n",
       "│ 2017 05 19       │ presidential,    │ security,        │ investigation,   │ president,       │ trump, congress  │\n",
       "│                  │ hillary,         │ investigation,   │ cnn, congress,   │ donald, obama,   │                  │\n",
       "│                  │ majority, donald │ congress         │ comey            │ presidency       │                  │\n",
       "└──────────────────┴──────────────────┴──────────────────┴──────────────────┴──────────────────┴──────────────────┘\n"
      ]
     },
     "metadata": {},
     "output_type": "display_data"
    }
   ],
   "source": [
    "# see topics and their keywords over time \n",
    "model.print_topics_over_time()"
   ]
  },
  {
   "cell_type": "code",
   "execution_count": 69,
   "id": "9b9d6f1c-8029-4223-bbff-cc6925b0eb45",
   "metadata": {},
   "outputs": [
    {
     "data": {
      "application/vnd.plotly.v1+json": {
       "config": {
        "plotlyServerURL": "https://plot.ly"
       },
       "data": [
        {
         "hovertemplate": "<b>%{text}</b>",
         "line": {
          "width": 3
         },
         "marker": {
          "line": {
           "color": "black",
           "width": 2
          },
          "size": 14
         },
         "mode": "markers+lines",
         "name": "0_trump_president_republican_congress",
         "text": [
          "trump, president, congress, media, washington",
          "republican, trump, president, going, washington",
          "trump, president, adviser, reportedly, foreign",
          "president, officials, trump, chief, attorney",
          "trump, president, government, administration, foreign",
          "reports, trump, president, reportedly, information",
          "president, republican, trump, congress, make",
          "trump, president, russian, official, said",
          "trump, republican, president, house, spokesman",
          "trump, president, presidential, 2016, chief"
         ],
         "type": "scatter",
         "x": [
          "2017-05-01T02:00:00",
          "2017-05-04T02:00:00",
          "2017-05-07T02:00:00",
          "2017-05-10T02:00:00",
          "2017-05-13T02:00:00",
          "2017-05-16T02:00:00",
          "2017-05-19T02:00:00",
          "2017-05-22T02:00:00",
          "2017-05-25T02:00:00",
          "2017-05-28T02:00:00"
         ],
         "y": [
          0.4168491580454091,
          0.3131465422547183,
          0.2947717163004184,
          0.2148295980554209,
          0.226908363435766,
          0.08726365108634306,
          0.48140368325530014,
          0.12227481299730276,
          0.25302448733570715,
          0.30226512460047245
         ]
        },
        {
         "hovertemplate": "<b>%{text}</b>",
         "line": {
          "width": 3
         },
         "marker": {
          "line": {
           "color": "black",
           "width": 2
          },
          "size": 14
         },
         "mode": "markers+lines",
         "name": "1_news_fox_investigation_media",
         "text": [
          "news, 22, fox, trump, just",
          "media, fox, news, house, told",
          "public, state, monday, media, day",
          "news, united, congress, reported, trump",
          "family, news, york, police, investigation",
          "news, fox, family, spokesman, report",
          "case, news, united, said, trump",
          "fox, news, just, think, way",
          "news, information, trump, media, reportedly",
          "news, spokesman, administration, fbi, chief"
         ],
         "type": "scatter",
         "x": [
          "2017-05-01T02:00:00",
          "2017-05-04T02:00:00",
          "2017-05-07T02:00:00",
          "2017-05-10T02:00:00",
          "2017-05-13T02:00:00",
          "2017-05-16T02:00:00",
          "2017-05-19T02:00:00",
          "2017-05-22T02:00:00",
          "2017-05-25T02:00:00",
          "2017-05-28T02:00:00"
         ],
         "y": [
          0.21233078437916914,
          0.3307698232346374,
          0.01866724239484853,
          0.16815424930928502,
          0.1517773061798712,
          0.20150216557631678,
          0.12254419420258349,
          0.28066380101868893,
          0.2744395953182798,
          0.18649329909569548
         ]
        },
        {
         "hovertemplate": "<b>%{text}</b>",
         "line": {
          "width": 3
         },
         "marker": {
          "line": {
           "color": "black",
           "width": 2
          },
          "size": 14
         },
         "mode": "markers+lines",
         "name": "2_fbi_investigation_department_attorney",
         "text": [
          "congress, day, thursday, friday, nation",
          "reportedly, police, foreign, reported, time",
          "fbi, investigation, department, attorney, president",
          "fbi, attorney, presidential, department, trump",
          "fbi, director, trump, investigation, fox",
          "fbi, investigation, trump, department, fox",
          "fbi, police, senior, department, investigation",
          "investigation, news, 22, trump, just",
          "fbi, investigation, congress, media, public",
          "fbi, investigation, russian, media, trump"
         ],
         "type": "scatter",
         "x": [
          "2017-05-01T02:00:00",
          "2017-05-04T02:00:00",
          "2017-05-07T02:00:00",
          "2017-05-10T02:00:00",
          "2017-05-13T02:00:00",
          "2017-05-16T02:00:00",
          "2017-05-19T02:00:00",
          "2017-05-22T02:00:00",
          "2017-05-25T02:00:00",
          "2017-05-28T02:00:00"
         ],
         "y": [
          0,
          0,
          0.5064287906073082,
          0.21020789297268994,
          0.3699560919038083,
          0.2987439029079412,
          0.2792029886793252,
          0.04992883287268194,
          0.10196949646909122,
          0.23629751144250483
         ]
        },
        {
         "hovertemplate": "<b>%{text}</b>",
         "line": {
          "width": 3
         },
         "marker": {
          "line": {
           "color": "black",
           "width": 2
          },
          "size": 14
         },
         "mode": "markers+lines",
         "name": "3_incident_police_attack_reportedly",
         "text": [
          "incident, police, public, people, told",
          "incident, police, reportedly, time, years",
          "incident, united, going, said, state",
          "incident, reportedly, united, reuters, seen",
          "incident, police, public, officials, attorney",
          "incident, attack, police, investigation, security",
          "state, department, police, senior, fbi",
          "incident, police, attack, reportedly, city",
          "attack, killed, incident, friday, said",
          "american, america, nation, killed, national"
         ],
         "type": "scatter",
         "x": [
          "2017-05-01T02:00:00",
          "2017-05-04T02:00:00",
          "2017-05-07T02:00:00",
          "2017-05-10T02:00:00",
          "2017-05-13T02:00:00",
          "2017-05-16T02:00:00",
          "2017-05-19T02:00:00",
          "2017-05-22T02:00:00",
          "2017-05-25T02:00:00",
          "2017-05-28T02:00:00"
         ],
         "y": [
          0.2896911234819339,
          0.35608363451064434,
          0.18013225069742508,
          0.14353010233285052,
          0.19554062213255774,
          0.1242267033742012,
          0.10330606695269301,
          0.4609482933106762,
          0.1645499000772576,
          0.01946353406300673
         ]
        },
        {
         "hovertemplate": "<b>%{text}</b>",
         "line": {
          "width": 3
         },
         "marker": {
          "line": {
           "color": "black",
           "width": 2
          },
          "size": 14
         },
         "mode": "markers+lines",
         "name": "4_russian_trump_presidential_russia",
         "text": [
          "security, people, government, country, nation",
          "incident, foreign, years, year, left",
          "public, monday, media, day, state",
          "russian, russia, fox, military, attack",
          "presidential, department, fbi, director, president",
          "russian, trump, russia, security, presidential",
          "case, trump, news, president, united",
          "reuters, trump, president, russian, official",
          "trump, russian, presidential, reuters, news",
          "presidential, trump, investigation, 2016, russian"
         ],
         "type": "scatter",
         "x": [
          "2017-05-01T02:00:00",
          "2017-05-04T02:00:00",
          "2017-05-07T02:00:00",
          "2017-05-10T02:00:00",
          "2017-05-13T02:00:00",
          "2017-05-16T02:00:00",
          "2017-05-19T02:00:00",
          "2017-05-22T02:00:00",
          "2017-05-25T02:00:00",
          "2017-05-28T02:00:00"
         ],
         "y": [
          0.0811289340934879,
          0,
          0,
          0.26327815732975374,
          0.055817616347996694,
          0.2882635770551978,
          0.013543066910098052,
          0.08618425980065009,
          0.20601652079966426,
          0.2554805307983206
         ]
        }
       ],
       "layout": {
        "autosize": true,
        "hoverlabel": {
         "bgcolor": "white",
         "font": {
          "size": 16
         }
        },
        "hovermode": "x",
        "template": {
         "data": {
          "bar": [
           {
            "error_x": {
             "color": "#2a3f5f"
            },
            "error_y": {
             "color": "#2a3f5f"
            },
            "marker": {
             "line": {
              "color": "white",
              "width": 0.5
             },
             "pattern": {
              "fillmode": "overlay",
              "size": 10,
              "solidity": 0.2
             }
            },
            "type": "bar"
           }
          ],
          "barpolar": [
           {
            "marker": {
             "line": {
              "color": "white",
              "width": 0.5
             },
             "pattern": {
              "fillmode": "overlay",
              "size": 10,
              "solidity": 0.2
             }
            },
            "type": "barpolar"
           }
          ],
          "carpet": [
           {
            "aaxis": {
             "endlinecolor": "#2a3f5f",
             "gridcolor": "#C8D4E3",
             "linecolor": "#C8D4E3",
             "minorgridcolor": "#C8D4E3",
             "startlinecolor": "#2a3f5f"
            },
            "baxis": {
             "endlinecolor": "#2a3f5f",
             "gridcolor": "#C8D4E3",
             "linecolor": "#C8D4E3",
             "minorgridcolor": "#C8D4E3",
             "startlinecolor": "#2a3f5f"
            },
            "type": "carpet"
           }
          ],
          "choropleth": [
           {
            "colorbar": {
             "outlinewidth": 0,
             "ticks": ""
            },
            "type": "choropleth"
           }
          ],
          "contour": [
           {
            "colorbar": {
             "outlinewidth": 0,
             "ticks": ""
            },
            "colorscale": [
             [
              0,
              "#0d0887"
             ],
             [
              0.1111111111111111,
              "#46039f"
             ],
             [
              0.2222222222222222,
              "#7201a8"
             ],
             [
              0.3333333333333333,
              "#9c179e"
             ],
             [
              0.4444444444444444,
              "#bd3786"
             ],
             [
              0.5555555555555556,
              "#d8576b"
             ],
             [
              0.6666666666666666,
              "#ed7953"
             ],
             [
              0.7777777777777778,
              "#fb9f3a"
             ],
             [
              0.8888888888888888,
              "#fdca26"
             ],
             [
              1,
              "#f0f921"
             ]
            ],
            "type": "contour"
           }
          ],
          "contourcarpet": [
           {
            "colorbar": {
             "outlinewidth": 0,
             "ticks": ""
            },
            "type": "contourcarpet"
           }
          ],
          "heatmap": [
           {
            "colorbar": {
             "outlinewidth": 0,
             "ticks": ""
            },
            "colorscale": [
             [
              0,
              "#0d0887"
             ],
             [
              0.1111111111111111,
              "#46039f"
             ],
             [
              0.2222222222222222,
              "#7201a8"
             ],
             [
              0.3333333333333333,
              "#9c179e"
             ],
             [
              0.4444444444444444,
              "#bd3786"
             ],
             [
              0.5555555555555556,
              "#d8576b"
             ],
             [
              0.6666666666666666,
              "#ed7953"
             ],
             [
              0.7777777777777778,
              "#fb9f3a"
             ],
             [
              0.8888888888888888,
              "#fdca26"
             ],
             [
              1,
              "#f0f921"
             ]
            ],
            "type": "heatmap"
           }
          ],
          "heatmapgl": [
           {
            "colorbar": {
             "outlinewidth": 0,
             "ticks": ""
            },
            "colorscale": [
             [
              0,
              "#0d0887"
             ],
             [
              0.1111111111111111,
              "#46039f"
             ],
             [
              0.2222222222222222,
              "#7201a8"
             ],
             [
              0.3333333333333333,
              "#9c179e"
             ],
             [
              0.4444444444444444,
              "#bd3786"
             ],
             [
              0.5555555555555556,
              "#d8576b"
             ],
             [
              0.6666666666666666,
              "#ed7953"
             ],
             [
              0.7777777777777778,
              "#fb9f3a"
             ],
             [
              0.8888888888888888,
              "#fdca26"
             ],
             [
              1,
              "#f0f921"
             ]
            ],
            "type": "heatmapgl"
           }
          ],
          "histogram": [
           {
            "marker": {
             "pattern": {
              "fillmode": "overlay",
              "size": 10,
              "solidity": 0.2
             }
            },
            "type": "histogram"
           }
          ],
          "histogram2d": [
           {
            "colorbar": {
             "outlinewidth": 0,
             "ticks": ""
            },
            "colorscale": [
             [
              0,
              "#0d0887"
             ],
             [
              0.1111111111111111,
              "#46039f"
             ],
             [
              0.2222222222222222,
              "#7201a8"
             ],
             [
              0.3333333333333333,
              "#9c179e"
             ],
             [
              0.4444444444444444,
              "#bd3786"
             ],
             [
              0.5555555555555556,
              "#d8576b"
             ],
             [
              0.6666666666666666,
              "#ed7953"
             ],
             [
              0.7777777777777778,
              "#fb9f3a"
             ],
             [
              0.8888888888888888,
              "#fdca26"
             ],
             [
              1,
              "#f0f921"
             ]
            ],
            "type": "histogram2d"
           }
          ],
          "histogram2dcontour": [
           {
            "colorbar": {
             "outlinewidth": 0,
             "ticks": ""
            },
            "colorscale": [
             [
              0,
              "#0d0887"
             ],
             [
              0.1111111111111111,
              "#46039f"
             ],
             [
              0.2222222222222222,
              "#7201a8"
             ],
             [
              0.3333333333333333,
              "#9c179e"
             ],
             [
              0.4444444444444444,
              "#bd3786"
             ],
             [
              0.5555555555555556,
              "#d8576b"
             ],
             [
              0.6666666666666666,
              "#ed7953"
             ],
             [
              0.7777777777777778,
              "#fb9f3a"
             ],
             [
              0.8888888888888888,
              "#fdca26"
             ],
             [
              1,
              "#f0f921"
             ]
            ],
            "type": "histogram2dcontour"
           }
          ],
          "mesh3d": [
           {
            "colorbar": {
             "outlinewidth": 0,
             "ticks": ""
            },
            "type": "mesh3d"
           }
          ],
          "parcoords": [
           {
            "line": {
             "colorbar": {
              "outlinewidth": 0,
              "ticks": ""
             }
            },
            "type": "parcoords"
           }
          ],
          "pie": [
           {
            "automargin": true,
            "type": "pie"
           }
          ],
          "scatter": [
           {
            "fillpattern": {
             "fillmode": "overlay",
             "size": 10,
             "solidity": 0.2
            },
            "type": "scatter"
           }
          ],
          "scatter3d": [
           {
            "line": {
             "colorbar": {
              "outlinewidth": 0,
              "ticks": ""
             }
            },
            "marker": {
             "colorbar": {
              "outlinewidth": 0,
              "ticks": ""
             }
            },
            "type": "scatter3d"
           }
          ],
          "scattercarpet": [
           {
            "marker": {
             "colorbar": {
              "outlinewidth": 0,
              "ticks": ""
             }
            },
            "type": "scattercarpet"
           }
          ],
          "scattergeo": [
           {
            "marker": {
             "colorbar": {
              "outlinewidth": 0,
              "ticks": ""
             }
            },
            "type": "scattergeo"
           }
          ],
          "scattergl": [
           {
            "marker": {
             "colorbar": {
              "outlinewidth": 0,
              "ticks": ""
             }
            },
            "type": "scattergl"
           }
          ],
          "scattermapbox": [
           {
            "marker": {
             "colorbar": {
              "outlinewidth": 0,
              "ticks": ""
             }
            },
            "type": "scattermapbox"
           }
          ],
          "scatterpolar": [
           {
            "marker": {
             "colorbar": {
              "outlinewidth": 0,
              "ticks": ""
             }
            },
            "type": "scatterpolar"
           }
          ],
          "scatterpolargl": [
           {
            "marker": {
             "colorbar": {
              "outlinewidth": 0,
              "ticks": ""
             }
            },
            "type": "scatterpolargl"
           }
          ],
          "scatterternary": [
           {
            "marker": {
             "colorbar": {
              "outlinewidth": 0,
              "ticks": ""
             }
            },
            "type": "scatterternary"
           }
          ],
          "surface": [
           {
            "colorbar": {
             "outlinewidth": 0,
             "ticks": ""
            },
            "colorscale": [
             [
              0,
              "#0d0887"
             ],
             [
              0.1111111111111111,
              "#46039f"
             ],
             [
              0.2222222222222222,
              "#7201a8"
             ],
             [
              0.3333333333333333,
              "#9c179e"
             ],
             [
              0.4444444444444444,
              "#bd3786"
             ],
             [
              0.5555555555555556,
              "#d8576b"
             ],
             [
              0.6666666666666666,
              "#ed7953"
             ],
             [
              0.7777777777777778,
              "#fb9f3a"
             ],
             [
              0.8888888888888888,
              "#fdca26"
             ],
             [
              1,
              "#f0f921"
             ]
            ],
            "type": "surface"
           }
          ],
          "table": [
           {
            "cells": {
             "fill": {
              "color": "#EBF0F8"
             },
             "line": {
              "color": "white"
             }
            },
            "header": {
             "fill": {
              "color": "#C8D4E3"
             },
             "line": {
              "color": "white"
             }
            },
            "type": "table"
           }
          ]
         },
         "layout": {
          "annotationdefaults": {
           "arrowcolor": "#2a3f5f",
           "arrowhead": 0,
           "arrowwidth": 1
          },
          "autotypenumbers": "strict",
          "coloraxis": {
           "colorbar": {
            "outlinewidth": 0,
            "ticks": ""
           }
          },
          "colorscale": {
           "diverging": [
            [
             0,
             "#8e0152"
            ],
            [
             0.1,
             "#c51b7d"
            ],
            [
             0.2,
             "#de77ae"
            ],
            [
             0.3,
             "#f1b6da"
            ],
            [
             0.4,
             "#fde0ef"
            ],
            [
             0.5,
             "#f7f7f7"
            ],
            [
             0.6,
             "#e6f5d0"
            ],
            [
             0.7,
             "#b8e186"
            ],
            [
             0.8,
             "#7fbc41"
            ],
            [
             0.9,
             "#4d9221"
            ],
            [
             1,
             "#276419"
            ]
           ],
           "sequential": [
            [
             0,
             "#0d0887"
            ],
            [
             0.1111111111111111,
             "#46039f"
            ],
            [
             0.2222222222222222,
             "#7201a8"
            ],
            [
             0.3333333333333333,
             "#9c179e"
            ],
            [
             0.4444444444444444,
             "#bd3786"
            ],
            [
             0.5555555555555556,
             "#d8576b"
            ],
            [
             0.6666666666666666,
             "#ed7953"
            ],
            [
             0.7777777777777778,
             "#fb9f3a"
            ],
            [
             0.8888888888888888,
             "#fdca26"
            ],
            [
             1,
             "#f0f921"
            ]
           ],
           "sequentialminus": [
            [
             0,
             "#0d0887"
            ],
            [
             0.1111111111111111,
             "#46039f"
            ],
            [
             0.2222222222222222,
             "#7201a8"
            ],
            [
             0.3333333333333333,
             "#9c179e"
            ],
            [
             0.4444444444444444,
             "#bd3786"
            ],
            [
             0.5555555555555556,
             "#d8576b"
            ],
            [
             0.6666666666666666,
             "#ed7953"
            ],
            [
             0.7777777777777778,
             "#fb9f3a"
            ],
            [
             0.8888888888888888,
             "#fdca26"
            ],
            [
             1,
             "#f0f921"
            ]
           ]
          },
          "colorway": [
           "#636efa",
           "#EF553B",
           "#00cc96",
           "#ab63fa",
           "#FFA15A",
           "#19d3f3",
           "#FF6692",
           "#B6E880",
           "#FF97FF",
           "#FECB52"
          ],
          "font": {
           "color": "#2a3f5f"
          },
          "geo": {
           "bgcolor": "white",
           "lakecolor": "white",
           "landcolor": "white",
           "showlakes": true,
           "showland": true,
           "subunitcolor": "#C8D4E3"
          },
          "hoverlabel": {
           "align": "left"
          },
          "hovermode": "closest",
          "mapbox": {
           "style": "light"
          },
          "paper_bgcolor": "white",
          "plot_bgcolor": "white",
          "polar": {
           "angularaxis": {
            "gridcolor": "#EBF0F8",
            "linecolor": "#EBF0F8",
            "ticks": ""
           },
           "bgcolor": "white",
           "radialaxis": {
            "gridcolor": "#EBF0F8",
            "linecolor": "#EBF0F8",
            "ticks": ""
           }
          },
          "scene": {
           "xaxis": {
            "backgroundcolor": "white",
            "gridcolor": "#DFE8F3",
            "gridwidth": 2,
            "linecolor": "#EBF0F8",
            "showbackground": true,
            "ticks": "",
            "zerolinecolor": "#EBF0F8"
           },
           "yaxis": {
            "backgroundcolor": "white",
            "gridcolor": "#DFE8F3",
            "gridwidth": 2,
            "linecolor": "#EBF0F8",
            "showbackground": true,
            "ticks": "",
            "zerolinecolor": "#EBF0F8"
           },
           "zaxis": {
            "backgroundcolor": "white",
            "gridcolor": "#DFE8F3",
            "gridwidth": 2,
            "linecolor": "#EBF0F8",
            "showbackground": true,
            "ticks": "",
            "zerolinecolor": "#EBF0F8"
           }
          },
          "shapedefaults": {
           "line": {
            "color": "#2a3f5f"
           }
          },
          "ternary": {
           "aaxis": {
            "gridcolor": "#DFE8F3",
            "linecolor": "#A2B1C6",
            "ticks": ""
           },
           "baxis": {
            "gridcolor": "#DFE8F3",
            "linecolor": "#A2B1C6",
            "ticks": ""
           },
           "bgcolor": "white",
           "caxis": {
            "gridcolor": "#DFE8F3",
            "linecolor": "#A2B1C6",
            "ticks": ""
           }
          },
          "title": {
           "x": 0.05
          },
          "xaxis": {
           "automargin": true,
           "gridcolor": "#EBF0F8",
           "linecolor": "#EBF0F8",
           "ticks": "",
           "title": {
            "standoff": 15
           },
           "zerolinecolor": "#EBF0F8",
           "zerolinewidth": 2
          },
          "yaxis": {
           "automargin": true,
           "gridcolor": "#EBF0F8",
           "linecolor": "#EBF0F8",
           "ticks": "",
           "title": {
            "standoff": 15
           },
           "zerolinecolor": "#EBF0F8",
           "zerolinewidth": 2
          }
         }
        },
        "xaxis": {
         "autorange": true,
         "range": [
          "2017-04-29 02:05:10.4387",
          "2017-05-30 01:54:49.5613"
         ],
         "title": {
          "text": "Time Slice Start"
         },
         "type": "date"
        },
        "yaxis": {
         "autorange": true,
         "range": [
          -0.06220838085314685,
          0.568637171460455
         ],
         "title": {
          "text": "Topic Importance"
         },
         "type": "linear"
        }
       }
      },
      "image/png": "[encoded data removed]",
      "text/html": [
       "<div>                            <div id=\"04974bf8-3ed2-4c77-8536-e3a87e1a6519\" class=\"plotly-graph-div\" style=\"height:525px; width:100%;\"></div>            <script type=\"text/javascript\">                require([\"plotly\"], function(Plotly) {                    window.PLOTLYENV=window.PLOTLYENV || {};                                    if (document.getElementById(\"04974bf8-3ed2-4c77-8536-e3a87e1a6519\")) {                    Plotly.newPlot(                        \"04974bf8-3ed2-4c77-8536-e3a87e1a6519\",                        [{\"hovertemplate\":\"\\u003cb\\u003e%{text}\\u003c\\u002fb\\u003e\",\"line\":{\"width\":3},\"marker\":{\"line\":{\"color\":\"black\",\"width\":2},\"size\":14},\"mode\":\"markers+lines\",\"name\":\"0_trump_president_republican_congress\",\"text\":[\"trump, president, congress, media, washington\",\"republican, trump, president, going, washington\",\"trump, president, adviser, reportedly, foreign\",\"president, officials, trump, chief, attorney\",\"trump, president, government, administration, foreign\",\"reports, trump, president, reportedly, information\",\"president, republican, trump, congress, make\",\"trump, president, russian, official, said\",\"trump, republican, president, house, spokesman\",\"trump, president, presidential, 2016, chief\"],\"x\":[\"2017-05-01T02:00:00\",\"2017-05-04T02:00:00\",\"2017-05-07T02:00:00\",\"2017-05-10T02:00:00\",\"2017-05-13T02:00:00\",\"2017-05-16T02:00:00\",\"2017-05-19T02:00:00\",\"2017-05-22T02:00:00\",\"2017-05-25T02:00:00\",\"2017-05-28T02:00:00\"],\"y\":[0.4168491580454091,0.3131465422547183,0.2947717163004184,0.2148295980554209,0.226908363435766,0.08726365108634306,0.48140368325530014,0.12227481299730276,0.25302448733570715,0.30226512460047245],\"type\":\"scatter\"},{\"hovertemplate\":\"\\u003cb\\u003e%{text}\\u003c\\u002fb\\u003e\",\"line\":{\"width\":3},\"marker\":{\"line\":{\"color\":\"black\",\"width\":2},\"size\":14},\"mode\":\"markers+lines\",\"name\":\"1_news_fox_investigation_media\",\"text\":[\"news, 22, fox, trump, just\",\"media, fox, news, house, told\",\"public, state, monday, media, day\",\"news, united, congress, reported, trump\",\"family, news, york, police, investigation\",\"news, fox, family, spokesman, report\",\"case, news, united, said, trump\",\"fox, news, just, think, way\",\"news, information, trump, media, reportedly\",\"news, spokesman, administration, fbi, chief\"],\"x\":[\"2017-05-01T02:00:00\",\"2017-05-04T02:00:00\",\"2017-05-07T02:00:00\",\"2017-05-10T02:00:00\",\"2017-05-13T02:00:00\",\"2017-05-16T02:00:00\",\"2017-05-19T02:00:00\",\"2017-05-22T02:00:00\",\"2017-05-25T02:00:00\",\"2017-05-28T02:00:00\"],\"y\":[0.21233078437916914,0.3307698232346374,0.01866724239484853,0.16815424930928502,0.1517773061798712,0.20150216557631678,0.12254419420258349,0.28066380101868893,0.2744395953182798,0.18649329909569548],\"type\":\"scatter\"},{\"hovertemplate\":\"\\u003cb\\u003e%{text}\\u003c\\u002fb\\u003e\",\"line\":{\"width\":3},\"marker\":{\"line\":{\"color\":\"black\",\"width\":2},\"size\":14},\"mode\":\"markers+lines\",\"name\":\"2_fbi_investigation_department_attorney\",\"text\":[\"congress, day, thursday, friday, nation\",\"reportedly, police, foreign, reported, time\",\"fbi, investigation, department, attorney, president\",\"fbi, attorney, presidential, department, trump\",\"fbi, director, trump, investigation, fox\",\"fbi, investigation, trump, department, fox\",\"fbi, police, senior, department, investigation\",\"investigation, news, 22, trump, just\",\"fbi, investigation, congress, media, public\",\"fbi, investigation, russian, media, trump\"],\"x\":[\"2017-05-01T02:00:00\",\"2017-05-04T02:00:00\",\"2017-05-07T02:00:00\",\"2017-05-10T02:00:00\",\"2017-05-13T02:00:00\",\"2017-05-16T02:00:00\",\"2017-05-19T02:00:00\",\"2017-05-22T02:00:00\",\"2017-05-25T02:00:00\",\"2017-05-28T02:00:00\"],\"y\":[0.0,0.0,0.5064287906073082,0.21020789297268994,0.3699560919038083,0.2987439029079412,0.2792029886793252,0.04992883287268194,0.10196949646909122,0.23629751144250483],\"type\":\"scatter\"},{\"hovertemplate\":\"\\u003cb\\u003e%{text}\\u003c\\u002fb\\u003e\",\"line\":{\"width\":3},\"marker\":{\"line\":{\"color\":\"black\",\"width\":2},\"size\":14},\"mode\":\"markers+lines\",\"name\":\"3_incident_police_attack_reportedly\",\"text\":[\"incident, police, public, people, told\",\"incident, police, reportedly, time, years\",\"incident, united, going, said, state\",\"incident, reportedly, united, reuters, seen\",\"incident, police, public, officials, attorney\",\"incident, attack, police, investigation, security\",\"state, department, police, senior, fbi\",\"incident, police, attack, reportedly, city\",\"attack, killed, incident, friday, said\",\"american, america, nation, killed, national\"],\"x\":[\"2017-05-01T02:00:00\",\"2017-05-04T02:00:00\",\"2017-05-07T02:00:00\",\"2017-05-10T02:00:00\",\"2017-05-13T02:00:00\",\"2017-05-16T02:00:00\",\"2017-05-19T02:00:00\",\"2017-05-22T02:00:00\",\"2017-05-25T02:00:00\",\"2017-05-28T02:00:00\"],\"y\":[0.2896911234819339,0.35608363451064434,0.18013225069742508,0.14353010233285052,0.19554062213255774,0.1242267033742012,0.10330606695269301,0.4609482933106762,0.1645499000772576,0.01946353406300673],\"type\":\"scatter\"},{\"hovertemplate\":\"\\u003cb\\u003e%{text}\\u003c\\u002fb\\u003e\",\"line\":{\"width\":3},\"marker\":{\"line\":{\"color\":\"black\",\"width\":2},\"size\":14},\"mode\":\"markers+lines\",\"name\":\"4_russian_trump_presidential_russia\",\"text\":[\"security, people, government, country, nation\",\"incident, foreign, years, year, left\",\"public, monday, media, day, state\",\"russian, russia, fox, military, attack\",\"presidential, department, fbi, director, president\",\"russian, trump, russia, security, presidential\",\"case, trump, news, president, united\",\"reuters, trump, president, russian, official\",\"trump, russian, presidential, reuters, news\",\"presidential, trump, investigation, 2016, russian\"],\"x\":[\"2017-05-01T02:00:00\",\"2017-05-04T02:00:00\",\"2017-05-07T02:00:00\",\"2017-05-10T02:00:00\",\"2017-05-13T02:00:00\",\"2017-05-16T02:00:00\",\"2017-05-19T02:00:00\",\"2017-05-22T02:00:00\",\"2017-05-25T02:00:00\",\"2017-05-28T02:00:00\"],\"y\":[0.0811289340934879,0.0,0.0,0.26327815732975374,0.055817616347996694,0.2882635770551978,0.013543066910098052,0.08618425980065009,0.20601652079966426,0.2554805307983206],\"type\":\"scatter\"}],                        {\"template\":{\"data\":{\"barpolar\":[{\"marker\":{\"line\":{\"color\":\"white\",\"width\":0.5},\"pattern\":{\"fillmode\":\"overlay\",\"size\":10,\"solidity\":0.2}},\"type\":\"barpolar\"}],\"bar\":[{\"error_x\":{\"color\":\"#2a3f5f\"},\"error_y\":{\"color\":\"#2a3f5f\"},\"marker\":{\"line\":{\"color\":\"white\",\"width\":0.5},\"pattern\":{\"fillmode\":\"overlay\",\"size\":10,\"solidity\":0.2}},\"type\":\"bar\"}],\"carpet\":[{\"aaxis\":{\"endlinecolor\":\"#2a3f5f\",\"gridcolor\":\"#C8D4E3\",\"linecolor\":\"#C8D4E3\",\"minorgridcolor\":\"#C8D4E3\",\"startlinecolor\":\"#2a3f5f\"},\"baxis\":{\"endlinecolor\":\"#2a3f5f\",\"gridcolor\":\"#C8D4E3\",\"linecolor\":\"#C8D4E3\",\"minorgridcolor\":\"#C8D4E3\",\"startlinecolor\":\"#2a3f5f\"},\"type\":\"carpet\"}],\"choropleth\":[{\"colorbar\":{\"outlinewidth\":0,\"ticks\":\"\"},\"type\":\"choropleth\"}],\"contourcarpet\":[{\"colorbar\":{\"outlinewidth\":0,\"ticks\":\"\"},\"type\":\"contourcarpet\"}],\"contour\":[{\"colorbar\":{\"outlinewidth\":0,\"ticks\":\"\"},\"colorscale\":[[0.0,\"#0d0887\"],[0.1111111111111111,\"#46039f\"],[0.2222222222222222,\"#7201a8\"],[0.3333333333333333,\"#9c179e\"],[0.4444444444444444,\"#bd3786\"],[0.5555555555555556,\"#d8576b\"],[0.6666666666666666,\"#ed7953\"],[0.7777777777777778,\"#fb9f3a\"],[0.8888888888888888,\"#fdca26\"],[1.0,\"#f0f921\"]],\"type\":\"contour\"}],\"heatmapgl\":[{\"colorbar\":{\"outlinewidth\":0,\"ticks\":\"\"},\"colorscale\":[[0.0,\"#0d0887\"],[0.1111111111111111,\"#46039f\"],[0.2222222222222222,\"#7201a8\"],[0.3333333333333333,\"#9c179e\"],[0.4444444444444444,\"#bd3786\"],[0.5555555555555556,\"#d8576b\"],[0.6666666666666666,\"#ed7953\"],[0.7777777777777778,\"#fb9f3a\"],[0.8888888888888888,\"#fdca26\"],[1.0,\"#f0f921\"]],\"type\":\"heatmapgl\"}],\"heatmap\":[{\"colorbar\":{\"outlinewidth\":0,\"ticks\":\"\"},\"colorscale\":[[0.0,\"#0d0887\"],[0.1111111111111111,\"#46039f\"],[0.2222222222222222,\"#7201a8\"],[0.3333333333333333,\"#9c179e\"],[0.4444444444444444,\"#bd3786\"],[0.5555555555555556,\"#d8576b\"],[0.6666666666666666,\"#ed7953\"],[0.7777777777777778,\"#fb9f3a\"],[0.8888888888888888,\"#fdca26\"],[1.0,\"#f0f921\"]],\"type\":\"heatmap\"}],\"histogram2dcontour\":[{\"colorbar\":{\"outlinewidth\":0,\"ticks\":\"\"},\"colorscale\":[[0.0,\"#0d0887\"],[0.1111111111111111,\"#46039f\"],[0.2222222222222222,\"#7201a8\"],[0.3333333333333333,\"#9c179e\"],[0.4444444444444444,\"#bd3786\"],[0.5555555555555556,\"#d8576b\"],[0.6666666666666666,\"#ed7953\"],[0.7777777777777778,\"#fb9f3a\"],[0.8888888888888888,\"#fdca26\"],[1.0,\"#f0f921\"]],\"type\":\"histogram2dcontour\"}],\"histogram2d\":[{\"colorbar\":{\"outlinewidth\":0,\"ticks\":\"\"},\"colorscale\":[[0.0,\"#0d0887\"],[0.1111111111111111,\"#46039f\"],[0.2222222222222222,\"#7201a8\"],[0.3333333333333333,\"#9c179e\"],[0.4444444444444444,\"#bd3786\"],[0.5555555555555556,\"#d8576b\"],[0.6666666666666666,\"#ed7953\"],[0.7777777777777778,\"#fb9f3a\"],[0.8888888888888888,\"#fdca26\"],[1.0,\"#f0f921\"]],\"type\":\"histogram2d\"}],\"histogram\":[{\"marker\":{\"pattern\":{\"fillmode\":\"overlay\",\"size\":10,\"solidity\":0.2}},\"type\":\"histogram\"}],\"mesh3d\":[{\"colorbar\":{\"outlinewidth\":0,\"ticks\":\"\"},\"type\":\"mesh3d\"}],\"parcoords\":[{\"line\":{\"colorbar\":{\"outlinewidth\":0,\"ticks\":\"\"}},\"type\":\"parcoords\"}],\"pie\":[{\"automargin\":true,\"type\":\"pie\"}],\"scatter3d\":[{\"line\":{\"colorbar\":{\"outlinewidth\":0,\"ticks\":\"\"}},\"marker\":{\"colorbar\":{\"outlinewidth\":0,\"ticks\":\"\"}},\"type\":\"scatter3d\"}],\"scattercarpet\":[{\"marker\":{\"colorbar\":{\"outlinewidth\":0,\"ticks\":\"\"}},\"type\":\"scattercarpet\"}],\"scattergeo\":[{\"marker\":{\"colorbar\":{\"outlinewidth\":0,\"ticks\":\"\"}},\"type\":\"scattergeo\"}],\"scattergl\":[{\"marker\":{\"colorbar\":{\"outlinewidth\":0,\"ticks\":\"\"}},\"type\":\"scattergl\"}],\"scattermapbox\":[{\"marker\":{\"colorbar\":{\"outlinewidth\":0,\"ticks\":\"\"}},\"type\":\"scattermapbox\"}],\"scatterpolargl\":[{\"marker\":{\"colorbar\":{\"outlinewidth\":0,\"ticks\":\"\"}},\"type\":\"scatterpolargl\"}],\"scatterpolar\":[{\"marker\":{\"colorbar\":{\"outlinewidth\":0,\"ticks\":\"\"}},\"type\":\"scatterpolar\"}],\"scatter\":[{\"fillpattern\":{\"fillmode\":\"overlay\",\"size\":10,\"solidity\":0.2},\"type\":\"scatter\"}],\"scatterternary\":[{\"marker\":{\"colorbar\":{\"outlinewidth\":0,\"ticks\":\"\"}},\"type\":\"scatterternary\"}],\"surface\":[{\"colorbar\":{\"outlinewidth\":0,\"ticks\":\"\"},\"colorscale\":[[0.0,\"#0d0887\"],[0.1111111111111111,\"#46039f\"],[0.2222222222222222,\"#7201a8\"],[0.3333333333333333,\"#9c179e\"],[0.4444444444444444,\"#bd3786\"],[0.5555555555555556,\"#d8576b\"],[0.6666666666666666,\"#ed7953\"],[0.7777777777777778,\"#fb9f3a\"],[0.8888888888888888,\"#fdca26\"],[1.0,\"#f0f921\"]],\"type\":\"surface\"}],\"table\":[{\"cells\":{\"fill\":{\"color\":\"#EBF0F8\"},\"line\":{\"color\":\"white\"}},\"header\":{\"fill\":{\"color\":\"#C8D4E3\"},\"line\":{\"color\":\"white\"}},\"type\":\"table\"}]},\"layout\":{\"annotationdefaults\":{\"arrowcolor\":\"#2a3f5f\",\"arrowhead\":0,\"arrowwidth\":1},\"autotypenumbers\":\"strict\",\"coloraxis\":{\"colorbar\":{\"outlinewidth\":0,\"ticks\":\"\"}},\"colorscale\":{\"diverging\":[[0,\"#8e0152\"],[0.1,\"#c51b7d\"],[0.2,\"#de77ae\"],[0.3,\"#f1b6da\"],[0.4,\"#fde0ef\"],[0.5,\"#f7f7f7\"],[0.6,\"#e6f5d0\"],[0.7,\"#b8e186\"],[0.8,\"#7fbc41\"],[0.9,\"#4d9221\"],[1,\"#276419\"]],\"sequential\":[[0.0,\"#0d0887\"],[0.1111111111111111,\"#46039f\"],[0.2222222222222222,\"#7201a8\"],[0.3333333333333333,\"#9c179e\"],[0.4444444444444444,\"#bd3786\"],[0.5555555555555556,\"#d8576b\"],[0.6666666666666666,\"#ed7953\"],[0.7777777777777778,\"#fb9f3a\"],[0.8888888888888888,\"#fdca26\"],[1.0,\"#f0f921\"]],\"sequentialminus\":[[0.0,\"#0d0887\"],[0.1111111111111111,\"#46039f\"],[0.2222222222222222,\"#7201a8\"],[0.3333333333333333,\"#9c179e\"],[0.4444444444444444,\"#bd3786\"],[0.5555555555555556,\"#d8576b\"],[0.6666666666666666,\"#ed7953\"],[0.7777777777777778,\"#fb9f3a\"],[0.8888888888888888,\"#fdca26\"],[1.0,\"#f0f921\"]]},\"colorway\":[\"#636efa\",\"#EF553B\",\"#00cc96\",\"#ab63fa\",\"#FFA15A\",\"#19d3f3\",\"#FF6692\",\"#B6E880\",\"#FF97FF\",\"#FECB52\"],\"font\":{\"color\":\"#2a3f5f\"},\"geo\":{\"bgcolor\":\"white\",\"lakecolor\":\"white\",\"landcolor\":\"white\",\"showlakes\":true,\"showland\":true,\"subunitcolor\":\"#C8D4E3\"},\"hoverlabel\":{\"align\":\"left\"},\"hovermode\":\"closest\",\"mapbox\":{\"style\":\"light\"},\"paper_bgcolor\":\"white\",\"plot_bgcolor\":\"white\",\"polar\":{\"angularaxis\":{\"gridcolor\":\"#EBF0F8\",\"linecolor\":\"#EBF0F8\",\"ticks\":\"\"},\"bgcolor\":\"white\",\"radialaxis\":{\"gridcolor\":\"#EBF0F8\",\"linecolor\":\"#EBF0F8\",\"ticks\":\"\"}},\"scene\":{\"xaxis\":{\"backgroundcolor\":\"white\",\"gridcolor\":\"#DFE8F3\",\"gridwidth\":2,\"linecolor\":\"#EBF0F8\",\"showbackground\":true,\"ticks\":\"\",\"zerolinecolor\":\"#EBF0F8\"},\"yaxis\":{\"backgroundcolor\":\"white\",\"gridcolor\":\"#DFE8F3\",\"gridwidth\":2,\"linecolor\":\"#EBF0F8\",\"showbackground\":true,\"ticks\":\"\",\"zerolinecolor\":\"#EBF0F8\"},\"zaxis\":{\"backgroundcolor\":\"white\",\"gridcolor\":\"#DFE8F3\",\"gridwidth\":2,\"linecolor\":\"#EBF0F8\",\"showbackground\":true,\"ticks\":\"\",\"zerolinecolor\":\"#EBF0F8\"}},\"shapedefaults\":{\"line\":{\"color\":\"#2a3f5f\"}},\"ternary\":{\"aaxis\":{\"gridcolor\":\"#DFE8F3\",\"linecolor\":\"#A2B1C6\",\"ticks\":\"\"},\"baxis\":{\"gridcolor\":\"#DFE8F3\",\"linecolor\":\"#A2B1C6\",\"ticks\":\"\"},\"bgcolor\":\"white\",\"caxis\":{\"gridcolor\":\"#DFE8F3\",\"linecolor\":\"#A2B1C6\",\"ticks\":\"\"}},\"title\":{\"x\":0.05},\"xaxis\":{\"automargin\":true,\"gridcolor\":\"#EBF0F8\",\"linecolor\":\"#EBF0F8\",\"ticks\":\"\",\"title\":{\"standoff\":15},\"zerolinecolor\":\"#EBF0F8\",\"zerolinewidth\":2},\"yaxis\":{\"automargin\":true,\"gridcolor\":\"#EBF0F8\",\"linecolor\":\"#EBF0F8\",\"ticks\":\"\",\"title\":{\"standoff\":15},\"zerolinecolor\":\"#EBF0F8\",\"zerolinewidth\":2}}},\"hoverlabel\":{\"font\":{\"size\":16},\"bgcolor\":\"white\"},\"hovermode\":\"x\",\"xaxis\":{\"title\":{\"text\":\"Time Slice Start\"}},\"yaxis\":{\"title\":{\"text\":\"Topic Importance\"}}},                        {\"responsive\": true}                    ).then(function(){\n",
       "                            \n",
       "var gd = document.getElementById('04974bf8-3ed2-4c77-8536-e3a87e1a6519');\n",
       "var x = new MutationObserver(function (mutations, observer) {{\n",
       "        var display = window.getComputedStyle(gd).display;\n",
       "        if (!display || display === 'none') {{\n",
       "            console.log([gd, 'removed!']);\n",
       "            Plotly.purge(gd);\n",
       "            observer.disconnect();\n",
       "        }}\n",
       "}});\n",
       "\n",
       "// Listen for the removal of the full notebook cells\n",
       "var notebookContainer = gd.closest('#notebook-container');\n",
       "if (notebookContainer) {{\n",
       "    x.observe(notebookContainer, {childList: true});\n",
       "}}\n",
       "\n",
       "// Listen for the clearing of the current output cell\n",
       "var outputEl = gd.closest('.output');\n",
       "if (outputEl) {{\n",
       "    x.observe(outputEl, {childList: true});\n",
       "}}\n",
       "\n",
       "                        })                };                });            </script>        </div>"
      ]
     },
     "metadata": {},
     "output_type": "display_data"
    }
   ],
   "source": [
    "# plot development of topic importance over time\n",
    "CNN_dynamic_plot = model.plot_topics_over_time(top_k=5)\n",
    "CNN_dynamic_plot"
   ]
  },
  {
   "cell_type": "code",
   "execution_count": 70,
   "id": "a2360d40-3a7d-4b39-8ed9-2fcf7f0a6d02",
   "metadata": {},
   "outputs": [],
   "source": [
    "# save plot as an html file\n",
    "save_dir = \"plots/topic_modeling/\" # specify where to save it\n",
    "os.makedirs(save_dir, exist_ok=True)\n",
    "save_path = os.path.join(save_dir, \"CNN_dynamic_plot.html\")\n",
    "\n",
    "dynamic_plot.write_html(save_path)"
   ]
  },
  {
   "cell_type": "markdown",
   "id": "de341d04-7251-4fc8-9e2e-b7b627e82259",
   "metadata": {},
   "source": [
    "### Fox News"
   ]
  },
  {
   "cell_type": "code",
   "execution_count": 48,
   "id": "d2c46edf-f76f-45aa-8354-14acd5802ce0",
   "metadata": {},
   "outputs": [
    {
     "name": "stderr",
     "output_type": "stream",
     "text": [
      "/tmp/ipykernel_6766/636612833.py:11: SettingWithCopyWarning:\n",
      "\n",
      "\n",
      "A value is trying to be set on a copy of a slice from a DataFrame.\n",
      "Try using .loc[row_indexer,col_indexer] = value instead\n",
      "\n",
      "See the caveats in the documentation: https://pandas.pydata.org/pandas-docs/stable/user_guide/indexing.html#returning-a-view-versus-a-copy\n",
      "\n",
      "/tmp/ipykernel_6766/636612833.py:17: SettingWithCopyWarning:\n",
      "\n",
      "\n",
      "A value is trying to be set on a copy of a slice from a DataFrame.\n",
      "Try using .loc[row_indexer,col_indexer] = value instead\n",
      "\n",
      "See the caveats in the documentation: https://pandas.pydata.org/pandas-docs/stable/user_guide/indexing.html#returning-a-view-versus-a-copy\n",
      "\n"
     ]
    },
    {
     "data": {
      "text/plain": [
       "71"
      ]
     },
     "execution_count": 48,
     "metadata": {},
     "output_type": "execute_result"
    }
   ],
   "source": [
    "# only include CNN\n",
    "\n",
    "# read csv\n",
    "file_path = \"/work/Bachelor/sample_data/dropbox/joined_dataframe/CNN_Fox_joined_17_05.csv\"\n",
    "CNN_Fox_joined_17_05 = pd.read_csv(file_path)\n",
    "\n",
    "# Filter the DataFrame to include only rows where 'source' is 'CNN'\n",
    "Fox_only_df = CNN_Fox_joined_17_05[CNN_Fox_joined_17_05[\"source\"] == \"Fox News\"]\n",
    "\n",
    "# removing the words coded as censored\n",
    "Fox_only_df[\"body\"] = Fox_only_df[\"body\"].str.replace(\"CENSOREDfrfrfr\", \"\", regex=False)\n",
    "\n",
    "# make articles into lists \n",
    "corpus = Fox_only_df[\"body\"].tolist()\n",
    "\n",
    "# convert timestamps to datetime objects\n",
    "Fox_only_df[\"date\"] = pd.to_datetime(Fox_only_df[\"date\"], format = \"%y-%m-%d\")\n",
    "\n",
    "# make timestamps (now datetime objects) into lists\n",
    "timestamps = Fox_only_df[\"date\"].tolist()\n",
    "\n",
    "# inspect data\n",
    "#corpus\n",
    "\n",
    "# check data type\n",
    "#type(corpus)\n",
    "\n",
    "# check length\n",
    "len(corpus)\n"
   ]
  },
  {
   "cell_type": "code",
   "execution_count": 49,
   "id": "44faa2d0-471c-4a31-adc4-34ae4a260a81",
   "metadata": {},
   "outputs": [],
   "source": [
    "# initiate dynamic model\n",
    "model = KeyNMF(5, top_n=6, random_state=42) # top_n must be larger than the first number to run\n",
    "document_topic_matrix = model.fit_transform_dynamic(\n",
    "    corpus, timestamps=timestamps, bins=10\n",
    ")\n"
   ]
  },
  {
   "cell_type": "code",
   "execution_count": 50,
   "id": "d034b10e-f1a1-47d8-b6c8-2c761897c1f1",
   "metadata": {},
   "outputs": [
    {
     "data": {
      "text/html": [
       "<pre style=\"white-space:pre;overflow-x:auto;line-height:normal;font-family:Menlo,'DejaVu Sans Mono',consolas,'Courier New',monospace\">┏━━━━━━━━━━━━━━━━━━┳━━━━━━━━━━━━━━━━━━┳━━━━━━━━━━━━━━━━━━┳━━━━━━━━━━━━━━━━━━┳━━━━━━━━━━━━━━━━━━┳━━━━━━━━━━━━━━━━━━┓\n",
       "┃<span style=\"font-weight: bold\"> Time Slice       </span>┃<span style=\"font-weight: bold\"> 0_trump_preside… </span>┃<span style=\"font-weight: bold\"> 1_news_fox_inve… </span>┃<span style=\"font-weight: bold\"> 2_fbi_investiga… </span>┃<span style=\"font-weight: bold\"> 3_incident_poli… </span>┃<span style=\"font-weight: bold\"> 4_russian_trump… </span>┃\n",
       "┡━━━━━━━━━━━━━━━━━━╇━━━━━━━━━━━━━━━━━━╇━━━━━━━━━━━━━━━━━━╇━━━━━━━━━━━━━━━━━━╇━━━━━━━━━━━━━━━━━━╇━━━━━━━━━━━━━━━━━━┩\n",
       "│ 2017 05 01 -     │ trump,           │ news, 22, fox,   │ congress, day,   │ incident,        │ security,        │\n",
       "│ 2017 05 04       │ president,       │ trump, just      │ thursday,        │ police, public,  │ people,          │\n",
       "│                  │ congress, media, │                  │ friday, nation   │ people, told     │ government,      │\n",
       "│                  │ washington       │                  │                  │                  │ country, nation  │\n",
       "├──────────────────┼──────────────────┼──────────────────┼──────────────────┼──────────────────┼──────────────────┤\n",
       "│ 2017 05 04 -     │ republican,      │ media, fox,      │ reportedly,      │ incident,        │ incident,        │\n",
       "│ 2017 05 07       │ trump,           │ news, house,     │ police, foreign, │ police,          │ foreign, years,  │\n",
       "│                  │ president,       │ told             │ reported, time   │ reportedly,      │ year, left       │\n",
       "│                  │ going,           │                  │                  │ time, years      │                  │\n",
       "│                  │ washington       │                  │                  │                  │                  │\n",
       "├──────────────────┼──────────────────┼──────────────────┼──────────────────┼──────────────────┼──────────────────┤\n",
       "│ 2017 05 07 -     │ trump,           │ public, state,   │ fbi,             │ incident,        │ public, monday,  │\n",
       "│ 2017 05 10       │ president,       │ monday, media,   │ investigation,   │ united, going,   │ media, day,      │\n",
       "│                  │ adviser,         │ day              │ department,      │ said, state      │ state            │\n",
       "│                  │ reportedly,      │                  │ attorney,        │                  │                  │\n",
       "│                  │ foreign          │                  │ president        │                  │                  │\n",
       "├──────────────────┼──────────────────┼──────────────────┼──────────────────┼──────────────────┼──────────────────┤\n",
       "│ 2017 05 10 -     │ president,       │ news, united,    │ fbi, attorney,   │ incident,        │ russian, russia, │\n",
       "│ 2017 05 13       │ officials,       │ congress,        │ presidential,    │ reportedly,      │ fox, military,   │\n",
       "│                  │ trump, chief,    │ reported, trump  │ department,      │ united, reuters, │ attack           │\n",
       "│                  │ attorney         │                  │ trump            │ seen             │                  │\n",
       "├──────────────────┼──────────────────┼──────────────────┼──────────────────┼──────────────────┼──────────────────┤\n",
       "│ 2017 05 13 -     │ trump,           │ family, news,    │ fbi, director,   │ incident,        │ presidential,    │\n",
       "│ 2017 05 16       │ president,       │ york, police,    │ trump,           │ police, public,  │ department, fbi, │\n",
       "│                  │ government,      │ investigation    │ investigation,   │ officials,       │ director,        │\n",
       "│                  │ administration,  │                  │ fox              │ attorney         │ president        │\n",
       "│                  │ foreign          │                  │                  │                  │                  │\n",
       "├──────────────────┼──────────────────┼──────────────────┼──────────────────┼──────────────────┼──────────────────┤\n",
       "│ 2017 05 16 -     │ reports, trump,  │ news, fox,       │ fbi,             │ incident,        │ russian, trump,  │\n",
       "│ 2017 05 19       │ president,       │ family,          │ investigation,   │ attack, police,  │ russia,          │\n",
       "│                  │ reportedly,      │ spokesman,       │ trump,           │ investigation,   │ security,        │\n",
       "│                  │ information      │ report           │ department, fox  │ security         │ presidential     │\n",
       "├──────────────────┼──────────────────┼──────────────────┼──────────────────┼──────────────────┼──────────────────┤\n",
       "│ 2017 05 19 -     │ president,       │ case, news,      │ fbi, police,     │ state,           │ case, trump,     │\n",
       "│ 2017 05 22       │ republican,      │ united, said,    │ senior,          │ department,      │ news, president, │\n",
       "│                  │ trump, congress, │ trump            │ department,      │ police, senior,  │ united           │\n",
       "│                  │ make             │                  │ investigation    │ fbi              │                  │\n",
       "├──────────────────┼──────────────────┼──────────────────┼──────────────────┼──────────────────┼──────────────────┤\n",
       "│ 2017 05 22 -     │ trump,           │ fox, news, just, │ investigation,   │ incident,        │ reuters, trump,  │\n",
       "│ 2017 05 25       │ president,       │ think, way       │ news             │ police, attack,  │ president,       │\n",
       "│                  │ russian,         │                  │                  │ reportedly, city │ russian,         │\n",
       "│                  │ official, said   │                  │                  │                  │ official         │\n",
       "├──────────────────┼──────────────────┼──────────────────┼──────────────────┼──────────────────┼──────────────────┤\n",
       "│ 2017 05 25 -     │ trump,           │ news,            │ fbi,             │ attack, killed,  │ trump, russian,  │\n",
       "│ 2017 05 28       │ republican,      │ information,     │ investigation,   │ incident,        │ presidential,    │\n",
       "│                  │ president,       │ trump, media,    │ congress, media, │ friday, said     │ reuters, news    │\n",
       "│                  │ house, spokesman │ reportedly       │ public           │                  │                  │\n",
       "├──────────────────┼──────────────────┼──────────────────┼──────────────────┼──────────────────┼──────────────────┤\n",
       "│ 2017 05 28 -     │ trump,           │ news, spokesman, │ fbi,             │ american,        │ presidential,    │\n",
       "│ 2017 06 01       │ president,       │ administration,  │ investigation,   │ america, nation, │ trump,           │\n",
       "│                  │ presidential,    │ fbi, chief       │ russian, media,  │ killed, national │ investigation,   │\n",
       "│                  │ 2016, chief      │                  │ trump            │                  │ 2016, russian    │\n",
       "└──────────────────┴──────────────────┴──────────────────┴──────────────────┴──────────────────┴──────────────────┘\n",
       "</pre>\n"
      ],
      "text/plain": [
       "┏━━━━━━━━━━━━━━━━━━┳━━━━━━━━━━━━━━━━━━┳━━━━━━━━━━━━━━━━━━┳━━━━━━━━━━━━━━━━━━┳━━━━━━━━━━━━━━━━━━┳━━━━━━━━━━━━━━━━━━┓\n",
       "┃\u001b[1m \u001b[0m\u001b[1mTime Slice      \u001b[0m\u001b[1m \u001b[0m┃\u001b[1m \u001b[0m\u001b[1m0_trump_preside…\u001b[0m\u001b[1m \u001b[0m┃\u001b[1m \u001b[0m\u001b[1m1_news_fox_inve…\u001b[0m\u001b[1m \u001b[0m┃\u001b[1m \u001b[0m\u001b[1m2_fbi_investiga…\u001b[0m\u001b[1m \u001b[0m┃\u001b[1m \u001b[0m\u001b[1m3_incident_poli…\u001b[0m\u001b[1m \u001b[0m┃\u001b[1m \u001b[0m\u001b[1m4_russian_trump…\u001b[0m\u001b[1m \u001b[0m┃\n",
       "┡━━━━━━━━━━━━━━━━━━╇━━━━━━━━━━━━━━━━━━╇━━━━━━━━━━━━━━━━━━╇━━━━━━━━━━━━━━━━━━╇━━━━━━━━━━━━━━━━━━╇━━━━━━━━━━━━━━━━━━┩\n",
       "│ 2017 05 01 -     │ trump,           │ news, 22, fox,   │ congress, day,   │ incident,        │ security,        │\n",
       "│ 2017 05 04       │ president,       │ trump, just      │ thursday,        │ police, public,  │ people,          │\n",
       "│                  │ congress, media, │                  │ friday, nation   │ people, told     │ government,      │\n",
       "│                  │ washington       │                  │                  │                  │ country, nation  │\n",
       "├──────────────────┼──────────────────┼──────────────────┼──────────────────┼──────────────────┼──────────────────┤\n",
       "│ 2017 05 04 -     │ republican,      │ media, fox,      │ reportedly,      │ incident,        │ incident,        │\n",
       "│ 2017 05 07       │ trump,           │ news, house,     │ police, foreign, │ police,          │ foreign, years,  │\n",
       "│                  │ president,       │ told             │ reported, time   │ reportedly,      │ year, left       │\n",
       "│                  │ going,           │                  │                  │ time, years      │                  │\n",
       "│                  │ washington       │                  │                  │                  │                  │\n",
       "├──────────────────┼──────────────────┼──────────────────┼──────────────────┼──────────────────┼──────────────────┤\n",
       "│ 2017 05 07 -     │ trump,           │ public, state,   │ fbi,             │ incident,        │ public, monday,  │\n",
       "│ 2017 05 10       │ president,       │ monday, media,   │ investigation,   │ united, going,   │ media, day,      │\n",
       "│                  │ adviser,         │ day              │ department,      │ said, state      │ state            │\n",
       "│                  │ reportedly,      │                  │ attorney,        │                  │                  │\n",
       "│                  │ foreign          │                  │ president        │                  │                  │\n",
       "├──────────────────┼──────────────────┼──────────────────┼──────────────────┼──────────────────┼──────────────────┤\n",
       "│ 2017 05 10 -     │ president,       │ news, united,    │ fbi, attorney,   │ incident,        │ russian, russia, │\n",
       "│ 2017 05 13       │ officials,       │ congress,        │ presidential,    │ reportedly,      │ fox, military,   │\n",
       "│                  │ trump, chief,    │ reported, trump  │ department,      │ united, reuters, │ attack           │\n",
       "│                  │ attorney         │                  │ trump            │ seen             │                  │\n",
       "├──────────────────┼──────────────────┼──────────────────┼──────────────────┼──────────────────┼──────────────────┤\n",
       "│ 2017 05 13 -     │ trump,           │ family, news,    │ fbi, director,   │ incident,        │ presidential,    │\n",
       "│ 2017 05 16       │ president,       │ york, police,    │ trump,           │ police, public,  │ department, fbi, │\n",
       "│                  │ government,      │ investigation    │ investigation,   │ officials,       │ director,        │\n",
       "│                  │ administration,  │                  │ fox              │ attorney         │ president        │\n",
       "│                  │ foreign          │                  │                  │                  │                  │\n",
       "├──────────────────┼──────────────────┼──────────────────┼──────────────────┼──────────────────┼──────────────────┤\n",
       "│ 2017 05 16 -     │ reports, trump,  │ news, fox,       │ fbi,             │ incident,        │ russian, trump,  │\n",
       "│ 2017 05 19       │ president,       │ family,          │ investigation,   │ attack, police,  │ russia,          │\n",
       "│                  │ reportedly,      │ spokesman,       │ trump,           │ investigation,   │ security,        │\n",
       "│                  │ information      │ report           │ department, fox  │ security         │ presidential     │\n",
       "├──────────────────┼──────────────────┼──────────────────┼──────────────────┼──────────────────┼──────────────────┤\n",
       "│ 2017 05 19 -     │ president,       │ case, news,      │ fbi, police,     │ state,           │ case, trump,     │\n",
       "│ 2017 05 22       │ republican,      │ united, said,    │ senior,          │ department,      │ news, president, │\n",
       "│                  │ trump, congress, │ trump            │ department,      │ police, senior,  │ united           │\n",
       "│                  │ make             │                  │ investigation    │ fbi              │                  │\n",
       "├──────────────────┼──────────────────┼──────────────────┼──────────────────┼──────────────────┼──────────────────┤\n",
       "│ 2017 05 22 -     │ trump,           │ fox, news, just, │ investigation,   │ incident,        │ reuters, trump,  │\n",
       "│ 2017 05 25       │ president,       │ think, way       │ news             │ police, attack,  │ president,       │\n",
       "│                  │ russian,         │                  │                  │ reportedly, city │ russian,         │\n",
       "│                  │ official, said   │                  │                  │                  │ official         │\n",
       "├──────────────────┼──────────────────┼──────────────────┼──────────────────┼──────────────────┼──────────────────┤\n",
       "│ 2017 05 25 -     │ trump,           │ news,            │ fbi,             │ attack, killed,  │ trump, russian,  │\n",
       "│ 2017 05 28       │ republican,      │ information,     │ investigation,   │ incident,        │ presidential,    │\n",
       "│                  │ president,       │ trump, media,    │ congress, media, │ friday, said     │ reuters, news    │\n",
       "│                  │ house, spokesman │ reportedly       │ public           │                  │                  │\n",
       "├──────────────────┼──────────────────┼──────────────────┼──────────────────┼──────────────────┼──────────────────┤\n",
       "│ 2017 05 28 -     │ trump,           │ news, spokesman, │ fbi,             │ american,        │ presidential,    │\n",
       "│ 2017 06 01       │ president,       │ administration,  │ investigation,   │ america, nation, │ trump,           │\n",
       "│                  │ presidential,    │ fbi, chief       │ russian, media,  │ killed, national │ investigation,   │\n",
       "│                  │ 2016, chief      │                  │ trump            │                  │ 2016, russian    │\n",
       "└──────────────────┴──────────────────┴──────────────────┴──────────────────┴──────────────────┴──────────────────┘\n"
      ]
     },
     "metadata": {},
     "output_type": "display_data"
    }
   ],
   "source": [
    "# see topics and their keywords over time \n",
    "model.print_topics_over_time()"
   ]
  },
  {
   "cell_type": "code",
   "execution_count": 71,
   "id": "f465261b-ba7d-48f5-aee4-f28849622cdb",
   "metadata": {},
   "outputs": [
    {
     "data": {
      "application/vnd.plotly.v1+json": {
       "config": {
        "plotlyServerURL": "https://plot.ly"
       },
       "data": [
        {
         "hovertemplate": "<b>%{text}</b>",
         "line": {
          "width": 3
         },
         "marker": {
          "line": {
           "color": "black",
           "width": 2
          },
          "size": 14
         },
         "mode": "markers+lines",
         "name": "0_trump_president_republican_congress",
         "text": [
          "trump, president, congress, media, washington",
          "republican, trump, president, going, washington",
          "trump, president, adviser, reportedly, foreign",
          "president, officials, trump, chief, attorney",
          "trump, president, government, administration, foreign",
          "reports, trump, president, reportedly, information",
          "president, republican, trump, congress, make",
          "trump, president, russian, official, said",
          "trump, republican, president, house, spokesman",
          "trump, president, presidential, 2016, chief"
         ],
         "type": "scatter",
         "x": [
          "2017-05-01T02:00:00",
          "2017-05-04T02:00:00",
          "2017-05-07T02:00:00",
          "2017-05-10T02:00:00",
          "2017-05-13T02:00:00",
          "2017-05-16T02:00:00",
          "2017-05-19T02:00:00",
          "2017-05-22T02:00:00",
          "2017-05-25T02:00:00",
          "2017-05-28T02:00:00"
         ],
         "y": [
          0.4168491580454091,
          0.3131465422547183,
          0.2947717163004184,
          0.2148295980554209,
          0.226908363435766,
          0.08726365108634306,
          0.48140368325530014,
          0.12227481299730276,
          0.25302448733570715,
          0.30226512460047245
         ]
        },
        {
         "hovertemplate": "<b>%{text}</b>",
         "line": {
          "width": 3
         },
         "marker": {
          "line": {
           "color": "black",
           "width": 2
          },
          "size": 14
         },
         "mode": "markers+lines",
         "name": "1_news_fox_investigation_media",
         "text": [
          "news, 22, fox, trump, just",
          "media, fox, news, house, told",
          "public, state, monday, media, day",
          "news, united, congress, reported, trump",
          "family, news, york, police, investigation",
          "news, fox, family, spokesman, report",
          "case, news, united, said, trump",
          "fox, news, just, think, way",
          "news, information, trump, media, reportedly",
          "news, spokesman, administration, fbi, chief"
         ],
         "type": "scatter",
         "x": [
          "2017-05-01T02:00:00",
          "2017-05-04T02:00:00",
          "2017-05-07T02:00:00",
          "2017-05-10T02:00:00",
          "2017-05-13T02:00:00",
          "2017-05-16T02:00:00",
          "2017-05-19T02:00:00",
          "2017-05-22T02:00:00",
          "2017-05-25T02:00:00",
          "2017-05-28T02:00:00"
         ],
         "y": [
          0.21233078437916914,
          0.3307698232346374,
          0.01866724239484853,
          0.16815424930928502,
          0.1517773061798712,
          0.20150216557631678,
          0.12254419420258349,
          0.28066380101868893,
          0.2744395953182798,
          0.18649329909569548
         ]
        },
        {
         "hovertemplate": "<b>%{text}</b>",
         "line": {
          "width": 3
         },
         "marker": {
          "line": {
           "color": "black",
           "width": 2
          },
          "size": 14
         },
         "mode": "markers+lines",
         "name": "2_fbi_investigation_department_attorney",
         "text": [
          "congress, day, thursday, friday, nation",
          "reportedly, police, foreign, reported, time",
          "fbi, investigation, department, attorney, president",
          "fbi, attorney, presidential, department, trump",
          "fbi, director, trump, investigation, fox",
          "fbi, investigation, trump, department, fox",
          "fbi, police, senior, department, investigation",
          "investigation, news, 22, trump, just",
          "fbi, investigation, congress, media, public",
          "fbi, investigation, russian, media, trump"
         ],
         "type": "scatter",
         "x": [
          "2017-05-01T02:00:00",
          "2017-05-04T02:00:00",
          "2017-05-07T02:00:00",
          "2017-05-10T02:00:00",
          "2017-05-13T02:00:00",
          "2017-05-16T02:00:00",
          "2017-05-19T02:00:00",
          "2017-05-22T02:00:00",
          "2017-05-25T02:00:00",
          "2017-05-28T02:00:00"
         ],
         "y": [
          0,
          0,
          0.5064287906073082,
          0.21020789297268994,
          0.3699560919038083,
          0.2987439029079412,
          0.2792029886793252,
          0.04992883287268194,
          0.10196949646909122,
          0.23629751144250483
         ]
        },
        {
         "hovertemplate": "<b>%{text}</b>",
         "line": {
          "width": 3
         },
         "marker": {
          "line": {
           "color": "black",
           "width": 2
          },
          "size": 14
         },
         "mode": "markers+lines",
         "name": "3_incident_police_attack_reportedly",
         "text": [
          "incident, police, public, people, told",
          "incident, police, reportedly, time, years",
          "incident, united, going, said, state",
          "incident, reportedly, united, reuters, seen",
          "incident, police, public, officials, attorney",
          "incident, attack, police, investigation, security",
          "state, department, police, senior, fbi",
          "incident, police, attack, reportedly, city",
          "attack, killed, incident, friday, said",
          "american, america, nation, killed, national"
         ],
         "type": "scatter",
         "x": [
          "2017-05-01T02:00:00",
          "2017-05-04T02:00:00",
          "2017-05-07T02:00:00",
          "2017-05-10T02:00:00",
          "2017-05-13T02:00:00",
          "2017-05-16T02:00:00",
          "2017-05-19T02:00:00",
          "2017-05-22T02:00:00",
          "2017-05-25T02:00:00",
          "2017-05-28T02:00:00"
         ],
         "y": [
          0.2896911234819339,
          0.35608363451064434,
          0.18013225069742508,
          0.14353010233285052,
          0.19554062213255774,
          0.1242267033742012,
          0.10330606695269301,
          0.4609482933106762,
          0.1645499000772576,
          0.01946353406300673
         ]
        },
        {
         "hovertemplate": "<b>%{text}</b>",
         "line": {
          "width": 3
         },
         "marker": {
          "line": {
           "color": "black",
           "width": 2
          },
          "size": 14
         },
         "mode": "markers+lines",
         "name": "4_russian_trump_presidential_russia",
         "text": [
          "security, people, government, country, nation",
          "incident, foreign, years, year, left",
          "public, monday, media, day, state",
          "russian, russia, fox, military, attack",
          "presidential, department, fbi, director, president",
          "russian, trump, russia, security, presidential",
          "case, trump, news, president, united",
          "reuters, trump, president, russian, official",
          "trump, russian, presidential, reuters, news",
          "presidential, trump, investigation, 2016, russian"
         ],
         "type": "scatter",
         "x": [
          "2017-05-01T02:00:00",
          "2017-05-04T02:00:00",
          "2017-05-07T02:00:00",
          "2017-05-10T02:00:00",
          "2017-05-13T02:00:00",
          "2017-05-16T02:00:00",
          "2017-05-19T02:00:00",
          "2017-05-22T02:00:00",
          "2017-05-25T02:00:00",
          "2017-05-28T02:00:00"
         ],
         "y": [
          0.0811289340934879,
          0,
          0,
          0.26327815732975374,
          0.055817616347996694,
          0.2882635770551978,
          0.013543066910098052,
          0.08618425980065009,
          0.20601652079966426,
          0.2554805307983206
         ]
        }
       ],
       "layout": {
        "autosize": true,
        "hoverlabel": {
         "bgcolor": "white",
         "font": {
          "size": 16
         }
        },
        "hovermode": "x",
        "template": {
         "data": {
          "bar": [
           {
            "error_x": {
             "color": "#2a3f5f"
            },
            "error_y": {
             "color": "#2a3f5f"
            },
            "marker": {
             "line": {
              "color": "white",
              "width": 0.5
             },
             "pattern": {
              "fillmode": "overlay",
              "size": 10,
              "solidity": 0.2
             }
            },
            "type": "bar"
           }
          ],
          "barpolar": [
           {
            "marker": {
             "line": {
              "color": "white",
              "width": 0.5
             },
             "pattern": {
              "fillmode": "overlay",
              "size": 10,
              "solidity": 0.2
             }
            },
            "type": "barpolar"
           }
          ],
          "carpet": [
           {
            "aaxis": {
             "endlinecolor": "#2a3f5f",
             "gridcolor": "#C8D4E3",
             "linecolor": "#C8D4E3",
             "minorgridcolor": "#C8D4E3",
             "startlinecolor": "#2a3f5f"
            },
            "baxis": {
             "endlinecolor": "#2a3f5f",
             "gridcolor": "#C8D4E3",
             "linecolor": "#C8D4E3",
             "minorgridcolor": "#C8D4E3",
             "startlinecolor": "#2a3f5f"
            },
            "type": "carpet"
           }
          ],
          "choropleth": [
           {
            "colorbar": {
             "outlinewidth": 0,
             "ticks": ""
            },
            "type": "choropleth"
           }
          ],
          "contour": [
           {
            "colorbar": {
             "outlinewidth": 0,
             "ticks": ""
            },
            "colorscale": [
             [
              0,
              "#0d0887"
             ],
             [
              0.1111111111111111,
              "#46039f"
             ],
             [
              0.2222222222222222,
              "#7201a8"
             ],
             [
              0.3333333333333333,
              "#9c179e"
             ],
             [
              0.4444444444444444,
              "#bd3786"
             ],
             [
              0.5555555555555556,
              "#d8576b"
             ],
             [
              0.6666666666666666,
              "#ed7953"
             ],
             [
              0.7777777777777778,
              "#fb9f3a"
             ],
             [
              0.8888888888888888,
              "#fdca26"
             ],
             [
              1,
              "#f0f921"
             ]
            ],
            "type": "contour"
           }
          ],
          "contourcarpet": [
           {
            "colorbar": {
             "outlinewidth": 0,
             "ticks": ""
            },
            "type": "contourcarpet"
           }
          ],
          "heatmap": [
           {
            "colorbar": {
             "outlinewidth": 0,
             "ticks": ""
            },
            "colorscale": [
             [
              0,
              "#0d0887"
             ],
             [
              0.1111111111111111,
              "#46039f"
             ],
             [
              0.2222222222222222,
              "#7201a8"
             ],
             [
              0.3333333333333333,
              "#9c179e"
             ],
             [
              0.4444444444444444,
              "#bd3786"
             ],
             [
              0.5555555555555556,
              "#d8576b"
             ],
             [
              0.6666666666666666,
              "#ed7953"
             ],
             [
              0.7777777777777778,
              "#fb9f3a"
             ],
             [
              0.8888888888888888,
              "#fdca26"
             ],
             [
              1,
              "#f0f921"
             ]
            ],
            "type": "heatmap"
           }
          ],
          "heatmapgl": [
           {
            "colorbar": {
             "outlinewidth": 0,
             "ticks": ""
            },
            "colorscale": [
             [
              0,
              "#0d0887"
             ],
             [
              0.1111111111111111,
              "#46039f"
             ],
             [
              0.2222222222222222,
              "#7201a8"
             ],
             [
              0.3333333333333333,
              "#9c179e"
             ],
             [
              0.4444444444444444,
              "#bd3786"
             ],
             [
              0.5555555555555556,
              "#d8576b"
             ],
             [
              0.6666666666666666,
              "#ed7953"
             ],
             [
              0.7777777777777778,
              "#fb9f3a"
             ],
             [
              0.8888888888888888,
              "#fdca26"
             ],
             [
              1,
              "#f0f921"
             ]
            ],
            "type": "heatmapgl"
           }
          ],
          "histogram": [
           {
            "marker": {
             "pattern": {
              "fillmode": "overlay",
              "size": 10,
              "solidity": 0.2
             }
            },
            "type": "histogram"
           }
          ],
          "histogram2d": [
           {
            "colorbar": {
             "outlinewidth": 0,
             "ticks": ""
            },
            "colorscale": [
             [
              0,
              "#0d0887"
             ],
             [
              0.1111111111111111,
              "#46039f"
             ],
             [
              0.2222222222222222,
              "#7201a8"
             ],
             [
              0.3333333333333333,
              "#9c179e"
             ],
             [
              0.4444444444444444,
              "#bd3786"
             ],
             [
              0.5555555555555556,
              "#d8576b"
             ],
             [
              0.6666666666666666,
              "#ed7953"
             ],
             [
              0.7777777777777778,
              "#fb9f3a"
             ],
             [
              0.8888888888888888,
              "#fdca26"
             ],
             [
              1,
              "#f0f921"
             ]
            ],
            "type": "histogram2d"
           }
          ],
          "histogram2dcontour": [
           {
            "colorbar": {
             "outlinewidth": 0,
             "ticks": ""
            },
            "colorscale": [
             [
              0,
              "#0d0887"
             ],
             [
              0.1111111111111111,
              "#46039f"
             ],
             [
              0.2222222222222222,
              "#7201a8"
             ],
             [
              0.3333333333333333,
              "#9c179e"
             ],
             [
              0.4444444444444444,
              "#bd3786"
             ],
             [
              0.5555555555555556,
              "#d8576b"
             ],
             [
              0.6666666666666666,
              "#ed7953"
             ],
             [
              0.7777777777777778,
              "#fb9f3a"
             ],
             [
              0.8888888888888888,
              "#fdca26"
             ],
             [
              1,
              "#f0f921"
             ]
            ],
            "type": "histogram2dcontour"
           }
          ],
          "mesh3d": [
           {
            "colorbar": {
             "outlinewidth": 0,
             "ticks": ""
            },
            "type": "mesh3d"
           }
          ],
          "parcoords": [
           {
            "line": {
             "colorbar": {
              "outlinewidth": 0,
              "ticks": ""
             }
            },
            "type": "parcoords"
           }
          ],
          "pie": [
           {
            "automargin": true,
            "type": "pie"
           }
          ],
          "scatter": [
           {
            "fillpattern": {
             "fillmode": "overlay",
             "size": 10,
             "solidity": 0.2
            },
            "type": "scatter"
           }
          ],
          "scatter3d": [
           {
            "line": {
             "colorbar": {
              "outlinewidth": 0,
              "ticks": ""
             }
            },
            "marker": {
             "colorbar": {
              "outlinewidth": 0,
              "ticks": ""
             }
            },
            "type": "scatter3d"
           }
          ],
          "scattercarpet": [
           {
            "marker": {
             "colorbar": {
              "outlinewidth": 0,
              "ticks": ""
             }
            },
            "type": "scattercarpet"
           }
          ],
          "scattergeo": [
           {
            "marker": {
             "colorbar": {
              "outlinewidth": 0,
              "ticks": ""
             }
            },
            "type": "scattergeo"
           }
          ],
          "scattergl": [
           {
            "marker": {
             "colorbar": {
              "outlinewidth": 0,
              "ticks": ""
             }
            },
            "type": "scattergl"
           }
          ],
          "scattermapbox": [
           {
            "marker": {
             "colorbar": {
              "outlinewidth": 0,
              "ticks": ""
             }
            },
            "type": "scattermapbox"
           }
          ],
          "scatterpolar": [
           {
            "marker": {
             "colorbar": {
              "outlinewidth": 0,
              "ticks": ""
             }
            },
            "type": "scatterpolar"
           }
          ],
          "scatterpolargl": [
           {
            "marker": {
             "colorbar": {
              "outlinewidth": 0,
              "ticks": ""
             }
            },
            "type": "scatterpolargl"
           }
          ],
          "scatterternary": [
           {
            "marker": {
             "colorbar": {
              "outlinewidth": 0,
              "ticks": ""
             }
            },
            "type": "scatterternary"
           }
          ],
          "surface": [
           {
            "colorbar": {
             "outlinewidth": 0,
             "ticks": ""
            },
            "colorscale": [
             [
              0,
              "#0d0887"
             ],
             [
              0.1111111111111111,
              "#46039f"
             ],
             [
              0.2222222222222222,
              "#7201a8"
             ],
             [
              0.3333333333333333,
              "#9c179e"
             ],
             [
              0.4444444444444444,
              "#bd3786"
             ],
             [
              0.5555555555555556,
              "#d8576b"
             ],
             [
              0.6666666666666666,
              "#ed7953"
             ],
             [
              0.7777777777777778,
              "#fb9f3a"
             ],
             [
              0.8888888888888888,
              "#fdca26"
             ],
             [
              1,
              "#f0f921"
             ]
            ],
            "type": "surface"
           }
          ],
          "table": [
           {
            "cells": {
             "fill": {
              "color": "#EBF0F8"
             },
             "line": {
              "color": "white"
             }
            },
            "header": {
             "fill": {
              "color": "#C8D4E3"
             },
             "line": {
              "color": "white"
             }
            },
            "type": "table"
           }
          ]
         },
         "layout": {
          "annotationdefaults": {
           "arrowcolor": "#2a3f5f",
           "arrowhead": 0,
           "arrowwidth": 1
          },
          "autotypenumbers": "strict",
          "coloraxis": {
           "colorbar": {
            "outlinewidth": 0,
            "ticks": ""
           }
          },
          "colorscale": {
           "diverging": [
            [
             0,
             "#8e0152"
            ],
            [
             0.1,
             "#c51b7d"
            ],
            [
             0.2,
             "#de77ae"
            ],
            [
             0.3,
             "#f1b6da"
            ],
            [
             0.4,
             "#fde0ef"
            ],
            [
             0.5,
             "#f7f7f7"
            ],
            [
             0.6,
             "#e6f5d0"
            ],
            [
             0.7,
             "#b8e186"
            ],
            [
             0.8,
             "#7fbc41"
            ],
            [
             0.9,
             "#4d9221"
            ],
            [
             1,
             "#276419"
            ]
           ],
           "sequential": [
            [
             0,
             "#0d0887"
            ],
            [
             0.1111111111111111,
             "#46039f"
            ],
            [
             0.2222222222222222,
             "#7201a8"
            ],
            [
             0.3333333333333333,
             "#9c179e"
            ],
            [
             0.4444444444444444,
             "#bd3786"
            ],
            [
             0.5555555555555556,
             "#d8576b"
            ],
            [
             0.6666666666666666,
             "#ed7953"
            ],
            [
             0.7777777777777778,
             "#fb9f3a"
            ],
            [
             0.8888888888888888,
             "#fdca26"
            ],
            [
             1,
             "#f0f921"
            ]
           ],
           "sequentialminus": [
            [
             0,
             "#0d0887"
            ],
            [
             0.1111111111111111,
             "#46039f"
            ],
            [
             0.2222222222222222,
             "#7201a8"
            ],
            [
             0.3333333333333333,
             "#9c179e"
            ],
            [
             0.4444444444444444,
             "#bd3786"
            ],
            [
             0.5555555555555556,
             "#d8576b"
            ],
            [
             0.6666666666666666,
             "#ed7953"
            ],
            [
             0.7777777777777778,
             "#fb9f3a"
            ],
            [
             0.8888888888888888,
             "#fdca26"
            ],
            [
             1,
             "#f0f921"
            ]
           ]
          },
          "colorway": [
           "#636efa",
           "#EF553B",
           "#00cc96",
           "#ab63fa",
           "#FFA15A",
           "#19d3f3",
           "#FF6692",
           "#B6E880",
           "#FF97FF",
           "#FECB52"
          ],
          "font": {
           "color": "#2a3f5f"
          },
          "geo": {
           "bgcolor": "white",
           "lakecolor": "white",
           "landcolor": "white",
           "showlakes": true,
           "showland": true,
           "subunitcolor": "#C8D4E3"
          },
          "hoverlabel": {
           "align": "left"
          },
          "hovermode": "closest",
          "mapbox": {
           "style": "light"
          },
          "paper_bgcolor": "white",
          "plot_bgcolor": "white",
          "polar": {
           "angularaxis": {
            "gridcolor": "#EBF0F8",
            "linecolor": "#EBF0F8",
            "ticks": ""
           },
           "bgcolor": "white",
           "radialaxis": {
            "gridcolor": "#EBF0F8",
            "linecolor": "#EBF0F8",
            "ticks": ""
           }
          },
          "scene": {
           "xaxis": {
            "backgroundcolor": "white",
            "gridcolor": "#DFE8F3",
            "gridwidth": 2,
            "linecolor": "#EBF0F8",
            "showbackground": true,
            "ticks": "",
            "zerolinecolor": "#EBF0F8"
           },
           "yaxis": {
            "backgroundcolor": "white",
            "gridcolor": "#DFE8F3",
            "gridwidth": 2,
            "linecolor": "#EBF0F8",
            "showbackground": true,
            "ticks": "",
            "zerolinecolor": "#EBF0F8"
           },
           "zaxis": {
            "backgroundcolor": "white",
            "gridcolor": "#DFE8F3",
            "gridwidth": 2,
            "linecolor": "#EBF0F8",
            "showbackground": true,
            "ticks": "",
            "zerolinecolor": "#EBF0F8"
           }
          },
          "shapedefaults": {
           "line": {
            "color": "#2a3f5f"
           }
          },
          "ternary": {
           "aaxis": {
            "gridcolor": "#DFE8F3",
            "linecolor": "#A2B1C6",
            "ticks": ""
           },
           "baxis": {
            "gridcolor": "#DFE8F3",
            "linecolor": "#A2B1C6",
            "ticks": ""
           },
           "bgcolor": "white",
           "caxis": {
            "gridcolor": "#DFE8F3",
            "linecolor": "#A2B1C6",
            "ticks": ""
           }
          },
          "title": {
           "x": 0.05
          },
          "xaxis": {
           "automargin": true,
           "gridcolor": "#EBF0F8",
           "linecolor": "#EBF0F8",
           "ticks": "",
           "title": {
            "standoff": 15
           },
           "zerolinecolor": "#EBF0F8",
           "zerolinewidth": 2
          },
          "yaxis": {
           "automargin": true,
           "gridcolor": "#EBF0F8",
           "linecolor": "#EBF0F8",
           "ticks": "",
           "title": {
            "standoff": 15
           },
           "zerolinecolor": "#EBF0F8",
           "zerolinewidth": 2
          }
         }
        },
        "xaxis": {
         "autorange": true,
         "range": [
          "2017-04-29 02:05:10.4387",
          "2017-05-30 01:54:49.5613"
         ],
         "title": {
          "text": "Time Slice Start"
         },
         "type": "date"
        },
        "yaxis": {
         "autorange": true,
         "range": [
          -0.06220838085314685,
          0.568637171460455
         ],
         "title": {
          "text": "Topic Importance"
         },
         "type": "linear"
        }
       }
      },
      "image/png": "[encoded data removed]",
      "text/html": [
       "<div>                            <div id=\"203f328c-5ed7-45a5-b35c-781fe994fad5\" class=\"plotly-graph-div\" style=\"height:525px; width:100%;\"></div>            <script type=\"text/javascript\">                require([\"plotly\"], function(Plotly) {                    window.PLOTLYENV=window.PLOTLYENV || {};                                    if (document.getElementById(\"203f328c-5ed7-45a5-b35c-781fe994fad5\")) {                    Plotly.newPlot(                        \"203f328c-5ed7-45a5-b35c-781fe994fad5\",                        [{\"hovertemplate\":\"\\u003cb\\u003e%{text}\\u003c\\u002fb\\u003e\",\"line\":{\"width\":3},\"marker\":{\"line\":{\"color\":\"black\",\"width\":2},\"size\":14},\"mode\":\"markers+lines\",\"name\":\"0_trump_president_republican_congress\",\"text\":[\"trump, president, congress, media, washington\",\"republican, trump, president, going, washington\",\"trump, president, adviser, reportedly, foreign\",\"president, officials, trump, chief, attorney\",\"trump, president, government, administration, foreign\",\"reports, trump, president, reportedly, information\",\"president, republican, trump, congress, make\",\"trump, president, russian, official, said\",\"trump, republican, president, house, spokesman\",\"trump, president, presidential, 2016, chief\"],\"x\":[\"2017-05-01T02:00:00\",\"2017-05-04T02:00:00\",\"2017-05-07T02:00:00\",\"2017-05-10T02:00:00\",\"2017-05-13T02:00:00\",\"2017-05-16T02:00:00\",\"2017-05-19T02:00:00\",\"2017-05-22T02:00:00\",\"2017-05-25T02:00:00\",\"2017-05-28T02:00:00\"],\"y\":[0.4168491580454091,0.3131465422547183,0.2947717163004184,0.2148295980554209,0.226908363435766,0.08726365108634306,0.48140368325530014,0.12227481299730276,0.25302448733570715,0.30226512460047245],\"type\":\"scatter\"},{\"hovertemplate\":\"\\u003cb\\u003e%{text}\\u003c\\u002fb\\u003e\",\"line\":{\"width\":3},\"marker\":{\"line\":{\"color\":\"black\",\"width\":2},\"size\":14},\"mode\":\"markers+lines\",\"name\":\"1_news_fox_investigation_media\",\"text\":[\"news, 22, fox, trump, just\",\"media, fox, news, house, told\",\"public, state, monday, media, day\",\"news, united, congress, reported, trump\",\"family, news, york, police, investigation\",\"news, fox, family, spokesman, report\",\"case, news, united, said, trump\",\"fox, news, just, think, way\",\"news, information, trump, media, reportedly\",\"news, spokesman, administration, fbi, chief\"],\"x\":[\"2017-05-01T02:00:00\",\"2017-05-04T02:00:00\",\"2017-05-07T02:00:00\",\"2017-05-10T02:00:00\",\"2017-05-13T02:00:00\",\"2017-05-16T02:00:00\",\"2017-05-19T02:00:00\",\"2017-05-22T02:00:00\",\"2017-05-25T02:00:00\",\"2017-05-28T02:00:00\"],\"y\":[0.21233078437916914,0.3307698232346374,0.01866724239484853,0.16815424930928502,0.1517773061798712,0.20150216557631678,0.12254419420258349,0.28066380101868893,0.2744395953182798,0.18649329909569548],\"type\":\"scatter\"},{\"hovertemplate\":\"\\u003cb\\u003e%{text}\\u003c\\u002fb\\u003e\",\"line\":{\"width\":3},\"marker\":{\"line\":{\"color\":\"black\",\"width\":2},\"size\":14},\"mode\":\"markers+lines\",\"name\":\"2_fbi_investigation_department_attorney\",\"text\":[\"congress, day, thursday, friday, nation\",\"reportedly, police, foreign, reported, time\",\"fbi, investigation, department, attorney, president\",\"fbi, attorney, presidential, department, trump\",\"fbi, director, trump, investigation, fox\",\"fbi, investigation, trump, department, fox\",\"fbi, police, senior, department, investigation\",\"investigation, news, 22, trump, just\",\"fbi, investigation, congress, media, public\",\"fbi, investigation, russian, media, trump\"],\"x\":[\"2017-05-01T02:00:00\",\"2017-05-04T02:00:00\",\"2017-05-07T02:00:00\",\"2017-05-10T02:00:00\",\"2017-05-13T02:00:00\",\"2017-05-16T02:00:00\",\"2017-05-19T02:00:00\",\"2017-05-22T02:00:00\",\"2017-05-25T02:00:00\",\"2017-05-28T02:00:00\"],\"y\":[0.0,0.0,0.5064287906073082,0.21020789297268994,0.3699560919038083,0.2987439029079412,0.2792029886793252,0.04992883287268194,0.10196949646909122,0.23629751144250483],\"type\":\"scatter\"},{\"hovertemplate\":\"\\u003cb\\u003e%{text}\\u003c\\u002fb\\u003e\",\"line\":{\"width\":3},\"marker\":{\"line\":{\"color\":\"black\",\"width\":2},\"size\":14},\"mode\":\"markers+lines\",\"name\":\"3_incident_police_attack_reportedly\",\"text\":[\"incident, police, public, people, told\",\"incident, police, reportedly, time, years\",\"incident, united, going, said, state\",\"incident, reportedly, united, reuters, seen\",\"incident, police, public, officials, attorney\",\"incident, attack, police, investigation, security\",\"state, department, police, senior, fbi\",\"incident, police, attack, reportedly, city\",\"attack, killed, incident, friday, said\",\"american, america, nation, killed, national\"],\"x\":[\"2017-05-01T02:00:00\",\"2017-05-04T02:00:00\",\"2017-05-07T02:00:00\",\"2017-05-10T02:00:00\",\"2017-05-13T02:00:00\",\"2017-05-16T02:00:00\",\"2017-05-19T02:00:00\",\"2017-05-22T02:00:00\",\"2017-05-25T02:00:00\",\"2017-05-28T02:00:00\"],\"y\":[0.2896911234819339,0.35608363451064434,0.18013225069742508,0.14353010233285052,0.19554062213255774,0.1242267033742012,0.10330606695269301,0.4609482933106762,0.1645499000772576,0.01946353406300673],\"type\":\"scatter\"},{\"hovertemplate\":\"\\u003cb\\u003e%{text}\\u003c\\u002fb\\u003e\",\"line\":{\"width\":3},\"marker\":{\"line\":{\"color\":\"black\",\"width\":2},\"size\":14},\"mode\":\"markers+lines\",\"name\":\"4_russian_trump_presidential_russia\",\"text\":[\"security, people, government, country, nation\",\"incident, foreign, years, year, left\",\"public, monday, media, day, state\",\"russian, russia, fox, military, attack\",\"presidential, department, fbi, director, president\",\"russian, trump, russia, security, presidential\",\"case, trump, news, president, united\",\"reuters, trump, president, russian, official\",\"trump, russian, presidential, reuters, news\",\"presidential, trump, investigation, 2016, russian\"],\"x\":[\"2017-05-01T02:00:00\",\"2017-05-04T02:00:00\",\"2017-05-07T02:00:00\",\"2017-05-10T02:00:00\",\"2017-05-13T02:00:00\",\"2017-05-16T02:00:00\",\"2017-05-19T02:00:00\",\"2017-05-22T02:00:00\",\"2017-05-25T02:00:00\",\"2017-05-28T02:00:00\"],\"y\":[0.0811289340934879,0.0,0.0,0.26327815732975374,0.055817616347996694,0.2882635770551978,0.013543066910098052,0.08618425980065009,0.20601652079966426,0.2554805307983206],\"type\":\"scatter\"}],                        {\"template\":{\"data\":{\"barpolar\":[{\"marker\":{\"line\":{\"color\":\"white\",\"width\":0.5},\"pattern\":{\"fillmode\":\"overlay\",\"size\":10,\"solidity\":0.2}},\"type\":\"barpolar\"}],\"bar\":[{\"error_x\":{\"color\":\"#2a3f5f\"},\"error_y\":{\"color\":\"#2a3f5f\"},\"marker\":{\"line\":{\"color\":\"white\",\"width\":0.5},\"pattern\":{\"fillmode\":\"overlay\",\"size\":10,\"solidity\":0.2}},\"type\":\"bar\"}],\"carpet\":[{\"aaxis\":{\"endlinecolor\":\"#2a3f5f\",\"gridcolor\":\"#C8D4E3\",\"linecolor\":\"#C8D4E3\",\"minorgridcolor\":\"#C8D4E3\",\"startlinecolor\":\"#2a3f5f\"},\"baxis\":{\"endlinecolor\":\"#2a3f5f\",\"gridcolor\":\"#C8D4E3\",\"linecolor\":\"#C8D4E3\",\"minorgridcolor\":\"#C8D4E3\",\"startlinecolor\":\"#2a3f5f\"},\"type\":\"carpet\"}],\"choropleth\":[{\"colorbar\":{\"outlinewidth\":0,\"ticks\":\"\"},\"type\":\"choropleth\"}],\"contourcarpet\":[{\"colorbar\":{\"outlinewidth\":0,\"ticks\":\"\"},\"type\":\"contourcarpet\"}],\"contour\":[{\"colorbar\":{\"outlinewidth\":0,\"ticks\":\"\"},\"colorscale\":[[0.0,\"#0d0887\"],[0.1111111111111111,\"#46039f\"],[0.2222222222222222,\"#7201a8\"],[0.3333333333333333,\"#9c179e\"],[0.4444444444444444,\"#bd3786\"],[0.5555555555555556,\"#d8576b\"],[0.6666666666666666,\"#ed7953\"],[0.7777777777777778,\"#fb9f3a\"],[0.8888888888888888,\"#fdca26\"],[1.0,\"#f0f921\"]],\"type\":\"contour\"}],\"heatmapgl\":[{\"colorbar\":{\"outlinewidth\":0,\"ticks\":\"\"},\"colorscale\":[[0.0,\"#0d0887\"],[0.1111111111111111,\"#46039f\"],[0.2222222222222222,\"#7201a8\"],[0.3333333333333333,\"#9c179e\"],[0.4444444444444444,\"#bd3786\"],[0.5555555555555556,\"#d8576b\"],[0.6666666666666666,\"#ed7953\"],[0.7777777777777778,\"#fb9f3a\"],[0.8888888888888888,\"#fdca26\"],[1.0,\"#f0f921\"]],\"type\":\"heatmapgl\"}],\"heatmap\":[{\"colorbar\":{\"outlinewidth\":0,\"ticks\":\"\"},\"colorscale\":[[0.0,\"#0d0887\"],[0.1111111111111111,\"#46039f\"],[0.2222222222222222,\"#7201a8\"],[0.3333333333333333,\"#9c179e\"],[0.4444444444444444,\"#bd3786\"],[0.5555555555555556,\"#d8576b\"],[0.6666666666666666,\"#ed7953\"],[0.7777777777777778,\"#fb9f3a\"],[0.8888888888888888,\"#fdca26\"],[1.0,\"#f0f921\"]],\"type\":\"heatmap\"}],\"histogram2dcontour\":[{\"colorbar\":{\"outlinewidth\":0,\"ticks\":\"\"},\"colorscale\":[[0.0,\"#0d0887\"],[0.1111111111111111,\"#46039f\"],[0.2222222222222222,\"#7201a8\"],[0.3333333333333333,\"#9c179e\"],[0.4444444444444444,\"#bd3786\"],[0.5555555555555556,\"#d8576b\"],[0.6666666666666666,\"#ed7953\"],[0.7777777777777778,\"#fb9f3a\"],[0.8888888888888888,\"#fdca26\"],[1.0,\"#f0f921\"]],\"type\":\"histogram2dcontour\"}],\"histogram2d\":[{\"colorbar\":{\"outlinewidth\":0,\"ticks\":\"\"},\"colorscale\":[[0.0,\"#0d0887\"],[0.1111111111111111,\"#46039f\"],[0.2222222222222222,\"#7201a8\"],[0.3333333333333333,\"#9c179e\"],[0.4444444444444444,\"#bd3786\"],[0.5555555555555556,\"#d8576b\"],[0.6666666666666666,\"#ed7953\"],[0.7777777777777778,\"#fb9f3a\"],[0.8888888888888888,\"#fdca26\"],[1.0,\"#f0f921\"]],\"type\":\"histogram2d\"}],\"histogram\":[{\"marker\":{\"pattern\":{\"fillmode\":\"overlay\",\"size\":10,\"solidity\":0.2}},\"type\":\"histogram\"}],\"mesh3d\":[{\"colorbar\":{\"outlinewidth\":0,\"ticks\":\"\"},\"type\":\"mesh3d\"}],\"parcoords\":[{\"line\":{\"colorbar\":{\"outlinewidth\":0,\"ticks\":\"\"}},\"type\":\"parcoords\"}],\"pie\":[{\"automargin\":true,\"type\":\"pie\"}],\"scatter3d\":[{\"line\":{\"colorbar\":{\"outlinewidth\":0,\"ticks\":\"\"}},\"marker\":{\"colorbar\":{\"outlinewidth\":0,\"ticks\":\"\"}},\"type\":\"scatter3d\"}],\"scattercarpet\":[{\"marker\":{\"colorbar\":{\"outlinewidth\":0,\"ticks\":\"\"}},\"type\":\"scattercarpet\"}],\"scattergeo\":[{\"marker\":{\"colorbar\":{\"outlinewidth\":0,\"ticks\":\"\"}},\"type\":\"scattergeo\"}],\"scattergl\":[{\"marker\":{\"colorbar\":{\"outlinewidth\":0,\"ticks\":\"\"}},\"type\":\"scattergl\"}],\"scattermapbox\":[{\"marker\":{\"colorbar\":{\"outlinewidth\":0,\"ticks\":\"\"}},\"type\":\"scattermapbox\"}],\"scatterpolargl\":[{\"marker\":{\"colorbar\":{\"outlinewidth\":0,\"ticks\":\"\"}},\"type\":\"scatterpolargl\"}],\"scatterpolar\":[{\"marker\":{\"colorbar\":{\"outlinewidth\":0,\"ticks\":\"\"}},\"type\":\"scatterpolar\"}],\"scatter\":[{\"fillpattern\":{\"fillmode\":\"overlay\",\"size\":10,\"solidity\":0.2},\"type\":\"scatter\"}],\"scatterternary\":[{\"marker\":{\"colorbar\":{\"outlinewidth\":0,\"ticks\":\"\"}},\"type\":\"scatterternary\"}],\"surface\":[{\"colorbar\":{\"outlinewidth\":0,\"ticks\":\"\"},\"colorscale\":[[0.0,\"#0d0887\"],[0.1111111111111111,\"#46039f\"],[0.2222222222222222,\"#7201a8\"],[0.3333333333333333,\"#9c179e\"],[0.4444444444444444,\"#bd3786\"],[0.5555555555555556,\"#d8576b\"],[0.6666666666666666,\"#ed7953\"],[0.7777777777777778,\"#fb9f3a\"],[0.8888888888888888,\"#fdca26\"],[1.0,\"#f0f921\"]],\"type\":\"surface\"}],\"table\":[{\"cells\":{\"fill\":{\"color\":\"#EBF0F8\"},\"line\":{\"color\":\"white\"}},\"header\":{\"fill\":{\"color\":\"#C8D4E3\"},\"line\":{\"color\":\"white\"}},\"type\":\"table\"}]},\"layout\":{\"annotationdefaults\":{\"arrowcolor\":\"#2a3f5f\",\"arrowhead\":0,\"arrowwidth\":1},\"autotypenumbers\":\"strict\",\"coloraxis\":{\"colorbar\":{\"outlinewidth\":0,\"ticks\":\"\"}},\"colorscale\":{\"diverging\":[[0,\"#8e0152\"],[0.1,\"#c51b7d\"],[0.2,\"#de77ae\"],[0.3,\"#f1b6da\"],[0.4,\"#fde0ef\"],[0.5,\"#f7f7f7\"],[0.6,\"#e6f5d0\"],[0.7,\"#b8e186\"],[0.8,\"#7fbc41\"],[0.9,\"#4d9221\"],[1,\"#276419\"]],\"sequential\":[[0.0,\"#0d0887\"],[0.1111111111111111,\"#46039f\"],[0.2222222222222222,\"#7201a8\"],[0.3333333333333333,\"#9c179e\"],[0.4444444444444444,\"#bd3786\"],[0.5555555555555556,\"#d8576b\"],[0.6666666666666666,\"#ed7953\"],[0.7777777777777778,\"#fb9f3a\"],[0.8888888888888888,\"#fdca26\"],[1.0,\"#f0f921\"]],\"sequentialminus\":[[0.0,\"#0d0887\"],[0.1111111111111111,\"#46039f\"],[0.2222222222222222,\"#7201a8\"],[0.3333333333333333,\"#9c179e\"],[0.4444444444444444,\"#bd3786\"],[0.5555555555555556,\"#d8576b\"],[0.6666666666666666,\"#ed7953\"],[0.7777777777777778,\"#fb9f3a\"],[0.8888888888888888,\"#fdca26\"],[1.0,\"#f0f921\"]]},\"colorway\":[\"#636efa\",\"#EF553B\",\"#00cc96\",\"#ab63fa\",\"#FFA15A\",\"#19d3f3\",\"#FF6692\",\"#B6E880\",\"#FF97FF\",\"#FECB52\"],\"font\":{\"color\":\"#2a3f5f\"},\"geo\":{\"bgcolor\":\"white\",\"lakecolor\":\"white\",\"landcolor\":\"white\",\"showlakes\":true,\"showland\":true,\"subunitcolor\":\"#C8D4E3\"},\"hoverlabel\":{\"align\":\"left\"},\"hovermode\":\"closest\",\"mapbox\":{\"style\":\"light\"},\"paper_bgcolor\":\"white\",\"plot_bgcolor\":\"white\",\"polar\":{\"angularaxis\":{\"gridcolor\":\"#EBF0F8\",\"linecolor\":\"#EBF0F8\",\"ticks\":\"\"},\"bgcolor\":\"white\",\"radialaxis\":{\"gridcolor\":\"#EBF0F8\",\"linecolor\":\"#EBF0F8\",\"ticks\":\"\"}},\"scene\":{\"xaxis\":{\"backgroundcolor\":\"white\",\"gridcolor\":\"#DFE8F3\",\"gridwidth\":2,\"linecolor\":\"#EBF0F8\",\"showbackground\":true,\"ticks\":\"\",\"zerolinecolor\":\"#EBF0F8\"},\"yaxis\":{\"backgroundcolor\":\"white\",\"gridcolor\":\"#DFE8F3\",\"gridwidth\":2,\"linecolor\":\"#EBF0F8\",\"showbackground\":true,\"ticks\":\"\",\"zerolinecolor\":\"#EBF0F8\"},\"zaxis\":{\"backgroundcolor\":\"white\",\"gridcolor\":\"#DFE8F3\",\"gridwidth\":2,\"linecolor\":\"#EBF0F8\",\"showbackground\":true,\"ticks\":\"\",\"zerolinecolor\":\"#EBF0F8\"}},\"shapedefaults\":{\"line\":{\"color\":\"#2a3f5f\"}},\"ternary\":{\"aaxis\":{\"gridcolor\":\"#DFE8F3\",\"linecolor\":\"#A2B1C6\",\"ticks\":\"\"},\"baxis\":{\"gridcolor\":\"#DFE8F3\",\"linecolor\":\"#A2B1C6\",\"ticks\":\"\"},\"bgcolor\":\"white\",\"caxis\":{\"gridcolor\":\"#DFE8F3\",\"linecolor\":\"#A2B1C6\",\"ticks\":\"\"}},\"title\":{\"x\":0.05},\"xaxis\":{\"automargin\":true,\"gridcolor\":\"#EBF0F8\",\"linecolor\":\"#EBF0F8\",\"ticks\":\"\",\"title\":{\"standoff\":15},\"zerolinecolor\":\"#EBF0F8\",\"zerolinewidth\":2},\"yaxis\":{\"automargin\":true,\"gridcolor\":\"#EBF0F8\",\"linecolor\":\"#EBF0F8\",\"ticks\":\"\",\"title\":{\"standoff\":15},\"zerolinecolor\":\"#EBF0F8\",\"zerolinewidth\":2}}},\"hoverlabel\":{\"font\":{\"size\":16},\"bgcolor\":\"white\"},\"hovermode\":\"x\",\"xaxis\":{\"title\":{\"text\":\"Time Slice Start\"}},\"yaxis\":{\"title\":{\"text\":\"Topic Importance\"}}},                        {\"responsive\": true}                    ).then(function(){\n",
       "                            \n",
       "var gd = document.getElementById('203f328c-5ed7-45a5-b35c-781fe994fad5');\n",
       "var x = new MutationObserver(function (mutations, observer) {{\n",
       "        var display = window.getComputedStyle(gd).display;\n",
       "        if (!display || display === 'none') {{\n",
       "            console.log([gd, 'removed!']);\n",
       "            Plotly.purge(gd);\n",
       "            observer.disconnect();\n",
       "        }}\n",
       "}});\n",
       "\n",
       "// Listen for the removal of the full notebook cells\n",
       "var notebookContainer = gd.closest('#notebook-container');\n",
       "if (notebookContainer) {{\n",
       "    x.observe(notebookContainer, {childList: true});\n",
       "}}\n",
       "\n",
       "// Listen for the clearing of the current output cell\n",
       "var outputEl = gd.closest('.output');\n",
       "if (outputEl) {{\n",
       "    x.observe(outputEl, {childList: true});\n",
       "}}\n",
       "\n",
       "                        })                };                });            </script>        </div>"
      ]
     },
     "metadata": {},
     "output_type": "display_data"
    }
   ],
   "source": [
    "# plot development of topic importance over time\n",
    "Fox_dynamic_plot = model.plot_topics_over_time(top_k=5)\n",
    "Fox_dynamic_plot"
   ]
  },
  {
   "cell_type": "code",
   "execution_count": 72,
   "id": "06176429-78e8-42c7-8d4f-3bb8b5c69a68",
   "metadata": {},
   "outputs": [],
   "source": [
    "# save plot as an html file\n",
    "save_dir = \"plots/topic_modeling/\" # specify where to save it\n",
    "os.makedirs(save_dir, exist_ok=True)\n",
    "save_path = os.path.join(save_dir, \"Fox_dynamic_plot.html\")\n",
    "\n",
    "dynamic_plot.write_html(save_path)"
   ]
  },
  {
   "cell_type": "code",
   "execution_count": null,
   "id": "134d9a7f-0598-49d0-bc09-2c588392fc96",
   "metadata": {},
   "outputs": [],
   "source": []
  }
 ],
 "metadata": {
  "kernelspec": {
   "display_name": "Python 3 ",
   "language": "python",
   "name": "python3"
  },
  "language_info": {
   "codemirror_mode": {
    "name": "ipython",
    "version": 3
   },
   "file_extension": ".py",
   "mimetype": "text/x-python",
   "name": "python",
   "nbconvert_exporter": "python",
   "pygments_lexer": "ipython3",
   "version": "3.12.7"
  }
 },
 "nbformat": 4,
 "nbformat_minor": 5
}
