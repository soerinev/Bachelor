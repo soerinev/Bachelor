{
 "cells": [
  {
   "cell_type": "code",
   "execution_count": null,
   "id": "68262d39-a753-44e0-b461-853c11485326",
   "metadata": {},
   "outputs": [],
   "source": [
    "# read csv\n"
   ]
  }
 ],
 "metadata": {
  "kernelspec": {
   "display_name": "R",
   "language": "R",
   "name": "ir"
  },
  "language_info": {
   "codemirror_mode": "r",
   "file_extension": ".r",
   "mimetype": "text/x-r-source",
   "name": "R",
   "pygments_lexer": "r",
   "version": "4.4.1"
  }
 },
 "nbformat": 4,
 "nbformat_minor": 5
}
