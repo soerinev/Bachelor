{
 "cells": [
  {
   "cell_type": "markdown",
   "id": "b762c974-43fe-4f5c-8d4b-302ccae3c789",
   "metadata": {},
   "source": [
    "### Dataframe preprocessing"
   ]
  },
  {
   "cell_type": "code",
   "execution_count": 1,
   "id": "17584854-1d12-409a-896b-ead6b3915305",
   "metadata": {},
   "outputs": [
    {
     "name": "stdout",
     "output_type": "stream",
     "text": [
      "Requirement already satisfied: pandas in /opt/conda/lib/python3.10/site-packages (2.2.2)\n",
      "Requirement already satisfied: numpy>=1.22.4 in /opt/conda/lib/python3.10/site-packages (from pandas) (2.1.0)\n",
      "Requirement already satisfied: python-dateutil>=2.8.2 in /opt/conda/lib/python3.10/site-packages (from pandas) (2.9.0)\n",
      "Requirement already satisfied: pytz>=2020.1 in /opt/conda/lib/python3.10/site-packages (from pandas) (2024.1)\n",
      "Requirement already satisfied: tzdata>=2022.7 in /opt/conda/lib/python3.10/site-packages (from pandas) (2024.1)\n",
      "Requirement already satisfied: six>=1.5 in /opt/conda/lib/python3.10/site-packages (from python-dateutil>=2.8.2->pandas) (1.16.0)\n",
      "Note: you may need to restart the kernel to use updated packages.\n"
     ]
    }
   ],
   "source": [
    "# import/load packages\n",
    "\n",
    "## install\n",
    "%pip install pandas\n",
    "\n",
    "\n",
    "## import\n",
    "import os\n",
    "import pandas as pd\n"
   ]
  },
  {
   "cell_type": "code",
   "execution_count": 2,
   "id": "80b4a9d5-aa7b-4026-9531-d96a237941f4",
   "metadata": {},
   "outputs": [
    {
     "data": {
      "text/plain": [
       "'/work/Bachelor'"
      ]
     },
     "execution_count": 2,
     "metadata": {},
     "output_type": "execute_result"
    }
   ],
   "source": [
    "# see directory\n",
    "os. getcwd()"
   ]
  },
  {
   "cell_type": "markdown",
   "id": "6335f2c9-f242-4904-8007-2bf5c914564b",
   "metadata": {},
   "source": [
    "### Check that dataframe structures are **proper**"
   ]
  },
  {
   "cell_type": "markdown",
   "id": "9b7d8924-0bd3-41e8-a49c-846ae7454fe2",
   "metadata": {},
   "source": [
    "#### database_all.csv"
   ]
  },
  {
   "cell_type": "code",
   "execution_count": 2,
   "id": "3ab6672e-7c5d-44ec-81e7-ae13fc5b33fc",
   "metadata": {},
   "outputs": [
    {
     "name": "stdout",
     "output_type": "stream",
     "text": [
      "          textID     ID.seq.       wID\n",
      "0          11241  1095362496  12373811\n",
      "1          11241  1095362497         6\n",
      "2          11241  1095362498     26998\n",
      "3          11241  1095362499    848009\n",
      "4          11241  1095362500         2\n",
      "...          ...         ...       ...\n",
      "1999989  1801240  2677715231      2557\n",
      "1999990  1801240  2677715232         2\n",
      "1999991  1801240  2677715233         1\n",
      "1999992  1801240  2677715234      5931\n",
      "1999993  1801240  2677715235      1051\n",
      "\n",
      "[1999994 rows x 3 columns]\n"
     ]
    }
   ],
   "source": [
    "# load data\n",
    "database_all = pd.read_csv(\"/work/Bachelor/sample_data/database_all.csv\")\n",
    "print(database_all)"
   ]
  },
  {
   "cell_type": "markdown",
   "id": "b3501833-2689-4949-ac50-08be84343109",
   "metadata": {},
   "source": [
    "##### database_all.csv check!"
   ]
  },
  {
   "cell_type": "markdown",
   "id": "bd122f3f-8499-495e-bd1c-c68ac8a4cd02",
   "metadata": {},
   "source": [
    "#### wordLem_poS_all.csv"
   ]
  },
  {
   "cell_type": "code",
   "execution_count": 3,
   "id": "0d7a40a9-8cea-4f34-8e85-d6a6d56f0cb3",
   "metadata": {},
   "outputs": [
    {
     "name": "stdout",
     "output_type": "stream",
     "text": [
      "           textID     ID.seq.        word   lemma           PoS\n",
      "0           11241  1095362496     @@11241     NaN            fo\n",
      "1           11241  1095362497         <p>     NaN           NaN\n",
      "2           11241  1095362498         Sol     sol           np1\n",
      "3           11241  1095362499      Yurick  yurick           np1\n",
      "4           11241  1095362500           ,     NaN             ,\n",
      "...           ...         ...         ...     ...           ...\n",
      "1959574  15291244  5042404540         See     see           vv0\n",
      "1959575  15291244  5042404541        full    full        jj_rr%\n",
      "1959576  15291244  5042404542  commenting     NaN  vvg_jj%_nn1%\n",
      "1959577  15291244  5042404543       rules    rule           nn2\n",
      "1959578  15291244  5042404544           .     NaN             .\n",
      "\n",
      "[1959579 rows x 5 columns]\n"
     ]
    }
   ],
   "source": [
    "# load data\n",
    "wordLem_poS_all = pd.read_csv(\"/work/Bachelor/sample_data/wordLem_poS_all.csv\")\n",
    "print(wordLem_poS_all)"
   ]
  },
  {
   "cell_type": "markdown",
   "id": "b29cdae6-8df8-455d-a980-efbbb09de0cc",
   "metadata": {},
   "source": [
    "##### wordLem_poS_all.csv check!"
   ]
  },
  {
   "cell_type": "markdown",
   "id": "9fd0e1ba-32ec-4c9a-8edd-09ab3ce6fdf1",
   "metadata": {},
   "source": [
    "#### text.csv"
   ]
  },
  {
   "cell_type": "code",
   "execution_count": 4,
   "id": "f3c59470-f6c6-401a-9a91-a0145f8d4e9b",
   "metadata": {},
   "outputs": [
    {
     "name": "stdout",
     "output_type": "stream",
     "text": [
      "        textID                                               text\n",
      "0        11241   Sol Yurick , the writer whose 1965 novel  The...\n",
      "1        11242   That 's What They Say : Dialect Society choos...\n",
      "2        11243   A sublime croissant at French Tart in Grant C...\n",
      "3        11244   Reflecting on a quarter-century of growth in ...\n",
      "4        21242   Ask Ars : Does Facebook auto-delete content a...\n",
      "...        ...                                                ...\n",
      "1502  15281242   Watch out for these fitness and weight loss s...\n",
      "1503  15281244   Did you know that Prime Minister Narendra Mod...\n",
      "1504  15291240   Council voted Tuesday to support a new $30 pe...\n",
      "1505  15291242   News Local <h> $5M funding boost for six proj...\n",
      "1506  15291244   ? <h> Burrows helps Canucks beat Rangers 5-3 ...\n",
      "\n",
      "[1507 rows x 2 columns]\n"
     ]
    }
   ],
   "source": [
    "# load data\n",
    "text = pd.read_csv(\"/work/Bachelor/sample_data/text.csv\")\n",
    "print(text)"
   ]
  },
  {
   "cell_type": "markdown",
   "id": "4dff5063-ff05-44bf-939d-4056852abb67",
   "metadata": {},
   "source": [
    "##### text.csv check!"
   ]
  },
  {
   "cell_type": "markdown",
   "id": "a7ba69e3-d5f6-46cf-887d-041ce361e869",
   "metadata": {},
   "source": [
    "#### sources.csv"
   ]
  },
  {
   "cell_type": "code",
   "execution_count": 5,
   "id": "9acb3ab1-8cfd-40c4-8452-44b6eb334e89",
   "metadata": {},
   "outputs": [
    {
     "name": "stdout",
     "output_type": "stream",
     "text": [
      "        textID  X.words        date country                         source  \\\n",
      "0        11241      397  13.01.2006      US                         Kotaku   \n",
      "1        11242      757  13.01.2006      US                 Michigan Radio   \n",
      "2        11243      755  13.01.2006      US            New York Daily News   \n",
      "3        11244     1677  13.01.2006      US                 OregonLive.com   \n",
      "4        21242      794  13.01.2011      US                   Ars Technica   \n",
      "...        ...      ...         ...     ...                            ...   \n",
      "2955  15641240      332  16.11.2029      US  Business Wire (press release)   \n",
      "2956  15641241      226  16.11.2029      US                       Fox News   \n",
      "2957  15641242      230  16.11.2029      US             Firstcoastnews.com   \n",
      "2958  15641243      193  16.11.2029      US           Entertainment Weekly   \n",
      "2959  15651244     1255  16.11.2029      MY            malaysiandigest.com   \n",
      "\n",
      "                                                    url  \\\n",
      "0     http://kotaku.com/5973495/author-of-the-warrio...   \n",
      "1     http://michiganradio.org/post/thats-what-they-...   \n",
      "2     http://www.nydailynews.com/life-style/eats/bes...   \n",
      "3     http://www.oregonlive.com/performance/index.ss...   \n",
      "4     http://arstechnica.com/gadgets/2013/01/ask-ars...   \n",
      "...                                                 ...   \n",
      "2955  http://www.businesswire.com/news/home/20161129...   \n",
      "2956  http://www.foxnews.com/politics/2016/11/29/dep...   \n",
      "2957  http://www.firstcoastnews.com/news/fire-surrou...   \n",
      "2958  http://www.ew.com/article/2016/11/29/alexis-bl...   \n",
      "2959  http://www.malaysiandigest.com/sports/645650-j...   \n",
      "\n",
      "                                                  title  \n",
      "0     Author of The Warriors, Cult Film Adapted to H...  \n",
      "1     That's What They Say: Dialect Society chooses ...  \n",
      "2                           Best of New York: Croissant  \n",
      "3     Reflecting on a quarter-century of growth in P...  \n",
      "4     Ask Ars: Does Facebook auto-delete content aft...  \n",
      "...                                                 ...  \n",
      "2955  Jungle Disk Appoints Matt Bradley to Board of ...  \n",
      "2956  Department of Homeland Security overwhelmed by...  \n",
      "2957  Flames surround Ripley's Aquarium, thousands o...  \n",
      "2958  Alexis Bledel is working on a Sisterhood of th...  \n",
      "2959  Jose Mourinho Has Found An Effective Role For ...  \n",
      "\n",
      "[2960 rows x 7 columns]\n"
     ]
    }
   ],
   "source": [
    "# load data\n",
    "sources = pd.read_csv(\"/work/Bachelor/sample_data/sources.csv\")\n",
    "print(sources)"
   ]
  },
  {
   "cell_type": "markdown",
   "id": "0f5f6883-acda-4614-964d-11758ba16b46",
   "metadata": {},
   "source": [
    "##### sources.csv check!"
   ]
  },
  {
   "cell_type": "markdown",
   "id": "7687a63e-5fd1-4edc-98d3-870854d4e127",
   "metadata": {},
   "source": [
    "#### lexicon.csv"
   ]
  },
  {
   "cell_type": "code",
   "execution_count": 26,
   "id": "1d236fdd-acdd-4362-ada4-879170505c12",
   "metadata": {},
   "outputs": [
    {
     "name": "stdout",
     "output_type": "stream",
     "text": [
      "             wID                   word lemma  PoS\n",
      "0              1                    the   the   at\n",
      "1              2                      ,     -    ,\n",
      "2              3                      .     -    .\n",
      "3              5                     of    of   io\n",
      "4              6                    <p>     -  NaN\n",
      "...          ...                    ...   ...  ...\n",
      "117562  22673192             @@15291243     -   fo\n",
      "117563  22676528             $1,449,720     -  nnu\n",
      "117564  22678576  Multi-Level-Marketing     -   jj\n",
      "117565  22684339             @@15291244     -   fo\n",
      "117566  22691461             @@15291242     -   fo\n",
      "\n",
      "[117567 rows x 4 columns]\n"
     ]
    }
   ],
   "source": [
    "# load data\n",
    "lexicon = pd.read_csv(\"/work/Bachelor/sample_data/lexicon.csv\")\n",
    "print(lexicon)"
   ]
  },
  {
   "cell_type": "markdown",
   "id": "6401e214-710a-4e67-88d8-05c8f1988172",
   "metadata": {},
   "source": [
    "##### lexicon.csv check!"
   ]
  },
  {
   "cell_type": "markdown",
   "id": "91532cd7-f96e-47f7-bebf-af8dd6c3cae2",
   "metadata": {},
   "source": [
    "#### sample_sources.csv"
   ]
  },
  {
   "cell_type": "code",
   "execution_count": 12,
   "id": "fb7f4345-3704-4709-9296-9a3c119428fe",
   "metadata": {},
   "outputs": [
    {
     "name": "stdout",
     "output_type": "stream",
     "text": [
      "        textID  X.words        date country                         source  \\\n",
      "0        11241      397  13.01.2006      US                         Kotaku   \n",
      "1        11242      757  13.01.2006      US                 Michigan Radio   \n",
      "2        11243      755  13.01.2006      US            New York Daily News   \n",
      "3        11244     1677  13.01.2006      US                 OregonLive.com   \n",
      "4        21242      794  13.01.2011      US                   Ars Technica   \n",
      "...        ...      ...         ...     ...                            ...   \n",
      "2955  15641240      332  16.11.2029      US  Business Wire (press release)   \n",
      "2956  15641241      226  16.11.2029      US                       Fox News   \n",
      "2957  15641242      230  16.11.2029      US             Firstcoastnews.com   \n",
      "2958  15641243      193  16.11.2029      US           Entertainment Weekly   \n",
      "2959  15651244     1255  16.11.2029      MY            malaysiandigest.com   \n",
      "\n",
      "                                                    url  \\\n",
      "0     http://kotaku.com/5973495/author-of-the-warrio...   \n",
      "1     http://michiganradio.org/post/thats-what-they-...   \n",
      "2     http://www.nydailynews.com/life-style/eats/bes...   \n",
      "3     http://www.oregonlive.com/performance/index.ss...   \n",
      "4     http://arstechnica.com/gadgets/2013/01/ask-ars...   \n",
      "...                                                 ...   \n",
      "2955  http://www.businesswire.com/news/home/20161129...   \n",
      "2956  http://www.foxnews.com/politics/2016/11/29/dep...   \n",
      "2957  http://www.firstcoastnews.com/news/fire-surrou...   \n",
      "2958  http://www.ew.com/article/2016/11/29/alexis-bl...   \n",
      "2959  http://www.malaysiandigest.com/sports/645650-j...   \n",
      "\n",
      "                                                  title  \n",
      "0     Author of The Warriors, Cult Film Adapted to H...  \n",
      "1     That's What They Say: Dialect Society chooses ...  \n",
      "2                           Best of New York: Croissant  \n",
      "3     Reflecting on a quarter-century of growth in P...  \n",
      "4     Ask Ars: Does Facebook auto-delete content aft...  \n",
      "...                                                 ...  \n",
      "2955  Jungle Disk Appoints Matt Bradley to Board of ...  \n",
      "2956  Department of Homeland Security overwhelmed by...  \n",
      "2957  Flames surround Ripley's Aquarium, thousands o...  \n",
      "2958  Alexis Bledel is working on a Sisterhood of th...  \n",
      "2959  Jose Mourinho Has Found An Effective Role For ...  \n",
      "\n",
      "[2960 rows x 7 columns]\n"
     ]
    }
   ],
   "source": [
    "sample_sources = pd.read_csv(\"/work/Bachelor/sample_data/sample_sources.csv\")\n",
    "print(sample_sources)"
   ]
  },
  {
   "cell_type": "markdown",
   "id": "b9687665-74b4-420b-a36f-45054cf414a1",
   "metadata": {},
   "source": [
    "### OBS: sample_sources.csv looks to be the same as sources.csv, so I'll just use sources.csv"
   ]
  },
  {
   "cell_type": "markdown",
   "id": "e20c3248-6fcf-4cf5-af5f-0ce7f6bfb0a3",
   "metadata": {},
   "source": [
    "### Merge dataframes"
   ]
  },
  {
   "cell_type": "code",
   "execution_count": 7,
   "id": "b6fff736-76c5-4b55-9f6a-aaaa8c71d5c0",
   "metadata": {},
   "outputs": [
    {
     "name": "stdout",
     "output_type": "stream",
     "text": [
      "        textID                                               text  X.words  \\\n",
      "0        11241   Sol Yurick , the writer whose 1965 novel  The...      397   \n",
      "1        11242   That 's What They Say : Dialect Society choos...      757   \n",
      "2        11243   A sublime croissant at French Tart in Grant C...      755   \n",
      "3        11244   Reflecting on a quarter-century of growth in ...     1677   \n",
      "4        21242   Ask Ars : Does Facebook auto-delete content a...      794   \n",
      "...        ...                                                ...      ...   \n",
      "1480  15281242   Watch out for these fitness and weight loss s...     1028   \n",
      "1481  15281244   Did you know that Prime Minister Narendra Mod...      405   \n",
      "1482  15291240   Council voted Tuesday to support a new $30 pe...      393   \n",
      "1483  15291242   News Local <h> $5M funding boost for six proj...     1000   \n",
      "1484  15291244   ? <h> Burrows helps Canucks beat Rangers 5-3 ...      888   \n",
      "\n",
      "            date country               source  \\\n",
      "0     13.01.2006      US               Kotaku   \n",
      "1     13.01.2006      US       Michigan Radio   \n",
      "2     13.01.2006      US  New York Daily News   \n",
      "3     13.01.2006      US       OregonLive.com   \n",
      "4     13.01.2011      US         Ars Technica   \n",
      "...          ...     ...                  ...   \n",
      "1480  16.11.2008      SG   The Online Citizen   \n",
      "1481  16.11.2008      SG           Catch News   \n",
      "1482  16.11.2008      CA     Edmonton Journal   \n",
      "1483  16.11.2008      CA        Timmins Press   \n",
      "1484  16.11.2008      CA  CFJC Today Kamloops   \n",
      "\n",
      "                                                    url  \\\n",
      "0     http://kotaku.com/5973495/author-of-the-warrio...   \n",
      "1     http://michiganradio.org/post/thats-what-they-...   \n",
      "2     http://www.nydailynews.com/life-style/eats/bes...   \n",
      "3     http://www.oregonlive.com/performance/index.ss...   \n",
      "4     http://arstechnica.com/gadgets/2013/01/ask-ars...   \n",
      "...                                                 ...   \n",
      "1480  http://www.theonlinecitizen.com/2016/11/08/wat...   \n",
      "1481  http://www.catchnews.com/india-news/did-modi-s...   \n",
      "1482  http://edmontonjournal.com/news/local-news/cou...   \n",
      "1483  http://www.timminspress.com/2016/11/08/5m-fund...   \n",
      "1484  http://www.cfjctoday.com/article/547992/burrow...   \n",
      "\n",
      "                                                  title  \n",
      "0     Author of The Warriors, Cult Film Adapted to H...  \n",
      "1     That's What They Say: Dialect Society chooses ...  \n",
      "2                           Best of New York: Croissant  \n",
      "3     Reflecting on a quarter-century of growth in P...  \n",
      "4     Ask Ars: Does Facebook auto-delete content aft...  \n",
      "...                                                 ...  \n",
      "1480  Watch out for these fitness and weight loss sc...  \n",
      "1481  Did Modi silently visit Kashmir? Govts PR arm ...  \n",
      "1482  Council votes for $30 per year Edmonton back a...  \n",
      "1483      $5M funding boost for six projects in Timmins  \n",
      "1484  Burrows helps Canucks beat Rangers 5-3 to end ...  \n",
      "\n",
      "[1485 rows x 8 columns]\n"
     ]
    }
   ],
   "source": [
    "# Merging the DataFrames on 'textID'\n",
    "text_sources_df = pd.merge(text, sources, on='textID', how='inner')  # 'inner' is default\n",
    "\n",
    "# Display the merged DataFrame\n",
    "print(text_sources_df)"
   ]
  },
  {
   "cell_type": "markdown",
   "id": "4541594c-be11-4be6-82ce-ef18bca65fb1",
   "metadata": {},
   "source": [
    "### How to filter to only include Fox and CNN articles"
   ]
  },
  {
   "cell_type": "code",
   "execution_count": 23,
   "id": "ae341a63-ccc3-4c5c-b2d5-244ff6390c05",
   "metadata": {},
   "outputs": [
    {
     "name": "stdout",
     "output_type": "stream",
     "text": [
      "      textID                                               text  X.words  \\\n",
      "734  4411244   First-ever nationwide test of Emergency Alert...     1359   \n",
      "814  4831240   JUST WATCHED <h> Brazilian man ' addicted to ...      289   \n",
      "2      11243   A sublime croissant at French Tart in Grant C...      755   \n",
      "149   901242   That 's because the trio of family-friendly s...      281   \n",
      "\n",
      "           date country               source  \\\n",
      "734  11.11.2008      US                  CNN   \n",
      "814  14.12.2012      US                  CNN   \n",
      "2    13.01.2006      US  New York Daily News   \n",
      "149  12.05.2009      US  New York Daily News   \n",
      "\n",
      "                                                   url  \\\n",
      "734  http://www.cnn.com/2011/11/08/us/emergency-ale...   \n",
      "814  http://www.cnn.com/2014/12/12/world/americas/b...   \n",
      "2    http://www.nydailynews.com/life-style/eats/bes...   \n",
      "149  http://www.nydailynews.com/entertainment/tv-mo...   \n",
      "\n",
      "                                                 title  \n",
      "734  First-ever nationwide test of Emergency Alert ...  \n",
      "814  Brazilian man says he killed dozens of women i...  \n",
      "2                          Best of New York: Croissant  \n",
      "149  Selena Gomez, Vanessa Hudgens are bikini girls...  \n"
     ]
    }
   ],
   "source": [
    "# filter articles to only have articles from CNN and Fox News\n",
    "CNN_articles = text_sources_df[text_sources_df['source'] == 'CNN']\n",
    "Fox_articles = text_sources_df[text_sources_df['source'] == 'New York Daily News'] #👺 there are no fox news articles in the sample, so I'm using 'New York Daily News' as a proxy. Be sure to change in real analysis!!\n",
    "\n",
    "# combine dfs into a new one\n",
    "CNN_Fox_articles = pd.concat([CNN_articles, Fox_articles])\n",
    "\n",
    "# display the new df containing only CNN and Fox News articles\n",
    "print(CNN_Fox_articles)"
   ]
  },
  {
   "cell_type": "markdown",
   "id": "d8bd8f96-e831-40d4-b8f0-d7ef00312933",
   "metadata": {},
   "source": [
    "### How to only include articles related to abortion"
   ]
  },
  {
   "cell_type": "code",
   "execution_count": 32,
   "id": "6fc47bf6-7039-45d4-ab4f-16bb0a6983be",
   "metadata": {},
   "outputs": [
    {
     "name": "stdout",
     "output_type": "stream",
     "text": [
      "        textID                                               text  X.words  \\\n",
      "14       71242   From Richard III to Johnny Rotten : The chang...     1005   \n",
      "124     791242   Murder of Newborn Babies in Infanticide as Ba...      963   \n",
      "194    1081244   They are investigating why a copse of cypress...      367   \n",
      "258    1461244   PETERBIO A fish called Walter <h> All the kid...      776   \n",
      "331    1801242   First Bank Expands , Acquires Congolese Bank ...      753   \n",
      "655    3991242   In addition , it seeks to strip the agency of...      565   \n",
      "831    7281240   Unjust Indictment Ca n't Hide The Realities O...      618   \n",
      "947    8071243   Leicester  Dreaming  of Title after Latest Wi...      585   \n",
      "1237  13731244   Singapore set to be a truly smart nation <p> ...      336   \n",
      "1266  14041242   State suspends medical license of former Sout...      769   \n",
      "1412  14911240   ' Manva ' : A book that delves deep into mind...      421   \n",
      "\n",
      "            date country                source  \\\n",
      "14    13.02.2006      CA        Globe and Mail   \n",
      "124   12.03.2008      US          LifeNews.com   \n",
      "194   12.08.2014      GB       Telegraph.co.uk   \n",
      "258   10.04.2023      CA  Kawartha Media Group   \n",
      "331   11.10.2013      NG          THISDAY Live   \n",
      "655   11.02.2001      US              NOLA.com   \n",
      "831   16.01.2027      US          Daily Caller   \n",
      "947   16.04.2004      MY           Khmer Times   \n",
      "1237  16.08.2007      SG              MIS Asia   \n",
      "1266  16.08.2026      US    South Bend Tribune   \n",
      "1412  16.10.2017      IN        Times of India   \n",
      "\n",
      "                                                    url  \\\n",
      "14    http://www.theglobeandmail.com/arts/books-and-...   \n",
      "124   http://www.lifenews.com/2012/03/08/murder-of-n...   \n",
      "194   http://www.telegraph.co.uk/news/worldnews/euro...   \n",
      "258   http://www.mykawartha.com/sports-story/3718831...   \n",
      "331   http://www.thisdaylive.com/articles/first-bank...   \n",
      "655   http://www.nola.com/politics/index.ssf/2011/02...   \n",
      "831   http://dailycaller.com/2016/01/27/unjust-indic...   \n",
      "947   http://www.khmertimeskh.com/news/23558/leicest...   \n",
      "1237  http://www.mis-asia.com/tech/networking/singap...   \n",
      "1266  http://www.southbendtribune.com/news/local/sta...   \n",
      "1412  http://timesofindia.indiatimes.com/city/nagpur...   \n",
      "\n",
      "                                                  title  \n",
      "14    From Richard III to Johnny Rotten: The changin...  \n",
      "124   Murder of Newborn Babies in Infanticide as Bad...  \n",
      "194   Researchers consider planting cypress trees to...  \n",
      "258                     PETERBIO | A fish called Walter  \n",
      "331         First Bank Expands, Acquires Congolese Bank  \n",
      "655   Republicans seek to bar EPA regulation of gree...  \n",
      "831   Unjust Indictment Can't Hide The Realities Of ...  \n",
      "947      Leicester \"Dreaming\" of Title after Latest Win  \n",
      "1237           Singapore set to be a truly smart nation  \n",
      "1266  State suspends medical license of former South...  \n",
      "1412         'Manva': A book that delves deep into mind  \n"
     ]
    },
    {
     "data": {
      "text/plain": [
       "11"
      ]
     },
     "execution_count": 32,
     "metadata": {},
     "output_type": "execute_result"
    }
   ],
   "source": [
    "# Search for rows where the 'text' column contains the word 'abortion'\n",
    "abortion_articles = text_sources_df[text_sources_df['text'].str.contains('abortion', case=False, na=False)]\n",
    "print(abortion_articles)\n",
    "len(abortion_articles) # there's 11 here"
   ]
  },
  {
   "cell_type": "code",
   "execution_count": 28,
   "id": "f9c3ddd3-0f84-426a-8389-859946654e05",
   "metadata": {},
   "outputs": [
    {
     "name": "stdout",
     "output_type": "stream",
     "text": [
      "       wID      word     lemma  PoS\n",
      "5259  5261  abortion  abortion  nn1\n"
     ]
    }
   ],
   "source": [
    "# make search function smarter\n",
    "\n",
    "# find abortion lemma\n",
    "abortion_lemma = lexicon[lexicon['word'] == 'abortion']\n",
    "print(abortion_lemma)\n",
    "\n",
    "# okay lol not much has changed\n"
   ]
  },
  {
   "cell_type": "code",
   "execution_count": 33,
   "id": "0eb45585-24f2-4d50-aab0-4147605414d0",
   "metadata": {},
   "outputs": [
    {
     "name": "stdout",
     "output_type": "stream",
     "text": [
      "        textID                                               text  X.words  \\\n",
      "14       71242   From Richard III to Johnny Rotten : The chang...     1005   \n",
      "124     791242   Murder of Newborn Babies in Infanticide as Ba...      963   \n",
      "134     821243   Should Canada bring back the death penalty ? ...     4798   \n",
      "194    1081244   They are investigating why a copse of cypress...      367   \n",
      "258    1461244   PETERBIO A fish called Walter <h> All the kid...      776   \n",
      "331    1801242   First Bank Expands , Acquires Congolese Bank ...      753   \n",
      "655    3991242   In addition , it seeks to strip the agency of...      565   \n",
      "831    7281240   Unjust Indictment Ca n't Hide The Realities O...      618   \n",
      "909    7761244   2-PARTY SHAM <h> Will America 's way of life ...     1186   \n",
      "947    8071243   Leicester  Dreaming  of Title after Latest Wi...      585   \n",
      "1176  10111242   Donald Trump 's Republican presidential bid h...      314   \n",
      "1237  13731244   Singapore set to be a truly smart nation <p> ...      336   \n",
      "1266  14041242   State suspends medical license of former Sout...      769   \n",
      "1412  14911240   ' Manva ' : A book that delves deep into mind...      421   \n",
      "\n",
      "            date country                source  \\\n",
      "14    13.02.2006      CA        Globe and Mail   \n",
      "124   12.03.2008      US          LifeNews.com   \n",
      "134   12.03.2026      CA         National Post   \n",
      "194   12.08.2014      GB       Telegraph.co.uk   \n",
      "258   10.04.2023      CA  Kawartha Media Group   \n",
      "331   11.10.2013      NG          THISDAY Live   \n",
      "655   11.02.2001      US              NOLA.com   \n",
      "831   16.01.2027      US          Daily Caller   \n",
      "909   16.03.2017      US               WND.com   \n",
      "947   16.04.2004      MY           Khmer Times   \n",
      "1176  16.01.2019      BD          DhakaTribune   \n",
      "1237  16.08.2007      SG              MIS Asia   \n",
      "1266  16.08.2026      US    South Bend Tribune   \n",
      "1412  16.10.2017      IN        Times of India   \n",
      "\n",
      "                                                    url  \\\n",
      "14    http://www.theglobeandmail.com/arts/books-and-...   \n",
      "124   http://www.lifenews.com/2012/03/08/murder-of-n...   \n",
      "134   http://news.nationalpost.com/full-comment/shou...   \n",
      "194   http://www.telegraph.co.uk/news/worldnews/euro...   \n",
      "258   http://www.mykawartha.com/sports-story/3718831...   \n",
      "331   http://www.thisdaylive.com/articles/first-bank...   \n",
      "655   http://www.nola.com/politics/index.ssf/2011/02...   \n",
      "831   http://dailycaller.com/2016/01/27/unjust-indic...   \n",
      "909   http://www.wnd.com/2016/03/will-americas-way-o...   \n",
      "947   http://www.khmertimeskh.com/news/23558/leicest...   \n",
      "1176  http://www.dhakatribune.com/world/2016/jan/20/...   \n",
      "1237  http://www.mis-asia.com/tech/networking/singap...   \n",
      "1266  http://www.southbendtribune.com/news/local/sta...   \n",
      "1412  http://timesofindia.indiatimes.com/city/nagpur...   \n",
      "\n",
      "                                                  title  \n",
      "14    From Richard III to Johnny Rotten: The changin...  \n",
      "124   Murder of Newborn Babies in Infanticide as Bad...  \n",
      "134         Should Canada bring back the death penalty?  \n",
      "194   Researchers consider planting cypress trees to...  \n",
      "258                     PETERBIO | A fish called Walter  \n",
      "331         First Bank Expands, Acquires Congolese Bank  \n",
      "655   Republicans seek to bar EPA regulation of gree...  \n",
      "831   Unjust Indictment Can't Hide The Realities Of ...  \n",
      "909                                        2-PARTY SHAM  \n",
      "947      Leicester \"Dreaming\" of Title after Latest Win  \n",
      "1176                 Palin backs Trump for US president  \n",
      "1237           Singapore set to be a truly smart nation  \n",
      "1266  State suspends medical license of former South...  \n",
      "1412         'Manva': A book that delves deep into mind  \n"
     ]
    },
    {
     "data": {
      "text/plain": [
       "14"
      ]
     },
     "execution_count": 33,
     "metadata": {},
     "output_type": "execute_result"
    }
   ],
   "source": [
    "# Search for articles with any of the abortion related terms\n",
    "search_terms = r\"abortion|reproductive rights|pro-choice|pro-life|Roe v\\. Wade|Dobbs v\\. Jackson Women's Health Organization|planned parenthood|family planning\"\n",
    "\n",
    "# Filter articles that contain any of the search terms\n",
    "abortion_articles = text_sources_df[text_sources_df['text'].str.contains(search_terms, case=False, na=False, regex=True)] #👺 change to the CNN_Fox_articles df. I used text_sources_df because there's no abortion articles among the CNN_Fox_articles\n",
    "\n",
    "# Display the filtered articles\n",
    "print(abortion_articles)\n",
    "len(abortion_articles) # there's 14 here compared to 11 when you just search for 'abortion'"
   ]
  },
  {
   "cell_type": "code",
   "execution_count": null,
   "id": "e7b9a296-3b69-4b0e-a7b1-0e60d7b84f41",
   "metadata": {},
   "outputs": [],
   "source": []
  }
 ],
 "metadata": {
  "kernelspec": {
   "display_name": "Python 3 ",
   "language": "python",
   "name": "python3"
  },
  "language_info": {
   "codemirror_mode": {
    "name": "ipython",
    "version": 3
   },
   "file_extension": ".py",
   "mimetype": "text/x-python",
   "name": "python",
   "nbconvert_exporter": "python",
   "pygments_lexer": "ipython3",
   "version": "3.10.14"
  }
 },
 "nbformat": 4,
 "nbformat_minor": 5
}
