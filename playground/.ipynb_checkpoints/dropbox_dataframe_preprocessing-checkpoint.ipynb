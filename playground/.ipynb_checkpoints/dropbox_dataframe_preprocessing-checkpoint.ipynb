{
 "cells": [
  {
   "cell_type": "markdown",
   "id": "67a06237-05e1-479d-8b39-0a53e90cc1fa",
   "metadata": {},
   "source": [
    "# Dropbox dataframe preprocessing + preliminary overview"
   ]
  },
  {
   "cell_type": "markdown",
   "id": "dfde0b35-3374-45cc-b85a-4ffd73aae734",
   "metadata": {},
   "source": [
    "### Pre prep"
   ]
  },
  {
   "cell_type": "code",
   "execution_count": 14,
   "id": "5ac23765-01f5-4583-ac92-085c949480e2",
   "metadata": {},
   "outputs": [
    {
     "name": "stdout",
     "output_type": "stream",
     "text": [
      "Requirement already satisfied: pandas in /opt/conda/lib/python3.10/site-packages (2.2.2)\n",
      "Requirement already satisfied: numpy>=1.22.4 in /opt/conda/lib/python3.10/site-packages (from pandas) (2.1.0)\n",
      "Requirement already satisfied: python-dateutil>=2.8.2 in /opt/conda/lib/python3.10/site-packages (from pandas) (2.9.0)\n",
      "Requirement already satisfied: pytz>=2020.1 in /opt/conda/lib/python3.10/site-packages (from pandas) (2024.1)\n",
      "Requirement already satisfied: tzdata>=2022.7 in /opt/conda/lib/python3.10/site-packages (from pandas) (2024.1)\n",
      "Requirement already satisfied: six>=1.5 in /opt/conda/lib/python3.10/site-packages (from python-dateutil>=2.8.2->pandas) (1.16.0)\n",
      "Note: you may need to restart the kernel to use updated packages.\n",
      "Requirement already satisfied: chardet in /opt/conda/lib/python3.10/site-packages (5.2.0)\n",
      "Note: you may need to restart the kernel to use updated packages.\n",
      "Requirement already satisfied: cchardet in /opt/conda/lib/python3.10/site-packages (2.1.7)\n",
      "Note: you may need to restart the kernel to use updated packages.\n"
     ]
    }
   ],
   "source": [
    "# import/load packages\n",
    "\n",
    "## install\n",
    "%pip install pandas\n",
    "%pip install chardet\n",
    "%pip install cchardet\n",
    "\n",
    "\n",
    "## import\n",
    "import os\n",
    "import pandas as pd\n",
    "import chardet\n",
    "import cchardet\n"
   ]
  },
  {
   "cell_type": "code",
   "execution_count": 5,
   "id": "d11ad8af-037b-45a1-8a36-e5aeb4945003",
   "metadata": {},
   "outputs": [
    {
     "data": {
      "text/plain": [
       "'/work/Bachelor'"
      ]
     },
     "execution_count": 5,
     "metadata": {},
     "output_type": "execute_result"
    }
   ],
   "source": [
    "# see directory\n",
    "os. getcwd()"
   ]
  },
  {
   "cell_type": "markdown",
   "id": "cd6291ee-90b5-4ddd-92d5-42b7d55ce5ad",
   "metadata": {},
   "source": [
    "### Check that dataframe structures are **proper**"
   ]
  },
  {
   "cell_type": "markdown",
   "id": "852f0580-361a-4201-98d1-3f5831eca2d6",
   "metadata": {},
   "source": [
    "#### dropbox_text"
   ]
  },
  {
   "cell_type": "code",
   "execution_count": 6,
   "id": "78505ce3-61b1-4f65-9bbf-d862a8b91bae",
   "metadata": {},
   "outputs": [
    {
     "name": "stdout",
     "output_type": "stream",
     "text": [
      "         textID                                               text\n",
      "0      18207159   It appears that right now is a pretty good ti...\n",
      "1      18207168   A letter to parents of expat children <p> Par...\n",
      "2      18207169   Chafee Steps Up Criticism of Raimondo 's Econ...\n",
      "3      18207182   Personal hero and why : My dad , because he i...\n",
      "4      18207185   Students named in the complaints that disqual...\n",
      "...         ...                                                ...\n",
      "13552  18745485   Following the onslaught of nearly universal d...\n",
      "13553  18745486   1954 : American film star Marilyn Monroe ( 19...\n",
      "13554  18745489   Artists file lawsuit against city of Atlanta ...\n",
      "13555  18745490   MONTESANO , Wash . -- James Walker , 31 , of ...\n",
      "13556  18745491   Out to the track for our KSFY/Taco John 's At...\n",
      "\n",
      "[13557 rows x 2 columns]\n"
     ]
    }
   ],
   "source": [
    "# load data\n",
    "dropbox_text = pd.read_csv(\"/work/Bachelor/sample_data/dropbox/dropbox_text.csv\")\n",
    "print(dropbox_text)"
   ]
  },
  {
   "cell_type": "markdown",
   "id": "0ac25681-8aac-482e-8ca3-a7d4ef36c3b7",
   "metadata": {},
   "source": [
    "#### dropbox_sources"
   ]
  },
  {
   "cell_type": "code",
   "execution_count": null,
   "id": "7302c9c0-7e3f-40ef-a2a6-12cd21684fe5",
   "metadata": {},
   "outputs": [],
   "source": [
    "# check encoding, moght not be UTF-8\n",
    "\n",
    "# Path to your CSV file\n",
    "file_path = \"/work/Bachelor/sample_data/dropbox/dropbox_sources.csv\"\n",
    "\n",
    "# Detect encoding\n",
    "with open(file_path, 'rb') as f:\n",
    "    result = cchardet.detect(f.read())\n",
    "    encoding = result['encoding']\n",
    "    confidence = result['confidence']\n",
    "\n",
    "print(f\"Detected encoding: {encoding} (Confidence: {confidence})\")"
   ]
  },
  {
   "cell_type": "code",
   "execution_count": 16,
   "id": "e2c0a545-bd70-4062-9177-c841eed25d59",
   "metadata": {},
   "outputs": [
    {
     "name": "stdout",
     "output_type": "stream",
     "text": [
      "          textID  X.words      date country               source  \\\n",
      "0       18207159     2321  17-05-01      US       Glide Magazine   \n",
      "1       18207168     2362  17-05-01      US      Huffington Post   \n",
      "2       18207169      343  17-05-01      US          GoLocalProv   \n",
      "3       18207170      257  17-05-01      US             Engadget   \n",
      "4       18207172      180  17-05-01      US     Northwest Herald   \n",
      "...          ...      ...       ...     ...                  ...   \n",
      "166834  18740662      304  17-05-31      JM  Jamaica Star Online   \n",
      "166835  18742209      315  17-05-31      JM      Jamaica Gleaner   \n",
      "166836  18742210      127  17-05-31      JM  Jamaica Star Online   \n",
      "166837  18742211      288  17-05-31      JM  Jamaica Star Online   \n",
      "166838  18741456      175  17-05-31      JM      Jamaica Gleaner   \n",
      "\n",
      "                                                      url  \\\n",
      "0       https://glidemagazine.com/183826/griffin-golds...   \n",
      "1       http://www.huffingtonpost.com/entry/a-letter-t...   \n",
      "2       http://www.golocalprov.com/business/chafee-ste...   \n",
      "3       https://www.engadget.com/2017/05/01/lab-grown-...   \n",
      "4       http://www.nwherald.com/2017/04/28/friends-of-...   \n",
      "...                                                   ...   \n",
      "166834  http://jamaica-star.com/article/news/20170531/...   \n",
      "166835  http://jamaica-gleaner.com/article/news/201705...   \n",
      "166836  http://jamaica-star.com/article/entertainment/...   \n",
      "166837  http://jamaica-star.com/article/entertainment/...   \n",
      "166838  http://jamaica-gleaner.com/article/entertainme...   \n",
      "\n",
      "                                                    title  \n",
      "0       Griffin Goldsmith of Dawes Talks Playing Jazz ...  \n",
      "1                   A letter to parents of expat children  \n",
      "2       Chafee Steps Up Criticism of Raimondo's Econom...  \n",
      "3       Lab-grown stem cells may carry an increased ri...  \n",
      "4       Friends of McHenry County College Foundation t...  \n",
      "...                                                   ...  \n",
      "166834  Christopher Townsend is back on Munga's murder...  \n",
      "166835  OUR proposes fixes to JPS after August 2016 bl...  \n",
      "166836           Journalist curses Damian Marley in Kenya  \n",
      "166837  DON'T PRAY FOR ME ... Pepita slams unworthy Ch...  \n",
      "166838  Reggae could be added to UNESCO's list of Inta...  \n",
      "\n",
      "[166839 rows x 7 columns]\n"
     ]
    }
   ],
   "source": [
    "# load data\n",
    "dropbox_sources = pd.read_csv(\"/work/Bachelor/sample_data/dropbox/dropbox_sources.csv\", encoding='ISO-8859-1') # encoding was detected as 'ISO-8859-1' \n",
    "print(dropbox_sources)"
   ]
  },
  {
   "cell_type": "markdown",
   "id": "83faf819-bde6-4845-9a3d-d1f533d64513",
   "metadata": {},
   "source": [
    "### Merge dataframes"
   ]
  },
  {
   "cell_type": "code",
   "execution_count": 17,
   "id": "3a75dbe3-bcd4-4433-b4ed-63dc73f8938c",
   "metadata": {},
   "outputs": [
    {
     "name": "stdout",
     "output_type": "stream",
     "text": [
      "        textID                                               text  X.words  \\\n",
      "0     18207159   It appears that right now is a pretty good ti...     2321   \n",
      "1     18207168   A letter to parents of expat children <p> Par...     2362   \n",
      "2     18207169   Chafee Steps Up Criticism of Raimondo 's Econ...      343   \n",
      "3     18207182   Personal hero and why : My dad , because he i...      509   \n",
      "4     18207185   Students named in the complaints that disqual...     1103   \n",
      "...        ...                                                ...      ...   \n",
      "7169  18739345   Tonight <p> Family members , of a man killed ...     1135   \n",
      "7170  18739347   NYPD Sergeant Pleads Not Guilty to Murder of ...     1330   \n",
      "7171  18739348   Georgia Peach Prices Are Rising After the Sta...      206   \n",
      "7172  18739349   A moving video of a group of Texas state troo...      792   \n",
      "7173  18739351   The arrival of the first trailer for Star Tre...      506   \n",
      "\n",
      "          date country                         source  \\\n",
      "0     17-05-01      US                 Glide Magazine   \n",
      "1     17-05-01      US                Huffington Post   \n",
      "2     17-05-01      US                    GoLocalProv   \n",
      "3     17-05-01      US  Grand Junction Daily Sentinel   \n",
      "4     17-05-01      US      GW Hatchet (subscription)   \n",
      "...        ...     ...                            ...   \n",
      "7169  17-05-31      US                    Madison.com   \n",
      "7170  17-05-31      US                        DNAinfo   \n",
      "7171  17-05-31      US                 Money Magazine   \n",
      "7172  17-05-31      US                       ABC News   \n",
      "7173  17-05-31      US          Slate Magazine (blog)   \n",
      "\n",
      "                                                    url  \\\n",
      "0     https://glidemagazine.com/183826/griffin-golds...   \n",
      "1     http://www.huffingtonpost.com/entry/a-letter-t...   \n",
      "2     http://www.golocalprov.com/business/chafee-ste...   \n",
      "3     http://www.gjsentinel.com/lifestyle/articles/s...   \n",
      "4     https://www.gwhatchet.com/2017/05/01/former-wa...   \n",
      "...                                                 ...   \n",
      "7169  http://host.madison.com/wsj/news/local/crime/f...   \n",
      "7170  https://www.dnainfo.com/new-york/20170531/cast...   \n",
      "7171  http://time.com/money/4799851/georgia-peach-co...   \n",
      "7172  http://abcnews.go.com/Lifestyle/texas-state-tr...   \n",
      "7173  http://www.slate.com/blogs/browbeat/2017/05/31...   \n",
      "\n",
      "                                                  title  \n",
      "0     Griffin Goldsmith of Dawes Talks Playing Jazz ...  \n",
      "1                 A letter to parents of expat children  \n",
      "2     Chafee Steps Up Criticism of Raimondo's Econom...  \n",
      "3     Student of the week: Palisade High School seni...  \n",
      "4     Former Watson campaign members demand Universi...  \n",
      "...                                                 ...  \n",
      "7169  Family laments 'senseless' death of 33-year-ol...  \n",
      "7170  NYPD Sgt. Charged With Murder of Mentally Ill ...  \n",
      "7171  Georgia Peach Prices Are Rising After the Stat...  \n",
      "7172  Mom organizes state trooper dance in honor of ...  \n",
      "7173  George Takei Reminds Internet Trolls That Dive...  \n",
      "\n",
      "[7174 rows x 8 columns]\n"
     ]
    }
   ],
   "source": [
    "# Merging the DataFrames on 'textID'\n",
    "dropbox_text_sources_df = pd.merge(dropbox_text, dropbox_sources, on='textID', how='inner')  # 'inner' is default, only includes data from both \n",
    "\n",
    "# Display the merged DataFrame\n",
    "print(dropbox_text_sources_df)"
   ]
  },
  {
   "cell_type": "code",
   "execution_count": 30,
   "id": "f4e2b22e-47f1-48cb-a0f4-2a0f8a785368",
   "metadata": {},
   "outputs": [
    {
     "name": "stdout",
     "output_type": "stream",
     "text": [
      "        textID                                               text  X.words  \\\n",
      "525   18247418   JUST WATCHED <h> Clinton : Misogyny played a ...     1124   \n",
      "822   18269674   Trump said he is confident the bill will pass...     1214   \n",
      "1129  18282852   Africa wealth report : Millionaire island Mau...      694   \n",
      "1176  18284510   JUST WATCHED <h> House passes bill to replace...       86   \n",
      "1203  18285388   JUST WATCHED <h> UK PM calls for general elec...      950   \n",
      "1238  18286902   The Cook Political Report , a non-partisan ca...      378   \n",
      "2015  18325788   The rare , important world of disease reversa...     1656   \n",
      "2036  18326650   JUST WATCHED <h> Le Pen 's young voters : ' G...      791   \n",
      "2082  18348909   JUST WATCHED <h> Was Trump 's Yates tweet wit...      750   \n",
      "2132  18350694   Story highlights <p> Seoul ( CNN ) South Kore...      942   \n",
      "2287  18356434   Story highlights <p> The emails were forwarde...      650   \n",
      "2527  18377073   Even by the often bewildering standards of th...     1300   \n",
      "2569  18379680   US genital mutilation victims : It happens he...     2172   \n",
      "2574  18379686   JUST WATCHED <h> US genital mutilation victim...      502   \n",
      "2630  18384080   ( CNN ) The White House just ca n't get its s...      707   \n",
      "2934  18398688   Honoring the soundtrack of my mother 's life ...     2491   \n",
      "3423  18427201   JUST WATCHED <h> Iraqi forces prepare for fin...     1258   \n",
      "4132  18468738   There are two obvious options -- and a third ...      587   \n",
      "4356  18476228   Story highlights <p> Toobin said if Comey 's ...      294   \n",
      "4506  18483368   Cannes : a guide to France 's city of stars a...     2818   \n",
      "4522  18484252    Villa Mazzacorrati , Bologna  ( 2015 ) -- La...      893   \n",
      "4737  18511492   A post shared by Chelsea E. Manning ( @xychel...      143   \n",
      "4746  18511508   ( CNN ) President Donald Trump blasted off tw...      542   \n",
      "4775  18512962   JUST WATCHED <h> Graham : Russia probe seems ...      619   \n",
      "4833  18514406   JUST WATCHED <h> CNN/ORC Poll : Trump approva...      303   \n",
      "915   18273895   - BREAKING NEWS - <h> Potemkin Universities A...      106   \n",
      "975   18276746   GOP senator : Obamacare replacement has ' zer...      364   \n",
      "1036  18279218   Chinese-made jet takes off in maiden flight ,...      320   \n",
      "1198  18285381   Goldie Hawn and Kurt Russell get side-by-side...      218   \n",
      "2279  18356394   Why Comey was fired : DOJ rips handling of Cl...      584   \n",
      "2410  18366911   Eerie ' Land of Oz ' theme park in North Caro...      234   \n",
      "2902  18396943   North Korea sends letter to Congress protesti...      377   \n",
      "3350  18425143   President Trump , in search of Mideast peace ...      598   \n",
      "3731  18445449   - BREAKING NEWS - <h> Obstruction of the Exec...      279   \n",
      "3742  18446348   New York woman dies after pushing daughter ou...      201   \n",
      "4072  18466020   ISIS on ' brink of total defeat ' in Mosul , ...      348   \n",
      "4103  18467878   Trump defends talks with Russians , says he s...      584   \n",
      "4374  18477010   White House disputes explosive report that Tr...      961   \n",
      "4682  18505701   Comey known as prolific note-taker -- could m...      559   \n",
      "5189  18532005   Doc who helped get Bin Laden on Trump 's rada...      781   \n",
      "5417  18566510   Hill Republicans wary of cuts in Trump 's 201...      395   \n",
      "5457  18569885   Ahead of President Trump 's two-day visit to ...      358   \n",
      "5641  18597062   Queen Elizabeth II held a moment of silence o...      279   \n",
      "6079  18642785   Former CIA officer Bryan Dean Wright told Fox...      260   \n",
      "6283  18660386   Is North Korea 's EMP threat real or ' someth...      558   \n",
      "6310  18666529   Coptic Christian attack : 10 of the 29 dead I...      382   \n",
      "6919  18711656   As the media target Jared Kushner , is the se...      647   \n",
      "\n",
      "          date country    source  \\\n",
      "525   17-05-03      US       CNN   \n",
      "822   17-05-04      US       CNN   \n",
      "1129  17-05-05      US       CNN   \n",
      "1176  17-05-05      US       CNN   \n",
      "1203  17-05-05      US       CNN   \n",
      "1238  17-05-05      US       CNN   \n",
      "2015  17-05-08      US       CNN   \n",
      "2036  17-05-08      US       CNN   \n",
      "2082  17-05-09      US       CNN   \n",
      "2132  17-05-09      US       CNN   \n",
      "2287  17-05-09      US       CNN   \n",
      "2527  17-05-10      US       CNN   \n",
      "2569  17-05-11      US       CNN   \n",
      "2574  17-05-11      US       CNN   \n",
      "2630  17-05-11      US       CNN   \n",
      "2934  17-05-12      US       CNN   \n",
      "3423  17-05-13      US       CNN   \n",
      "4132  17-05-16      US       CNN   \n",
      "4356  17-05-16      US       CNN   \n",
      "4506  17-05-17      US       CNN   \n",
      "4522  17-05-17      US       CNN   \n",
      "4737  17-05-18      US       CNN   \n",
      "4746  17-05-18      US       CNN   \n",
      "4775  17-05-18      US       CNN   \n",
      "4833  17-05-18      US       CNN   \n",
      "915   17-05-04      US  Fox News   \n",
      "975   17-05-04      US  Fox News   \n",
      "1036  17-05-05      US  Fox News   \n",
      "1198  17-05-05      US  Fox News   \n",
      "2279  17-05-09      US  Fox News   \n",
      "2410  17-05-10      US  Fox News   \n",
      "2902  17-05-12      US  Fox News   \n",
      "3350  17-05-13      US  Fox News   \n",
      "3731  17-05-15      US  Fox News   \n",
      "3742  17-05-15      US  Fox News   \n",
      "4072  17-05-16      US  Fox News   \n",
      "4103  17-05-16      US  Fox News   \n",
      "4374  17-05-16      US  Fox News   \n",
      "4682  17-05-18      US  Fox News   \n",
      "5189  17-05-19      US  Fox News   \n",
      "5417  17-05-21      US  Fox News   \n",
      "5457  17-05-22      US  Fox News   \n",
      "5641  17-05-23      US  Fox News   \n",
      "6079  17-05-25      US  Fox News   \n",
      "6283  17-05-26      US  Fox News   \n",
      "6310  17-05-27      US  Fox News   \n",
      "6919  17-05-30      US  Fox News   \n",
      "\n",
      "                                                    url  \\\n",
      "525   http://www.cnn.com/2017/05/03/opinions/hillary...   \n",
      "822   http://www.cnn.com/2017/05/04/politics/health-...   \n",
      "1129  http://www.cnn.com/2017/05/05/africa/africa-we...   \n",
      "1176  http://www.cnn.com/2017/05/04/politics/house-h...   \n",
      "1203  http://www.cnn.com/2017/05/05/europe/brexit-th...   \n",
      "1238  http://www.cnn.com/2017/05/05/politics/house-r...   \n",
      "2015  http://www.cnn.com/2017/05/08/health/unknown-e...   \n",
      "2036  http://www.cnn.com/2017/05/08/europe/france-ma...   \n",
      "2082  http://www.cnn.com/2017/05/09/politics/trump-t...   \n",
      "2132  http://www.cnn.com/2017/05/09/asia/south-korea...   \n",
      "2287  http://www.cnn.com/2017/05/09/politics/james-c...   \n",
      "2527  http://www.cnn.com/2017/05/11/politics/24-hour...   \n",
      "2569  http://www.cnn.com/2017/05/11/health/fgm-us-su...   \n",
      "2574  http://www.cnn.com/2017/05/11/health/female-ge...   \n",
      "2630  http://www.cnn.com/2017/05/11/politics/james-c...   \n",
      "2934  http://www.cnn.com/2017/05/12/health/soundtrac...   \n",
      "3423  http://www.cnn.com/2017/05/14/middleeast/mosul...   \n",
      "4132  http://www.cnn.com/2017/05/16/politics/donald-...   \n",
      "4356  http://www.cnn.com/2017/05/16/politics/jeffrey...   \n",
      "4506  http://www.cnn.com/2017/05/17/travel/cannes-de...   \n",
      "4522  http://www.cnn.com/2017/05/17/arts/hiroshi-sug...   \n",
      "4737  http://www.cnn.com/2017/05/18/politics/chelsea...   \n",
      "4746  http://www.cnn.com/2017/05/18/opinions/trump-t...   \n",
      "4775  http://www.cnn.com/2017/05/18/politics/rod-ros...   \n",
      "4833  http://www.cnn.com/2017/05/18/politics/millenn...   \n",
      "915   http://nation.foxnews.com/2017/05/04/potemkin-...   \n",
      "975   http://www.foxnews.com/politics/2017/05/05/gop...   \n",
      "1036  http://www.foxnews.com/world/2017/05/05/chines...   \n",
      "1198  http://www.foxnews.com/entertainment/2017/05/0...   \n",
      "2279  http://www.foxnews.com/politics/2017/05/09/why...   \n",
      "2410  http://www.foxnews.com/travel/2017/05/10/eerie...   \n",
      "2902  http://www.foxnews.com/politics/2017/05/12/nor...   \n",
      "3350  http://www.foxnews.com/opinion/2017/05/13/pres...   \n",
      "3731  http://nation.foxnews.com/2017/05/15/obstructi...   \n",
      "3742  http://www.foxnews.com/us/2017/05/15/new-york-...   \n",
      "4072  http://www.foxnews.com/world/2017/05/16/isis-o...   \n",
      "4103  http://www.foxnews.com/politics/2017/05/16/tru...   \n",
      "4374  http://www.foxnews.com/politics/2017/05/16/rep...   \n",
      "4682  http://www.foxnews.com/politics/2017/05/18/com...   \n",
      "5189  http://www.foxnews.com/politics/2017/05/19/doc...   \n",
      "5417  http://www.foxnews.com/politics/2017/05/22/hil...   \n",
      "5457  http://www.foxnews.com/politics/2017/05/22/isr...   \n",
      "5641  http://www.foxnews.com/world/2017/05/23/ariana...   \n",
      "6079  http://www.foxnews.com/world/2017/05/25/manche...   \n",
      "6283  http://www.foxnews.com/world/2017/05/26/is-nor...   \n",
      "6310  http://www.foxnews.com/world/2017/05/27/coptic...   \n",
      "6919  http://www.foxnews.com/politics/2017/05/30/as-...   \n",
      "\n",
      "                                                  title  \n",
      "525              Hillary Clinton lost because of sexism  \n",
      "822   House Republicans pass bill to replace and rep...  \n",
      "1129  Africa wealth report: Millionaire island Mauri...  \n",
      "1176         How every member voted on health care bill  \n",
      "1203  British PM Theresa May passes first big test o...  \n",
      "1238  These 20 Republicans are in worse shape today ...  \n",
      "2015  Doctors battle 'torment' of rare undiagnosed i...  \n",
      "2036  Does Emmanuel Macron's win signal the end of p...  \n",
      "2082  Trump sent 4 tweets on the Sally Yates hearing...  \n",
      "2132   South Korea election: Moon Jae-in claims victory  \n",
      "2287  FBI issues 'supplement' to clarify Comey's inc...  \n",
      "2527        24 hours of craziness in Trump's Washington  \n",
      "2569  3 US women share the horrors of female genital...  \n",
      "2574  The alarming rise of female genital mutilation...  \n",
      "2630  The White House's explanation for the firing o...  \n",
      "2934        Honoring the soundtrack of my mother's life  \n",
      "3423       On the frontline of ISIS' last stand in Iraq  \n",
      "4132  There are only two explanations for Trump's le...  \n",
      "4356      Toobin: 'Three words: Obstruction of justice'  \n",
      "4506  Cannes: a guide to France's city of stars and ...  \n",
      "4522  Hiroshi Sugimoto's haunting photos of empty th...  \n",
      "4737  Chelsea Manning posts first picture of herself...  \n",
      "4746           Trump's tweets reflect his state of mind  \n",
      "4775  Graham believes Russia probe 'considered a cri...  \n",
      "4833  Survey: Millennials overwhelmingly disapprove ...  \n",
      "915   Potemkin Universities Are 'Bubbles of Unearned...  \n",
      "975   GOP senator: Obamacare replacement has 'zero' ...  \n",
      "1036  Chinese-made jet takes off in maiden flight, s...  \n",
      "1198  Goldie Hawn and Kurt Russell get side-by-side ...  \n",
      "2279  Why Comey was fired: DOJ rips handling of Clin...  \n",
      "2410  Eerie 'Land of Oz' theme park in North Carolin...  \n",
      "2902  North Korea sends letter to congress protestin...  \n",
      "3350  President Trump, in search of Mideast peace, t...  \n",
      "3731  Obstruction of the Executive: Democrats Peddle...  \n",
      "3742  New York woman dies after pushing daughter out...  \n",
      "4072  ISIS on 'brink of total defeat' in Mosul, coal...  \n",
      "4103  Trump defends talks with Russians, says he sha...  \n",
      "4374  White House disputes explosive report that Tru...  \n",
      "4682  Comey known as prolific note-taker - could mor...  \n",
      "5189  Doc who helped get Bin Laden on Trump's radar ...  \n",
      "5417  Hill Republicans wary of cuts in Trump's 2018 ...  \n",
      "5457  Israeli minister expresses concerns over US-Sa...  \n",
      "5641  Ariana Grande concert attack: Queen Elizabeth ...  \n",
      "6079  Manchester attack: Ex-CIA officer says publica...  \n",
      "6283  Is North Korea's EMP threat real or 'something...  \n",
      "6310  Coptic Christian attack: 10 of the 29 dead ID'...  \n",
      "6919  As the media target Jared Kushner, is the Sens...  \n"
     ]
    },
    {
     "data": {
      "text/plain": [
       "47"
      ]
     },
     "execution_count": 30,
     "metadata": {},
     "output_type": "execute_result"
    }
   ],
   "source": [
    "# filter articles to only have articles from CNN and Fox News\n",
    "CNN_articles = dropbox_text_sources_df[dropbox_text_sources_df['source'] == 'CNN']\n",
    "Fox_articles = dropbox_text_sources_df[dropbox_text_sources_df['source'] == 'Fox News']\n",
    "\n",
    "# combine dfs into a new one\n",
    "CNN_Fox_articles = pd.concat([CNN_articles, Fox_articles])\n",
    "\n",
    "# display the new df containing only CNN and Fox News articles\n",
    "print(CNN_Fox_articles)\n",
    "len(CNN_Fox_articles) # 47 wiii"
   ]
  },
  {
   "cell_type": "code",
   "execution_count": 35,
   "id": "34d8b49c-7992-4031-b20e-57dcf8b88aa3",
   "metadata": {},
   "outputs": [
    {
     "name": "stdout",
     "output_type": "stream",
     "text": [
      "source\n",
      "CNN         25\n",
      "Fox News    22\n",
      "Name: count, dtype: int64\n"
     ]
    }
   ],
   "source": [
    "# check how many articles there are from each source\n",
    "source_counts = CNN_Fox_articles['source'].value_counts()\n",
    "print(source_counts)"
   ]
  },
  {
   "cell_type": "markdown",
   "id": "7edb081b-bc62-48d5-a9b2-fff1f3abc66b",
   "metadata": {},
   "source": [
    "### How to only include articles related to abortion"
   ]
  },
  {
   "cell_type": "code",
   "execution_count": 31,
   "id": "b1b61997-3f3d-4003-83ef-9fcdf45430a8",
   "metadata": {},
   "outputs": [
    {
     "name": "stdout",
     "output_type": "stream",
     "text": [
      "        textID                                               text  X.words  \\\n",
      "2934  18398688   Honoring the soundtrack of my mother 's life ...     2491   \n",
      "\n",
      "          date country source  \\\n",
      "2934  17-05-12      US    CNN   \n",
      "\n",
      "                                                    url  \\\n",
      "2934  http://www.cnn.com/2017/05/12/health/soundtrac...   \n",
      "\n",
      "                                            title  \n",
      "2934  Honoring the soundtrack of my mother's life  \n"
     ]
    },
    {
     "data": {
      "text/plain": [
       "1"
      ]
     },
     "execution_count": 31,
     "metadata": {},
     "output_type": "execute_result"
    }
   ],
   "source": [
    "# Search for rows where the 'text' column contains the word 'abortion'\n",
    "abortion_articles = CNN_Fox_articles[CNN_Fox_articles['text'].str.contains('abortion', case=False, na=False)]\n",
    "print(abortion_articles)\n",
    "len(abortion_articles) # there's 11 here"
   ]
  },
  {
   "cell_type": "code",
   "execution_count": 32,
   "id": "2ab273a3-e3bf-4cfb-bb35-018c6e36d8f2",
   "metadata": {},
   "outputs": [
    {
     "name": "stdout",
     "output_type": "stream",
     "text": [
      "        textID                                               text  X.words  \\\n",
      "822   18269674   Trump said he is confident the bill will pass...     1214   \n",
      "2934  18398688   Honoring the soundtrack of my mother 's life ...     2491   \n",
      "\n",
      "          date country source  \\\n",
      "822   17-05-04      US    CNN   \n",
      "2934  17-05-12      US    CNN   \n",
      "\n",
      "                                                    url  \\\n",
      "822   http://www.cnn.com/2017/05/04/politics/health-...   \n",
      "2934  http://www.cnn.com/2017/05/12/health/soundtrac...   \n",
      "\n",
      "                                                  title  \n",
      "822   House Republicans pass bill to replace and rep...  \n",
      "2934        Honoring the soundtrack of my mother's life  \n"
     ]
    },
    {
     "data": {
      "text/plain": [
       "2"
      ]
     },
     "execution_count": 32,
     "metadata": {},
     "output_type": "execute_result"
    }
   ],
   "source": [
    "# expanding search with more seach words\n",
    "search_terms = r\"abortion|reproductive rights|reproductive health care|pro-choice|pro-life|Roe v\\. Wade|Dobbs v\\. Jackson Women's Health Organization\"\n",
    "\n",
    "# Filter articles that contain any of the search terms\n",
    "abortion_articles = CNN_Fox_articles[CNN_Fox_articles['text'].str.contains(search_terms, case=False, na=False, regex=True)]\n",
    "# Display the filtered articles\n",
    "print(abortion_articles)\n",
    "len(abortion_articles) # there's 2 here compared to 1 when you just search for 'abortion'"
   ]
  },
  {
   "cell_type": "code",
   "execution_count": 36,
   "id": "707be505-b64f-42e5-97f8-5a3c404ddff2",
   "metadata": {},
   "outputs": [
    {
     "name": "stdout",
     "output_type": "stream",
     "text": [
      "source\n",
      "CNN    2\n",
      "Name: count, dtype: int64\n"
     ]
    }
   ],
   "source": [
    "# check how many articles there are from each source\n",
    "source_counts = abortion_articles['source'].value_counts()\n",
    "print(source_counts)"
   ]
  },
  {
   "cell_type": "markdown",
   "id": "bb68cd0f-97db-45d5-b670-996a57d6f517",
   "metadata": {},
   "source": [
    "So 2 abortion articles from CNN, and no abortion articles form Fox News."
   ]
  },
  {
   "cell_type": "markdown",
   "id": "3f8850c3-bc78-4ee3-a832-4eecf7ff990a",
   "metadata": {},
   "source": [
    "### How to see personal stories... tbd"
   ]
  },
  {
   "cell_type": "markdown",
   "id": "cca61203-8941-4f2c-9030-583f78b972d9",
   "metadata": {},
   "source": [
    "### Not enough data in CNN_Fox_articles, so imma use dropbox_text_source_df for NLP"
   ]
  },
  {
   "cell_type": "code",
   "execution_count": 42,
   "id": "43053fc0-da59-4964-ab67-a099a99c160c",
   "metadata": {},
   "outputs": [
    {
     "name": "stdout",
     "output_type": "stream",
     "text": [
      "        textID                                               text  X.words  \\\n",
      "56    18209165   The Future of Europe Hinges on a Face-Off in ...     6314   \n",
      "63    18209808   INDIANAPOLIS -- Depending on who you ask , th...      659   \n",
      "175   18224263   Sister Jerome leaves legacy of love at Centra...      680   \n",
      "199   18225088   Share Article <p> We want to take the time du...      585   \n",
      "231   18226773   LOS ANGELES -- Baby Groot was born at the end...      439   \n",
      "...        ...                                                ...      ...   \n",
      "6949  18713264   Christian Villagran Morales strolled a path i...     1264   \n",
      "7055  18724477   On Monday , the tea party-aligned sophomore l...     1103   \n",
      "7077  18725264   After A Day of Outrage , Kathy Griffin Apolog...      662   \n",
      "7133  18737702   Two weeks into May , on a record-breaking 91-...     4253   \n",
      "7154  18738651   When President Trump posted a misspelled  unp...      647   \n",
      "\n",
      "          date country                  source  \\\n",
      "56    17-05-01      US          The New Yorker   \n",
      "63    17-05-01      US            nwitimes.com   \n",
      "175   17-05-02      US        Portland Tribune   \n",
      "199   17-05-02      US  PR Web (press release)   \n",
      "231   17-05-02      US    Chicago Daily Herald   \n",
      "...        ...     ...                     ...   \n",
      "6949  17-05-30      US        The Mercury News   \n",
      "7055  17-05-30      US         MyStatesman.com   \n",
      "7077  17-05-30      US      NewsBusters (blog)   \n",
      "7133  17-05-31      US                 Jezebel   \n",
      "7154  17-05-31      US         Washington Post   \n",
      "\n",
      "                                                    url  \\\n",
      "56    http://www.newyorker.com/magazine/2017/05/08/t...   \n",
      "63    http://www.nwitimes.com/news/local/govt-and-po...   \n",
      "175   http://portlandtribune.com/pt/12-sports/357010...   \n",
      "199   http://www.prweb.com/releases/2017/05/prweb142...   \n",
      "231   http://www.dailyherald.com/entlife/20170502/5-...   \n",
      "...                                                 ...   \n",
      "6949  http://www.mercurynews.com/2017/05/30/lured-to...   \n",
      "7055  http://www.mystatesman.com/news/state--regiona...   \n",
      "7077  http://www.newsbusters.org/blogs/nb/nicholas-f...   \n",
      "7133  http://theslot.jezebel.com/how-many-more-women...   \n",
      "7154  https://www.washingtonpost.com/news/the-fix/wp...   \n",
      "\n",
      "                                                  title  \n",
      "56    The Future of Europe Hinges on a Face-Off in F...  \n",
      "63    Republicans, Democrats see results of Indiana'...  \n",
      "175   Sister Jerome leaves legacy of love at Central...  \n",
      "199   Three Brothers Bakery Rolls Out Special Treats...  \n",
      "231   5 things you don't know about Baby Groot of 'G...  \n",
      "...                                                 ...  \n",
      "6949  Lured to park with promise of sex, he was stab...  \n",
      "7055  House fracas foreshadowed by Matt Rinaldi's Pl...  \n",
      "7077  After A Day of Outrage, Kathy Griffin Apologie...  \n",
      "7133  How Many More Women Will Suffer at the Hands o...  \n",
      "7154  After months of trolling Trump, Merriam-Webste...  \n",
      "\n",
      "[95 rows x 8 columns]\n"
     ]
    },
    {
     "data": {
      "text/plain": [
       "95"
      ]
     },
     "execution_count": 42,
     "metadata": {},
     "output_type": "execute_result"
    }
   ],
   "source": [
    "# searching for abortion articles\n",
    "search_terms = r\"abortion|reproductive rights|reproductive health care|pro-choice|pro-life|Roe v\\. Wade|Dobbs v\\. Jackson Women's Health Organization\"\n",
    "\n",
    "# Filter articles that contain any of the search terms\n",
    "abortion_articles_fake = dropbox_text_sources_df[dropbox_text_sources_df['text'].str.contains(search_terms, case=False, na=False, regex=True)] #👺 change to the CNN_Fox_articles df. I used text_sources_df because there's no abortion articles among the CNN_Fox_articles\n",
    "\n",
    "# Display the filtered articles\n",
    "print(abortion_articles_fake)\n",
    "len(abortion_articles_fake) # 95 compared to 87 when just searching for 'abortion'"
   ]
  },
  {
   "cell_type": "code",
   "execution_count": 43,
   "id": "6f0d5f10-fb75-4f17-9b3e-babeb668a9c1",
   "metadata": {},
   "outputs": [
    {
     "name": "stdout",
     "output_type": "stream",
     "text": [
      "     textID                                               text  X.words  \\\n",
      "0  18209165   The Future of Europe Hinges on a Face-Off in ...     6314   \n",
      "1  18209808   INDIANAPOLIS -- Depending on who you ask , th...      659   \n",
      "2  18224263   Sister Jerome leaves legacy of love at Centra...      680   \n",
      "3  18225088   Share Article <p> We want to take the time du...      585   \n",
      "4  18226773   LOS ANGELES -- Baby Groot was born at the end...      439   \n",
      "\n",
      "       date country                  source  \\\n",
      "0  17-05-01      US          The New Yorker   \n",
      "1  17-05-01      US            nwitimes.com   \n",
      "2  17-05-02      US        Portland Tribune   \n",
      "3  17-05-02      US  PR Web (press release)   \n",
      "4  17-05-02      US    Chicago Daily Herald   \n",
      "\n",
      "                                                 url  \\\n",
      "0  http://www.newyorker.com/magazine/2017/05/08/t...   \n",
      "1  http://www.nwitimes.com/news/local/govt-and-po...   \n",
      "2  http://portlandtribune.com/pt/12-sports/357010...   \n",
      "3  http://www.prweb.com/releases/2017/05/prweb142...   \n",
      "4  http://www.dailyherald.com/entlife/20170502/5-...   \n",
      "\n",
      "                                               title  \n",
      "0  The Future of Europe Hinges on a Face-Off in F...  \n",
      "1  Republicans, Democrats see results of Indiana'...  \n",
      "2  Sister Jerome leaves legacy of love at Central...  \n",
      "3  Three Brothers Bakery Rolls Out Special Treats...  \n",
      "4  5 things you don't know about Baby Groot of 'G...  \n"
     ]
    }
   ],
   "source": [
    "# save abortion_articles_fake as csv for NLP analysis\n",
    "\n",
    "# Define the file path where you want to save the CSV\n",
    "output_file_path = \"/work/Bachelor/sample_data/dropbox/abortion_articles_fake.csv\"\n",
    "\n",
    "# Save the filtered DataFrame as a CSV file\n",
    "abortion_articles_fake.to_csv(output_file_path, index=False, encoding='utf-8')\n",
    "\n",
    "# Optional: Confirm the save by loading the file back\n",
    "loaded_abortion_articles = pd.read_csv(output_file_path, encoding='utf-8')\n",
    "print(loaded_abortion_articles.head())  # Display the first few rows of the loaded DataFrame\n"
   ]
  },
  {
   "cell_type": "code",
   "execution_count": null,
   "id": "4b648758-3b26-4d0c-a79f-7c15c32e8917",
   "metadata": {},
   "outputs": [],
   "source": []
  }
 ],
 "metadata": {
  "kernelspec": {
   "display_name": "Python 3 ",
   "language": "python",
   "name": "python3"
  },
  "language_info": {
   "codemirror_mode": {
    "name": "ipython",
    "version": 3
   },
   "file_extension": ".py",
   "mimetype": "text/x-python",
   "name": "python",
   "nbconvert_exporter": "python",
   "pygments_lexer": "ipython3",
   "version": "3.10.14"
  }
 },
 "nbformat": 4,
 "nbformat_minor": 5
}
