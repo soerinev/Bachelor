{
 "cells": [
  {
   "cell_type": "code",
   "execution_count": null,
   "id": "a407ae75-81cb-4f2d-96d0-420e52bca137",
   "metadata": {},
   "outputs": [],
   "source": [
    "# playground 2 - make csv for text file before filtering\n",
    "\n",
    "#file_path = \"/work/Bachelor/sample_data/dropbox/text_17-05-US.txt\"\n",
    "\n",
    "#pg2_df_text_17_05 = pd.read_csv(file_path, delimiter='@@')\n"
   ]
  },
  {
   "cell_type": "code",
   "execution_count": null,
   "id": "7e25e85a-1e50-4f88-acf1-6a967f36da38",
   "metadata": {},
   "outputs": [],
   "source": [
    "# playground 1\n",
    "\n",
    "import re\n",
    "import pandas as pd\n",
    "\n",
    "# Define the file path (you would adjust this to your actual file path)\n",
    "file_path = \"/work/Bachelor/sample_data/dropbox/text_17-05-US.txt\"\n",
    "\n",
    "# Open the file and read its contents into a string\n",
    "with open(file_path, 'r', encoding='utf-8') as file:\n",
    "    raw_text = file.read()\n",
    "\n",
    "# Step 1: Split the text into articles based on '@@' markers\n",
    "articles = raw_text.split('@@')[1:]  # Skip the first empty split\n",
    "print(f\"Step 1: Number of articles after splitting: {len(articles)}\")\n",
    "\n",
    "# Lists to store extracted data\n",
    "text_ids = []\n",
    "clean_texts = []\n",
    "\n",
    "# Step 2: Process each article\n",
    "for i, article in enumerate(articles):\n",
    "    # Extract article ID (the number right after @@)\n",
    "    article_id_match = re.match(r'(\\d+)', article)\n",
    "    text_id = article_id_match.group(1) if article_id_match else None\n",
    "\n",
    "    # Remove the ID and any leading characters (up to the first space)\n",
    "    cleaned_article = re.sub(r'^\\d+\\s*', '', article)\n",
    "\n",
    "    # Remove HTML-like tags (<h>, <p>, etc.)\n",
    "    cleaned_article = re.sub(r'<[^>]+>', '', cleaned_article).strip()\n",
    "\n",
    "    # Append extracted data to lists\n",
    "    text_ids.append(text_id)\n",
    "    clean_texts.append(cleaned_article)\n",
    "\n",
    "    # Print progress for each article processed\n",
    "    #print(f\"Processed article {i + 1}: ID = {text_id}, Current number of processed articles: {len(text_ids)}\")\n",
    "\n",
    "# Step 3: Create a DataFrame to store the structured data\n",
    "df_text_17_05 = pd.DataFrame({\n",
    "    'textID': text_ids,\n",
    "    'text': clean_texts\n",
    "})\n",
    "\n",
    "# Step 4: Print the final number of rows in the DataFrame\n",
    "print(f\"Step 4: Number of rows in the DataFrame: {df_text_17_05.shape[0]}\")\n",
    "\n",
    "# Display the DataFrame (optional)\n",
    "print(df_text_17_05)\n"
   ]
  }
 ],
 "metadata": {
  "kernelspec": {
   "display_name": "Python 3 ",
   "language": "python",
   "name": "python3"
  },
  "language_info": {
   "codemirror_mode": {
    "name": "ipython",
    "version": 3
   },
   "file_extension": ".py",
   "mimetype": "text/x-python",
   "name": "python",
   "nbconvert_exporter": "python",
   "pygments_lexer": "ipython3",
   "version": "3.10.14"
  }
 },
 "nbformat": 4,
 "nbformat_minor": 5
}
